{
  "cells": [
    {
      "cell_type": "markdown",
      "metadata": {
        "id": "BUBR6WWAx3QO"
      },
      "source": [
        "# Task 1\n",
        "\n",
        "---\n",
        "\n",
        "## Web scraping and analysis\n",
        "\n",
        "This Jupyter notebook includes some code to get you started with web scraping. We will use a package called `BeautifulSoup` to collect the data from the web. Once you've collected your data and saved it into a local `.csv` file you should start with your analysis.\n",
        "\n",
        "### Scraping data from Skytrax\n",
        "\n",
        "If you visit [https://www.airlinequality.com] you can see that there is a lot of data there. For this task, we are only interested in reviews related to British Airways and the Airline itself.\n",
        "\n",
        "If you navigate to this link: [https://www.airlinequality.com/airline-reviews/british-airways] you will see this data. Now, we can use `Python` and `BeautifulSoup` to collect all the links to the reviews and then to collect the text data on each of the individual review links."
      ]
    },
    {
      "cell_type": "code",
      "execution_count": null,
      "metadata": {
        "id": "8TCeMlzVx3QR"
      },
      "outputs": [],
      "source": [
        "import requests\n",
        "from bs4 import BeautifulSoup\n",
        "import pandas as pd\n",
        "import re"
      ]
    },
    {
      "cell_type": "code",
      "execution_count": null,
      "metadata": {
        "id": "Q1bBjPZUx3QS"
      },
      "outputs": [],
      "source": [
        "base_url = \"https://www.airlinequality.com/airline-reviews/british-airways\"\n",
        "pages = 30\n",
        "page_size = 100\n",
        "\n",
        "reviews = []\n",
        "\n",
        "# for i in range(1, pages + 1):\n",
        "for i in range(1, pages + 1):\n",
        "\n",
        "    print(f\"Scraping page {i}\")\n",
        "\n",
        "    # Create URL to collect links from paginated data\n",
        "    url = f\"{base_url}/page/{i}/?sortby=post_date%3ADesc&pagesize={page_size}\"\n",
        "\n",
        "    # Collect HTML data from this page\n",
        "    response = requests.get(url)\n",
        "\n",
        "    # Parse content\n",
        "    content = response.content\n",
        "    parsed_content = BeautifulSoup(content, 'html.parser')\n",
        "    for para in parsed_content.find_all(\"div\", {\"class\": \"text_content\"}):\n",
        "        reviews.append(para.get_text())\n",
        "    \n",
        "    print(f\"   ---> {len(reviews)} total reviews\")"
      ]
    },
    {
      "cell_type": "code",
      "source": [
        "pd.set_option(\"display.max_rows\", None, \"display.max_columns\", None)"
      ],
      "metadata": {
        "id": "qWooJge10EDn"
      },
      "execution_count": null,
      "outputs": []
    },
    {
      "cell_type": "code",
      "execution_count": null,
      "metadata": {
        "id": "iF1pZ5Dkx3QT"
      },
      "outputs": [],
      "source": [
        "df = pd.DataFrame()\n",
        "df[\"reviews\"] = reviews\n",
        "df.head()"
      ]
    },
    {
      "cell_type": "code",
      "source": [
        "df.shape"
      ],
      "metadata": {
        "colab": {
          "base_uri": "https://localhost:8080/"
        },
        "id": "SMHbDxag0DBg",
        "outputId": "688fb058-02e7-4db6-b749-6b24c05db2c6"
      },
      "execution_count": null,
      "outputs": [
        {
          "output_type": "execute_result",
          "data": {
            "text/plain": [
              "(3000, 1)"
            ]
          },
          "metadata": {},
          "execution_count": 14
        }
      ]
    },
    {
      "cell_type": "code",
      "source": [],
      "metadata": {
        "id": "Q0fMg8MYNdDN"
      },
      "execution_count": null,
      "outputs": []
    },
    {
      "cell_type": "markdown",
      "source": [
        "# MY WORK"
      ],
      "metadata": {
        "id": "O7lCqFzAdsUE"
      }
    },
    {
      "cell_type": "markdown",
      "source": [
        "## DATA SCRAPING"
      ],
      "metadata": {
        "id": "rs9R4HmJ-SXC"
      }
    },
    {
      "cell_type": "code",
      "source": [
        "from bs4 import BeautifulSoup\n",
        "import pandas as pd\n",
        "import numpy as np\n",
        "import requests as rq\n",
        "\n",
        "import matplotlib.pyplot as plt\n",
        "import seaborn as sns"
      ],
      "metadata": {
        "id": "NfRg31S4NdFh"
      },
      "execution_count": null,
      "outputs": []
    },
    {
      "cell_type": "code",
      "source": [
        "global rating, Aircraft, Class, Travel_type, Route, Date, comfort, staff, food, entertainment, wifi, ground_service, vfm, recommend\n",
        "\n",
        "verified=[]\n",
        "rating=[]\n",
        "feedback=[]\n",
        "Aircraft=[]\n",
        "Class=[]\n",
        "Travel_type=[]\n",
        "Route=[]\n",
        "Date=[]\n",
        "comfort=[]\n",
        "staff=[]\n",
        "food=[]\n",
        "entertainment=[]\n",
        "wifi=[]\n",
        "ground_service=[]\n",
        "vfm=[]\n",
        "recommend=[]"
      ],
      "metadata": {
        "id": "pJxyvgfVAjCF"
      },
      "execution_count": null,
      "outputs": []
    },
    {
      "cell_type": "code",
      "source": [
        "def value_fetcher(soup):\n",
        "    rating.append(np.nan)\n",
        "    Aircraft.append(np.nan)\n",
        "    Class.append(np.nan)\n",
        "    Travel_type.append(np.nan)\n",
        "    Route.append(np.nan)\n",
        "    Date.append(np.nan)\n",
        "    comfort.append(np.nan)\n",
        "    staff.append(np.nan)\n",
        "    food.append(np.nan)\n",
        "    entertainment.append(np.nan)\n",
        "    wifi.append(np.nan)\n",
        "    ground_service.append(np.nan)\n",
        "    vfm.append(np.nan)\n",
        "    recommend.append(np.nan)\n",
        "    \n",
        "    for row in soup.find_all('tr'):\n",
        "        header=row.find('td',class_='review-rating-header').text\n",
        "        value=row.find('td',class_='review-value')\n",
        "        if header=='Aircraft':\n",
        "            Aircraft[-1]=value.text\n",
        "        elif header=='Type Of Traveller':\n",
        "            Travel_type[-1]=value.text\n",
        "        elif header=='Seat Type':\n",
        "            Class[-1]=value.text\n",
        "        elif header=='Route':\n",
        "            Route[-1]=value.text\n",
        "        elif header=='Date Flown':\n",
        "            Date[-1]=value.text\n",
        "        elif header=='Seat Comfort':\n",
        "            comfort[-1]=len(row.find_all('span',class_='star fill'))\n",
        "        elif header=='Cabin Staff Service':\n",
        "            staff[-1]=len(row.find_all('span',class_='star fill'))\n",
        "        elif header=='Food & Beverages':\n",
        "            food[-1]=len(row.find_all('span',class_='star fill'))\n",
        "        elif header=='Inflight Entertainment':\n",
        "            entertainment[-1]=len(row.find_all('span',class_='star fill'))\n",
        "        elif header=='Ground Service':\n",
        "            ground_service[-1]=len(row.find_all('span',class_='star fill'))\n",
        "        elif header=='Value For Money':\n",
        "            vfm[-1]=len(row.find_all('span',class_='star fill'))\n",
        "        elif header=='Recommended':\n",
        "            recommend[-1]=value.text\n",
        "        elif header=='Wifi & Connectivity':\n",
        "            wifi[-1]=len(row.find_all('span',class_='star fill'))"
      ],
      "metadata": {
        "id": "8jBeSrr25bB3"
      },
      "execution_count": null,
      "outputs": []
    },
    {
      "cell_type": "code",
      "source": [
        "def fetcher(soup,tag,key,value):\n",
        "    if soup.find(tag,{key:value}):\n",
        "        return soup.find(tag,{key:value}).text\n",
        "    return np.nan"
      ],
      "metadata": {
        "id": "qJ8Qj7mHajhT"
      },
      "execution_count": null,
      "outputs": []
    },
    {
      "cell_type": "code",
      "source": [
        "for i in range(1,344):\n",
        "    url=f'https://www.airlinequality.com/airline-reviews/british-airways/page/{i}/'\n",
        "    page=rq.get(url).text\n",
        "    soup=BeautifulSoup(page,'lxml')\n",
        "    articles= soup.find_all('article',{'itemprop':'review'})\n",
        "    for article in articles:\n",
        "        rating.append(fetcher(article,'span','itemprop','ratingValue'))\n",
        "        div=article.find('div',class_='tc_mobile')\n",
        "        content=(div.find('div',class_='text_content').text.split('|'))\n",
        "        if len(content)==2:\n",
        "            verification,review=content\n",
        "        else:\n",
        "            verification =np.nan\n",
        "            review=content[0]\n",
        "        verified.append(verification)\n",
        "        feedback.append(review)\n",
        "        table=div.find('table',class_='review-ratings')\n",
        "        value_fetcher(table)"
      ],
      "metadata": {
        "id": "1XI3I-x9ajj6"
      },
      "execution_count": null,
      "outputs": []
    },
    {
      "cell_type": "code",
      "source": [
        "data=pd.DataFrame({'status':verified,'aircraft':Aircraft,'travel_type':Travel_type,'travel_class':Class,'route':Route,'date':Date,'seating_comfort':comfort,'staff_service':staff,'food_quality':food,'entertainment':entertainment,'wifi':wifi,'ground_service':ground_service,'value_for_money':vfm,'recommended':recommend,'overall_rating':rating[::2],'review':feedback})"
      ],
      "metadata": {
        "id": "taqrCUoNajmj"
      },
      "execution_count": null,
      "outputs": []
    },
    {
      "cell_type": "code",
      "source": [
        "data.to_csv('/content/data/BA_reviews.csv',index=False)"
      ],
      "metadata": {
        "id": "Yzv2qI8qajpL"
      },
      "execution_count": null,
      "outputs": []
    },
    {
      "cell_type": "markdown",
      "source": [
        "## DATA ANALYSIS"
      ],
      "metadata": {
        "id": "6cvlI6TF-Xgo"
      }
    },
    {
      "cell_type": "code",
      "source": [
        "import pandas as pd\n",
        "import numpy as np\n",
        "import requests as rq\n",
        "\n",
        "import plotly.express as px\n",
        "import matplotlib.pyplot as plt\n",
        "from matplotlib import rc\n",
        "import seaborn as sns"
      ],
      "metadata": {
        "id": "SrBnoZLW-bTs"
      },
      "execution_count": null,
      "outputs": []
    },
    {
      "cell_type": "code",
      "source": [
        "data = pd.read_csv('/content/BA_reviews.csv')"
      ],
      "metadata": {
        "id": "TFTZwiua-jEQ"
      },
      "execution_count": null,
      "outputs": []
    },
    {
      "cell_type": "code",
      "source": [
        "data.head(5)"
      ],
      "metadata": {
        "id": "dD5VD2Bmajsc",
        "colab": {
          "base_uri": "https://localhost:8080/",
          "height": 565
        },
        "outputId": "10558056-893c-4c2b-cec2-ca5eba05bfab"
      },
      "execution_count": null,
      "outputs": [
        {
          "output_type": "execute_result",
          "data": {
            "text/plain": [
              "             status        aircraft     travel_type    travel_class  \\\n",
              "0  ✅ Trip Verified   Boeing 777-200  Family Leisure   Economy Class   \n",
              "1     Not Verified             A380  Family Leisure   Economy Class   \n",
              "2     Not Verified              NaN  Family Leisure   Economy Class   \n",
              "3  ✅ Trip Verified       A320, A380  Family Leisure  Business Class   \n",
              "4  ✅ Trip Verified              NaN        Business  Business Class   \n",
              "\n",
              "                                       route           date  seating_comfort  \\\n",
              "0                          Atlanta to London   January 2023              1.0   \n",
              "1                          London to Chicago  December 2022              3.0   \n",
              "2         Istanbul to Vancouver via Heathrow   January 2023              1.0   \n",
              "3  Vienna to Los Angeles via London Heathrow   January 2023              1.0   \n",
              "4                    London to San francisco   January 2023              2.0   \n",
              "\n",
              "   staff_service  food_quality  entertainment  wifi  ground_service  \\\n",
              "0            1.0           1.0            3.0   NaN             1.0   \n",
              "1            2.0           3.0            4.0   NaN             3.0   \n",
              "2            5.0           1.0            1.0   NaN             1.0   \n",
              "3            2.0           1.0            1.0   1.0             1.0   \n",
              "4            5.0           2.0            1.0   1.0             2.0   \n",
              "\n",
              "   value_for_money recommended  overall_rating  \\\n",
              "0                2          no             4.0   \n",
              "1                2          no             5.0   \n",
              "2                1          no             1.0   \n",
              "3                1          no             1.0   \n",
              "4                1          no             2.0   \n",
              "\n",
              "                                              review  \n",
              "0    Flew ATL to LHR 8th Jan 2023. Was unlucky en...  \n",
              "1    Great thing about British Airways A380 is th...  \n",
              "2   The staff are friendly. The plane was cold, w...  \n",
              "3   Probably the worst business class experience ...  \n",
              "4   Definitely not recommended, especially for bu...  "
            ],
            "text/html": [
              "\n",
              "  <div id=\"df-329ac02b-e555-4bf3-8308-ba1d51e86313\">\n",
              "    <div class=\"colab-df-container\">\n",
              "      <div>\n",
              "<style scoped>\n",
              "    .dataframe tbody tr th:only-of-type {\n",
              "        vertical-align: middle;\n",
              "    }\n",
              "\n",
              "    .dataframe tbody tr th {\n",
              "        vertical-align: top;\n",
              "    }\n",
              "\n",
              "    .dataframe thead th {\n",
              "        text-align: right;\n",
              "    }\n",
              "</style>\n",
              "<table border=\"1\" class=\"dataframe\">\n",
              "  <thead>\n",
              "    <tr style=\"text-align: right;\">\n",
              "      <th></th>\n",
              "      <th>status</th>\n",
              "      <th>aircraft</th>\n",
              "      <th>travel_type</th>\n",
              "      <th>travel_class</th>\n",
              "      <th>route</th>\n",
              "      <th>date</th>\n",
              "      <th>seating_comfort</th>\n",
              "      <th>staff_service</th>\n",
              "      <th>food_quality</th>\n",
              "      <th>entertainment</th>\n",
              "      <th>wifi</th>\n",
              "      <th>ground_service</th>\n",
              "      <th>value_for_money</th>\n",
              "      <th>recommended</th>\n",
              "      <th>overall_rating</th>\n",
              "      <th>review</th>\n",
              "    </tr>\n",
              "  </thead>\n",
              "  <tbody>\n",
              "    <tr>\n",
              "      <th>0</th>\n",
              "      <td>✅ Trip Verified</td>\n",
              "      <td>Boeing 777-200</td>\n",
              "      <td>Family Leisure</td>\n",
              "      <td>Economy Class</td>\n",
              "      <td>Atlanta to London</td>\n",
              "      <td>January 2023</td>\n",
              "      <td>1.0</td>\n",
              "      <td>1.0</td>\n",
              "      <td>1.0</td>\n",
              "      <td>3.0</td>\n",
              "      <td>NaN</td>\n",
              "      <td>1.0</td>\n",
              "      <td>2</td>\n",
              "      <td>no</td>\n",
              "      <td>4.0</td>\n",
              "      <td>Flew ATL to LHR 8th Jan 2023. Was unlucky en...</td>\n",
              "    </tr>\n",
              "    <tr>\n",
              "      <th>1</th>\n",
              "      <td>Not Verified</td>\n",
              "      <td>A380</td>\n",
              "      <td>Family Leisure</td>\n",
              "      <td>Economy Class</td>\n",
              "      <td>London to Chicago</td>\n",
              "      <td>December 2022</td>\n",
              "      <td>3.0</td>\n",
              "      <td>2.0</td>\n",
              "      <td>3.0</td>\n",
              "      <td>4.0</td>\n",
              "      <td>NaN</td>\n",
              "      <td>3.0</td>\n",
              "      <td>2</td>\n",
              "      <td>no</td>\n",
              "      <td>5.0</td>\n",
              "      <td>Great thing about British Airways A380 is th...</td>\n",
              "    </tr>\n",
              "    <tr>\n",
              "      <th>2</th>\n",
              "      <td>Not Verified</td>\n",
              "      <td>NaN</td>\n",
              "      <td>Family Leisure</td>\n",
              "      <td>Economy Class</td>\n",
              "      <td>Istanbul to Vancouver via Heathrow</td>\n",
              "      <td>January 2023</td>\n",
              "      <td>1.0</td>\n",
              "      <td>5.0</td>\n",
              "      <td>1.0</td>\n",
              "      <td>1.0</td>\n",
              "      <td>NaN</td>\n",
              "      <td>1.0</td>\n",
              "      <td>1</td>\n",
              "      <td>no</td>\n",
              "      <td>1.0</td>\n",
              "      <td>The staff are friendly. The plane was cold, w...</td>\n",
              "    </tr>\n",
              "    <tr>\n",
              "      <th>3</th>\n",
              "      <td>✅ Trip Verified</td>\n",
              "      <td>A320, A380</td>\n",
              "      <td>Family Leisure</td>\n",
              "      <td>Business Class</td>\n",
              "      <td>Vienna to Los Angeles via London Heathrow</td>\n",
              "      <td>January 2023</td>\n",
              "      <td>1.0</td>\n",
              "      <td>2.0</td>\n",
              "      <td>1.0</td>\n",
              "      <td>1.0</td>\n",
              "      <td>1.0</td>\n",
              "      <td>1.0</td>\n",
              "      <td>1</td>\n",
              "      <td>no</td>\n",
              "      <td>1.0</td>\n",
              "      <td>Probably the worst business class experience ...</td>\n",
              "    </tr>\n",
              "    <tr>\n",
              "      <th>4</th>\n",
              "      <td>✅ Trip Verified</td>\n",
              "      <td>NaN</td>\n",
              "      <td>Business</td>\n",
              "      <td>Business Class</td>\n",
              "      <td>London to San francisco</td>\n",
              "      <td>January 2023</td>\n",
              "      <td>2.0</td>\n",
              "      <td>5.0</td>\n",
              "      <td>2.0</td>\n",
              "      <td>1.0</td>\n",
              "      <td>1.0</td>\n",
              "      <td>2.0</td>\n",
              "      <td>1</td>\n",
              "      <td>no</td>\n",
              "      <td>2.0</td>\n",
              "      <td>Definitely not recommended, especially for bu...</td>\n",
              "    </tr>\n",
              "  </tbody>\n",
              "</table>\n",
              "</div>\n",
              "      <button class=\"colab-df-convert\" onclick=\"convertToInteractive('df-329ac02b-e555-4bf3-8308-ba1d51e86313')\"\n",
              "              title=\"Convert this dataframe to an interactive table.\"\n",
              "              style=\"display:none;\">\n",
              "        \n",
              "  <svg xmlns=\"http://www.w3.org/2000/svg\" height=\"24px\"viewBox=\"0 0 24 24\"\n",
              "       width=\"24px\">\n",
              "    <path d=\"M0 0h24v24H0V0z\" fill=\"none\"/>\n",
              "    <path d=\"M18.56 5.44l.94 2.06.94-2.06 2.06-.94-2.06-.94-.94-2.06-.94 2.06-2.06.94zm-11 1L8.5 8.5l.94-2.06 2.06-.94-2.06-.94L8.5 2.5l-.94 2.06-2.06.94zm10 10l.94 2.06.94-2.06 2.06-.94-2.06-.94-.94-2.06-.94 2.06-2.06.94z\"/><path d=\"M17.41 7.96l-1.37-1.37c-.4-.4-.92-.59-1.43-.59-.52 0-1.04.2-1.43.59L10.3 9.45l-7.72 7.72c-.78.78-.78 2.05 0 2.83L4 21.41c.39.39.9.59 1.41.59.51 0 1.02-.2 1.41-.59l7.78-7.78 2.81-2.81c.8-.78.8-2.07 0-2.86zM5.41 20L4 18.59l7.72-7.72 1.47 1.35L5.41 20z\"/>\n",
              "  </svg>\n",
              "      </button>\n",
              "      \n",
              "  <style>\n",
              "    .colab-df-container {\n",
              "      display:flex;\n",
              "      flex-wrap:wrap;\n",
              "      gap: 12px;\n",
              "    }\n",
              "\n",
              "    .colab-df-convert {\n",
              "      background-color: #E8F0FE;\n",
              "      border: none;\n",
              "      border-radius: 50%;\n",
              "      cursor: pointer;\n",
              "      display: none;\n",
              "      fill: #1967D2;\n",
              "      height: 32px;\n",
              "      padding: 0 0 0 0;\n",
              "      width: 32px;\n",
              "    }\n",
              "\n",
              "    .colab-df-convert:hover {\n",
              "      background-color: #E2EBFA;\n",
              "      box-shadow: 0px 1px 2px rgba(60, 64, 67, 0.3), 0px 1px 3px 1px rgba(60, 64, 67, 0.15);\n",
              "      fill: #174EA6;\n",
              "    }\n",
              "\n",
              "    [theme=dark] .colab-df-convert {\n",
              "      background-color: #3B4455;\n",
              "      fill: #D2E3FC;\n",
              "    }\n",
              "\n",
              "    [theme=dark] .colab-df-convert:hover {\n",
              "      background-color: #434B5C;\n",
              "      box-shadow: 0px 1px 3px 1px rgba(0, 0, 0, 0.15);\n",
              "      filter: drop-shadow(0px 1px 2px rgba(0, 0, 0, 0.3));\n",
              "      fill: #FFFFFF;\n",
              "    }\n",
              "  </style>\n",
              "\n",
              "      <script>\n",
              "        const buttonEl =\n",
              "          document.querySelector('#df-329ac02b-e555-4bf3-8308-ba1d51e86313 button.colab-df-convert');\n",
              "        buttonEl.style.display =\n",
              "          google.colab.kernel.accessAllowed ? 'block' : 'none';\n",
              "\n",
              "        async function convertToInteractive(key) {\n",
              "          const element = document.querySelector('#df-329ac02b-e555-4bf3-8308-ba1d51e86313');\n",
              "          const dataTable =\n",
              "            await google.colab.kernel.invokeFunction('convertToInteractive',\n",
              "                                                     [key], {});\n",
              "          if (!dataTable) return;\n",
              "\n",
              "          const docLinkHtml = 'Like what you see? Visit the ' +\n",
              "            '<a target=\"_blank\" href=https://colab.research.google.com/notebooks/data_table.ipynb>data table notebook</a>'\n",
              "            + ' to learn more about interactive tables.';\n",
              "          element.innerHTML = '';\n",
              "          dataTable['output_type'] = 'display_data';\n",
              "          await google.colab.output.renderOutput(dataTable, element);\n",
              "          const docLink = document.createElement('div');\n",
              "          docLink.innerHTML = docLinkHtml;\n",
              "          element.appendChild(docLink);\n",
              "        }\n",
              "      </script>\n",
              "    </div>\n",
              "  </div>\n",
              "  "
            ]
          },
          "metadata": {},
          "execution_count": 5
        }
      ]
    },
    {
      "cell_type": "code",
      "source": [
        "# convert all numerical features to int\n",
        "\n",
        "data['overall_rating'] = data['overall_rating'].astype('Int64')\n",
        "data['seating_comfort'] = data['seating_comfort'].astype('Int64')\n",
        "data['staff_service'] = data['staff_service'].astype('Int64')\n",
        "data['food_quality'] = data['food_quality'].astype('Int64')\n",
        "data['entertainment'] = data['entertainment'].astype('Int64')\n",
        "data['wifi'] = data['wifi'].astype('Int64')\n",
        "data['ground_service'] = data['ground_service'].astype('Int64')\n",
        "data['value_for_money'] = data['value_for_money'].astype('Int64')"
      ],
      "metadata": {
        "id": "mBLWYBis_fCN"
      },
      "execution_count": null,
      "outputs": []
    },
    {
      "cell_type": "code",
      "source": [
        "data.head(5)"
      ],
      "metadata": {
        "id": "xjJLzI6mAVfc",
        "colab": {
          "base_uri": "https://localhost:8080/",
          "height": 565
        },
        "outputId": "fb34b41c-2a3d-43cc-fbcd-1967eb9ce462"
      },
      "execution_count": null,
      "outputs": [
        {
          "output_type": "execute_result",
          "data": {
            "text/plain": [
              "             status        aircraft     travel_type    travel_class  \\\n",
              "0  ✅ Trip Verified   Boeing 777-200  Family Leisure   Economy Class   \n",
              "1     Not Verified             A380  Family Leisure   Economy Class   \n",
              "2     Not Verified              NaN  Family Leisure   Economy Class   \n",
              "3  ✅ Trip Verified       A320, A380  Family Leisure  Business Class   \n",
              "4  ✅ Trip Verified              NaN        Business  Business Class   \n",
              "\n",
              "                                       route           date  seating_comfort  \\\n",
              "0                          Atlanta to London   January 2023                1   \n",
              "1                          London to Chicago  December 2022                3   \n",
              "2         Istanbul to Vancouver via Heathrow   January 2023                1   \n",
              "3  Vienna to Los Angeles via London Heathrow   January 2023                1   \n",
              "4                    London to San francisco   January 2023                2   \n",
              "\n",
              "   staff_service  food_quality  entertainment  wifi  ground_service  \\\n",
              "0              1             1              3  <NA>               1   \n",
              "1              2             3              4  <NA>               3   \n",
              "2              5             1              1  <NA>               1   \n",
              "3              2             1              1     1               1   \n",
              "4              5             2              1     1               2   \n",
              "\n",
              "   value_for_money recommended  overall_rating  \\\n",
              "0                2          no               4   \n",
              "1                2          no               5   \n",
              "2                1          no               1   \n",
              "3                1          no               1   \n",
              "4                1          no               2   \n",
              "\n",
              "                                              review  \n",
              "0    Flew ATL to LHR 8th Jan 2023. Was unlucky en...  \n",
              "1    Great thing about British Airways A380 is th...  \n",
              "2   The staff are friendly. The plane was cold, w...  \n",
              "3   Probably the worst business class experience ...  \n",
              "4   Definitely not recommended, especially for bu...  "
            ],
            "text/html": [
              "\n",
              "  <div id=\"df-aaa6340e-076b-486d-b772-d8a6b91dca9f\">\n",
              "    <div class=\"colab-df-container\">\n",
              "      <div>\n",
              "<style scoped>\n",
              "    .dataframe tbody tr th:only-of-type {\n",
              "        vertical-align: middle;\n",
              "    }\n",
              "\n",
              "    .dataframe tbody tr th {\n",
              "        vertical-align: top;\n",
              "    }\n",
              "\n",
              "    .dataframe thead th {\n",
              "        text-align: right;\n",
              "    }\n",
              "</style>\n",
              "<table border=\"1\" class=\"dataframe\">\n",
              "  <thead>\n",
              "    <tr style=\"text-align: right;\">\n",
              "      <th></th>\n",
              "      <th>status</th>\n",
              "      <th>aircraft</th>\n",
              "      <th>travel_type</th>\n",
              "      <th>travel_class</th>\n",
              "      <th>route</th>\n",
              "      <th>date</th>\n",
              "      <th>seating_comfort</th>\n",
              "      <th>staff_service</th>\n",
              "      <th>food_quality</th>\n",
              "      <th>entertainment</th>\n",
              "      <th>wifi</th>\n",
              "      <th>ground_service</th>\n",
              "      <th>value_for_money</th>\n",
              "      <th>recommended</th>\n",
              "      <th>overall_rating</th>\n",
              "      <th>review</th>\n",
              "    </tr>\n",
              "  </thead>\n",
              "  <tbody>\n",
              "    <tr>\n",
              "      <th>0</th>\n",
              "      <td>✅ Trip Verified</td>\n",
              "      <td>Boeing 777-200</td>\n",
              "      <td>Family Leisure</td>\n",
              "      <td>Economy Class</td>\n",
              "      <td>Atlanta to London</td>\n",
              "      <td>January 2023</td>\n",
              "      <td>1</td>\n",
              "      <td>1</td>\n",
              "      <td>1</td>\n",
              "      <td>3</td>\n",
              "      <td>&lt;NA&gt;</td>\n",
              "      <td>1</td>\n",
              "      <td>2</td>\n",
              "      <td>no</td>\n",
              "      <td>4</td>\n",
              "      <td>Flew ATL to LHR 8th Jan 2023. Was unlucky en...</td>\n",
              "    </tr>\n",
              "    <tr>\n",
              "      <th>1</th>\n",
              "      <td>Not Verified</td>\n",
              "      <td>A380</td>\n",
              "      <td>Family Leisure</td>\n",
              "      <td>Economy Class</td>\n",
              "      <td>London to Chicago</td>\n",
              "      <td>December 2022</td>\n",
              "      <td>3</td>\n",
              "      <td>2</td>\n",
              "      <td>3</td>\n",
              "      <td>4</td>\n",
              "      <td>&lt;NA&gt;</td>\n",
              "      <td>3</td>\n",
              "      <td>2</td>\n",
              "      <td>no</td>\n",
              "      <td>5</td>\n",
              "      <td>Great thing about British Airways A380 is th...</td>\n",
              "    </tr>\n",
              "    <tr>\n",
              "      <th>2</th>\n",
              "      <td>Not Verified</td>\n",
              "      <td>NaN</td>\n",
              "      <td>Family Leisure</td>\n",
              "      <td>Economy Class</td>\n",
              "      <td>Istanbul to Vancouver via Heathrow</td>\n",
              "      <td>January 2023</td>\n",
              "      <td>1</td>\n",
              "      <td>5</td>\n",
              "      <td>1</td>\n",
              "      <td>1</td>\n",
              "      <td>&lt;NA&gt;</td>\n",
              "      <td>1</td>\n",
              "      <td>1</td>\n",
              "      <td>no</td>\n",
              "      <td>1</td>\n",
              "      <td>The staff are friendly. The plane was cold, w...</td>\n",
              "    </tr>\n",
              "    <tr>\n",
              "      <th>3</th>\n",
              "      <td>✅ Trip Verified</td>\n",
              "      <td>A320, A380</td>\n",
              "      <td>Family Leisure</td>\n",
              "      <td>Business Class</td>\n",
              "      <td>Vienna to Los Angeles via London Heathrow</td>\n",
              "      <td>January 2023</td>\n",
              "      <td>1</td>\n",
              "      <td>2</td>\n",
              "      <td>1</td>\n",
              "      <td>1</td>\n",
              "      <td>1</td>\n",
              "      <td>1</td>\n",
              "      <td>1</td>\n",
              "      <td>no</td>\n",
              "      <td>1</td>\n",
              "      <td>Probably the worst business class experience ...</td>\n",
              "    </tr>\n",
              "    <tr>\n",
              "      <th>4</th>\n",
              "      <td>✅ Trip Verified</td>\n",
              "      <td>NaN</td>\n",
              "      <td>Business</td>\n",
              "      <td>Business Class</td>\n",
              "      <td>London to San francisco</td>\n",
              "      <td>January 2023</td>\n",
              "      <td>2</td>\n",
              "      <td>5</td>\n",
              "      <td>2</td>\n",
              "      <td>1</td>\n",
              "      <td>1</td>\n",
              "      <td>2</td>\n",
              "      <td>1</td>\n",
              "      <td>no</td>\n",
              "      <td>2</td>\n",
              "      <td>Definitely not recommended, especially for bu...</td>\n",
              "    </tr>\n",
              "  </tbody>\n",
              "</table>\n",
              "</div>\n",
              "      <button class=\"colab-df-convert\" onclick=\"convertToInteractive('df-aaa6340e-076b-486d-b772-d8a6b91dca9f')\"\n",
              "              title=\"Convert this dataframe to an interactive table.\"\n",
              "              style=\"display:none;\">\n",
              "        \n",
              "  <svg xmlns=\"http://www.w3.org/2000/svg\" height=\"24px\"viewBox=\"0 0 24 24\"\n",
              "       width=\"24px\">\n",
              "    <path d=\"M0 0h24v24H0V0z\" fill=\"none\"/>\n",
              "    <path d=\"M18.56 5.44l.94 2.06.94-2.06 2.06-.94-2.06-.94-.94-2.06-.94 2.06-2.06.94zm-11 1L8.5 8.5l.94-2.06 2.06-.94-2.06-.94L8.5 2.5l-.94 2.06-2.06.94zm10 10l.94 2.06.94-2.06 2.06-.94-2.06-.94-.94-2.06-.94 2.06-2.06.94z\"/><path d=\"M17.41 7.96l-1.37-1.37c-.4-.4-.92-.59-1.43-.59-.52 0-1.04.2-1.43.59L10.3 9.45l-7.72 7.72c-.78.78-.78 2.05 0 2.83L4 21.41c.39.39.9.59 1.41.59.51 0 1.02-.2 1.41-.59l7.78-7.78 2.81-2.81c.8-.78.8-2.07 0-2.86zM5.41 20L4 18.59l7.72-7.72 1.47 1.35L5.41 20z\"/>\n",
              "  </svg>\n",
              "      </button>\n",
              "      \n",
              "  <style>\n",
              "    .colab-df-container {\n",
              "      display:flex;\n",
              "      flex-wrap:wrap;\n",
              "      gap: 12px;\n",
              "    }\n",
              "\n",
              "    .colab-df-convert {\n",
              "      background-color: #E8F0FE;\n",
              "      border: none;\n",
              "      border-radius: 50%;\n",
              "      cursor: pointer;\n",
              "      display: none;\n",
              "      fill: #1967D2;\n",
              "      height: 32px;\n",
              "      padding: 0 0 0 0;\n",
              "      width: 32px;\n",
              "    }\n",
              "\n",
              "    .colab-df-convert:hover {\n",
              "      background-color: #E2EBFA;\n",
              "      box-shadow: 0px 1px 2px rgba(60, 64, 67, 0.3), 0px 1px 3px 1px rgba(60, 64, 67, 0.15);\n",
              "      fill: #174EA6;\n",
              "    }\n",
              "\n",
              "    [theme=dark] .colab-df-convert {\n",
              "      background-color: #3B4455;\n",
              "      fill: #D2E3FC;\n",
              "    }\n",
              "\n",
              "    [theme=dark] .colab-df-convert:hover {\n",
              "      background-color: #434B5C;\n",
              "      box-shadow: 0px 1px 3px 1px rgba(0, 0, 0, 0.15);\n",
              "      filter: drop-shadow(0px 1px 2px rgba(0, 0, 0, 0.3));\n",
              "      fill: #FFFFFF;\n",
              "    }\n",
              "  </style>\n",
              "\n",
              "      <script>\n",
              "        const buttonEl =\n",
              "          document.querySelector('#df-aaa6340e-076b-486d-b772-d8a6b91dca9f button.colab-df-convert');\n",
              "        buttonEl.style.display =\n",
              "          google.colab.kernel.accessAllowed ? 'block' : 'none';\n",
              "\n",
              "        async function convertToInteractive(key) {\n",
              "          const element = document.querySelector('#df-aaa6340e-076b-486d-b772-d8a6b91dca9f');\n",
              "          const dataTable =\n",
              "            await google.colab.kernel.invokeFunction('convertToInteractive',\n",
              "                                                     [key], {});\n",
              "          if (!dataTable) return;\n",
              "\n",
              "          const docLinkHtml = 'Like what you see? Visit the ' +\n",
              "            '<a target=\"_blank\" href=https://colab.research.google.com/notebooks/data_table.ipynb>data table notebook</a>'\n",
              "            + ' to learn more about interactive tables.';\n",
              "          element.innerHTML = '';\n",
              "          dataTable['output_type'] = 'display_data';\n",
              "          await google.colab.output.renderOutput(dataTable, element);\n",
              "          const docLink = document.createElement('div');\n",
              "          docLink.innerHTML = docLinkHtml;\n",
              "          element.appendChild(docLink);\n",
              "        }\n",
              "      </script>\n",
              "    </div>\n",
              "  </div>\n",
              "  "
            ]
          },
          "metadata": {},
          "execution_count": 7
        }
      ]
    },
    {
      "cell_type": "code",
      "source": [
        "data.shape"
      ],
      "metadata": {
        "id": "3CdmAoqsajvS",
        "colab": {
          "base_uri": "https://localhost:8080/"
        },
        "outputId": "caad4ece-094a-4fae-e72b-a4c90acbec02"
      },
      "execution_count": null,
      "outputs": [
        {
          "output_type": "execute_result",
          "data": {
            "text/plain": [
              "(3430, 16)"
            ]
          },
          "metadata": {},
          "execution_count": 8
        }
      ]
    },
    {
      "cell_type": "markdown",
      "source": [
        "the main goal of this notbook is to find what is not working well and needs immidiate change for the BA customers and highlight it.(rating =< 4)\n",
        "\n",
        "we also going to highlight what is going very well (rating >= 8)"
      ],
      "metadata": {
        "id": "9SLhhpfKh8dH"
      }
    },
    {
      "cell_type": "code",
      "source": [
        "data.info()"
      ],
      "metadata": {
        "colab": {
          "base_uri": "https://localhost:8080/"
        },
        "id": "Ve63ubr_h77J",
        "outputId": "5ea5c8c9-1339-408b-d627-2c5763e65035"
      },
      "execution_count": null,
      "outputs": [
        {
          "output_type": "stream",
          "name": "stdout",
          "text": [
            "<class 'pandas.core.frame.DataFrame'>\n",
            "RangeIndex: 3430 entries, 0 to 3429\n",
            "Data columns (total 16 columns):\n",
            " #   Column           Non-Null Count  Dtype \n",
            "---  ------           --------------  ----- \n",
            " 0   status           1931 non-null   object\n",
            " 1   aircraft         1807 non-null   object\n",
            " 2   travel_type      2684 non-null   object\n",
            " 3   travel_class     3428 non-null   object\n",
            " 4   route            2680 non-null   object\n",
            " 5   date             2676 non-null   object\n",
            " 6   seating_comfort  3332 non-null   Int64 \n",
            " 7   staff_service    3324 non-null   Int64 \n",
            " 8   food_quality     3097 non-null   Int64 \n",
            " 9   entertainment    2408 non-null   Int64 \n",
            " 10  wifi             511 non-null    Int64 \n",
            " 11  ground_service   2617 non-null   Int64 \n",
            " 12  value_for_money  3430 non-null   Int64 \n",
            " 13  recommended      3430 non-null   object\n",
            " 14  overall_rating   3424 non-null   Int64 \n",
            " 15  review           3430 non-null   object\n",
            "dtypes: Int64(8), object(8)\n",
            "memory usage: 455.7+ KB\n"
          ]
        }
      ]
    },
    {
      "cell_type": "code",
      "source": [
        "data['overall_rating'].value_counts(dropna=False)"
      ],
      "metadata": {
        "colab": {
          "base_uri": "https://localhost:8080/"
        },
        "id": "LZf6vt0KoyZo",
        "outputId": "f4214a25-7d2b-404f-bb49-203ecdc85f7c"
      },
      "execution_count": null,
      "outputs": [
        {
          "output_type": "execute_result",
          "data": {
            "text/plain": [
              "1      747\n",
              "2      388\n",
              "3      375\n",
              "8      358\n",
              "10     315\n",
              "7      304\n",
              "9      298\n",
              "4      232\n",
              "5      221\n",
              "6      186\n",
              "NaN      6\n",
              "Name: overall_rating, dtype: Int64"
            ]
          },
          "metadata": {},
          "execution_count": 10
        }
      ]
    },
    {
      "cell_type": "code",
      "source": [
        "# we have 6 NAN values in the overall_rating column and we made the decision to drop them.\n",
        "data = data[data['overall_rating'].notna()]"
      ],
      "metadata": {
        "id": "v5x5912pA3VQ"
      },
      "execution_count": null,
      "outputs": []
    },
    {
      "cell_type": "code",
      "source": [
        "# Checking percentages after removing the Nan values\n",
        "data['overall_rating'].value_counts(normalize=True)*100"
      ],
      "metadata": {
        "colab": {
          "base_uri": "https://localhost:8080/"
        },
        "id": "8XvTWeUloObI",
        "outputId": "80931197-9e3a-4219-d8d0-c7d5811fe68f"
      },
      "execution_count": null,
      "outputs": [
        {
          "output_type": "execute_result",
          "data": {
            "text/plain": [
              "1     21.816589\n",
              "2     11.331776\n",
              "3     10.952103\n",
              "8     10.455607\n",
              "10     9.199766\n",
              "7      8.878505\n",
              "9      8.703271\n",
              "4      6.775701\n",
              "5      6.454439\n",
              "6      5.432243\n",
              "Name: overall_rating, dtype: Float64"
            ]
          },
          "metadata": {},
          "execution_count": 270
        }
      ]
    },
    {
      "cell_type": "code",
      "source": [
        "plt.figure(figsize=(20,10))\n",
        "sns.countplot(data['overall_rating'])\n",
        "plt.show()"
      ],
      "metadata": {
        "colab": {
          "base_uri": "https://localhost:8080/",
          "height": 661
        },
        "id": "WPDRB186aj3i",
        "outputId": "427ef563-8846-41a9-caff-922a6d240d8d"
      },
      "execution_count": null,
      "outputs": [
        {
          "output_type": "stream",
          "name": "stderr",
          "text": [
            "/usr/local/lib/python3.8/dist-packages/seaborn/_decorators.py:36: FutureWarning: Pass the following variable as a keyword arg: x. From version 0.12, the only valid positional argument will be `data`, and passing other arguments without an explicit keyword will result in an error or misinterpretation.\n",
            "  warnings.warn(\n"
          ]
        },
        {
          "output_type": "display_data",
          "data": {
            "text/plain": [
              "<Figure size 1440x720 with 1 Axes>"
            ],
            "image/png": "[encoded data removed]"
          },
          "metadata": {
            "needs_background": "light"
          }
        }
      ]
    },
    {
      "cell_type": "markdown",
      "source": [
        "feature eng: creating a new categorical column that represents the ratings better:\n",
        "\n",
        "we will drop the Nan.\n",
        "\n",
        "[1-4] : bad\n",
        "\n",
        "[5-7] : average\n",
        "\n",
        "[8-10] : good\n",
        "\n",
        "later when we go deeper, we will add the poor and the excellent groups."
      ],
      "metadata": {
        "id": "dqqG6ZQ6rdFD"
      }
    },
    {
      "cell_type": "code",
      "source": [
        "data['rating'] = 'bad'\n",
        "data.loc[(data['overall_rating'] > 4) & (data['overall_rating'] <= 7), 'rating'] = 'average'\n",
        "data.loc[(data['overall_rating'] > 7) & (data['overall_rating'] <= 10), 'rating'] = 'good'\n"
      ],
      "metadata": {
        "id": "psxLiIOErcYF"
      },
      "execution_count": null,
      "outputs": []
    },
    {
      "cell_type": "code",
      "source": [
        "data.head()"
      ],
      "metadata": {
        "colab": {
          "base_uri": "https://localhost:8080/",
          "height": 565
        },
        "id": "-XaAKIbfrcat",
        "outputId": "d25da999-70a2-4bc5-ddf4-121bef4f16fe"
      },
      "execution_count": null,
      "outputs": [
        {
          "output_type": "execute_result",
          "data": {
            "text/plain": [
              "             status        aircraft     travel_type    travel_class  \\\n",
              "0  ✅ Trip Verified   Boeing 777-200  Family Leisure   Economy Class   \n",
              "1     Not Verified             A380  Family Leisure   Economy Class   \n",
              "2     Not Verified              NaN  Family Leisure   Economy Class   \n",
              "3  ✅ Trip Verified       A320, A380  Family Leisure  Business Class   \n",
              "4  ✅ Trip Verified              NaN        Business  Business Class   \n",
              "\n",
              "                                       route           date  seating_comfort  \\\n",
              "0                          Atlanta to London   January 2023                1   \n",
              "1                          London to Chicago  December 2022                3   \n",
              "2         Istanbul to Vancouver via Heathrow   January 2023                1   \n",
              "3  Vienna to Los Angeles via London Heathrow   January 2023                1   \n",
              "4                    London to San francisco   January 2023                2   \n",
              "\n",
              "   staff_service  food_quality  entertainment  wifi  ground_service  \\\n",
              "0              1             1              3  <NA>               1   \n",
              "1              2             3              4  <NA>               3   \n",
              "2              5             1              1  <NA>               1   \n",
              "3              2             1              1     1               1   \n",
              "4              5             2              1     1               2   \n",
              "\n",
              "   value_for_money recommended  overall_rating  \\\n",
              "0                2          no               4   \n",
              "1                2          no               5   \n",
              "2                1          no               1   \n",
              "3                1          no               1   \n",
              "4                1          no               2   \n",
              "\n",
              "                                              review   rating  \n",
              "0    Flew ATL to LHR 8th Jan 2023. Was unlucky en...      bad  \n",
              "1    Great thing about British Airways A380 is th...  average  \n",
              "2   The staff are friendly. The plane was cold, w...      bad  \n",
              "3   Probably the worst business class experience ...      bad  \n",
              "4   Definitely not recommended, especially for bu...      bad  "
            ],
            "text/html": [
              "\n",
              "  <div id=\"df-699f25e9-2059-49d5-9314-3756feebe0c7\">\n",
              "    <div class=\"colab-df-container\">\n",
              "      <div>\n",
              "<style scoped>\n",
              "    .dataframe tbody tr th:only-of-type {\n",
              "        vertical-align: middle;\n",
              "    }\n",
              "\n",
              "    .dataframe tbody tr th {\n",
              "        vertical-align: top;\n",
              "    }\n",
              "\n",
              "    .dataframe thead th {\n",
              "        text-align: right;\n",
              "    }\n",
              "</style>\n",
              "<table border=\"1\" class=\"dataframe\">\n",
              "  <thead>\n",
              "    <tr style=\"text-align: right;\">\n",
              "      <th></th>\n",
              "      <th>status</th>\n",
              "      <th>aircraft</th>\n",
              "      <th>travel_type</th>\n",
              "      <th>travel_class</th>\n",
              "      <th>route</th>\n",
              "      <th>date</th>\n",
              "      <th>seating_comfort</th>\n",
              "      <th>staff_service</th>\n",
              "      <th>food_quality</th>\n",
              "      <th>entertainment</th>\n",
              "      <th>wifi</th>\n",
              "      <th>ground_service</th>\n",
              "      <th>value_for_money</th>\n",
              "      <th>recommended</th>\n",
              "      <th>overall_rating</th>\n",
              "      <th>review</th>\n",
              "      <th>rating</th>\n",
              "    </tr>\n",
              "  </thead>\n",
              "  <tbody>\n",
              "    <tr>\n",
              "      <th>0</th>\n",
              "      <td>✅ Trip Verified</td>\n",
              "      <td>Boeing 777-200</td>\n",
              "      <td>Family Leisure</td>\n",
              "      <td>Economy Class</td>\n",
              "      <td>Atlanta to London</td>\n",
              "      <td>January 2023</td>\n",
              "      <td>1</td>\n",
              "      <td>1</td>\n",
              "      <td>1</td>\n",
              "      <td>3</td>\n",
              "      <td>&lt;NA&gt;</td>\n",
              "      <td>1</td>\n",
              "      <td>2</td>\n",
              "      <td>no</td>\n",
              "      <td>4</td>\n",
              "      <td>Flew ATL to LHR 8th Jan 2023. Was unlucky en...</td>\n",
              "      <td>bad</td>\n",
              "    </tr>\n",
              "    <tr>\n",
              "      <th>1</th>\n",
              "      <td>Not Verified</td>\n",
              "      <td>A380</td>\n",
              "      <td>Family Leisure</td>\n",
              "      <td>Economy Class</td>\n",
              "      <td>London to Chicago</td>\n",
              "      <td>December 2022</td>\n",
              "      <td>3</td>\n",
              "      <td>2</td>\n",
              "      <td>3</td>\n",
              "      <td>4</td>\n",
              "      <td>&lt;NA&gt;</td>\n",
              "      <td>3</td>\n",
              "      <td>2</td>\n",
              "      <td>no</td>\n",
              "      <td>5</td>\n",
              "      <td>Great thing about British Airways A380 is th...</td>\n",
              "      <td>average</td>\n",
              "    </tr>\n",
              "    <tr>\n",
              "      <th>2</th>\n",
              "      <td>Not Verified</td>\n",
              "      <td>NaN</td>\n",
              "      <td>Family Leisure</td>\n",
              "      <td>Economy Class</td>\n",
              "      <td>Istanbul to Vancouver via Heathrow</td>\n",
              "      <td>January 2023</td>\n",
              "      <td>1</td>\n",
              "      <td>5</td>\n",
              "      <td>1</td>\n",
              "      <td>1</td>\n",
              "      <td>&lt;NA&gt;</td>\n",
              "      <td>1</td>\n",
              "      <td>1</td>\n",
              "      <td>no</td>\n",
              "      <td>1</td>\n",
              "      <td>The staff are friendly. The plane was cold, w...</td>\n",
              "      <td>bad</td>\n",
              "    </tr>\n",
              "    <tr>\n",
              "      <th>3</th>\n",
              "      <td>✅ Trip Verified</td>\n",
              "      <td>A320, A380</td>\n",
              "      <td>Family Leisure</td>\n",
              "      <td>Business Class</td>\n",
              "      <td>Vienna to Los Angeles via London Heathrow</td>\n",
              "      <td>January 2023</td>\n",
              "      <td>1</td>\n",
              "      <td>2</td>\n",
              "      <td>1</td>\n",
              "      <td>1</td>\n",
              "      <td>1</td>\n",
              "      <td>1</td>\n",
              "      <td>1</td>\n",
              "      <td>no</td>\n",
              "      <td>1</td>\n",
              "      <td>Probably the worst business class experience ...</td>\n",
              "      <td>bad</td>\n",
              "    </tr>\n",
              "    <tr>\n",
              "      <th>4</th>\n",
              "      <td>✅ Trip Verified</td>\n",
              "      <td>NaN</td>\n",
              "      <td>Business</td>\n",
              "      <td>Business Class</td>\n",
              "      <td>London to San francisco</td>\n",
              "      <td>January 2023</td>\n",
              "      <td>2</td>\n",
              "      <td>5</td>\n",
              "      <td>2</td>\n",
              "      <td>1</td>\n",
              "      <td>1</td>\n",
              "      <td>2</td>\n",
              "      <td>1</td>\n",
              "      <td>no</td>\n",
              "      <td>2</td>\n",
              "      <td>Definitely not recommended, especially for bu...</td>\n",
              "      <td>bad</td>\n",
              "    </tr>\n",
              "  </tbody>\n",
              "</table>\n",
              "</div>\n",
              "      <button class=\"colab-df-convert\" onclick=\"convertToInteractive('df-699f25e9-2059-49d5-9314-3756feebe0c7')\"\n",
              "              title=\"Convert this dataframe to an interactive table.\"\n",
              "              style=\"display:none;\">\n",
              "        \n",
              "  <svg xmlns=\"http://www.w3.org/2000/svg\" height=\"24px\"viewBox=\"0 0 24 24\"\n",
              "       width=\"24px\">\n",
              "    <path d=\"M0 0h24v24H0V0z\" fill=\"none\"/>\n",
              "    <path d=\"M18.56 5.44l.94 2.06.94-2.06 2.06-.94-2.06-.94-.94-2.06-.94 2.06-2.06.94zm-11 1L8.5 8.5l.94-2.06 2.06-.94-2.06-.94L8.5 2.5l-.94 2.06-2.06.94zm10 10l.94 2.06.94-2.06 2.06-.94-2.06-.94-.94-2.06-.94 2.06-2.06.94z\"/><path d=\"M17.41 7.96l-1.37-1.37c-.4-.4-.92-.59-1.43-.59-.52 0-1.04.2-1.43.59L10.3 9.45l-7.72 7.72c-.78.78-.78 2.05 0 2.83L4 21.41c.39.39.9.59 1.41.59.51 0 1.02-.2 1.41-.59l7.78-7.78 2.81-2.81c.8-.78.8-2.07 0-2.86zM5.41 20L4 18.59l7.72-7.72 1.47 1.35L5.41 20z\"/>\n",
              "  </svg>\n",
              "      </button>\n",
              "      \n",
              "  <style>\n",
              "    .colab-df-container {\n",
              "      display:flex;\n",
              "      flex-wrap:wrap;\n",
              "      gap: 12px;\n",
              "    }\n",
              "\n",
              "    .colab-df-convert {\n",
              "      background-color: #E8F0FE;\n",
              "      border: none;\n",
              "      border-radius: 50%;\n",
              "      cursor: pointer;\n",
              "      display: none;\n",
              "      fill: #1967D2;\n",
              "      height: 32px;\n",
              "      padding: 0 0 0 0;\n",
              "      width: 32px;\n",
              "    }\n",
              "\n",
              "    .colab-df-convert:hover {\n",
              "      background-color: #E2EBFA;\n",
              "      box-shadow: 0px 1px 2px rgba(60, 64, 67, 0.3), 0px 1px 3px 1px rgba(60, 64, 67, 0.15);\n",
              "      fill: #174EA6;\n",
              "    }\n",
              "\n",
              "    [theme=dark] .colab-df-convert {\n",
              "      background-color: #3B4455;\n",
              "      fill: #D2E3FC;\n",
              "    }\n",
              "\n",
              "    [theme=dark] .colab-df-convert:hover {\n",
              "      background-color: #434B5C;\n",
              "      box-shadow: 0px 1px 3px 1px rgba(0, 0, 0, 0.15);\n",
              "      filter: drop-shadow(0px 1px 2px rgba(0, 0, 0, 0.3));\n",
              "      fill: #FFFFFF;\n",
              "    }\n",
              "  </style>\n",
              "\n",
              "      <script>\n",
              "        const buttonEl =\n",
              "          document.querySelector('#df-699f25e9-2059-49d5-9314-3756feebe0c7 button.colab-df-convert');\n",
              "        buttonEl.style.display =\n",
              "          google.colab.kernel.accessAllowed ? 'block' : 'none';\n",
              "\n",
              "        async function convertToInteractive(key) {\n",
              "          const element = document.querySelector('#df-699f25e9-2059-49d5-9314-3756feebe0c7');\n",
              "          const dataTable =\n",
              "            await google.colab.kernel.invokeFunction('convertToInteractive',\n",
              "                                                     [key], {});\n",
              "          if (!dataTable) return;\n",
              "\n",
              "          const docLinkHtml = 'Like what you see? Visit the ' +\n",
              "            '<a target=\"_blank\" href=https://colab.research.google.com/notebooks/data_table.ipynb>data table notebook</a>'\n",
              "            + ' to learn more about interactive tables.';\n",
              "          element.innerHTML = '';\n",
              "          dataTable['output_type'] = 'display_data';\n",
              "          await google.colab.output.renderOutput(dataTable, element);\n",
              "          const docLink = document.createElement('div');\n",
              "          docLink.innerHTML = docLinkHtml;\n",
              "          element.appendChild(docLink);\n",
              "        }\n",
              "      </script>\n",
              "    </div>\n",
              "  </div>\n",
              "  "
            ]
          },
          "metadata": {},
          "execution_count": 15
        }
      ]
    },
    {
      "cell_type": "code",
      "source": [
        "data.rating.value_counts()"
      ],
      "metadata": {
        "colab": {
          "base_uri": "https://localhost:8080/"
        },
        "id": "Xh2PjanUrcdY",
        "outputId": "3f8cf125-32c6-4773-c747-e7e9d2e3cc12"
      },
      "execution_count": null,
      "outputs": [
        {
          "output_type": "execute_result",
          "data": {
            "text/plain": [
              "bad        1742\n",
              "good        971\n",
              "average     711\n",
              "Name: rating, dtype: int64"
            ]
          },
          "metadata": {},
          "execution_count": 16
        }
      ]
    },
    {
      "cell_type": "code",
      "source": [
        "df_overall_rating = data['rating'].value_counts().to_frame()\n",
        "df_overall_rating= df_overall_rating.sort_index()\n",
        "df_overall_rating"
      ],
      "metadata": {
        "colab": {
          "base_uri": "https://localhost:8080/",
          "height": 143
        },
        "id": "dUV6U6x2yOj2",
        "outputId": "bb8b2f0f-6934-4ed3-e577-d1c7c6393872"
      },
      "execution_count": null,
      "outputs": [
        {
          "output_type": "execute_result",
          "data": {
            "text/plain": [
              "         rating\n",
              "average     711\n",
              "bad        1742\n",
              "good        971"
            ],
            "text/html": [
              "\n",
              "  <div id=\"df-33d5fcac-2663-4c11-b124-d9e4df3c6166\">\n",
              "    <div class=\"colab-df-container\">\n",
              "      <div>\n",
              "<style scoped>\n",
              "    .dataframe tbody tr th:only-of-type {\n",
              "        vertical-align: middle;\n",
              "    }\n",
              "\n",
              "    .dataframe tbody tr th {\n",
              "        vertical-align: top;\n",
              "    }\n",
              "\n",
              "    .dataframe thead th {\n",
              "        text-align: right;\n",
              "    }\n",
              "</style>\n",
              "<table border=\"1\" class=\"dataframe\">\n",
              "  <thead>\n",
              "    <tr style=\"text-align: right;\">\n",
              "      <th></th>\n",
              "      <th>rating</th>\n",
              "    </tr>\n",
              "  </thead>\n",
              "  <tbody>\n",
              "    <tr>\n",
              "      <th>average</th>\n",
              "      <td>711</td>\n",
              "    </tr>\n",
              "    <tr>\n",
              "      <th>bad</th>\n",
              "      <td>1742</td>\n",
              "    </tr>\n",
              "    <tr>\n",
              "      <th>good</th>\n",
              "      <td>971</td>\n",
              "    </tr>\n",
              "  </tbody>\n",
              "</table>\n",
              "</div>\n",
              "      <button class=\"colab-df-convert\" onclick=\"convertToInteractive('df-33d5fcac-2663-4c11-b124-d9e4df3c6166')\"\n",
              "              title=\"Convert this dataframe to an interactive table.\"\n",
              "              style=\"display:none;\">\n",
              "        \n",
              "  <svg xmlns=\"http://www.w3.org/2000/svg\" height=\"24px\"viewBox=\"0 0 24 24\"\n",
              "       width=\"24px\">\n",
              "    <path d=\"M0 0h24v24H0V0z\" fill=\"none\"/>\n",
              "    <path d=\"M18.56 5.44l.94 2.06.94-2.06 2.06-.94-2.06-.94-.94-2.06-.94 2.06-2.06.94zm-11 1L8.5 8.5l.94-2.06 2.06-.94-2.06-.94L8.5 2.5l-.94 2.06-2.06.94zm10 10l.94 2.06.94-2.06 2.06-.94-2.06-.94-.94-2.06-.94 2.06-2.06.94z\"/><path d=\"M17.41 7.96l-1.37-1.37c-.4-.4-.92-.59-1.43-.59-.52 0-1.04.2-1.43.59L10.3 9.45l-7.72 7.72c-.78.78-.78 2.05 0 2.83L4 21.41c.39.39.9.59 1.41.59.51 0 1.02-.2 1.41-.59l7.78-7.78 2.81-2.81c.8-.78.8-2.07 0-2.86zM5.41 20L4 18.59l7.72-7.72 1.47 1.35L5.41 20z\"/>\n",
              "  </svg>\n",
              "      </button>\n",
              "      \n",
              "  <style>\n",
              "    .colab-df-container {\n",
              "      display:flex;\n",
              "      flex-wrap:wrap;\n",
              "      gap: 12px;\n",
              "    }\n",
              "\n",
              "    .colab-df-convert {\n",
              "      background-color: #E8F0FE;\n",
              "      border: none;\n",
              "      border-radius: 50%;\n",
              "      cursor: pointer;\n",
              "      display: none;\n",
              "      fill: #1967D2;\n",
              "      height: 32px;\n",
              "      padding: 0 0 0 0;\n",
              "      width: 32px;\n",
              "    }\n",
              "\n",
              "    .colab-df-convert:hover {\n",
              "      background-color: #E2EBFA;\n",
              "      box-shadow: 0px 1px 2px rgba(60, 64, 67, 0.3), 0px 1px 3px 1px rgba(60, 64, 67, 0.15);\n",
              "      fill: #174EA6;\n",
              "    }\n",
              "\n",
              "    [theme=dark] .colab-df-convert {\n",
              "      background-color: #3B4455;\n",
              "      fill: #D2E3FC;\n",
              "    }\n",
              "\n",
              "    [theme=dark] .colab-df-convert:hover {\n",
              "      background-color: #434B5C;\n",
              "      box-shadow: 0px 1px 3px 1px rgba(0, 0, 0, 0.15);\n",
              "      filter: drop-shadow(0px 1px 2px rgba(0, 0, 0, 0.3));\n",
              "      fill: #FFFFFF;\n",
              "    }\n",
              "  </style>\n",
              "\n",
              "      <script>\n",
              "        const buttonEl =\n",
              "          document.querySelector('#df-33d5fcac-2663-4c11-b124-d9e4df3c6166 button.colab-df-convert');\n",
              "        buttonEl.style.display =\n",
              "          google.colab.kernel.accessAllowed ? 'block' : 'none';\n",
              "\n",
              "        async function convertToInteractive(key) {\n",
              "          const element = document.querySelector('#df-33d5fcac-2663-4c11-b124-d9e4df3c6166');\n",
              "          const dataTable =\n",
              "            await google.colab.kernel.invokeFunction('convertToInteractive',\n",
              "                                                     [key], {});\n",
              "          if (!dataTable) return;\n",
              "\n",
              "          const docLinkHtml = 'Like what you see? Visit the ' +\n",
              "            '<a target=\"_blank\" href=https://colab.research.google.com/notebooks/data_table.ipynb>data table notebook</a>'\n",
              "            + ' to learn more about interactive tables.';\n",
              "          element.innerHTML = '';\n",
              "          dataTable['output_type'] = 'display_data';\n",
              "          await google.colab.output.renderOutput(dataTable, element);\n",
              "          const docLink = document.createElement('div');\n",
              "          docLink.innerHTML = docLinkHtml;\n",
              "          element.appendChild(docLink);\n",
              "        }\n",
              "      </script>\n",
              "    </div>\n",
              "  </div>\n",
              "  "
            ]
          },
          "metadata": {},
          "execution_count": 17
        }
      ]
    },
    {
      "cell_type": "code",
      "source": [
        "fig = px.pie(df_overall_rating, values='rating', names=df_overall_rating.index, color_discrete_sequence=px.colors.sequential.Agsunset_r)\n",
        "fig.show()"
      ],
      "metadata": {
        "colab": {
          "base_uri": "https://localhost:8080/",
          "height": 542
        },
        "id": "gRJ7mg4Ircfr",
        "outputId": "7fe97a74-9db4-4560-a0fc-17f3592c1ad9"
      },
      "execution_count": null,
      "outputs": [
        {
          "output_type": "display_data",
          "data": {
            "text/html": [
              "<html>\n",
              "<head><meta charset=\"utf-8\" /></head>\n",
              "<body>\n",
              "    <div>            <script src=\"https://cdnjs.cloudflare.com/ajax/libs/mathjax/2.7.5/MathJax.js?config=TeX-AMS-MML_SVG\"></script><script type=\"text/javascript\">if (window.MathJax) {MathJax.Hub.Config({SVG: {font: \"STIX-Web\"}});}</script>                <script type=\"text/javascript\">window.PlotlyConfig = {MathJaxConfig: 'local'};</script>\n",
              "        <script src=\"https://cdn.plot.ly/plotly-2.8.3.min.js\"></script>                <div id=\"109fd9f9-ac05-4d35-bf53-f7ecbb6f5eff\" class=\"plotly-graph-div\" style=\"height:525px; width:100%;\"></div>            <script type=\"text/javascript\">                                    window.PLOTLYENV=window.PLOTLYENV || {};                                    if (document.getElementById(\"109fd9f9-ac05-4d35-bf53-f7ecbb6f5eff\")) {                    Plotly.newPlot(                        \"109fd9f9-ac05-4d35-bf53-f7ecbb6f5eff\",                        [{\"domain\":{\"x\":[0.0,1.0],\"y\":[0.0,1.0]},\"hovertemplate\":\"index=%{label}<br>rating=%{value}<extra></extra>\",\"labels\":[\"average\",\"bad\",\"good\"],\"legendgroup\":\"\",\"name\":\"\",\"showlegend\":true,\"values\":[711,1742,971],\"type\":\"pie\"}],                        {\"template\":{\"data\":{\"bar\":[{\"error_x\":{\"color\":\"#2a3f5f\"},\"error_y\":{\"color\":\"#2a3f5f\"},\"marker\":{\"line\":{\"color\":\"#E5ECF6\",\"width\":0.5},\"pattern\":{\"fillmode\":\"overlay\",\"size\":10,\"solidity\":0.2}},\"type\":\"bar\"}],\"barpolar\":[{\"marker\":{\"line\":{\"color\":\"#E5ECF6\",\"width\":0.5},\"pattern\":{\"fillmode\":\"overlay\",\"size\":10,\"solidity\":0.2}},\"type\":\"barpolar\"}],\"carpet\":[{\"aaxis\":{\"endlinecolor\":\"#2a3f5f\",\"gridcolor\":\"white\",\"linecolor\":\"white\",\"minorgridcolor\":\"white\",\"startlinecolor\":\"#2a3f5f\"},\"baxis\":{\"endlinecolor\":\"#2a3f5f\",\"gridcolor\":\"white\",\"linecolor\":\"white\",\"minorgridcolor\":\"white\",\"startlinecolor\":\"#2a3f5f\"},\"type\":\"carpet\"}],\"choropleth\":[{\"colorbar\":{\"outlinewidth\":0,\"ticks\":\"\"},\"type\":\"choropleth\"}],\"contour\":[{\"colorbar\":{\"outlinewidth\":0,\"ticks\":\"\"},\"colorscale\":[[0.0,\"#0d0887\"],[0.1111111111111111,\"#46039f\"],[0.2222222222222222,\"#7201a8\"],[0.3333333333333333,\"#9c179e\"],[0.4444444444444444,\"#bd3786\"],[0.5555555555555556,\"#d8576b\"],[0.6666666666666666,\"#ed7953\"],[0.7777777777777778,\"#fb9f3a\"],[0.8888888888888888,\"#fdca26\"],[1.0,\"#f0f921\"]],\"type\":\"contour\"}],\"contourcarpet\":[{\"colorbar\":{\"outlinewidth\":0,\"ticks\":\"\"},\"type\":\"contourcarpet\"}],\"heatmap\":[{\"colorbar\":{\"outlinewidth\":0,\"ticks\":\"\"},\"colorscale\":[[0.0,\"#0d0887\"],[0.1111111111111111,\"#46039f\"],[0.2222222222222222,\"#7201a8\"],[0.3333333333333333,\"#9c179e\"],[0.4444444444444444,\"#bd3786\"],[0.5555555555555556,\"#d8576b\"],[0.6666666666666666,\"#ed7953\"],[0.7777777777777778,\"#fb9f3a\"],[0.8888888888888888,\"#fdca26\"],[1.0,\"#f0f921\"]],\"type\":\"heatmap\"}],\"heatmapgl\":[{\"colorbar\":{\"outlinewidth\":0,\"ticks\":\"\"},\"colorscale\":[[0.0,\"#0d0887\"],[0.1111111111111111,\"#46039f\"],[0.2222222222222222,\"#7201a8\"],[0.3333333333333333,\"#9c179e\"],[0.4444444444444444,\"#bd3786\"],[0.5555555555555556,\"#d8576b\"],[0.6666666666666666,\"#ed7953\"],[0.7777777777777778,\"#fb9f3a\"],[0.8888888888888888,\"#fdca26\"],[1.0,\"#f0f921\"]],\"type\":\"heatmapgl\"}],\"histogram\":[{\"marker\":{\"pattern\":{\"fillmode\":\"overlay\",\"size\":10,\"solidity\":0.2}},\"type\":\"histogram\"}],\"histogram2d\":[{\"colorbar\":{\"outlinewidth\":0,\"ticks\":\"\"},\"colorscale\":[[0.0,\"#0d0887\"],[0.1111111111111111,\"#46039f\"],[0.2222222222222222,\"#7201a8\"],[0.3333333333333333,\"#9c179e\"],[0.4444444444444444,\"#bd3786\"],[0.5555555555555556,\"#d8576b\"],[0.6666666666666666,\"#ed7953\"],[0.7777777777777778,\"#fb9f3a\"],[0.8888888888888888,\"#fdca26\"],[1.0,\"#f0f921\"]],\"type\":\"histogram2d\"}],\"histogram2dcontour\":[{\"colorbar\":{\"outlinewidth\":0,\"ticks\":\"\"},\"colorscale\":[[0.0,\"#0d0887\"],[0.1111111111111111,\"#46039f\"],[0.2222222222222222,\"#7201a8\"],[0.3333333333333333,\"#9c179e\"],[0.4444444444444444,\"#bd3786\"],[0.5555555555555556,\"#d8576b\"],[0.6666666666666666,\"#ed7953\"],[0.7777777777777778,\"#fb9f3a\"],[0.8888888888888888,\"#fdca26\"],[1.0,\"#f0f921\"]],\"type\":\"histogram2dcontour\"}],\"mesh3d\":[{\"colorbar\":{\"outlinewidth\":0,\"ticks\":\"\"},\"type\":\"mesh3d\"}],\"parcoords\":[{\"line\":{\"colorbar\":{\"outlinewidth\":0,\"ticks\":\"\"}},\"type\":\"parcoords\"}],\"pie\":[{\"automargin\":true,\"type\":\"pie\"}],\"scatter\":[{\"marker\":{\"colorbar\":{\"outlinewidth\":0,\"ticks\":\"\"}},\"type\":\"scatter\"}],\"scatter3d\":[{\"line\":{\"colorbar\":{\"outlinewidth\":0,\"ticks\":\"\"}},\"marker\":{\"colorbar\":{\"outlinewidth\":0,\"ticks\":\"\"}},\"type\":\"scatter3d\"}],\"scattercarpet\":[{\"marker\":{\"colorbar\":{\"outlinewidth\":0,\"ticks\":\"\"}},\"type\":\"scattercarpet\"}],\"scattergeo\":[{\"marker\":{\"colorbar\":{\"outlinewidth\":0,\"ticks\":\"\"}},\"type\":\"scattergeo\"}],\"scattergl\":[{\"marker\":{\"colorbar\":{\"outlinewidth\":0,\"ticks\":\"\"}},\"type\":\"scattergl\"}],\"scattermapbox\":[{\"marker\":{\"colorbar\":{\"outlinewidth\":0,\"ticks\":\"\"}},\"type\":\"scattermapbox\"}],\"scatterpolar\":[{\"marker\":{\"colorbar\":{\"outlinewidth\":0,\"ticks\":\"\"}},\"type\":\"scatterpolar\"}],\"scatterpolargl\":[{\"marker\":{\"colorbar\":{\"outlinewidth\":0,\"ticks\":\"\"}},\"type\":\"scatterpolargl\"}],\"scatterternary\":[{\"marker\":{\"colorbar\":{\"outlinewidth\":0,\"ticks\":\"\"}},\"type\":\"scatterternary\"}],\"surface\":[{\"colorbar\":{\"outlinewidth\":0,\"ticks\":\"\"},\"colorscale\":[[0.0,\"#0d0887\"],[0.1111111111111111,\"#46039f\"],[0.2222222222222222,\"#7201a8\"],[0.3333333333333333,\"#9c179e\"],[0.4444444444444444,\"#bd3786\"],[0.5555555555555556,\"#d8576b\"],[0.6666666666666666,\"#ed7953\"],[0.7777777777777778,\"#fb9f3a\"],[0.8888888888888888,\"#fdca26\"],[1.0,\"#f0f921\"]],\"type\":\"surface\"}],\"table\":[{\"cells\":{\"fill\":{\"color\":\"#EBF0F8\"},\"line\":{\"color\":\"white\"}},\"header\":{\"fill\":{\"color\":\"#C8D4E3\"},\"line\":{\"color\":\"white\"}},\"type\":\"table\"}]},\"layout\":{\"annotationdefaults\":{\"arrowcolor\":\"#2a3f5f\",\"arrowhead\":0,\"arrowwidth\":1},\"autotypenumbers\":\"strict\",\"coloraxis\":{\"colorbar\":{\"outlinewidth\":0,\"ticks\":\"\"}},\"colorscale\":{\"diverging\":[[0,\"#8e0152\"],[0.1,\"#c51b7d\"],[0.2,\"#de77ae\"],[0.3,\"#f1b6da\"],[0.4,\"#fde0ef\"],[0.5,\"#f7f7f7\"],[0.6,\"#e6f5d0\"],[0.7,\"#b8e186\"],[0.8,\"#7fbc41\"],[0.9,\"#4d9221\"],[1,\"#276419\"]],\"sequential\":[[0.0,\"#0d0887\"],[0.1111111111111111,\"#46039f\"],[0.2222222222222222,\"#7201a8\"],[0.3333333333333333,\"#9c179e\"],[0.4444444444444444,\"#bd3786\"],[0.5555555555555556,\"#d8576b\"],[0.6666666666666666,\"#ed7953\"],[0.7777777777777778,\"#fb9f3a\"],[0.8888888888888888,\"#fdca26\"],[1.0,\"#f0f921\"]],\"sequentialminus\":[[0.0,\"#0d0887\"],[0.1111111111111111,\"#46039f\"],[0.2222222222222222,\"#7201a8\"],[0.3333333333333333,\"#9c179e\"],[0.4444444444444444,\"#bd3786\"],[0.5555555555555556,\"#d8576b\"],[0.6666666666666666,\"#ed7953\"],[0.7777777777777778,\"#fb9f3a\"],[0.8888888888888888,\"#fdca26\"],[1.0,\"#f0f921\"]]},\"colorway\":[\"#636efa\",\"#EF553B\",\"#00cc96\",\"#ab63fa\",\"#FFA15A\",\"#19d3f3\",\"#FF6692\",\"#B6E880\",\"#FF97FF\",\"#FECB52\"],\"font\":{\"color\":\"#2a3f5f\"},\"geo\":{\"bgcolor\":\"white\",\"lakecolor\":\"white\",\"landcolor\":\"#E5ECF6\",\"showlakes\":true,\"showland\":true,\"subunitcolor\":\"white\"},\"hoverlabel\":{\"align\":\"left\"},\"hovermode\":\"closest\",\"mapbox\":{\"style\":\"light\"},\"paper_bgcolor\":\"white\",\"plot_bgcolor\":\"#E5ECF6\",\"polar\":{\"angularaxis\":{\"gridcolor\":\"white\",\"linecolor\":\"white\",\"ticks\":\"\"},\"bgcolor\":\"#E5ECF6\",\"radialaxis\":{\"gridcolor\":\"white\",\"linecolor\":\"white\",\"ticks\":\"\"}},\"scene\":{\"xaxis\":{\"backgroundcolor\":\"#E5ECF6\",\"gridcolor\":\"white\",\"gridwidth\":2,\"linecolor\":\"white\",\"showbackground\":true,\"ticks\":\"\",\"zerolinecolor\":\"white\"},\"yaxis\":{\"backgroundcolor\":\"#E5ECF6\",\"gridcolor\":\"white\",\"gridwidth\":2,\"linecolor\":\"white\",\"showbackground\":true,\"ticks\":\"\",\"zerolinecolor\":\"white\"},\"zaxis\":{\"backgroundcolor\":\"#E5ECF6\",\"gridcolor\":\"white\",\"gridwidth\":2,\"linecolor\":\"white\",\"showbackground\":true,\"ticks\":\"\",\"zerolinecolor\":\"white\"}},\"shapedefaults\":{\"line\":{\"color\":\"#2a3f5f\"}},\"ternary\":{\"aaxis\":{\"gridcolor\":\"white\",\"linecolor\":\"white\",\"ticks\":\"\"},\"baxis\":{\"gridcolor\":\"white\",\"linecolor\":\"white\",\"ticks\":\"\"},\"bgcolor\":\"#E5ECF6\",\"caxis\":{\"gridcolor\":\"white\",\"linecolor\":\"white\",\"ticks\":\"\"}},\"title\":{\"x\":0.05},\"xaxis\":{\"automargin\":true,\"gridcolor\":\"white\",\"linecolor\":\"white\",\"ticks\":\"\",\"title\":{\"standoff\":15},\"zerolinecolor\":\"white\",\"zerolinewidth\":2},\"yaxis\":{\"automargin\":true,\"gridcolor\":\"white\",\"linecolor\":\"white\",\"ticks\":\"\",\"title\":{\"standoff\":15},\"zerolinecolor\":\"white\",\"zerolinewidth\":2}}},\"legend\":{\"tracegroupgap\":0},\"margin\":{\"t\":60},\"piecolorway\":[\"rgb(237, 217, 163)\",\"rgb(246, 169, 122)\",\"rgb(250, 120, 118)\",\"rgb(234, 79, 136)\",\"rgb(192, 54, 157)\",\"rgb(135, 44, 162)\",\"rgb(75, 41, 145)\"]},                        {\"responsive\": true}                    ).then(function(){\n",
              "                            \n",
              "var gd = document.getElementById('109fd9f9-ac05-4d35-bf53-f7ecbb6f5eff');\n",
              "var x = new MutationObserver(function (mutations, observer) {{\n",
              "        var display = window.getComputedStyle(gd).display;\n",
              "        if (!display || display === 'none') {{\n",
              "            console.log([gd, 'removed!']);\n",
              "            Plotly.purge(gd);\n",
              "            observer.disconnect();\n",
              "        }}\n",
              "}});\n",
              "\n",
              "// Listen for the removal of the full notebook cells\n",
              "var notebookContainer = gd.closest('#notebook-container');\n",
              "if (notebookContainer) {{\n",
              "    x.observe(notebookContainer, {childList: true});\n",
              "}}\n",
              "\n",
              "// Listen for the clearing of the current output cell\n",
              "var outputEl = gd.closest('.output');\n",
              "if (outputEl) {{\n",
              "    x.observe(outputEl, {childList: true});\n",
              "}}\n",
              "\n",
              "                        })                };                            </script>        </div>\n",
              "</body>\n",
              "</html>"
            ]
          },
          "metadata": {}
        }
      ]
    },
    {
      "cell_type": "code",
      "source": [
        "print(data.rating.value_counts(normalize=True)*100)"
      ],
      "metadata": {
        "colab": {
          "base_uri": "https://localhost:8080/"
        },
        "id": "YKc5J5_kzGSM",
        "outputId": "83e02d25-830f-47c1-a8bc-a6d5919092ea"
      },
      "execution_count": null,
      "outputs": [
        {
          "output_type": "stream",
          "name": "stdout",
          "text": [
            "bad        50.876168\n",
            "good       28.358645\n",
            "average    20.765187\n",
            "Name: rating, dtype: float64\n"
          ]
        }
      ]
    },
    {
      "cell_type": "code",
      "source": [
        "data.recommended.value_counts(normalize=True)*100"
      ],
      "metadata": {
        "colab": {
          "base_uri": "https://localhost:8080/"
        },
        "id": "Rq1JMFjAOiYC",
        "outputId": "76a00814-88e9-4ccf-d4ee-2720df19670f"
      },
      "execution_count": null,
      "outputs": [
        {
          "output_type": "execute_result",
          "data": {
            "text/plain": [
              "no     57.856308\n",
              "yes    42.143692\n",
              "Name: recommended, dtype: float64"
            ]
          },
          "metadata": {},
          "execution_count": 274
        }
      ]
    },
    {
      "cell_type": "markdown",
      "source": [
        "### first finding:\n",
        "\n",
        "The number of bad reviews with a **(rating <= 4)** rpresents more than 50%. (50.88%) of the dataset!\n",
        "\n",
        "BASED ON THEIR REVIEWS, MORE THAN HALF OF THE CUSTOMERS IN HANDS ARE NOT SATISFIED AT ALL!\n",
        "\n",
        "And 57% of the customers would not recommend Britsh Airways!\n",
        "\n",
        "**This call for change!**"
      ],
      "metadata": {
        "id": "jEL1fwZCqRFz"
      }
    },
    {
      "cell_type": "code",
      "source": [],
      "metadata": {
        "id": "8S74NX_ozhz7"
      },
      "execution_count": null,
      "outputs": []
    },
    {
      "cell_type": "code",
      "source": [],
      "metadata": {
        "id": "LPpv8Gqozh2w"
      },
      "execution_count": null,
      "outputs": []
    },
    {
      "cell_type": "markdown",
      "source": [
        "## FOCUSING ON THE UNSATISFIED CUSTOMERS! what shoud we change?\n",
        "\n",
        "1.   Exploring their travel classs\n",
        "2.   Exploring their travel periodes\n",
        "3.   Exploring their travel routes\n",
        "4.   Maybe it's the aircraft ?\n",
        "\n"
      ],
      "metadata": {
        "id": "m02tB5wOuGF2"
      }
    },
    {
      "cell_type": "markdown",
      "source": [
        "#### FINDINGS:\n",
        "1. majority of the unsatisfied reviews are from the Economy class 988 reviews representing 56% of the bad reviews. "
      ],
      "metadata": {
        "id": "XQAVdn8AKTRb"
      }
    },
    {
      "cell_type": "markdown",
      "source": [
        "### 1.   Exploring their travel classs"
      ],
      "metadata": {
        "id": "I9LdzZYJHfbQ"
      }
    },
    {
      "cell_type": "code",
      "source": [
        "# first and before we start analysing results let's see if the \"Trave_class\" feature is balanced or not.\n",
        "data.travel_class.value_counts(normalize=True)*100"
      ],
      "metadata": {
        "colab": {
          "base_uri": "https://localhost:8080/"
        },
        "id": "UiI_Re2-K54J",
        "outputId": "f1ce96d0-ec62-45c1-8639-2d93e8a8cf5e"
      },
      "execution_count": null,
      "outputs": [
        {
          "output_type": "execute_result",
          "data": {
            "text/plain": [
              "Economy Class      51.198130\n",
              "Business Class     33.080070\n",
              "Premium Economy     9.877265\n",
              "First Class         5.844535\n",
              "Name: travel_class, dtype: float64"
            ]
          },
          "metadata": {},
          "execution_count": 273
        }
      ]
    },
    {
      "cell_type": "code",
      "source": [
        "# let's dive deeper and explore what type of travel_class are these unsatisfied customers book the most.\n",
        "bad_review_data = data[data['rating'] == \"bad\"]"
      ],
      "metadata": {
        "id": "nlZnN4b70G42"
      },
      "execution_count": null,
      "outputs": []
    },
    {
      "cell_type": "code",
      "source": [
        "bad_review_data.travel_class.value_counts()"
      ],
      "metadata": {
        "colab": {
          "base_uri": "https://localhost:8080/"
        },
        "id": "C61E3hXZKiRi",
        "outputId": "f2501ea6-7241-4bbf-e312-cc6f49b37f17"
      },
      "execution_count": null,
      "outputs": [
        {
          "output_type": "execute_result",
          "data": {
            "text/plain": [
              "Economy Class      988\n",
              "Business Class     509\n",
              "Premium Economy    164\n",
              "First Class         79\n",
              "Name: travel_class, dtype: int64"
            ]
          },
          "metadata": {},
          "execution_count": 23
        }
      ]
    },
    {
      "cell_type": "code",
      "source": [
        "bad_review_data.travel_class.value_counts(normalize=True)"
      ],
      "metadata": {
        "id": "kJ2wL2Exlm9h",
        "colab": {
          "base_uri": "https://localhost:8080/"
        },
        "outputId": "b04c64dd-d00c-410b-dcdc-4fc9b06f500b"
      },
      "execution_count": null,
      "outputs": [
        {
          "output_type": "execute_result",
          "data": {
            "text/plain": [
              "Economy Class      0.567816\n",
              "Business Class     0.292529\n",
              "Premium Economy    0.094253\n",
              "First Class        0.045402\n",
              "Name: travel_class, dtype: float64"
            ]
          },
          "metadata": {},
          "execution_count": 24
        }
      ]
    },
    {
      "cell_type": "code",
      "source": [
        "plt.figure(figsize=(7,7))\n",
        "sns.countplot(bad_review_data['travel_class'])"
      ],
      "metadata": {
        "colab": {
          "base_uri": "https://localhost:8080/",
          "height": 550
        },
        "id": "HiZ6g6WZIKI_",
        "outputId": "2b22e24f-8327-4138-a3f4-2c8e4cbd5e4e"
      },
      "execution_count": null,
      "outputs": [
        {
          "output_type": "stream",
          "name": "stderr",
          "text": [
            "/usr/local/lib/python3.8/dist-packages/seaborn/_decorators.py:36: FutureWarning:\n",
            "\n",
            "Pass the following variable as a keyword arg: x. From version 0.12, the only valid positional argument will be `data`, and passing other arguments without an explicit keyword will result in an error or misinterpretation.\n",
            "\n"
          ]
        },
        {
          "output_type": "execute_result",
          "data": {
            "text/plain": [
              "<matplotlib.axes._subplots.AxesSubplot at 0x7f85e58a4df0>"
            ]
          },
          "metadata": {},
          "execution_count": 25
        },
        {
          "output_type": "display_data",
          "data": {
            "text/plain": [
              "<Figure size 504x504 with 1 Axes>"
            ],
            "image/png": "[encoded data removed]"
          },
          "metadata": {
            "needs_background": "light"
          }
        }
      ]
    },
    {
      "cell_type": "markdown",
      "source": [
        "This is not very representative! the economy class has the majority of the reviews. so lets se the percentage in the lass it self."
      ],
      "metadata": {
        "id": "C5kvQL59ML2X"
      }
    },
    {
      "cell_type": "code",
      "source": [
        "#Exploring the the percentage of unsatisfied customers by travel_class:\n",
        "\n",
        "Economy_Class_p= (988/1752)*100\n",
        "Business_Class_p= (509/1132)*100\n",
        "Premium_Economy_p= (164/338)*100\n",
        "First_Class_p= (79/200)*100\n",
        "\n",
        "print(\"%.2f\" % Economy_Class_p ,'% of the Total Economy Class customers are unsatisfied')\n",
        "print(\"%.2f\" % Business_Class_p ,'% of the Total Business Class customers are unsatisfied')\n",
        "print(\"%.2f\" % Premium_Economy_p ,'% of the Total Premium Economy customers are unsatisfied')\n",
        "print(\"%.2f\" % First_Class_p ,'% of the Total First Class customers are unsatisfied')"
      ],
      "metadata": {
        "colab": {
          "base_uri": "https://localhost:8080/"
        },
        "id": "WUGWlIFrMRZc",
        "outputId": "bd800369-91e1-4ca5-e91b-962c4eb56736"
      },
      "execution_count": null,
      "outputs": [
        {
          "output_type": "stream",
          "name": "stdout",
          "text": [
            "56.39 % of the Total Economy Class customers are unsatisfied\n",
            "44.96 % of the Total Business Class customers are unsatisfied\n",
            "48.52 % of the Total Premium Economy customers are unsatisfied\n",
            "39.50 % of the Total First Class customers are unsatisfied\n"
          ]
        }
      ]
    },
    {
      "cell_type": "code",
      "source": [],
      "metadata": {
        "id": "jH8pWgVOuoEe"
      },
      "execution_count": null,
      "outputs": []
    },
    {
      "cell_type": "markdown",
      "source": [
        "### second finding:\n",
        "\n",
        "the economy class customers tend to give bad reviews than other customers.\n",
        "\n",
        "56.39 % of the Total Economy Class customers are unsatisfied.\n",
        "\n",
        "in the other hand only 39.50 % of the Total First Class customers are unsatisfied."
      ],
      "metadata": {
        "id": "5j7MohzIMkE0"
      }
    },
    {
      "cell_type": "markdown",
      "source": [
        "### 2. Exploring their travel periodes"
      ],
      "metadata": {
        "id": "ceePOAXsKM0W"
      }
    },
    {
      "cell_type": "code",
      "source": [
        "len(data.date.value_counts())"
      ],
      "metadata": {
        "colab": {
          "base_uri": "https://localhost:8080/"
        },
        "id": "zB3-D2yUKL7Z",
        "outputId": "93ce1f58-aa7a-40e9-8af2-bc724f3ac234"
      },
      "execution_count": null,
      "outputs": [
        {
          "output_type": "execute_result",
          "data": {
            "text/plain": [
              "102"
            ]
          },
          "metadata": {},
          "execution_count": 27
        }
      ]
    },
    {
      "cell_type": "markdown",
      "source": [
        "**Our reviews are separated on 102 different dates, in order to have a better understanding of the data, we will groupe them by the months:**\n",
        "\n"
      ],
      "metadata": {
        "id": "8f-SvfSdXFlb"
      }
    },
    {
      "cell_type": "code",
      "source": [
        "# change the the format to date-time\n",
        "data['date'] = pd.to_datetime(data['date'])"
      ],
      "metadata": {
        "id": "0UMP9asJeHB5"
      },
      "execution_count": null,
      "outputs": []
    },
    {
      "cell_type": "code",
      "source": [
        "# adding a new column to the main dataframe\n",
        "data['month'] = pd.DatetimeIndex(data['date']).month\n",
        "data['year'] = pd.DatetimeIndex(data['date']).year\n",
        "\n",
        "data['month'] = data['month'].astype('Int64')\n",
        "data['year'] = data['year'].astype('Int64')\n",
        "\n",
        "data.head()"
      ],
      "metadata": {
        "colab": {
          "base_uri": "https://localhost:8080/",
          "height": 565
        },
        "id": "axoYXFbIeT_p",
        "outputId": "859f1eee-0596-42f3-fbfe-ae1a1892cc28"
      },
      "execution_count": null,
      "outputs": [
        {
          "output_type": "execute_result",
          "data": {
            "text/plain": [
              "             status        aircraft     travel_type    travel_class  \\\n",
              "0  ✅ Trip Verified   Boeing 777-200  Family Leisure   Economy Class   \n",
              "1     Not Verified             A380  Family Leisure   Economy Class   \n",
              "2     Not Verified              NaN  Family Leisure   Economy Class   \n",
              "3  ✅ Trip Verified       A320, A380  Family Leisure  Business Class   \n",
              "4  ✅ Trip Verified              NaN        Business  Business Class   \n",
              "\n",
              "                                       route       date  seating_comfort  \\\n",
              "0                          Atlanta to London 2023-01-01                1   \n",
              "1                          London to Chicago 2022-12-01                3   \n",
              "2         Istanbul to Vancouver via Heathrow 2023-01-01                1   \n",
              "3  Vienna to Los Angeles via London Heathrow 2023-01-01                1   \n",
              "4                    London to San francisco 2023-01-01                2   \n",
              "\n",
              "   staff_service  food_quality  entertainment  wifi  ground_service  \\\n",
              "0              1             1              3  <NA>               1   \n",
              "1              2             3              4  <NA>               3   \n",
              "2              5             1              1  <NA>               1   \n",
              "3              2             1              1     1               1   \n",
              "4              5             2              1     1               2   \n",
              "\n",
              "   value_for_money recommended  overall_rating  \\\n",
              "0                2          no               4   \n",
              "1                2          no               5   \n",
              "2                1          no               1   \n",
              "3                1          no               1   \n",
              "4                1          no               2   \n",
              "\n",
              "                                              review   rating  month  year  \n",
              "0    Flew ATL to LHR 8th Jan 2023. Was unlucky en...      bad      1  2023  \n",
              "1    Great thing about British Airways A380 is th...  average     12  2022  \n",
              "2   The staff are friendly. The plane was cold, w...      bad      1  2023  \n",
              "3   Probably the worst business class experience ...      bad      1  2023  \n",
              "4   Definitely not recommended, especially for bu...      bad      1  2023  "
            ],
            "text/html": [
              "\n",
              "  <div id=\"df-7dbdca41-449d-4686-96ed-20f3c31c996f\">\n",
              "    <div class=\"colab-df-container\">\n",
              "      <div>\n",
              "<style scoped>\n",
              "    .dataframe tbody tr th:only-of-type {\n",
              "        vertical-align: middle;\n",
              "    }\n",
              "\n",
              "    .dataframe tbody tr th {\n",
              "        vertical-align: top;\n",
              "    }\n",
              "\n",
              "    .dataframe thead th {\n",
              "        text-align: right;\n",
              "    }\n",
              "</style>\n",
              "<table border=\"1\" class=\"dataframe\">\n",
              "  <thead>\n",
              "    <tr style=\"text-align: right;\">\n",
              "      <th></th>\n",
              "      <th>status</th>\n",
              "      <th>aircraft</th>\n",
              "      <th>travel_type</th>\n",
              "      <th>travel_class</th>\n",
              "      <th>route</th>\n",
              "      <th>date</th>\n",
              "      <th>seating_comfort</th>\n",
              "      <th>staff_service</th>\n",
              "      <th>food_quality</th>\n",
              "      <th>entertainment</th>\n",
              "      <th>wifi</th>\n",
              "      <th>ground_service</th>\n",
              "      <th>value_for_money</th>\n",
              "      <th>recommended</th>\n",
              "      <th>overall_rating</th>\n",
              "      <th>review</th>\n",
              "      <th>rating</th>\n",
              "      <th>month</th>\n",
              "      <th>year</th>\n",
              "    </tr>\n",
              "  </thead>\n",
              "  <tbody>\n",
              "    <tr>\n",
              "      <th>0</th>\n",
              "      <td>✅ Trip Verified</td>\n",
              "      <td>Boeing 777-200</td>\n",
              "      <td>Family Leisure</td>\n",
              "      <td>Economy Class</td>\n",
              "      <td>Atlanta to London</td>\n",
              "      <td>2023-01-01</td>\n",
              "      <td>1</td>\n",
              "      <td>1</td>\n",
              "      <td>1</td>\n",
              "      <td>3</td>\n",
              "      <td>&lt;NA&gt;</td>\n",
              "      <td>1</td>\n",
              "      <td>2</td>\n",
              "      <td>no</td>\n",
              "      <td>4</td>\n",
              "      <td>Flew ATL to LHR 8th Jan 2023. Was unlucky en...</td>\n",
              "      <td>bad</td>\n",
              "      <td>1</td>\n",
              "      <td>2023</td>\n",
              "    </tr>\n",
              "    <tr>\n",
              "      <th>1</th>\n",
              "      <td>Not Verified</td>\n",
              "      <td>A380</td>\n",
              "      <td>Family Leisure</td>\n",
              "      <td>Economy Class</td>\n",
              "      <td>London to Chicago</td>\n",
              "      <td>2022-12-01</td>\n",
              "      <td>3</td>\n",
              "      <td>2</td>\n",
              "      <td>3</td>\n",
              "      <td>4</td>\n",
              "      <td>&lt;NA&gt;</td>\n",
              "      <td>3</td>\n",
              "      <td>2</td>\n",
              "      <td>no</td>\n",
              "      <td>5</td>\n",
              "      <td>Great thing about British Airways A380 is th...</td>\n",
              "      <td>average</td>\n",
              "      <td>12</td>\n",
              "      <td>2022</td>\n",
              "    </tr>\n",
              "    <tr>\n",
              "      <th>2</th>\n",
              "      <td>Not Verified</td>\n",
              "      <td>NaN</td>\n",
              "      <td>Family Leisure</td>\n",
              "      <td>Economy Class</td>\n",
              "      <td>Istanbul to Vancouver via Heathrow</td>\n",
              "      <td>2023-01-01</td>\n",
              "      <td>1</td>\n",
              "      <td>5</td>\n",
              "      <td>1</td>\n",
              "      <td>1</td>\n",
              "      <td>&lt;NA&gt;</td>\n",
              "      <td>1</td>\n",
              "      <td>1</td>\n",
              "      <td>no</td>\n",
              "      <td>1</td>\n",
              "      <td>The staff are friendly. The plane was cold, w...</td>\n",
              "      <td>bad</td>\n",
              "      <td>1</td>\n",
              "      <td>2023</td>\n",
              "    </tr>\n",
              "    <tr>\n",
              "      <th>3</th>\n",
              "      <td>✅ Trip Verified</td>\n",
              "      <td>A320, A380</td>\n",
              "      <td>Family Leisure</td>\n",
              "      <td>Business Class</td>\n",
              "      <td>Vienna to Los Angeles via London Heathrow</td>\n",
              "      <td>2023-01-01</td>\n",
              "      <td>1</td>\n",
              "      <td>2</td>\n",
              "      <td>1</td>\n",
              "      <td>1</td>\n",
              "      <td>1</td>\n",
              "      <td>1</td>\n",
              "      <td>1</td>\n",
              "      <td>no</td>\n",
              "      <td>1</td>\n",
              "      <td>Probably the worst business class experience ...</td>\n",
              "      <td>bad</td>\n",
              "      <td>1</td>\n",
              "      <td>2023</td>\n",
              "    </tr>\n",
              "    <tr>\n",
              "      <th>4</th>\n",
              "      <td>✅ Trip Verified</td>\n",
              "      <td>NaN</td>\n",
              "      <td>Business</td>\n",
              "      <td>Business Class</td>\n",
              "      <td>London to San francisco</td>\n",
              "      <td>2023-01-01</td>\n",
              "      <td>2</td>\n",
              "      <td>5</td>\n",
              "      <td>2</td>\n",
              "      <td>1</td>\n",
              "      <td>1</td>\n",
              "      <td>2</td>\n",
              "      <td>1</td>\n",
              "      <td>no</td>\n",
              "      <td>2</td>\n",
              "      <td>Definitely not recommended, especially for bu...</td>\n",
              "      <td>bad</td>\n",
              "      <td>1</td>\n",
              "      <td>2023</td>\n",
              "    </tr>\n",
              "  </tbody>\n",
              "</table>\n",
              "</div>\n",
              "      <button class=\"colab-df-convert\" onclick=\"convertToInteractive('df-7dbdca41-449d-4686-96ed-20f3c31c996f')\"\n",
              "              title=\"Convert this dataframe to an interactive table.\"\n",
              "              style=\"display:none;\">\n",
              "        \n",
              "  <svg xmlns=\"http://www.w3.org/2000/svg\" height=\"24px\"viewBox=\"0 0 24 24\"\n",
              "       width=\"24px\">\n",
              "    <path d=\"M0 0h24v24H0V0z\" fill=\"none\"/>\n",
              "    <path d=\"M18.56 5.44l.94 2.06.94-2.06 2.06-.94-2.06-.94-.94-2.06-.94 2.06-2.06.94zm-11 1L8.5 8.5l.94-2.06 2.06-.94-2.06-.94L8.5 2.5l-.94 2.06-2.06.94zm10 10l.94 2.06.94-2.06 2.06-.94-2.06-.94-.94-2.06-.94 2.06-2.06.94z\"/><path d=\"M17.41 7.96l-1.37-1.37c-.4-.4-.92-.59-1.43-.59-.52 0-1.04.2-1.43.59L10.3 9.45l-7.72 7.72c-.78.78-.78 2.05 0 2.83L4 21.41c.39.39.9.59 1.41.59.51 0 1.02-.2 1.41-.59l7.78-7.78 2.81-2.81c.8-.78.8-2.07 0-2.86zM5.41 20L4 18.59l7.72-7.72 1.47 1.35L5.41 20z\"/>\n",
              "  </svg>\n",
              "      </button>\n",
              "      \n",
              "  <style>\n",
              "    .colab-df-container {\n",
              "      display:flex;\n",
              "      flex-wrap:wrap;\n",
              "      gap: 12px;\n",
              "    }\n",
              "\n",
              "    .colab-df-convert {\n",
              "      background-color: #E8F0FE;\n",
              "      border: none;\n",
              "      border-radius: 50%;\n",
              "      cursor: pointer;\n",
              "      display: none;\n",
              "      fill: #1967D2;\n",
              "      height: 32px;\n",
              "      padding: 0 0 0 0;\n",
              "      width: 32px;\n",
              "    }\n",
              "\n",
              "    .colab-df-convert:hover {\n",
              "      background-color: #E2EBFA;\n",
              "      box-shadow: 0px 1px 2px rgba(60, 64, 67, 0.3), 0px 1px 3px 1px rgba(60, 64, 67, 0.15);\n",
              "      fill: #174EA6;\n",
              "    }\n",
              "\n",
              "    [theme=dark] .colab-df-convert {\n",
              "      background-color: #3B4455;\n",
              "      fill: #D2E3FC;\n",
              "    }\n",
              "\n",
              "    [theme=dark] .colab-df-convert:hover {\n",
              "      background-color: #434B5C;\n",
              "      box-shadow: 0px 1px 3px 1px rgba(0, 0, 0, 0.15);\n",
              "      filter: drop-shadow(0px 1px 2px rgba(0, 0, 0, 0.3));\n",
              "      fill: #FFFFFF;\n",
              "    }\n",
              "  </style>\n",
              "\n",
              "      <script>\n",
              "        const buttonEl =\n",
              "          document.querySelector('#df-7dbdca41-449d-4686-96ed-20f3c31c996f button.colab-df-convert');\n",
              "        buttonEl.style.display =\n",
              "          google.colab.kernel.accessAllowed ? 'block' : 'none';\n",
              "\n",
              "        async function convertToInteractive(key) {\n",
              "          const element = document.querySelector('#df-7dbdca41-449d-4686-96ed-20f3c31c996f');\n",
              "          const dataTable =\n",
              "            await google.colab.kernel.invokeFunction('convertToInteractive',\n",
              "                                                     [key], {});\n",
              "          if (!dataTable) return;\n",
              "\n",
              "          const docLinkHtml = 'Like what you see? Visit the ' +\n",
              "            '<a target=\"_blank\" href=https://colab.research.google.com/notebooks/data_table.ipynb>data table notebook</a>'\n",
              "            + ' to learn more about interactive tables.';\n",
              "          element.innerHTML = '';\n",
              "          dataTable['output_type'] = 'display_data';\n",
              "          await google.colab.output.renderOutput(dataTable, element);\n",
              "          const docLink = document.createElement('div');\n",
              "          docLink.innerHTML = docLinkHtml;\n",
              "          element.appendChild(docLink);\n",
              "        }\n",
              "      </script>\n",
              "    </div>\n",
              "  </div>\n",
              "  "
            ]
          },
          "metadata": {},
          "execution_count": 29
        }
      ]
    },
    {
      "cell_type": "code",
      "source": [
        "# create a new dataframe for all customers by date and then we drop Nan Value and we convert each month by name using calendar library\n",
        "import calendar\n",
        "\n",
        "data_date = data\n",
        "data_date = data_date.dropna(subset=['month'])\n",
        "\n",
        "data_date['month'] = data_date['month'].apply(lambda x: calendar.month_abbr[x])\n",
        "data_date.head()"
      ],
      "metadata": {
        "colab": {
          "base_uri": "https://localhost:8080/",
          "height": 704
        },
        "id": "B2SZeqVmngaX",
        "outputId": "c047f7a5-26ed-4859-c6fc-54fd65563e4a"
      },
      "execution_count": null,
      "outputs": [
        {
          "output_type": "stream",
          "name": "stderr",
          "text": [
            "<ipython-input-30-76af86ade9a0>:7: SettingWithCopyWarning:\n",
            "\n",
            "\n",
            "A value is trying to be set on a copy of a slice from a DataFrame.\n",
            "Try using .loc[row_indexer,col_indexer] = value instead\n",
            "\n",
            "See the caveats in the documentation: https://pandas.pydata.org/pandas-docs/stable/user_guide/indexing.html#returning-a-view-versus-a-copy\n",
            "\n"
          ]
        },
        {
          "output_type": "execute_result",
          "data": {
            "text/plain": [
              "             status        aircraft     travel_type    travel_class  \\\n",
              "0  ✅ Trip Verified   Boeing 777-200  Family Leisure   Economy Class   \n",
              "1     Not Verified             A380  Family Leisure   Economy Class   \n",
              "2     Not Verified              NaN  Family Leisure   Economy Class   \n",
              "3  ✅ Trip Verified       A320, A380  Family Leisure  Business Class   \n",
              "4  ✅ Trip Verified              NaN        Business  Business Class   \n",
              "\n",
              "                                       route       date  seating_comfort  \\\n",
              "0                          Atlanta to London 2023-01-01                1   \n",
              "1                          London to Chicago 2022-12-01                3   \n",
              "2         Istanbul to Vancouver via Heathrow 2023-01-01                1   \n",
              "3  Vienna to Los Angeles via London Heathrow 2023-01-01                1   \n",
              "4                    London to San francisco 2023-01-01                2   \n",
              "\n",
              "   staff_service  food_quality  entertainment  wifi  ground_service  \\\n",
              "0              1             1              3  <NA>               1   \n",
              "1              2             3              4  <NA>               3   \n",
              "2              5             1              1  <NA>               1   \n",
              "3              2             1              1     1               1   \n",
              "4              5             2              1     1               2   \n",
              "\n",
              "   value_for_money recommended  overall_rating  \\\n",
              "0                2          no               4   \n",
              "1                2          no               5   \n",
              "2                1          no               1   \n",
              "3                1          no               1   \n",
              "4                1          no               2   \n",
              "\n",
              "                                              review   rating month  year  \n",
              "0    Flew ATL to LHR 8th Jan 2023. Was unlucky en...      bad   Jan  2023  \n",
              "1    Great thing about British Airways A380 is th...  average   Dec  2022  \n",
              "2   The staff are friendly. The plane was cold, w...      bad   Jan  2023  \n",
              "3   Probably the worst business class experience ...      bad   Jan  2023  \n",
              "4   Definitely not recommended, especially for bu...      bad   Jan  2023  "
            ],
            "text/html": [
              "\n",
              "  <div id=\"df-b6dce01f-f17c-443e-8195-f19d48f2cb08\">\n",
              "    <div class=\"colab-df-container\">\n",
              "      <div>\n",
              "<style scoped>\n",
              "    .dataframe tbody tr th:only-of-type {\n",
              "        vertical-align: middle;\n",
              "    }\n",
              "\n",
              "    .dataframe tbody tr th {\n",
              "        vertical-align: top;\n",
              "    }\n",
              "\n",
              "    .dataframe thead th {\n",
              "        text-align: right;\n",
              "    }\n",
              "</style>\n",
              "<table border=\"1\" class=\"dataframe\">\n",
              "  <thead>\n",
              "    <tr style=\"text-align: right;\">\n",
              "      <th></th>\n",
              "      <th>status</th>\n",
              "      <th>aircraft</th>\n",
              "      <th>travel_type</th>\n",
              "      <th>travel_class</th>\n",
              "      <th>route</th>\n",
              "      <th>date</th>\n",
              "      <th>seating_comfort</th>\n",
              "      <th>staff_service</th>\n",
              "      <th>food_quality</th>\n",
              "      <th>entertainment</th>\n",
              "      <th>wifi</th>\n",
              "      <th>ground_service</th>\n",
              "      <th>value_for_money</th>\n",
              "      <th>recommended</th>\n",
              "      <th>overall_rating</th>\n",
              "      <th>review</th>\n",
              "      <th>rating</th>\n",
              "      <th>month</th>\n",
              "      <th>year</th>\n",
              "    </tr>\n",
              "  </thead>\n",
              "  <tbody>\n",
              "    <tr>\n",
              "      <th>0</th>\n",
              "      <td>✅ Trip Verified</td>\n",
              "      <td>Boeing 777-200</td>\n",
              "      <td>Family Leisure</td>\n",
              "      <td>Economy Class</td>\n",
              "      <td>Atlanta to London</td>\n",
              "      <td>2023-01-01</td>\n",
              "      <td>1</td>\n",
              "      <td>1</td>\n",
              "      <td>1</td>\n",
              "      <td>3</td>\n",
              "      <td>&lt;NA&gt;</td>\n",
              "      <td>1</td>\n",
              "      <td>2</td>\n",
              "      <td>no</td>\n",
              "      <td>4</td>\n",
              "      <td>Flew ATL to LHR 8th Jan 2023. Was unlucky en...</td>\n",
              "      <td>bad</td>\n",
              "      <td>Jan</td>\n",
              "      <td>2023</td>\n",
              "    </tr>\n",
              "    <tr>\n",
              "      <th>1</th>\n",
              "      <td>Not Verified</td>\n",
              "      <td>A380</td>\n",
              "      <td>Family Leisure</td>\n",
              "      <td>Economy Class</td>\n",
              "      <td>London to Chicago</td>\n",
              "      <td>2022-12-01</td>\n",
              "      <td>3</td>\n",
              "      <td>2</td>\n",
              "      <td>3</td>\n",
              "      <td>4</td>\n",
              "      <td>&lt;NA&gt;</td>\n",
              "      <td>3</td>\n",
              "      <td>2</td>\n",
              "      <td>no</td>\n",
              "      <td>5</td>\n",
              "      <td>Great thing about British Airways A380 is th...</td>\n",
              "      <td>average</td>\n",
              "      <td>Dec</td>\n",
              "      <td>2022</td>\n",
              "    </tr>\n",
              "    <tr>\n",
              "      <th>2</th>\n",
              "      <td>Not Verified</td>\n",
              "      <td>NaN</td>\n",
              "      <td>Family Leisure</td>\n",
              "      <td>Economy Class</td>\n",
              "      <td>Istanbul to Vancouver via Heathrow</td>\n",
              "      <td>2023-01-01</td>\n",
              "      <td>1</td>\n",
              "      <td>5</td>\n",
              "      <td>1</td>\n",
              "      <td>1</td>\n",
              "      <td>&lt;NA&gt;</td>\n",
              "      <td>1</td>\n",
              "      <td>1</td>\n",
              "      <td>no</td>\n",
              "      <td>1</td>\n",
              "      <td>The staff are friendly. The plane was cold, w...</td>\n",
              "      <td>bad</td>\n",
              "      <td>Jan</td>\n",
              "      <td>2023</td>\n",
              "    </tr>\n",
              "    <tr>\n",
              "      <th>3</th>\n",
              "      <td>✅ Trip Verified</td>\n",
              "      <td>A320, A380</td>\n",
              "      <td>Family Leisure</td>\n",
              "      <td>Business Class</td>\n",
              "      <td>Vienna to Los Angeles via London Heathrow</td>\n",
              "      <td>2023-01-01</td>\n",
              "      <td>1</td>\n",
              "      <td>2</td>\n",
              "      <td>1</td>\n",
              "      <td>1</td>\n",
              "      <td>1</td>\n",
              "      <td>1</td>\n",
              "      <td>1</td>\n",
              "      <td>no</td>\n",
              "      <td>1</td>\n",
              "      <td>Probably the worst business class experience ...</td>\n",
              "      <td>bad</td>\n",
              "      <td>Jan</td>\n",
              "      <td>2023</td>\n",
              "    </tr>\n",
              "    <tr>\n",
              "      <th>4</th>\n",
              "      <td>✅ Trip Verified</td>\n",
              "      <td>NaN</td>\n",
              "      <td>Business</td>\n",
              "      <td>Business Class</td>\n",
              "      <td>London to San francisco</td>\n",
              "      <td>2023-01-01</td>\n",
              "      <td>2</td>\n",
              "      <td>5</td>\n",
              "      <td>2</td>\n",
              "      <td>1</td>\n",
              "      <td>1</td>\n",
              "      <td>2</td>\n",
              "      <td>1</td>\n",
              "      <td>no</td>\n",
              "      <td>2</td>\n",
              "      <td>Definitely not recommended, especially for bu...</td>\n",
              "      <td>bad</td>\n",
              "      <td>Jan</td>\n",
              "      <td>2023</td>\n",
              "    </tr>\n",
              "  </tbody>\n",
              "</table>\n",
              "</div>\n",
              "      <button class=\"colab-df-convert\" onclick=\"convertToInteractive('df-b6dce01f-f17c-443e-8195-f19d48f2cb08')\"\n",
              "              title=\"Convert this dataframe to an interactive table.\"\n",
              "              style=\"display:none;\">\n",
              "        \n",
              "  <svg xmlns=\"http://www.w3.org/2000/svg\" height=\"24px\"viewBox=\"0 0 24 24\"\n",
              "       width=\"24px\">\n",
              "    <path d=\"M0 0h24v24H0V0z\" fill=\"none\"/>\n",
              "    <path d=\"M18.56 5.44l.94 2.06.94-2.06 2.06-.94-2.06-.94-.94-2.06-.94 2.06-2.06.94zm-11 1L8.5 8.5l.94-2.06 2.06-.94-2.06-.94L8.5 2.5l-.94 2.06-2.06.94zm10 10l.94 2.06.94-2.06 2.06-.94-2.06-.94-.94-2.06-.94 2.06-2.06.94z\"/><path d=\"M17.41 7.96l-1.37-1.37c-.4-.4-.92-.59-1.43-.59-.52 0-1.04.2-1.43.59L10.3 9.45l-7.72 7.72c-.78.78-.78 2.05 0 2.83L4 21.41c.39.39.9.59 1.41.59.51 0 1.02-.2 1.41-.59l7.78-7.78 2.81-2.81c.8-.78.8-2.07 0-2.86zM5.41 20L4 18.59l7.72-7.72 1.47 1.35L5.41 20z\"/>\n",
              "  </svg>\n",
              "      </button>\n",
              "      \n",
              "  <style>\n",
              "    .colab-df-container {\n",
              "      display:flex;\n",
              "      flex-wrap:wrap;\n",
              "      gap: 12px;\n",
              "    }\n",
              "\n",
              "    .colab-df-convert {\n",
              "      background-color: #E8F0FE;\n",
              "      border: none;\n",
              "      border-radius: 50%;\n",
              "      cursor: pointer;\n",
              "      display: none;\n",
              "      fill: #1967D2;\n",
              "      height: 32px;\n",
              "      padding: 0 0 0 0;\n",
              "      width: 32px;\n",
              "    }\n",
              "\n",
              "    .colab-df-convert:hover {\n",
              "      background-color: #E2EBFA;\n",
              "      box-shadow: 0px 1px 2px rgba(60, 64, 67, 0.3), 0px 1px 3px 1px rgba(60, 64, 67, 0.15);\n",
              "      fill: #174EA6;\n",
              "    }\n",
              "\n",
              "    [theme=dark] .colab-df-convert {\n",
              "      background-color: #3B4455;\n",
              "      fill: #D2E3FC;\n",
              "    }\n",
              "\n",
              "    [theme=dark] .colab-df-convert:hover {\n",
              "      background-color: #434B5C;\n",
              "      box-shadow: 0px 1px 3px 1px rgba(0, 0, 0, 0.15);\n",
              "      filter: drop-shadow(0px 1px 2px rgba(0, 0, 0, 0.3));\n",
              "      fill: #FFFFFF;\n",
              "    }\n",
              "  </style>\n",
              "\n",
              "      <script>\n",
              "        const buttonEl =\n",
              "          document.querySelector('#df-b6dce01f-f17c-443e-8195-f19d48f2cb08 button.colab-df-convert');\n",
              "        buttonEl.style.display =\n",
              "          google.colab.kernel.accessAllowed ? 'block' : 'none';\n",
              "\n",
              "        async function convertToInteractive(key) {\n",
              "          const element = document.querySelector('#df-b6dce01f-f17c-443e-8195-f19d48f2cb08');\n",
              "          const dataTable =\n",
              "            await google.colab.kernel.invokeFunction('convertToInteractive',\n",
              "                                                     [key], {});\n",
              "          if (!dataTable) return;\n",
              "\n",
              "          const docLinkHtml = 'Like what you see? Visit the ' +\n",
              "            '<a target=\"_blank\" href=https://colab.research.google.com/notebooks/data_table.ipynb>data table notebook</a>'\n",
              "            + ' to learn more about interactive tables.';\n",
              "          element.innerHTML = '';\n",
              "          dataTable['output_type'] = 'display_data';\n",
              "          await google.colab.output.renderOutput(dataTable, element);\n",
              "          const docLink = document.createElement('div');\n",
              "          docLink.innerHTML = docLinkHtml;\n",
              "          element.appendChild(docLink);\n",
              "        }\n",
              "      </script>\n",
              "    </div>\n",
              "  </div>\n",
              "  "
            ]
          },
          "metadata": {},
          "execution_count": 30
        }
      ]
    },
    {
      "cell_type": "code",
      "source": [
        "df = data_date\n",
        "fig = px.histogram(df, x=\"month\", color=\"overall_rating\").update_xaxes(categoryorder='total descending')\n",
        "fig.show()"
      ],
      "metadata": {
        "colab": {
          "base_uri": "https://localhost:8080/",
          "height": 542
        },
        "id": "0_YbD_lwgIlo",
        "outputId": "f832eef7-df38-40a4-941e-f07c1720c07a"
      },
      "execution_count": null,
      "outputs": [
        {
          "output_type": "display_data",
          "data": {
            "text/html": [
              "<html>\n",
              "<head><meta charset=\"utf-8\" /></head>\n",
              "<body>\n",
              "    <div>            <script src=\"https://cdnjs.cloudflare.com/ajax/libs/mathjax/2.7.5/MathJax.js?config=TeX-AMS-MML_SVG\"></script><script type=\"text/javascript\">if (window.MathJax) {MathJax.Hub.Config({SVG: {font: \"STIX-Web\"}});}</script>                <script type=\"text/javascript\">window.PlotlyConfig = {MathJaxConfig: 'local'};</script>\n",
              "        <script src=\"https://cdn.plot.ly/plotly-2.8.3.min.js\"></script>                <div id=\"264bd30f-e249-4843-81f6-d115984bd4a9\" class=\"plotly-graph-div\" style=\"height:525px; width:100%;\"></div>            <script type=\"text/javascript\">                                    window.PLOTLYENV=window.PLOTLYENV || {};                                    if (document.getElementById(\"264bd30f-e249-4843-81f6-d115984bd4a9\")) {                    Plotly.newPlot(                        \"264bd30f-e249-4843-81f6-d115984bd4a9\",                        [{\"alignmentgroup\":\"True\",\"bingroup\":\"x\",\"hovertemplate\":\"overall_rating=4<br>month=%{x}<br>count=%{y}<extra></extra>\",\"legendgroup\":\"4\",\"marker\":{\"color\":\"#636efa\",\"pattern\":{\"shape\":\"\"}},\"name\":\"4\",\"offsetgroup\":\"4\",\"orientation\":\"v\",\"showlegend\":true,\"x\":[\"Jan\",\"Dec\",\"Dec\",\"Dec\",\"Nov\",\"Sep\",\"Aug\",\"Jul\",\"Jun\",\"Jun\",\"Jun\",\"Jun\",\"May\",\"Apr\",\"Mar\",\"Mar\",\"Mar\",\"Mar\",\"Nov\",\"Nov\",\"Jun\",\"Dec\",\"Jan\",\"Jul\",\"Feb\",\"Feb\",\"Dec\",\"Nov\",\"Nov\",\"Oct\",\"Sep\",\"Sep\",\"Sep\",\"Sep\",\"May\",\"May\",\"May\",\"May\",\"Apr\",\"Apr\",\"Nov\",\"Jan\",\"Dec\",\"Dec\",\"Nov\",\"Oct\",\"Oct\",\"Sep\",\"Sep\",\"Aug\",\"Jul\",\"Jun\",\"Jun\",\"Apr\",\"Jun\",\"Jun\",\"May\",\"May\",\"May\",\"Dec\",\"Apr\",\"Apr\",\"Apr\",\"Mar\",\"Feb\",\"Feb\",\"Jun\",\"Oct\",\"Oct\",\"Oct\",\"Sep\",\"Sep\",\"Sep\",\"Sep\",\"Aug\",\"Jul\",\"Jun\",\"Jun\",\"Jun\",\"May\",\"May\",\"Apr\",\"Apr\",\"Apr\",\"Jan\",\"Apr\",\"Mar\",\"Mar\",\"Mar\",\"Mar\",\"Feb\",\"Mar\",\"Feb\",\"Mar\",\"Feb\",\"Feb\",\"Feb\",\"Feb\",\"Feb\",\"Jan\",\"Sep\",\"Jan\",\"Dec\",\"Dec\",\"Dec\",\"Dec\",\"Nov\",\"Nov\",\"Nov\",\"Nov\",\"Nov\",\"Oct\",\"Oct\",\"Oct\",\"Oct\",\"Jun\",\"Sep\",\"Oct\",\"May\",\"Oct\",\"Sep\",\"Aug\",\"Aug\",\"Sep\",\"Sep\",\"Sep\",\"Sep\",\"Aug\",\"Aug\",\"Aug\",\"Aug\",\"Jul\",\"Jul\",\"Jun\",\"Jun\",\"May\",\"Jun\",\"May\",\"May\",\"May\",\"Apr\",\"Apr\",\"Apr\",\"Mar\",\"Nov\",\"Sep\",\"Mar\",\"Jan\",\"Jan\",\"Dec\",\"Dec\",\"Dec\",\"Oct\",\"Dec\",\"Oct\",\"Oct\",\"Nov\",\"Nov\",\"Oct\",\"Oct\",\"Sep\",\"Oct\",\"Oct\",\"Oct\",\"Apr\",\"Sep\",\"Dec\",\"Aug\",\"Sep\",\"Aug\",\"Sep\",\"Sep\",\"Sep\",\"Sep\",\"Aug\",\"Aug\",\"May\",\"Jul\",\"Jul\",\"Jul\",\"Jul\",\"Jul\",\"Jul\",\"Jul\",\"Nov\",\"May\"],\"xaxis\":\"x\",\"yaxis\":\"y\",\"type\":\"histogram\"},{\"alignmentgroup\":\"True\",\"bingroup\":\"x\",\"hovertemplate\":\"overall_rating=5<br>month=%{x}<br>count=%{y}<extra></extra>\",\"legendgroup\":\"5\",\"marker\":{\"color\":\"#EF553B\",\"pattern\":{\"shape\":\"\"}},\"name\":\"5\",\"offsetgroup\":\"5\",\"orientation\":\"v\",\"showlegend\":true,\"x\":[\"Dec\",\"Dec\",\"Nov\",\"Sep\",\"Jul\",\"May\",\"Jun\",\"Jun\",\"Mar\",\"Apr\",\"Mar\",\"Feb\",\"Feb\",\"Jan\",\"Nov\",\"Aug\",\"Apr\",\"Oct\",\"Jan\",\"Jan\",\"Dec\",\"Nov\",\"Nov\",\"Oct\",\"Oct\",\"Oct\",\"Aug\",\"Sep\",\"Sep\",\"Aug\",\"Jun\",\"Jul\",\"Jun\",\"Oct\",\"Apr\",\"May\",\"May\",\"Mar\",\"Apr\",\"Mar\",\"Feb\",\"Jun\",\"Dec\",\"Nov\",\"Oct\",\"Aug\",\"Aug\",\"Jul\",\"Jun\",\"Jun\",\"May\",\"May\",\"May\",\"Apr\",\"Apr\",\"Apr\",\"Mar\",\"Mar\",\"Jan\",\"Jan\",\"Jan\",\"Oct\",\"Sep\",\"Nov\",\"Nov\",\"Nov\",\"Oct\",\"Sep\",\"Oct\",\"Sep\",\"Aug\",\"Aug\",\"Jul\",\"Jul\",\"Jul\",\"Jul\",\"Jul\",\"Jul\",\"Jul\",\"Jun\",\"Jun\",\"Jun\",\"May\",\"Apr\",\"Apr\",\"Apr\",\"Apr\",\"Apr\",\"Mar\",\"Mar\",\"Feb\",\"Feb\",\"Mar\",\"Feb\",\"Feb\",\"Feb\",\"Jan\",\"Jan\",\"Jan\",\"Jan\",\"Dec\",\"Dec\",\"Nov\",\"Nov\",\"Nov\",\"Oct\",\"Oct\",\"Oct\",\"Oct\",\"Sep\",\"Sep\",\"Sep\",\"Sep\",\"Sep\",\"Aug\",\"Jul\",\"Aug\",\"Aug\",\"Jul\",\"Jul\",\"Jun\",\"Apr\",\"May\",\"May\",\"May\",\"Mar\",\"May\",\"May\",\"May\",\"May\",\"Apr\",\"Apr\",\"Apr\",\"Apr\",\"Mar\",\"Mar\",\"Mar\",\"Mar\",\"Feb\",\"Nov\",\"Dec\",\"Dec\",\"Oct\",\"Nov\",\"Nov\",\"Nov\",\"Nov\",\"Nov\",\"Oct\",\"Nov\",\"Oct\",\"Oct\",\"Mar\",\"Oct\",\"Oct\",\"Oct\",\"Sep\",\"Oct\",\"Sep\",\"Sep\",\"Sep\",\"Sep\",\"Sep\",\"Aug\",\"Aug\",\"Jul\",\"Jun\",\"Jul\",\"Jul\",\"Jul\"],\"xaxis\":\"x\",\"yaxis\":\"y\",\"type\":\"histogram\"},{\"alignmentgroup\":\"True\",\"bingroup\":\"x\",\"hovertemplate\":\"overall_rating=1<br>month=%{x}<br>count=%{y}<extra></extra>\",\"legendgroup\":\"1\",\"marker\":{\"color\":\"#00cc96\",\"pattern\":{\"shape\":\"\"}},\"name\":\"1\",\"offsetgroup\":\"1\",\"orientation\":\"v\",\"showlegend\":true,\"x\":[\"Jan\",\"Jan\",\"Dec\",\"Dec\",\"Dec\",\"Oct\",\"Dec\",\"Dec\",\"Nov\",\"Aug\",\"Nov\",\"Oct\",\"Jul\",\"Oct\",\"Oct\",\"Oct\",\"Oct\",\"Jun\",\"Sep\",\"Nov\",\"Apr\",\"Jun\",\"Jun\",\"Jun\",\"Aug\",\"Jul\",\"Jun\",\"May\",\"Jul\",\"Jun\",\"Jul\",\"Jul\",\"Jul\",\"Jun\",\"Jun\",\"Jun\",\"Jul\",\"Jun\",\"Jun\",\"Jun\",\"Apr\",\"Jun\",\"Jun\",\"Jun\",\"Jun\",\"Jun\",\"Feb\",\"May\",\"May\",\"May\",\"May\",\"May\",\"Mar\",\"Mar\",\"May\",\"Apr\",\"Apr\",\"Mar\",\"Apr\",\"Apr\",\"Apr\",\"Apr\",\"Mar\",\"Apr\",\"Apr\",\"Apr\",\"Mar\",\"Mar\",\"Mar\",\"Feb\",\"Mar\",\"Mar\",\"Oct\",\"Mar\",\"Feb\",\"Feb\",\"Jan\",\"Feb\",\"Jan\",\"Jan\",\"Jan\",\"Oct\",\"Nov\",\"Dec\",\"Jan\",\"Dec\",\"Jul\",\"Nov\",\"Nov\",\"Nov\",\"Nov\",\"Sep\",\"Nov\",\"Aug\",\"Sep\",\"Aug\",\"Oct\",\"Aug\",\"Sep\",\"Aug\",\"Aug\",\"Aug\",\"Apr\",\"Jul\",\"Jul\",\"Jul\",\"Jan\",\"Feb\",\"Nov\",\"Jan\",\"Dec\",\"Dec\",\"Aug\",\"Feb\",\"Jul\",\"Apr\",\"Feb\",\"May\",\"Mar\",\"Apr\",\"Dec\",\"May\",\"Mar\",\"Mar\",\"Mar\",\"Feb\",\"Mar\",\"Apr\",\"Mar\",\"Mar\",\"Mar\",\"Mar\",\"Mar\",\"Feb\",\"Mar\",\"Mar\",\"Feb\",\"Feb\",\"Feb\",\"Feb\",\"Jan\",\"Jul\",\"Dec\",\"Jan\",\"Jan\",\"Jan\",\"Jan\",\"Dec\",\"Dec\",\"Dec\",\"Aug\",\"Oct\",\"Dec\",\"Dec\",\"Dec\",\"Nov\",\"Nov\",\"Nov\",\"Nov\",\"Nov\",\"Nov\",\"Nov\",\"Sep\",\"Oct\",\"Oct\",\"Oct\",\"Apr\",\"Oct\",\"Oct\",\"Oct\",\"Oct\",\"Oct\",\"Oct\",\"Oct\",\"Oct\",\"Sep\",\"Sep\",\"Aug\",\"Sep\",\"Sep\",\"Sep\",\"Sep\",\"Jul\",\"Jul\",\"Feb\",\"Jun\",\"Aug\",\"Jun\",\"Aug\",\"Aug\",\"Aug\",\"Aug\",\"Aug\",\"Aug\",\"Aug\",\"Aug\",\"Jul\",\"Jul\",\"Jul\",\"Jul\",\"Sep\",\"Jul\",\"Jul\",\"Jul\",\"Jun\",\"Jun\",\"Feb\",\"Jun\",\"Jun\",\"May\",\"Jun\",\"May\",\"May\",\"May\",\"May\",\"May\",\"Mar\",\"May\",\"May\",\"Apr\",\"Apr\",\"Apr\",\"Apr\",\"Apr\",\"Sep\",\"Mar\",\"Mar\",\"Apr\",\"Mar\",\"Feb\",\"Feb\",\"Feb\",\"Feb\",\"Dec\",\"Feb\",\"Feb\",\"Jan\",\"Jan\",\"Nov\",\"Dec\",\"Jan\",\"Oct\",\"Dec\",\"Dec\",\"Nov\",\"Dec\",\"Nov\",\"Dec\",\"Dec\",\"Dec\",\"Dec\",\"Oct\",\"Nov\",\"Oct\",\"Nov\",\"Nov\",\"Nov\",\"Nov\",\"Nov\",\"Nov\",\"Oct\",\"Oct\",\"Oct\",\"Sep\",\"Sep\",\"Aug\",\"Sep\",\"Sep\",\"Aug\",\"Aug\",\"Jul\",\"Aug\",\"Apr\",\"Jul\",\"Jul\",\"Jul\",\"Jul\",\"Jul\",\"Jul\",\"Jul\",\"Jun\",\"Jun\",\"Jul\",\"Aug\",\"Jun\",\"Jun\",\"Feb\",\"May\",\"May\",\"May\",\"May\",\"May\",\"May\",\"May\",\"May\",\"Mar\",\"May\",\"May\",\"Apr\",\"Apr\",\"Feb\",\"Mar\",\"Apr\",\"Apr\",\"Feb\",\"Mar\",\"Dec\",\"Mar\",\"Mar\",\"Mar\",\"Mar\",\"Feb\",\"Jul\",\"Feb\",\"Feb\",\"Feb\",\"Jan\",\"Feb\",\"Dec\",\"Dec\",\"Jan\",\"Jan\",\"Jan\",\"Dec\",\"Dec\",\"Nov\",\"Jan\",\"Jan\",\"Oct\",\"Dec\",\"Dec\",\"Nov\",\"Dec\",\"Dec\",\"Dec\",\"Dec\",\"Dec\",\"Oct\",\"Oct\",\"Jun\",\"Sep\",\"Nov\",\"Nov\",\"Nov\",\"Nov\",\"Nov\",\"Oct\",\"Oct\",\"Oct\",\"Oct\",\"Nov\",\"Nov\",\"Nov\",\"Oct\",\"Oct\",\"Sep\",\"Oct\",\"Sep\",\"Sep\",\"Aug\",\"Sep\",\"Aug\",\"Sep\",\"Sep\",\"Jul\",\"Aug\",\"Aug\",\"Jul\",\"Aug\",\"Aug\",\"Jun\",\"Jul\",\"Jul\",\"Aug\",\"May\",\"Jul\",\"Jul\",\"Jul\",\"Jul\",\"Jul\",\"Jun\",\"Jul\",\"Jul\",\"Jun\",\"Jul\",\"Jul\",\"Jun\",\"Jun\",\"Jun\",\"Jun\",\"Jun\",\"Jun\",\"May\",\"Jun\",\"Jun\",\"May\",\"Jun\",\"Jun\",\"Jun\",\"Jun\",\"Jun\",\"Jan\",\"Jun\",\"Jun\",\"Jun\",\"May\",\"Jun\",\"Jun\",\"Jun\",\"May\",\"May\",\"May\",\"May\",\"May\",\"May\",\"May\",\"Apr\",\"Dec\",\"Apr\",\"Apr\",\"May\",\"May\",\"May\",\"Apr\",\"Mar\",\"Apr\",\"May\",\"Apr\",\"Apr\",\"Aug\",\"Apr\",\"Apr\",\"Apr\",\"Apr\",\"Mar\",\"Apr\",\"Apr\",\"Apr\",\"Feb\",\"Apr\",\"Apr\",\"Apr\",\"Apr\",\"Nov\",\"Mar\",\"Nov\",\"Apr\",\"Jan\",\"Apr\",\"Apr\",\"Mar\",\"Mar\",\"Jan\",\"Mar\",\"Mar\",\"Mar\",\"Mar\",\"Feb\",\"Mar\",\"Feb\",\"Feb\",\"Feb\",\"Feb\",\"Jan\",\"Feb\",\"Jan\",\"Dec\",\"Feb\",\"Jan\",\"Jan\",\"Jan\",\"Jan\",\"Jan\",\"Dec\",\"Aug\",\"Jan\",\"Jan\",\"Oct\",\"Dec\",\"Jan\",\"Jan\",\"Jan\",\"Dec\",\"Dec\",\"Dec\",\"Jan\",\"Dec\",\"Dec\",\"Dec\",\"Dec\",\"Dec\",\"Dec\",\"Dec\",\"Oct\",\"Dec\",\"Nov\",\"Dec\",\"Dec\",\"Dec\",\"Nov\",\"Jan\",\"Nov\",\"Nov\",\"Aug\",\"Aug\",\"Sep\",\"Oct\",\"Nov\",\"Oct\",\"Nov\",\"Oct\",\"Sep\",\"Oct\",\"Oct\",\"Oct\",\"Oct\",\"Sep\",\"Oct\",\"Oct\",\"Oct\",\"Jul\",\"Sep\",\"Sep\",\"Sep\",\"Sep\",\"Sep\",\"Sep\",\"Aug\",\"Aug\",\"Aug\",\"Aug\",\"Aug\",\"Aug\",\"Aug\",\"Aug\",\"Jun\",\"Jul\",\"Jul\",\"Jul\",\"Jul\",\"Jul\",\"Jul\",\"Jul\",\"Mar\",\"Jul\",\"Jun\",\"Jun\",\"Jun\",\"May\",\"Jun\",\"Jun\",\"May\",\"May\",\"May\",\"May\",\"May\",\"May\",\"May\",\"May\",\"Apr\",\"Apr\",\"Apr\",\"Apr\",\"Mar\",\"Jan\",\"Mar\",\"Mar\",\"Mar\",\"Feb\",\"Feb\",\"Aug\",\"Feb\",\"Feb\",\"Jan\",\"Feb\",\"Jan\",\"Jan\",\"Jan\",\"Jan\",\"Dec\",\"Dec\",\"Dec\",\"Dec\",\"Dec\",\"Dec\",\"Dec\",\"Sep\",\"Dec\",\"Dec\",\"Nov\",\"Nov\",\"Jul\",\"Nov\",\"Nov\",\"Nov\",\"Nov\",\"Nov\",\"Nov\",\"Sep\",\"Nov\",\"Nov\",\"Sep\",\"Nov\",\"Oct\",\"Sep\",\"Aug\",\"Oct\",\"Sep\",\"Oct\",\"Feb\",\"Sep\",\"Sep\",\"Sep\",\"Sep\",\"Sep\",\"Sep\",\"Aug\",\"Sep\",\"Sep\",\"Sep\",\"Apr\",\"Mar\",\"Sep\",\"Sep\",\"Sep\",\"Aug\",\"Aug\",\"Aug\",\"Aug\",\"Aug\",\"Aug\",\"Aug\",\"Aug\",\"Aug\",\"Aug\",\"Aug\",\"Jun\",\"Aug\",\"Aug\",\"May\",\"Aug\",\"Aug\",\"Jun\",\"Jul\",\"Jul\",\"Jul\",\"Jul\",\"Jul\",\"Sep\",\"Jun\",\"Jul\",\"Jun\",\"Jun\",\"Jul\",\"Jun\",\"Jun\",\"May\",\"May\",\"May\"],\"xaxis\":\"x\",\"yaxis\":\"y\",\"type\":\"histogram\"},{\"alignmentgroup\":\"True\",\"bingroup\":\"x\",\"hovertemplate\":\"overall_rating=2<br>month=%{x}<br>count=%{y}<extra></extra>\",\"legendgroup\":\"2\",\"marker\":{\"color\":\"#ab63fa\",\"pattern\":{\"shape\":\"\"}},\"name\":\"2\",\"offsetgroup\":\"2\",\"orientation\":\"v\",\"showlegend\":true,\"x\":[\"Jan\",\"Dec\",\"Nov\",\"Nov\",\"Nov\",\"Sep\",\"Sep\",\"Aug\",\"Nov\",\"Jul\",\"Jul\",\"Jun\",\"May\",\"May\",\"May\",\"Jun\",\"Apr\",\"Mar\",\"Mar\",\"Aug\",\"Feb\",\"Dec\",\"Dec\",\"Nov\",\"Nov\",\"Oct\",\"Oct\",\"Nov\",\"Oct\",\"Sep\",\"Sep\",\"Aug\",\"Jun\",\"Aug\",\"Mar\",\"Jun\",\"Apr\",\"Aug\",\"Mar\",\"Feb\",\"Jan\",\"Jan\",\"Dec\",\"Nov\",\"Nov\",\"Nov\",\"Oct\",\"Oct\",\"Sep\",\"Sep\",\"Sep\",\"Aug\",\"Sep\",\"Aug\",\"Aug\",\"Aug\",\"Aug\",\"Aug\",\"Aug\",\"Jul\",\"Jul\",\"Jul\",\"Jul\",\"Jul\",\"May\",\"Apr\",\"Apr\",\"Mar\",\"Mar\",\"Mar\",\"Mar\",\"Mar\",\"Mar\",\"Feb\",\"Feb\",\"Dec\",\"Feb\",\"Feb\",\"Jan\",\"Jan\",\"Jan\",\"Jan\",\"Jan\",\"Dec\",\"Dec\",\"Dec\",\"Nov\",\"Jul\",\"Nov\",\"Nov\",\"Oct\",\"Oct\",\"Oct\",\"Aug\",\"Mar\",\"Sep\",\"Sep\",\"Jul\",\"Jun\",\"Jul\",\"Aug\",\"Jun\",\"Jun\",\"Jun\",\"May\",\"May\",\"May\",\"May\",\"Apr\",\"Feb\",\"Apr\",\"Apr\",\"Mar\",\"Mar\",\"Mar\",\"Mar\",\"Mar\",\"Feb\",\"Feb\",\"Feb\",\"Feb\",\"Dec\",\"Jan\",\"Oct\",\"Dec\",\"Mar\",\"Nov\",\"Nov\",\"Nov\",\"Aug\",\"Oct\",\"Sep\",\"Oct\",\"Nov\",\"Nov\",\"Aug\",\"Oct\",\"Sep\",\"Oct\",\"Oct\",\"Oct\",\"Oct\",\"Aug\",\"Sep\",\"Oct\",\"Aug\",\"Sep\",\"Sep\",\"Aug\",\"Aug\",\"Aug\",\"Aug\",\"Aug\",\"Aug\",\"Aug\",\"Aug\",\"Jul\",\"Jun\",\"Jul\",\"Aug\",\"Jul\",\"Jun\",\"Jun\",\"Jun\",\"Jun\",\"Jul\",\"Jun\",\"Jun\",\"Jun\",\"Jun\",\"Jun\",\"Jun\",\"Jun\",\"Apr\",\"May\",\"May\",\"Apr\",\"May\",\"Apr\",\"Mar\",\"May\",\"Apr\",\"Apr\",\"Apr\",\"Apr\",\"Apr\",\"Apr\",\"Apr\",\"Apr\",\"Apr\",\"Mar\",\"Apr\",\"Jan\",\"Mar\",\"Mar\",\"Mar\",\"Mar\",\"Mar\",\"Feb\",\"Feb\",\"Feb\",\"Feb\",\"Feb\",\"Feb\",\"Feb\",\"Dec\",\"Jan\",\"Jan\",\"Jan\",\"Jan\",\"Jan\",\"Jan\",\"Jan\",\"Nov\",\"Jan\",\"Nov\",\"Jul\",\"Jan\",\"Jan\",\"Jan\",\"Jan\",\"Jan\",\"Jan\",\"Dec\",\"Dec\",\"Dec\",\"Dec\",\"Dec\",\"Dec\",\"Nov\",\"Aug\",\"Oct\",\"Nov\",\"Nov\",\"Aug\",\"Nov\",\"Oct\",\"Nov\",\"Oct\",\"Oct\",\"Oct\",\"Aug\",\"Sep\",\"Jul\",\"Sep\",\"Sep\",\"Sep\",\"Sep\",\"Aug\",\"Sep\",\"Sep\",\"Sep\",\"Aug\",\"Jun\",\"Jun\",\"Jul\",\"Jul\",\"Oct\",\"Jun\",\"Jun\",\"May\",\"Jun\",\"Jun\",\"May\",\"May\",\"May\",\"May\",\"May\",\"Apr\",\"Nov\",\"Apr\",\"Apr\",\"Jan\",\"Apr\",\"Mar\",\"Mar\",\"Feb\",\"Feb\",\"Feb\",\"Feb\",\"Feb\",\"Dec\",\"Jan\",\"Jan\",\"Dec\",\"Dec\",\"Jan\",\"Dec\",\"Dec\",\"Dec\",\"Oct\",\"Nov\",\"Nov\",\"Sep\",\"Oct\",\"Oct\",\"Aug\",\"Oct\",\"Oct\",\"Oct\",\"Sep\",\"Sep\",\"Sep\",\"Sep\",\"Sep\",\"Aug\",\"Aug\",\"Aug\",\"Sep\",\"Aug\",\"Aug\",\"Jul\",\"Jul\",\"Jul\",\"Jun\",\"Jul\",\"Jun\",\"Jul\",\"Jun\",\"Jun\",\"Jun\"],\"xaxis\":\"x\",\"yaxis\":\"y\",\"type\":\"histogram\"},{\"alignmentgroup\":\"True\",\"bingroup\":\"x\",\"hovertemplate\":\"overall_rating=8<br>month=%{x}<br>count=%{y}<extra></extra>\",\"legendgroup\":\"8\",\"marker\":{\"color\":\"#FFA15A\",\"pattern\":{\"shape\":\"\"}},\"name\":\"8\",\"offsetgroup\":\"8\",\"orientation\":\"v\",\"showlegend\":true,\"x\":[\"Jan\",\"Dec\",\"Nov\",\"Oct\",\"Oct\",\"Sep\",\"May\",\"Jul\",\"Jul\",\"Jun\",\"Apr\",\"Apr\",\"Apr\",\"Mar\",\"Jan\",\"Jan\",\"Nov\",\"Oct\",\"Oct\",\"Sep\",\"Sep\",\"Aug\",\"Jul\",\"Jun\",\"Apr\",\"Nov\",\"Feb\",\"Jan\",\"Feb\",\"Oct\",\"Jan\",\"Jan\",\"Jan\",\"Jan\",\"Dec\",\"Nov\",\"Nov\",\"Nov\",\"Oct\",\"Sep\",\"Sep\",\"Oct\",\"Oct\",\"Sep\",\"Sep\",\"Aug\",\"Jul\",\"Jul\",\"Jun\",\"Jun\",\"May\",\"May\",\"May\",\"May\",\"May\",\"Apr\",\"Mar\",\"Feb\",\"Feb\",\"Jan\",\"Dec\",\"Dec\",\"Nov\",\"Oct\",\"Sep\",\"Sep\",\"Aug\",\"Aug\",\"Jul\",\"Jul\",\"Jul\",\"Jul\",\"Jun\",\"Jun\",\"Jun\",\"Jun\",\"May\",\"May\",\"May\",\"Apr\",\"Apr\",\"Apr\",\"Feb\",\"Feb\",\"Feb\",\"Feb\",\"Jan\",\"Jan\",\"Jan\",\"Jan\",\"Jan\",\"Dec\",\"Nov\",\"Nov\",\"Nov\",\"Nov\",\"Nov\",\"Nov\",\"Oct\",\"Oct\",\"Jul\",\"Oct\",\"Sep\",\"Sep\",\"Sep\",\"Sep\",\"Aug\",\"Aug\",\"Jul\",\"Jul\",\"Jun\",\"Jul\",\"Jun\",\"Jun\",\"Jun\",\"May\",\"May\",\"May\",\"Apr\",\"Apr\",\"Apr\",\"Mar\",\"Mar\",\"Feb\",\"Feb\",\"Feb\",\"Jan\",\"Jan\",\"Jan\",\"Jan\",\"Jan\",\"Jan\",\"Aug\",\"Jan\",\"Jan\",\"Dec\",\"Dec\",\"Nov\",\"Nov\",\"Nov\",\"Sep\",\"Nov\",\"Sep\",\"Oct\",\"Oct\",\"Sep\",\"Sep\",\"Sep\",\"Sep\",\"Sep\",\"Sep\",\"Sep\",\"Sep\",\"Sep\",\"Sep\",\"Aug\",\"Aug\",\"Aug\",\"Jul\",\"Jul\",\"Jul\",\"Jun\",\"Jun\",\"Apr\",\"Jun\",\"Jun\",\"May\",\"Jun\",\"Jun\",\"May\",\"May\",\"May\",\"May\",\"May\",\"Apr\",\"May\",\"May\",\"Apr\",\"Apr\",\"Feb\",\"Apr\",\"Mar\",\"May\",\"Apr\",\"Mar\",\"Mar\",\"Mar\",\"Feb\",\"Mar\",\"Feb\",\"Feb\",\"Feb\",\"Mar\",\"Feb\",\"Feb\",\"Feb\",\"Jan\",\"Dec\",\"Jan\",\"Feb\",\"Dec\",\"Feb\",\"Jan\",\"Jan\",\"Sep\",\"Jan\",\"Feb\",\"Jan\",\"Dec\",\"Jan\",\"Jan\",\"Dec\",\"Nov\",\"Dec\",\"Nov\",\"Nov\",\"Nov\",\"Aug\",\"Nov\",\"Nov\",\"Nov\",\"Oct\",\"Sep\",\"Oct\",\"Oct\",\"Oct\",\"Oct\",\"Oct\",\"Oct\",\"Oct\",\"Sep\",\"Aug\",\"Sep\",\"Sep\",\"Sep\",\"Sep\",\"Sep\",\"Sep\",\"Aug\",\"Aug\",\"Aug\",\"Aug\",\"Aug\",\"Aug\",\"Aug\",\"Aug\",\"Apr\",\"Aug\",\"Jul\",\"May\",\"May\",\"Jul\",\"Jun\",\"May\",\"Jun\",\"Jun\",\"Oct\",\"Jun\",\"Jun\",\"Jun\",\"Jun\",\"Jun\",\"May\"],\"xaxis\":\"x\",\"yaxis\":\"y\",\"type\":\"histogram\"},{\"alignmentgroup\":\"True\",\"bingroup\":\"x\",\"hovertemplate\":\"overall_rating=6<br>month=%{x}<br>count=%{y}<extra></extra>\",\"legendgroup\":\"6\",\"marker\":{\"color\":\"#19d3f3\",\"pattern\":{\"shape\":\"\"}},\"name\":\"6\",\"offsetgroup\":\"6\",\"orientation\":\"v\",\"showlegend\":true,\"x\":[\"Dec\",\"Dec\",\"Dec\",\"Oct\",\"Sep\",\"Jun\",\"Feb\",\"Jan\",\"Dec\",\"Nov\",\"Oct\",\"Oct\",\"Jul\",\"Feb\",\"Jan\",\"Dec\",\"Sep\",\"Jul\",\"Aug\",\"Jul\",\"Jul\",\"Jun\",\"Jan\",\"Jun\",\"May\",\"Apr\",\"Apr\",\"Sep\",\"Feb\",\"Feb\",\"Mar\",\"Jan\",\"Dec\",\"Dec\",\"Dec\",\"Sep\",\"Jun\",\"Sep\",\"May\",\"Jul\",\"Jun\",\"May\",\"Mar\",\"Feb\",\"Feb\",\"Nov\",\"Jan\",\"Dec\",\"Nov\",\"Oct\",\"Oct\",\"Sep\",\"Sep\",\"Sep\",\"Sep\",\"Sep\",\"Aug\",\"Jul\",\"May\",\"Jun\",\"Jun\",\"Apr\",\"Apr\",\"May\",\"May\",\"May\",\"Apr\",\"Apr\",\"Mar\",\"Mar\",\"Dec\",\"Jan\",\"Jan\",\"Jan\",\"Jan\",\"Dec\",\"Dec\",\"Dec\",\"Dec\",\"Dec\",\"Nov\",\"Oct\",\"Nov\",\"Oct\",\"Sep\",\"Sep\",\"Mar\",\"Aug\",\"Jul\",\"Jul\",\"Jul\",\"Jun\",\"May\",\"Apr\",\"Apr\",\"Mar\",\"Mar\",\"Feb\",\"Feb\",\"Jan\",\"Oct\",\"Dec\",\"Jan\",\"Jun\",\"Dec\",\"Nov\",\"Nov\",\"Nov\",\"Nov\",\"Jan\",\"Nov\",\"Nov\",\"Oct\",\"Sep\",\"Jan\",\"Oct\",\"Oct\",\"Aug\",\"Oct\",\"Sep\",\"Sep\",\"Sep\",\"Sep\",\"Aug\",\"Aug\",\"Aug\",\"Aug\",\"Aug\",\"Jun\",\"Jul\",\"Jul\",\"Jul\",\"Jun\",\"Jun\",\"May\"],\"xaxis\":\"x\",\"yaxis\":\"y\",\"type\":\"histogram\"},{\"alignmentgroup\":\"True\",\"bingroup\":\"x\",\"hovertemplate\":\"overall_rating=3<br>month=%{x}<br>count=%{y}<extra></extra>\",\"legendgroup\":\"3\",\"marker\":{\"color\":\"#FF6692\",\"pattern\":{\"shape\":\"\"}},\"name\":\"3\",\"offsetgroup\":\"3\",\"orientation\":\"v\",\"showlegend\":true,\"x\":[\"Dec\",\"Dec\",\"Dec\",\"Nov\",\"Dec\",\"Oct\",\"Oct\",\"Oct\",\"Sep\",\"May\",\"May\",\"Apr\",\"Mar\",\"Mar\",\"Mar\",\"Nov\",\"Jan\",\"Dec\",\"Dec\",\"Dec\",\"Aug\",\"Oct\",\"Sep\",\"Sep\",\"Dec\",\"Mar\",\"Mar\",\"Oct\",\"Feb\",\"Feb\",\"Jan\",\"Jan\",\"Jan\",\"Dec\",\"Jan\",\"Jan\",\"Jan\",\"Dec\",\"Dec\",\"Nov\",\"Nov\",\"Nov\",\"Oct\",\"Oct\",\"Sep\",\"Sep\",\"Aug\",\"Jul\",\"Jul\",\"Jul\",\"Jul\",\"Jul\",\"Jun\",\"Jun\",\"Jun\",\"Jun\",\"May\",\"May\",\"May\",\"Mar\",\"Apr\",\"Mar\",\"Feb\",\"Feb\",\"Feb\",\"Jan\",\"Nov\",\"Jan\",\"Jan\",\"Dec\",\"Oct\",\"Dec\",\"Dec\",\"Nov\",\"Nov\",\"Nov\",\"Oct\",\"Oct\",\"Oct\",\"Sep\",\"Jul\",\"Aug\",\"Aug\",\"Jul\",\"Jul\",\"Jul\",\"Jun\",\"Jun\",\"Jun\",\"May\",\"Mar\",\"Jun\",\"May\",\"May\",\"May\",\"May\",\"Mar\",\"Apr\",\"Apr\",\"Mar\",\"Mar\",\"Feb\",\"Oct\",\"Mar\",\"Feb\",\"Feb\",\"Jan\",\"Jan\",\"Dec\",\"Jul\",\"Dec\",\"Dec\",\"Nov\",\"Nov\",\"Nov\",\"Nov\",\"Nov\",\"Oct\",\"Nov\",\"Oct\",\"Oct\",\"Oct\",\"Sep\",\"Oct\",\"Sep\",\"Oct\",\"Sep\",\"Sep\",\"Sep\",\"Sep\",\"Sep\",\"Aug\",\"Aug\",\"Aug\",\"Aug\",\"Aug\",\"Aug\",\"Aug\",\"Aug\",\"Aug\",\"Jul\",\"Jul\",\"Jul\",\"May\",\"Feb\",\"Jun\",\"Nov\",\"Jun\",\"Jun\",\"May\",\"Apr\",\"Jun\",\"Jun\",\"May\",\"May\",\"May\",\"May\",\"Feb\",\"Apr\",\"May\",\"May\",\"Apr\",\"Mar\",\"Mar\",\"Mar\",\"Feb\",\"Mar\",\"Mar\",\"Mar\",\"Mar\",\"Mar\",\"Mar\",\"Mar\",\"Feb\",\"Feb\",\"Mar\",\"Mar\",\"Mar\",\"Feb\",\"Feb\",\"Feb\",\"Feb\",\"Feb\",\"Oct\",\"Feb\",\"Jan\",\"Dec\",\"Dec\",\"Dec\",\"Dec\",\"Dec\",\"Nov\",\"Dec\",\"Nov\",\"Nov\",\"Nov\",\"Nov\",\"Nov\",\"Nov\",\"Nov\",\"Nov\",\"Nov\",\"Nov\",\"Oct\",\"Oct\",\"Oct\",\"Oct\",\"Sep\",\"Oct\",\"Aug\",\"Oct\",\"Oct\",\"Sep\",\"Sep\",\"Sep\",\"Aug\",\"Sep\",\"Sep\",\"Aug\",\"Aug\",\"Aug\",\"Aug\",\"Aug\",\"Aug\",\"Jul\",\"Jul\",\"Jul\",\"Jun\",\"Jun\",\"Jun\",\"Jun\",\"Jun\",\"Jun\",\"May\",\"May\",\"May\",\"May\",\"Dec\",\"May\",\"Apr\",\"Apr\",\"Apr\",\"Feb\",\"Mar\",\"Mar\",\"Mar\",\"Mar\",\"Feb\",\"Mar\",\"Feb\",\"Jan\",\"Feb\",\"Feb\",\"Feb\",\"Feb\",\"Jan\",\"Jan\",\"Sep\",\"Oct\",\"Jan\",\"Dec\",\"Dec\",\"Dec\",\"Dec\",\"Aug\",\"Nov\",\"Oct\",\"Nov\",\"Nov\",\"Nov\",\"Nov\",\"Nov\",\"Nov\",\"Oct\",\"Nov\",\"Nov\",\"Nov\",\"Nov\",\"Oct\",\"Oct\",\"Nov\",\"Oct\",\"Jan\",\"Oct\",\"Oct\",\"Oct\",\"Oct\",\"Sep\",\"Oct\",\"Oct\",\"Sep\",\"Sep\",\"Sep\",\"Sep\",\"Aug\",\"Sep\",\"Jul\",\"Jul\",\"Sep\",\"Aug\",\"Jul\",\"Aug\",\"Aug\",\"Aug\",\"Aug\",\"Aug\",\"Aug\",\"Aug\",\"Jun\",\"Aug\",\"Aug\",\"Jul\",\"Jul\",\"Jul\",\"Jul\",\"Jul\",\"Jul\",\"Jul\",\"Jul\",\"Jul\",\"Jul\",\"Jun\",\"Jun\",\"Nov\",\"Jun\",\"Apr\",\"Jun\"],\"xaxis\":\"x\",\"yaxis\":\"y\",\"type\":\"histogram\"},{\"alignmentgroup\":\"True\",\"bingroup\":\"x\",\"hovertemplate\":\"overall_rating=9<br>month=%{x}<br>count=%{y}<extra></extra>\",\"legendgroup\":\"9\",\"marker\":{\"color\":\"#B6E880\",\"pattern\":{\"shape\":\"\"}},\"name\":\"9\",\"offsetgroup\":\"9\",\"orientation\":\"v\",\"showlegend\":true,\"x\":[\"Jun\",\"Oct\",\"Oct\",\"Oct\",\"Oct\",\"Sep\",\"Aug\",\"May\",\"May\",\"Mar\",\"Apr\",\"Apr\",\"Mar\",\"Feb\",\"Dec\",\"Dec\",\"Dec\",\"Nov\",\"Oct\",\"Oct\",\"Jun\",\"May\",\"May\",\"Dec\",\"Oct\",\"Jan\",\"Mar\",\"Jan\",\"Jan\",\"Jan\",\"Jan\",\"Dec\",\"Dec\",\"Dec\",\"Oct\",\"Nov\",\"Nov\",\"Nov\",\"Nov\",\"Sep\",\"Oct\",\"Sep\",\"Oct\",\"Sep\",\"Sep\",\"Sep\",\"Sep\",\"Aug\",\"Aug\",\"Jul\",\"Jul\",\"Jul\",\"May\",\"May\",\"May\",\"Apr\",\"Apr\",\"Apr\",\"Mar\",\"Mar\",\"Feb\",\"Sep\",\"Jan\",\"Jan\",\"Jan\",\"Nov\",\"Nov\",\"Oct\",\"Oct\",\"Oct\",\"Sep\",\"Sep\",\"Jul\",\"May\",\"Apr\",\"Mar\",\"Jan\",\"Jan\",\"Dec\",\"Nov\",\"Nov\",\"Nov\",\"Sep\",\"Sep\",\"Sep\",\"Sep\",\"Aug\",\"Aug\",\"Aug\",\"Apr\",\"Jun\",\"May\",\"Apr\",\"May\",\"Apr\",\"Apr\",\"Apr\",\"Apr\",\"Apr\",\"Mar\",\"Feb\",\"Feb\",\"Feb\",\"Jan\",\"Jan\",\"Dec\",\"Sep\",\"Dec\",\"Dec\",\"Nov\",\"Nov\",\"Nov\",\"Nov\",\"Nov\",\"Nov\",\"Nov\",\"Nov\",\"Nov\",\"Nov\",\"Oct\",\"Oct\",\"Oct\",\"Oct\",\"Oct\",\"Oct\",\"Oct\",\"Sep\",\"Sep\",\"Sep\",\"Jul\",\"Aug\",\"Jun\",\"May\",\"Mar\",\"May\",\"Mar\",\"Apr\",\"Mar\",\"Mar\",\"Mar\",\"Feb\",\"Sep\",\"Mar\",\"Mar\",\"Feb\",\"Feb\",\"Jan\",\"Feb\",\"Dec\",\"Nov\",\"Jan\",\"Nov\",\"Dec\",\"Dec\",\"Dec\",\"Dec\",\"Nov\",\"Dec\",\"Dec\",\"Dec\",\"Dec\",\"Nov\",\"Nov\",\"Nov\",\"May\",\"Nov\",\"Sep\",\"Oct\",\"Jan\",\"Oct\",\"Oct\",\"Sep\",\"Oct\",\"Sep\",\"Aug\",\"Oct\",\"Sep\",\"Sep\",\"Sep\",\"Aug\",\"Aug\",\"Aug\",\"Aug\",\"Jul\",\"Aug\",\"Aug\",\"Aug\",\"Aug\",\"Jul\",\"Dec\",\"May\",\"Jun\",\"Jul\",\"Jun\",\"Jun\",\"Jun\",\"Jun\"],\"xaxis\":\"x\",\"yaxis\":\"y\",\"type\":\"histogram\"},{\"alignmentgroup\":\"True\",\"bingroup\":\"x\",\"hovertemplate\":\"overall_rating=7<br>month=%{x}<br>count=%{y}<extra></extra>\",\"legendgroup\":\"7\",\"marker\":{\"color\":\"#FF97FF\",\"pattern\":{\"shape\":\"\"}},\"name\":\"7\",\"offsetgroup\":\"7\",\"orientation\":\"v\",\"showlegend\":true,\"x\":[\"Nov\",\"Jan\",\"Oct\",\"Sep\",\"Sep\",\"Jul\",\"Apr\",\"Mar\",\"Dec\",\"Oct\",\"Oct\",\"Sep\",\"Jul\",\"Dec\",\"Mar\",\"Jan\",\"Jan\",\"Jan\",\"Jan\",\"Dec\",\"Oct\",\"Dec\",\"Nov\",\"Aug\",\"Sep\",\"Jul\",\"Jun\",\"Jun\",\"May\",\"May\",\"Apr\",\"Mar\",\"Mar\",\"Jan\",\"Nov\",\"Aug\",\"Jan\",\"Jun\",\"Dec\",\"Dec\",\"Dec\",\"Nov\",\"Oct\",\"Sep\",\"Sep\",\"Aug\",\"Sep\",\"Aug\",\"Jul\",\"Jan\",\"Jun\",\"Aug\",\"Jul\",\"Jul\",\"Jul\",\"May\",\"Jul\",\"Jun\",\"Jun\",\"May\",\"May\",\"May\",\"Apr\",\"Mar\",\"Mar\",\"Mar\",\"Mar\",\"Mar\",\"Mar\",\"Mar\",\"Mar\",\"Feb\",\"Dec\",\"Feb\",\"Jan\",\"Jan\",\"Dec\",\"Dec\",\"Nov\",\"Nov\",\"Oct\",\"Oct\",\"Oct\",\"Oct\",\"Oct\",\"Sep\",\"Sep\",\"Sep\",\"Aug\",\"Aug\",\"Jul\",\"Jul\",\"Jul\",\"Jun\",\"May\",\"Apr\",\"May\",\"May\",\"May\",\"May\",\"Apr\",\"Apr\",\"Apr\",\"Mar\",\"Feb\",\"Mar\",\"Jan\",\"Feb\",\"Feb\",\"Feb\",\"Jan\",\"Oct\",\"Jan\",\"Nov\",\"Dec\",\"Dec\",\"Dec\",\"Nov\",\"Oct\",\"Oct\",\"Nov\",\"Apr\",\"Nov\",\"Oct\",\"Oct\",\"Oct\",\"Sep\",\"Sep\",\"Sep\",\"Jul\",\"Aug\",\"Aug\",\"Aug\",\"Aug\",\"Jun\",\"Apr\",\"Jul\",\"Jul\",\"Jul\",\"Jun\",\"Jun\",\"May\",\"May\",\"May\",\"May\",\"Apr\",\"Apr\",\"Apr\",\"Mar\",\"Mar\",\"Apr\",\"Mar\",\"Mar\",\"Mar\",\"Mar\",\"Mar\",\"Mar\",\"Jan\",\"Mar\",\"Feb\",\"Feb\",\"Feb\",\"Feb\",\"Jan\",\"Oct\",\"Jan\",\"Jan\",\"Sep\",\"Jan\",\"Jan\",\"Dec\",\"Nov\",\"Dec\",\"Dec\",\"Dec\",\"Aug\",\"Dec\",\"Nov\",\"Nov\",\"Nov\",\"Nov\",\"Nov\",\"Oct\",\"Nov\",\"Oct\",\"Sep\",\"Oct\",\"Oct\",\"Oct\",\"Apr\",\"Sep\",\"Sep\",\"May\",\"Sep\",\"Aug\",\"Aug\",\"Sep\",\"Sep\",\"Aug\",\"Aug\",\"Aug\",\"Aug\",\"Sep\",\"Jul\",\"Aug\",\"Jul\",\"Jul\",\"Jul\",\"Jul\",\"Jul\",\"Jul\",\"May\",\"May\",\"Jun\"],\"xaxis\":\"x\",\"yaxis\":\"y\",\"type\":\"histogram\"},{\"alignmentgroup\":\"True\",\"bingroup\":\"x\",\"hovertemplate\":\"overall_rating=10<br>month=%{x}<br>count=%{y}<extra></extra>\",\"legendgroup\":\"10\",\"marker\":{\"color\":\"#FECB52\",\"pattern\":{\"shape\":\"\"}},\"name\":\"10\",\"offsetgroup\":\"10\",\"orientation\":\"v\",\"showlegend\":true,\"x\":[\"Oct\",\"Sep\",\"Sep\",\"Aug\",\"Aug\",\"Jul\",\"Jul\",\"Jun\",\"Apr\",\"Jun\",\"May\",\"Apr\",\"Apr\",\"Apr\",\"Feb\",\"Feb\",\"Dec\",\"Feb\",\"Jan\",\"Nov\",\"Sep\",\"Oct\",\"Oct\",\"Aug\",\"Feb\",\"Sep\",\"Dec\",\"Nov\",\"Sep\",\"Jul\",\"Feb\",\"Mar\",\"Feb\",\"Dec\",\"Dec\",\"Jan\",\"Dec\",\"Nov\",\"Nov\",\"Nov\",\"Nov\",\"Oct\",\"Oct\",\"Oct\",\"Oct\",\"Oct\",\"Sep\",\"Oct\",\"Oct\",\"Sep\",\"Aug\",\"Aug\",\"Jul\",\"Nov\",\"Aug\",\"Jul\",\"Jul\",\"Jul\",\"Jun\",\"Jun\",\"Jun\",\"Jun\",\"Jun\",\"Jun\",\"Jun\",\"May\",\"May\",\"May\",\"May\",\"Dec\",\"Apr\",\"Apr\",\"Nov\",\"Mar\",\"Mar\",\"Mar\",\"Feb\",\"Oct\",\"Feb\",\"Mar\",\"Feb\",\"Feb\",\"Oct\",\"Jan\",\"Dec\",\"Dec\",\"Dec\",\"Nov\",\"Aug\",\"Aug\",\"Sep\",\"Aug\",\"Jul\",\"Aug\",\"Jul\",\"Jun\",\"Jun\",\"Apr\",\"May\",\"May\",\"May\",\"Apr\",\"Mar\",\"Mar\",\"Mar\",\"Jan\",\"Dec\",\"Jan\",\"Nov\",\"Oct\",\"Oct\",\"Sep\",\"Sep\",\"Aug\",\"Aug\",\"Jul\",\"Jun\",\"May\",\"May\",\"May\",\"Feb\",\"Apr\",\"Mar\",\"Feb\",\"Mar\",\"Feb\",\"Feb\",\"Jan\",\"Jan\",\"Jan\",\"Dec\",\"Dec\",\"Dec\",\"Nov\",\"Nov\",\"Nov\",\"Oct\",\"Oct\",\"Oct\",\"Oct\",\"Oct\",\"Aug\",\"Aug\",\"Apr\",\"Jul\",\"Jul\",\"Jul\",\"Jun\",\"Jun\",\"Apr\",\"Jun\",\"Jun\",\"May\",\"May\",\"May\",\"Apr\",\"Mar\",\"Apr\",\"Apr\",\"Mar\",\"Apr\",\"Mar\",\"Mar\",\"Mar\",\"Feb\",\"Mar\",\"Mar\",\"Jan\",\"Jan\",\"Dec\",\"Dec\",\"Dec\",\"Dec\",\"Dec\",\"Dec\",\"Dec\",\"Dec\",\"Dec\",\"Dec\",\"Nov\",\"Oct\",\"Nov\",\"Nov\",\"Oct\",\"Sep\",\"Sep\",\"Sep\",\"Sep\",\"Aug\",\"Aug\",\"Aug\",\"Aug\",\"Aug\",\"Aug\",\"Jul\",\"Jul\",\"Jul\",\"Jun\",\"Jul\",\"Aug\",\"Jul\",\"Jun\",\"Jun\",\"May\"],\"xaxis\":\"x\",\"yaxis\":\"y\",\"type\":\"histogram\"}],                        {\"template\":{\"data\":{\"bar\":[{\"error_x\":{\"color\":\"#2a3f5f\"},\"error_y\":{\"color\":\"#2a3f5f\"},\"marker\":{\"line\":{\"color\":\"#E5ECF6\",\"width\":0.5},\"pattern\":{\"fillmode\":\"overlay\",\"size\":10,\"solidity\":0.2}},\"type\":\"bar\"}],\"barpolar\":[{\"marker\":{\"line\":{\"color\":\"#E5ECF6\",\"width\":0.5},\"pattern\":{\"fillmode\":\"overlay\",\"size\":10,\"solidity\":0.2}},\"type\":\"barpolar\"}],\"carpet\":[{\"aaxis\":{\"endlinecolor\":\"#2a3f5f\",\"gridcolor\":\"white\",\"linecolor\":\"white\",\"minorgridcolor\":\"white\",\"startlinecolor\":\"#2a3f5f\"},\"baxis\":{\"endlinecolor\":\"#2a3f5f\",\"gridcolor\":\"white\",\"linecolor\":\"white\",\"minorgridcolor\":\"white\",\"startlinecolor\":\"#2a3f5f\"},\"type\":\"carpet\"}],\"choropleth\":[{\"colorbar\":{\"outlinewidth\":0,\"ticks\":\"\"},\"type\":\"choropleth\"}],\"contour\":[{\"colorbar\":{\"outlinewidth\":0,\"ticks\":\"\"},\"colorscale\":[[0.0,\"#0d0887\"],[0.1111111111111111,\"#46039f\"],[0.2222222222222222,\"#7201a8\"],[0.3333333333333333,\"#9c179e\"],[0.4444444444444444,\"#bd3786\"],[0.5555555555555556,\"#d8576b\"],[0.6666666666666666,\"#ed7953\"],[0.7777777777777778,\"#fb9f3a\"],[0.8888888888888888,\"#fdca26\"],[1.0,\"#f0f921\"]],\"type\":\"contour\"}],\"contourcarpet\":[{\"colorbar\":{\"outlinewidth\":0,\"ticks\":\"\"},\"type\":\"contourcarpet\"}],\"heatmap\":[{\"colorbar\":{\"outlinewidth\":0,\"ticks\":\"\"},\"colorscale\":[[0.0,\"#0d0887\"],[0.1111111111111111,\"#46039f\"],[0.2222222222222222,\"#7201a8\"],[0.3333333333333333,\"#9c179e\"],[0.4444444444444444,\"#bd3786\"],[0.5555555555555556,\"#d8576b\"],[0.6666666666666666,\"#ed7953\"],[0.7777777777777778,\"#fb9f3a\"],[0.8888888888888888,\"#fdca26\"],[1.0,\"#f0f921\"]],\"type\":\"heatmap\"}],\"heatmapgl\":[{\"colorbar\":{\"outlinewidth\":0,\"ticks\":\"\"},\"colorscale\":[[0.0,\"#0d0887\"],[0.1111111111111111,\"#46039f\"],[0.2222222222222222,\"#7201a8\"],[0.3333333333333333,\"#9c179e\"],[0.4444444444444444,\"#bd3786\"],[0.5555555555555556,\"#d8576b\"],[0.6666666666666666,\"#ed7953\"],[0.7777777777777778,\"#fb9f3a\"],[0.8888888888888888,\"#fdca26\"],[1.0,\"#f0f921\"]],\"type\":\"heatmapgl\"}],\"histogram\":[{\"marker\":{\"pattern\":{\"fillmode\":\"overlay\",\"size\":10,\"solidity\":0.2}},\"type\":\"histogram\"}],\"histogram2d\":[{\"colorbar\":{\"outlinewidth\":0,\"ticks\":\"\"},\"colorscale\":[[0.0,\"#0d0887\"],[0.1111111111111111,\"#46039f\"],[0.2222222222222222,\"#7201a8\"],[0.3333333333333333,\"#9c179e\"],[0.4444444444444444,\"#bd3786\"],[0.5555555555555556,\"#d8576b\"],[0.6666666666666666,\"#ed7953\"],[0.7777777777777778,\"#fb9f3a\"],[0.8888888888888888,\"#fdca26\"],[1.0,\"#f0f921\"]],\"type\":\"histogram2d\"}],\"histogram2dcontour\":[{\"colorbar\":{\"outlinewidth\":0,\"ticks\":\"\"},\"colorscale\":[[0.0,\"#0d0887\"],[0.1111111111111111,\"#46039f\"],[0.2222222222222222,\"#7201a8\"],[0.3333333333333333,\"#9c179e\"],[0.4444444444444444,\"#bd3786\"],[0.5555555555555556,\"#d8576b\"],[0.6666666666666666,\"#ed7953\"],[0.7777777777777778,\"#fb9f3a\"],[0.8888888888888888,\"#fdca26\"],[1.0,\"#f0f921\"]],\"type\":\"histogram2dcontour\"}],\"mesh3d\":[{\"colorbar\":{\"outlinewidth\":0,\"ticks\":\"\"},\"type\":\"mesh3d\"}],\"parcoords\":[{\"line\":{\"colorbar\":{\"outlinewidth\":0,\"ticks\":\"\"}},\"type\":\"parcoords\"}],\"pie\":[{\"automargin\":true,\"type\":\"pie\"}],\"scatter\":[{\"marker\":{\"colorbar\":{\"outlinewidth\":0,\"ticks\":\"\"}},\"type\":\"scatter\"}],\"scatter3d\":[{\"line\":{\"colorbar\":{\"outlinewidth\":0,\"ticks\":\"\"}},\"marker\":{\"colorbar\":{\"outlinewidth\":0,\"ticks\":\"\"}},\"type\":\"scatter3d\"}],\"scattercarpet\":[{\"marker\":{\"colorbar\":{\"outlinewidth\":0,\"ticks\":\"\"}},\"type\":\"scattercarpet\"}],\"scattergeo\":[{\"marker\":{\"colorbar\":{\"outlinewidth\":0,\"ticks\":\"\"}},\"type\":\"scattergeo\"}],\"scattergl\":[{\"marker\":{\"colorbar\":{\"outlinewidth\":0,\"ticks\":\"\"}},\"type\":\"scattergl\"}],\"scattermapbox\":[{\"marker\":{\"colorbar\":{\"outlinewidth\":0,\"ticks\":\"\"}},\"type\":\"scattermapbox\"}],\"scatterpolar\":[{\"marker\":{\"colorbar\":{\"outlinewidth\":0,\"ticks\":\"\"}},\"type\":\"scatterpolar\"}],\"scatterpolargl\":[{\"marker\":{\"colorbar\":{\"outlinewidth\":0,\"ticks\":\"\"}},\"type\":\"scatterpolargl\"}],\"scatterternary\":[{\"marker\":{\"colorbar\":{\"outlinewidth\":0,\"ticks\":\"\"}},\"type\":\"scatterternary\"}],\"surface\":[{\"colorbar\":{\"outlinewidth\":0,\"ticks\":\"\"},\"colorscale\":[[0.0,\"#0d0887\"],[0.1111111111111111,\"#46039f\"],[0.2222222222222222,\"#7201a8\"],[0.3333333333333333,\"#9c179e\"],[0.4444444444444444,\"#bd3786\"],[0.5555555555555556,\"#d8576b\"],[0.6666666666666666,\"#ed7953\"],[0.7777777777777778,\"#fb9f3a\"],[0.8888888888888888,\"#fdca26\"],[1.0,\"#f0f921\"]],\"type\":\"surface\"}],\"table\":[{\"cells\":{\"fill\":{\"color\":\"#EBF0F8\"},\"line\":{\"color\":\"white\"}},\"header\":{\"fill\":{\"color\":\"#C8D4E3\"},\"line\":{\"color\":\"white\"}},\"type\":\"table\"}]},\"layout\":{\"annotationdefaults\":{\"arrowcolor\":\"#2a3f5f\",\"arrowhead\":0,\"arrowwidth\":1},\"autotypenumbers\":\"strict\",\"coloraxis\":{\"colorbar\":{\"outlinewidth\":0,\"ticks\":\"\"}},\"colorscale\":{\"diverging\":[[0,\"#8e0152\"],[0.1,\"#c51b7d\"],[0.2,\"#de77ae\"],[0.3,\"#f1b6da\"],[0.4,\"#fde0ef\"],[0.5,\"#f7f7f7\"],[0.6,\"#e6f5d0\"],[0.7,\"#b8e186\"],[0.8,\"#7fbc41\"],[0.9,\"#4d9221\"],[1,\"#276419\"]],\"sequential\":[[0.0,\"#0d0887\"],[0.1111111111111111,\"#46039f\"],[0.2222222222222222,\"#7201a8\"],[0.3333333333333333,\"#9c179e\"],[0.4444444444444444,\"#bd3786\"],[0.5555555555555556,\"#d8576b\"],[0.6666666666666666,\"#ed7953\"],[0.7777777777777778,\"#fb9f3a\"],[0.8888888888888888,\"#fdca26\"],[1.0,\"#f0f921\"]],\"sequentialminus\":[[0.0,\"#0d0887\"],[0.1111111111111111,\"#46039f\"],[0.2222222222222222,\"#7201a8\"],[0.3333333333333333,\"#9c179e\"],[0.4444444444444444,\"#bd3786\"],[0.5555555555555556,\"#d8576b\"],[0.6666666666666666,\"#ed7953\"],[0.7777777777777778,\"#fb9f3a\"],[0.8888888888888888,\"#fdca26\"],[1.0,\"#f0f921\"]]},\"colorway\":[\"#636efa\",\"#EF553B\",\"#00cc96\",\"#ab63fa\",\"#FFA15A\",\"#19d3f3\",\"#FF6692\",\"#B6E880\",\"#FF97FF\",\"#FECB52\"],\"font\":{\"color\":\"#2a3f5f\"},\"geo\":{\"bgcolor\":\"white\",\"lakecolor\":\"white\",\"landcolor\":\"#E5ECF6\",\"showlakes\":true,\"showland\":true,\"subunitcolor\":\"white\"},\"hoverlabel\":{\"align\":\"left\"},\"hovermode\":\"closest\",\"mapbox\":{\"style\":\"light\"},\"paper_bgcolor\":\"white\",\"plot_bgcolor\":\"#E5ECF6\",\"polar\":{\"angularaxis\":{\"gridcolor\":\"white\",\"linecolor\":\"white\",\"ticks\":\"\"},\"bgcolor\":\"#E5ECF6\",\"radialaxis\":{\"gridcolor\":\"white\",\"linecolor\":\"white\",\"ticks\":\"\"}},\"scene\":{\"xaxis\":{\"backgroundcolor\":\"#E5ECF6\",\"gridcolor\":\"white\",\"gridwidth\":2,\"linecolor\":\"white\",\"showbackground\":true,\"ticks\":\"\",\"zerolinecolor\":\"white\"},\"yaxis\":{\"backgroundcolor\":\"#E5ECF6\",\"gridcolor\":\"white\",\"gridwidth\":2,\"linecolor\":\"white\",\"showbackground\":true,\"ticks\":\"\",\"zerolinecolor\":\"white\"},\"zaxis\":{\"backgroundcolor\":\"#E5ECF6\",\"gridcolor\":\"white\",\"gridwidth\":2,\"linecolor\":\"white\",\"showbackground\":true,\"ticks\":\"\",\"zerolinecolor\":\"white\"}},\"shapedefaults\":{\"line\":{\"color\":\"#2a3f5f\"}},\"ternary\":{\"aaxis\":{\"gridcolor\":\"white\",\"linecolor\":\"white\",\"ticks\":\"\"},\"baxis\":{\"gridcolor\":\"white\",\"linecolor\":\"white\",\"ticks\":\"\"},\"bgcolor\":\"#E5ECF6\",\"caxis\":{\"gridcolor\":\"white\",\"linecolor\":\"white\",\"ticks\":\"\"}},\"title\":{\"x\":0.05},\"xaxis\":{\"automargin\":true,\"gridcolor\":\"white\",\"linecolor\":\"white\",\"ticks\":\"\",\"title\":{\"standoff\":15},\"zerolinecolor\":\"white\",\"zerolinewidth\":2},\"yaxis\":{\"automargin\":true,\"gridcolor\":\"white\",\"linecolor\":\"white\",\"ticks\":\"\",\"title\":{\"standoff\":15},\"zerolinecolor\":\"white\",\"zerolinewidth\":2}}},\"xaxis\":{\"anchor\":\"y\",\"domain\":[0.0,1.0],\"title\":{\"text\":\"month\"},\"categoryorder\":\"total descending\"},\"yaxis\":{\"anchor\":\"x\",\"domain\":[0.0,1.0],\"title\":{\"text\":\"count\"}},\"legend\":{\"title\":{\"text\":\"overall_rating\"},\"tracegroupgap\":0},\"margin\":{\"t\":60},\"barmode\":\"relative\"},                        {\"responsive\": true}                    ).then(function(){\n",
              "                            \n",
              "var gd = document.getElementById('264bd30f-e249-4843-81f6-d115984bd4a9');\n",
              "var x = new MutationObserver(function (mutations, observer) {{\n",
              "        var display = window.getComputedStyle(gd).display;\n",
              "        if (!display || display === 'none') {{\n",
              "            console.log([gd, 'removed!']);\n",
              "            Plotly.purge(gd);\n",
              "            observer.disconnect();\n",
              "        }}\n",
              "}});\n",
              "\n",
              "// Listen for the removal of the full notebook cells\n",
              "var notebookContainer = gd.closest('#notebook-container');\n",
              "if (notebookContainer) {{\n",
              "    x.observe(notebookContainer, {childList: true});\n",
              "}}\n",
              "\n",
              "// Listen for the clearing of the current output cell\n",
              "var outputEl = gd.closest('.output');\n",
              "if (outputEl) {{\n",
              "    x.observe(outputEl, {childList: true});\n",
              "}}\n",
              "\n",
              "                        })                };                            </script>        </div>\n",
              "</body>\n",
              "</html>"
            ]
          },
          "metadata": {}
        }
      ]
    },
    {
      "cell_type": "markdown",
      "source": [
        "### third finding\n",
        "\n",
        "Users reviewed BA more during Sep, Oct, and Nov. Fourth quarter of the year\n",
        "\n",
        "the majority of rating each months are: 1 (green), 2 (purple), and 3(hard_pink).\n",
        "\n",
        "it dosen't matter which month the bad ratings represents the majority."
      ],
      "metadata": {
        "id": "ZQ_V2zI-n7Jv"
      }
    },
    {
      "cell_type": "markdown",
      "source": [
        "## Visualizing the rating percentage of each category (seating_comfort, staff_service, food_quality,entertainment, wifi, ground_service, value_for_money)after drop Nan values seperatly"
      ],
      "metadata": {
        "id": "rYFNgJN1N6OS"
      }
    },
    {
      "cell_type": "markdown",
      "source": [
        "### seating_comfort"
      ],
      "metadata": {
        "id": "66_Ge1RcO70t"
      }
    },
    {
      "cell_type": "code",
      "source": [
        "data.head(2)"
      ],
      "metadata": {
        "id": "pVkdKX2yJ4Rr",
        "colab": {
          "base_uri": "https://localhost:8080/",
          "height": 402
        },
        "outputId": "800aa154-c39c-4d76-916f-eeb746650cc1"
      },
      "execution_count": null,
      "outputs": [
        {
          "output_type": "execute_result",
          "data": {
            "text/plain": [
              "             status        aircraft     travel_type   travel_class  \\\n",
              "0  ✅ Trip Verified   Boeing 777-200  Family Leisure  Economy Class   \n",
              "1     Not Verified             A380  Family Leisure  Economy Class   \n",
              "\n",
              "               route       date  seating_comfort  staff_service  food_quality  \\\n",
              "0  Atlanta to London 2023-01-01                1              1             1   \n",
              "1  London to Chicago 2022-12-01                3              2             3   \n",
              "\n",
              "   entertainment  wifi  ground_service  value_for_money recommended  \\\n",
              "0              3  <NA>               1                2          no   \n",
              "1              4  <NA>               3                2          no   \n",
              "\n",
              "   overall_rating                                             review   rating  \\\n",
              "0               4    Flew ATL to LHR 8th Jan 2023. Was unlucky en...      bad   \n",
              "1               5    Great thing about British Airways A380 is th...  average   \n",
              "\n",
              "   month  year  \n",
              "0      1  2023  \n",
              "1     12  2022  "
            ],
            "text/html": [
              "\n",
              "  <div id=\"df-9dbf143c-3956-4f73-a346-99e2ba8e6b35\">\n",
              "    <div class=\"colab-df-container\">\n",
              "      <div>\n",
              "<style scoped>\n",
              "    .dataframe tbody tr th:only-of-type {\n",
              "        vertical-align: middle;\n",
              "    }\n",
              "\n",
              "    .dataframe tbody tr th {\n",
              "        vertical-align: top;\n",
              "    }\n",
              "\n",
              "    .dataframe thead th {\n",
              "        text-align: right;\n",
              "    }\n",
              "</style>\n",
              "<table border=\"1\" class=\"dataframe\">\n",
              "  <thead>\n",
              "    <tr style=\"text-align: right;\">\n",
              "      <th></th>\n",
              "      <th>status</th>\n",
              "      <th>aircraft</th>\n",
              "      <th>travel_type</th>\n",
              "      <th>travel_class</th>\n",
              "      <th>route</th>\n",
              "      <th>date</th>\n",
              "      <th>seating_comfort</th>\n",
              "      <th>staff_service</th>\n",
              "      <th>food_quality</th>\n",
              "      <th>entertainment</th>\n",
              "      <th>wifi</th>\n",
              "      <th>ground_service</th>\n",
              "      <th>value_for_money</th>\n",
              "      <th>recommended</th>\n",
              "      <th>overall_rating</th>\n",
              "      <th>review</th>\n",
              "      <th>rating</th>\n",
              "      <th>month</th>\n",
              "      <th>year</th>\n",
              "    </tr>\n",
              "  </thead>\n",
              "  <tbody>\n",
              "    <tr>\n",
              "      <th>0</th>\n",
              "      <td>✅ Trip Verified</td>\n",
              "      <td>Boeing 777-200</td>\n",
              "      <td>Family Leisure</td>\n",
              "      <td>Economy Class</td>\n",
              "      <td>Atlanta to London</td>\n",
              "      <td>2023-01-01</td>\n",
              "      <td>1</td>\n",
              "      <td>1</td>\n",
              "      <td>1</td>\n",
              "      <td>3</td>\n",
              "      <td>&lt;NA&gt;</td>\n",
              "      <td>1</td>\n",
              "      <td>2</td>\n",
              "      <td>no</td>\n",
              "      <td>4</td>\n",
              "      <td>Flew ATL to LHR 8th Jan 2023. Was unlucky en...</td>\n",
              "      <td>bad</td>\n",
              "      <td>1</td>\n",
              "      <td>2023</td>\n",
              "    </tr>\n",
              "    <tr>\n",
              "      <th>1</th>\n",
              "      <td>Not Verified</td>\n",
              "      <td>A380</td>\n",
              "      <td>Family Leisure</td>\n",
              "      <td>Economy Class</td>\n",
              "      <td>London to Chicago</td>\n",
              "      <td>2022-12-01</td>\n",
              "      <td>3</td>\n",
              "      <td>2</td>\n",
              "      <td>3</td>\n",
              "      <td>4</td>\n",
              "      <td>&lt;NA&gt;</td>\n",
              "      <td>3</td>\n",
              "      <td>2</td>\n",
              "      <td>no</td>\n",
              "      <td>5</td>\n",
              "      <td>Great thing about British Airways A380 is th...</td>\n",
              "      <td>average</td>\n",
              "      <td>12</td>\n",
              "      <td>2022</td>\n",
              "    </tr>\n",
              "  </tbody>\n",
              "</table>\n",
              "</div>\n",
              "      <button class=\"colab-df-convert\" onclick=\"convertToInteractive('df-9dbf143c-3956-4f73-a346-99e2ba8e6b35')\"\n",
              "              title=\"Convert this dataframe to an interactive table.\"\n",
              "              style=\"display:none;\">\n",
              "        \n",
              "  <svg xmlns=\"http://www.w3.org/2000/svg\" height=\"24px\"viewBox=\"0 0 24 24\"\n",
              "       width=\"24px\">\n",
              "    <path d=\"M0 0h24v24H0V0z\" fill=\"none\"/>\n",
              "    <path d=\"M18.56 5.44l.94 2.06.94-2.06 2.06-.94-2.06-.94-.94-2.06-.94 2.06-2.06.94zm-11 1L8.5 8.5l.94-2.06 2.06-.94-2.06-.94L8.5 2.5l-.94 2.06-2.06.94zm10 10l.94 2.06.94-2.06 2.06-.94-2.06-.94-.94-2.06-.94 2.06-2.06.94z\"/><path d=\"M17.41 7.96l-1.37-1.37c-.4-.4-.92-.59-1.43-.59-.52 0-1.04.2-1.43.59L10.3 9.45l-7.72 7.72c-.78.78-.78 2.05 0 2.83L4 21.41c.39.39.9.59 1.41.59.51 0 1.02-.2 1.41-.59l7.78-7.78 2.81-2.81c.8-.78.8-2.07 0-2.86zM5.41 20L4 18.59l7.72-7.72 1.47 1.35L5.41 20z\"/>\n",
              "  </svg>\n",
              "      </button>\n",
              "      \n",
              "  <style>\n",
              "    .colab-df-container {\n",
              "      display:flex;\n",
              "      flex-wrap:wrap;\n",
              "      gap: 12px;\n",
              "    }\n",
              "\n",
              "    .colab-df-convert {\n",
              "      background-color: #E8F0FE;\n",
              "      border: none;\n",
              "      border-radius: 50%;\n",
              "      cursor: pointer;\n",
              "      display: none;\n",
              "      fill: #1967D2;\n",
              "      height: 32px;\n",
              "      padding: 0 0 0 0;\n",
              "      width: 32px;\n",
              "    }\n",
              "\n",
              "    .colab-df-convert:hover {\n",
              "      background-color: #E2EBFA;\n",
              "      box-shadow: 0px 1px 2px rgba(60, 64, 67, 0.3), 0px 1px 3px 1px rgba(60, 64, 67, 0.15);\n",
              "      fill: #174EA6;\n",
              "    }\n",
              "\n",
              "    [theme=dark] .colab-df-convert {\n",
              "      background-color: #3B4455;\n",
              "      fill: #D2E3FC;\n",
              "    }\n",
              "\n",
              "    [theme=dark] .colab-df-convert:hover {\n",
              "      background-color: #434B5C;\n",
              "      box-shadow: 0px 1px 3px 1px rgba(0, 0, 0, 0.15);\n",
              "      filter: drop-shadow(0px 1px 2px rgba(0, 0, 0, 0.3));\n",
              "      fill: #FFFFFF;\n",
              "    }\n",
              "  </style>\n",
              "\n",
              "      <script>\n",
              "        const buttonEl =\n",
              "          document.querySelector('#df-9dbf143c-3956-4f73-a346-99e2ba8e6b35 button.colab-df-convert');\n",
              "        buttonEl.style.display =\n",
              "          google.colab.kernel.accessAllowed ? 'block' : 'none';\n",
              "\n",
              "        async function convertToInteractive(key) {\n",
              "          const element = document.querySelector('#df-9dbf143c-3956-4f73-a346-99e2ba8e6b35');\n",
              "          const dataTable =\n",
              "            await google.colab.kernel.invokeFunction('convertToInteractive',\n",
              "                                                     [key], {});\n",
              "          if (!dataTable) return;\n",
              "\n",
              "          const docLinkHtml = 'Like what you see? Visit the ' +\n",
              "            '<a target=\"_blank\" href=https://colab.research.google.com/notebooks/data_table.ipynb>data table notebook</a>'\n",
              "            + ' to learn more about interactive tables.';\n",
              "          element.innerHTML = '';\n",
              "          dataTable['output_type'] = 'display_data';\n",
              "          await google.colab.output.renderOutput(dataTable, element);\n",
              "          const docLink = document.createElement('div');\n",
              "          docLink.innerHTML = docLinkHtml;\n",
              "          element.appendChild(docLink);\n",
              "        }\n",
              "      </script>\n",
              "    </div>\n",
              "  </div>\n",
              "  "
            ]
          },
          "metadata": {},
          "execution_count": 32
        }
      ]
    },
    {
      "cell_type": "code",
      "source": [
        "data_seating_comfort = data[['seating_comfort', 'rating']].copy()"
      ],
      "metadata": {
        "id": "w0237JTaJ4T_"
      },
      "execution_count": null,
      "outputs": []
    },
    {
      "cell_type": "code",
      "source": [
        "data_seating_comfort.shape"
      ],
      "metadata": {
        "id": "fxSRNr4RJ4WC",
        "colab": {
          "base_uri": "https://localhost:8080/"
        },
        "outputId": "8369ad2f-a552-4c7c-c5b3-9d3dd1220e36"
      },
      "execution_count": null,
      "outputs": [
        {
          "output_type": "execute_result",
          "data": {
            "text/plain": [
              "(3424, 2)"
            ]
          },
          "metadata": {},
          "execution_count": 34
        }
      ]
    },
    {
      "cell_type": "code",
      "source": [
        "data_seating_comfort.info()"
      ],
      "metadata": {
        "id": "YN76YYycJ4YQ",
        "colab": {
          "base_uri": "https://localhost:8080/"
        },
        "outputId": "619d1b08-1e93-4e73-e9c9-6c746c8fde3b"
      },
      "execution_count": null,
      "outputs": [
        {
          "output_type": "stream",
          "name": "stdout",
          "text": [
            "<class 'pandas.core.frame.DataFrame'>\n",
            "Int64Index: 3424 entries, 0 to 3429\n",
            "Data columns (total 2 columns):\n",
            " #   Column           Non-Null Count  Dtype \n",
            "---  ------           --------------  ----- \n",
            " 0   seating_comfort  3326 non-null   Int64 \n",
            " 1   rating           3424 non-null   object\n",
            "dtypes: Int64(1), object(1)\n",
            "memory usage: 212.6+ KB\n"
          ]
        }
      ]
    },
    {
      "cell_type": "code",
      "source": [
        "# we notice that we have more than 100 Nan values. we wil drop them.\n",
        "\n",
        "data_seating_comfort.dropna(inplace=True)"
      ],
      "metadata": {
        "id": "qwQJE17xJ4ct"
      },
      "execution_count": null,
      "outputs": []
    },
    {
      "cell_type": "code",
      "source": [
        "data_seating_comfort.seating_comfort.value_counts().sort_index()"
      ],
      "metadata": {
        "id": "-uUoP56pJ4jR",
        "colab": {
          "base_uri": "https://localhost:8080/"
        },
        "outputId": "5db7895c-d966-4f96-fef4-9ad4b5c2bb6b"
      },
      "execution_count": null,
      "outputs": [
        {
          "output_type": "execute_result",
          "data": {
            "text/plain": [
              "1    738\n",
              "2    556\n",
              "3    787\n",
              "4    767\n",
              "5    478\n",
              "Name: seating_comfort, dtype: Int64"
            ]
          },
          "metadata": {},
          "execution_count": 37
        }
      ]
    },
    {
      "cell_type": "code",
      "source": [
        "seating_comfort_list = data_seating_comfort.seating_comfort.value_counts().sort_index().tolist()"
      ],
      "metadata": {
        "id": "zsqiMkLCJ4lo"
      },
      "execution_count": null,
      "outputs": []
    },
    {
      "cell_type": "code",
      "source": [
        "seating_comfort_list"
      ],
      "metadata": {
        "id": "cUetbfOqlnG8",
        "colab": {
          "base_uri": "https://localhost:8080/"
        },
        "outputId": "1d88e38c-1443-41f8-d276-e17ace1cb0e8"
      },
      "execution_count": null,
      "outputs": [
        {
          "output_type": "execute_result",
          "data": {
            "text/plain": [
              "[738, 556, 787, 767, 478]"
            ]
          },
          "metadata": {},
          "execution_count": 39
        }
      ]
    },
    {
      "cell_type": "markdown",
      "source": [
        "### staff_service"
      ],
      "metadata": {
        "id": "OrQouoSIReis"
      }
    },
    {
      "cell_type": "code",
      "source": [
        "staff_service_data = data[['staff_service']].copy()"
      ],
      "metadata": {
        "id": "RsTFnVb0lnJX"
      },
      "execution_count": null,
      "outputs": []
    },
    {
      "cell_type": "code",
      "source": [
        "staff_service_data.info()"
      ],
      "metadata": {
        "colab": {
          "base_uri": "https://localhost:8080/"
        },
        "id": "5zqg6Fc4RcwA",
        "outputId": "808e447a-9ddc-4d4e-e3a8-5386093bb78a"
      },
      "execution_count": null,
      "outputs": [
        {
          "output_type": "stream",
          "name": "stdout",
          "text": [
            "<class 'pandas.core.frame.DataFrame'>\n",
            "Int64Index: 3424 entries, 0 to 3429\n",
            "Data columns (total 1 columns):\n",
            " #   Column         Non-Null Count  Dtype\n",
            "---  ------         --------------  -----\n",
            " 0   staff_service  3318 non-null   Int64\n",
            "dtypes: Int64(1)\n",
            "memory usage: 185.9 KB\n"
          ]
        }
      ]
    },
    {
      "cell_type": "code",
      "source": [
        "staff_service_data.dropna(inplace=True)"
      ],
      "metadata": {
        "id": "OnI1R53LRczN"
      },
      "execution_count": null,
      "outputs": []
    },
    {
      "cell_type": "code",
      "source": [
        "staff_service_list = staff_service_data.staff_service.value_counts().sort_index().tolist()"
      ],
      "metadata": {
        "id": "p6UsYtW3Rc2R"
      },
      "execution_count": null,
      "outputs": []
    },
    {
      "cell_type": "code",
      "source": [
        "staff_service_list"
      ],
      "metadata": {
        "colab": {
          "base_uri": "https://localhost:8080/"
        },
        "id": "Wxw43lGeRc5U",
        "outputId": "d0764056-665b-4254-873e-57202e318b3e"
      },
      "execution_count": null,
      "outputs": [
        {
          "output_type": "execute_result",
          "data": {
            "text/plain": [
              "[625, 467, 551, 682, 993]"
            ]
          },
          "metadata": {},
          "execution_count": 44
        }
      ]
    },
    {
      "cell_type": "markdown",
      "source": [
        "### food_quality"
      ],
      "metadata": {
        "id": "UFatIVyiUMX7"
      }
    },
    {
      "cell_type": "code",
      "source": [
        "food_quality_data = data[['food_quality', 'rating']].copy()"
      ],
      "metadata": {
        "id": "Ivon1-QDRc8F"
      },
      "execution_count": null,
      "outputs": []
    },
    {
      "cell_type": "code",
      "source": [
        "food_quality_data.food_quality.value_counts()"
      ],
      "metadata": {
        "colab": {
          "base_uri": "https://localhost:8080/"
        },
        "id": "aPafOOSCUxMX",
        "outputId": "24bdbe17-0eb1-4d3d-ee37-d97de79d1e04"
      },
      "execution_count": null,
      "outputs": [
        {
          "output_type": "execute_result",
          "data": {
            "text/plain": [
              "1    900\n",
              "4    627\n",
              "3    570\n",
              "2    533\n",
              "5    459\n",
              "0      2\n",
              "Name: food_quality, dtype: Int64"
            ]
          },
          "metadata": {},
          "execution_count": 46
        }
      ]
    },
    {
      "cell_type": "code",
      "source": [
        "food_quality_data.info()"
      ],
      "metadata": {
        "colab": {
          "base_uri": "https://localhost:8080/"
        },
        "id": "8VMHkRs4Rc-j",
        "outputId": "d35c44d6-d2aa-4fec-fd51-d990a4389023"
      },
      "execution_count": null,
      "outputs": [
        {
          "output_type": "stream",
          "name": "stdout",
          "text": [
            "<class 'pandas.core.frame.DataFrame'>\n",
            "Int64Index: 3424 entries, 0 to 3429\n",
            "Data columns (total 2 columns):\n",
            " #   Column        Non-Null Count  Dtype \n",
            "---  ------        --------------  ----- \n",
            " 0   food_quality  3091 non-null   Int64 \n",
            " 1   rating        3424 non-null   object\n",
            "dtypes: Int64(1), object(1)\n",
            "memory usage: 212.6+ KB\n"
          ]
        }
      ]
    },
    {
      "cell_type": "code",
      "source": [
        "food_quality_data.dropna(inplace=True)"
      ],
      "metadata": {
        "id": "D8oIdnPmRdBK"
      },
      "execution_count": null,
      "outputs": []
    },
    {
      "cell_type": "code",
      "source": [
        "food_quality_list = food_quality_data.food_quality.value_counts().sort_index().tolist()"
      ],
      "metadata": {
        "id": "pJRfsu-IRdDv"
      },
      "execution_count": null,
      "outputs": []
    },
    {
      "cell_type": "code",
      "source": [
        "del food_quality_list[0]\n",
        "food_quality_list"
      ],
      "metadata": {
        "colab": {
          "base_uri": "https://localhost:8080/"
        },
        "id": "SRt_kCItRdGX",
        "outputId": "9f3a95fd-3a80-43ee-e6c7-f49820c05ec7"
      },
      "execution_count": null,
      "outputs": [
        {
          "output_type": "execute_result",
          "data": {
            "text/plain": [
              "[900, 533, 570, 627, 459]"
            ]
          },
          "metadata": {},
          "execution_count": 50
        }
      ]
    },
    {
      "cell_type": "markdown",
      "source": [
        "### entertainment"
      ],
      "metadata": {
        "id": "fVYeosCdVOYx"
      }
    },
    {
      "cell_type": "code",
      "source": [
        "entertainment_data = data[['entertainment', 'rating']].copy()"
      ],
      "metadata": {
        "id": "0LPDcxUrVb2c"
      },
      "execution_count": null,
      "outputs": []
    },
    {
      "cell_type": "code",
      "source": [
        "entertainment_data.entertainment.value_counts()"
      ],
      "metadata": {
        "colab": {
          "base_uri": "https://localhost:8080/"
        },
        "id": "obXYOfMvVtV8",
        "outputId": "f5b8a92e-1c7f-4f73-f327-58b3b8959380"
      },
      "execution_count": null,
      "outputs": [
        {
          "output_type": "execute_result",
          "data": {
            "text/plain": [
              "1    722\n",
              "3    511\n",
              "4    441\n",
              "2    421\n",
              "5    301\n",
              "0      6\n",
              "Name: entertainment, dtype: Int64"
            ]
          },
          "metadata": {},
          "execution_count": 52
        }
      ]
    },
    {
      "cell_type": "code",
      "source": [
        "entertainment_data.dropna(inplace=True)"
      ],
      "metadata": {
        "id": "fVdUxmYzXrgh"
      },
      "execution_count": null,
      "outputs": []
    },
    {
      "cell_type": "code",
      "source": [
        "entertainment_list = entertainment_data.entertainment.value_counts().sort_index().tolist()"
      ],
      "metadata": {
        "id": "YQdb8h9-XrjV"
      },
      "execution_count": null,
      "outputs": []
    },
    {
      "cell_type": "code",
      "source": [
        "del entertainment_list[0]\n",
        "entertainment_list\n"
      ],
      "metadata": {
        "colab": {
          "base_uri": "https://localhost:8080/"
        },
        "id": "6VqeoBxnXrpL",
        "outputId": "61be4c8a-8e92-4a00-9641-71db24834e3f"
      },
      "execution_count": null,
      "outputs": [
        {
          "output_type": "execute_result",
          "data": {
            "text/plain": [
              "[722, 421, 511, 441, 301]"
            ]
          },
          "metadata": {},
          "execution_count": 55
        }
      ]
    },
    {
      "cell_type": "markdown",
      "source": [
        "### wifi"
      ],
      "metadata": {
        "id": "7BsDZv89VSAq"
      }
    },
    {
      "cell_type": "code",
      "source": [
        "wifi_data = data[['wifi', 'rating']].copy()"
      ],
      "metadata": {
        "id": "vy7N6pxTVcKJ"
      },
      "execution_count": null,
      "outputs": []
    },
    {
      "cell_type": "code",
      "source": [
        "wifi_data.wifi.value_counts()"
      ],
      "metadata": {
        "colab": {
          "base_uri": "https://localhost:8080/"
        },
        "id": "hL-v-uKbVtsZ",
        "outputId": "a884831e-4824-4264-996c-d9195ce61c57"
      },
      "execution_count": null,
      "outputs": [
        {
          "output_type": "execute_result",
          "data": {
            "text/plain": [
              "1    309\n",
              "3     60\n",
              "2     57\n",
              "5     46\n",
              "4     39\n",
              "Name: wifi, dtype: Int64"
            ]
          },
          "metadata": {},
          "execution_count": 57
        }
      ]
    },
    {
      "cell_type": "code",
      "source": [
        "wifi_data.dropna(inplace=True)"
      ],
      "metadata": {
        "id": "rqqhX3geXsJs"
      },
      "execution_count": null,
      "outputs": []
    },
    {
      "cell_type": "code",
      "source": [
        "wifi_list = wifi_data.wifi.value_counts().sort_index().tolist()"
      ],
      "metadata": {
        "id": "s3mbbcCVXsMH"
      },
      "execution_count": null,
      "outputs": []
    },
    {
      "cell_type": "code",
      "source": [
        "wifi_list"
      ],
      "metadata": {
        "colab": {
          "base_uri": "https://localhost:8080/"
        },
        "id": "u1x8qBH3XsOr",
        "outputId": "b2dc9a4a-67dc-4461-e450-87948353e70e"
      },
      "execution_count": null,
      "outputs": [
        {
          "output_type": "execute_result",
          "data": {
            "text/plain": [
              "[309, 57, 60, 39, 46]"
            ]
          },
          "metadata": {},
          "execution_count": 60
        }
      ]
    },
    {
      "cell_type": "markdown",
      "source": [
        "### ground_service"
      ],
      "metadata": {
        "id": "updtnBDjVSDR"
      }
    },
    {
      "cell_type": "code",
      "source": [
        "ground_service_data = data[['ground_service', 'rating']].copy()"
      ],
      "metadata": {
        "id": "DvYTrudhVcg2"
      },
      "execution_count": null,
      "outputs": []
    },
    {
      "cell_type": "code",
      "source": [
        "ground_service_data.ground_service.value_counts()"
      ],
      "metadata": {
        "colab": {
          "base_uri": "https://localhost:8080/"
        },
        "id": "ge1y-yjDVuNS",
        "outputId": "4420ace7-4926-4c71-a7ba-5d7d68fa702b"
      },
      "execution_count": null,
      "outputs": [
        {
          "output_type": "execute_result",
          "data": {
            "text/plain": [
              "1    744\n",
              "4    597\n",
              "3    535\n",
              "5    404\n",
              "2    337\n",
              "Name: ground_service, dtype: Int64"
            ]
          },
          "metadata": {},
          "execution_count": 62
        }
      ]
    },
    {
      "cell_type": "code",
      "source": [
        "ground_service_data.dropna(inplace=True)"
      ],
      "metadata": {
        "id": "8g91Vh-SVuPd"
      },
      "execution_count": null,
      "outputs": []
    },
    {
      "cell_type": "code",
      "source": [
        "ground_service_list = ground_service_data.ground_service.value_counts().sort_index().tolist()"
      ],
      "metadata": {
        "id": "kmM9yKncXsqx"
      },
      "execution_count": null,
      "outputs": []
    },
    {
      "cell_type": "code",
      "source": [
        "ground_service_list"
      ],
      "metadata": {
        "colab": {
          "base_uri": "https://localhost:8080/"
        },
        "id": "rm6fe-bYXstN",
        "outputId": "5c142e65-8d83-4e12-c9a3-7694219afe0d"
      },
      "execution_count": null,
      "outputs": [
        {
          "output_type": "execute_result",
          "data": {
            "text/plain": [
              "[744, 337, 535, 597, 404]"
            ]
          },
          "metadata": {},
          "execution_count": 65
        }
      ]
    },
    {
      "cell_type": "markdown",
      "source": [
        "### value_for_money"
      ],
      "metadata": {
        "id": "M4CUqfYlVSFb"
      }
    },
    {
      "cell_type": "code",
      "source": [
        "value_for_money_data = data[['value_for_money', 'rating']].copy()"
      ],
      "metadata": {
        "id": "D3vOup-PlnLd"
      },
      "execution_count": null,
      "outputs": []
    },
    {
      "cell_type": "code",
      "source": [
        "value_for_money_data.value_for_money.value_counts()"
      ],
      "metadata": {
        "colab": {
          "base_uri": "https://localhost:8080/"
        },
        "id": "GF9EDZekVNvj",
        "outputId": "7cebda6f-0318-427b-baf5-a9bceead2700"
      },
      "execution_count": null,
      "outputs": [
        {
          "output_type": "execute_result",
          "data": {
            "text/plain": [
              "1    1055\n",
              "4     641\n",
              "3     635\n",
              "5     562\n",
              "2     531\n",
              "Name: value_for_money, dtype: Int64"
            ]
          },
          "metadata": {},
          "execution_count": 67
        }
      ]
    },
    {
      "cell_type": "code",
      "source": [
        "value_for_money_data.dropna(inplace=True)"
      ],
      "metadata": {
        "id": "xfffjqTLVNx4"
      },
      "execution_count": null,
      "outputs": []
    },
    {
      "cell_type": "code",
      "source": [
        "value_for_money_list = value_for_money_data.value_for_money.value_counts().sort_index().tolist()"
      ],
      "metadata": {
        "id": "QWecVLOWVN0V"
      },
      "execution_count": null,
      "outputs": []
    },
    {
      "cell_type": "code",
      "source": [
        "value_for_money_list"
      ],
      "metadata": {
        "colab": {
          "base_uri": "https://localhost:8080/"
        },
        "id": "M9b9N1ZfVN22",
        "outputId": "699094de-eab3-44d8-8a92-68cf00095d61"
      },
      "execution_count": null,
      "outputs": [
        {
          "output_type": "execute_result",
          "data": {
            "text/plain": [
              "[1055, 531, 635, 641, 562]"
            ]
          },
          "metadata": {},
          "execution_count": 70
        }
      ]
    },
    {
      "cell_type": "markdown",
      "source": [
        "### Time to visualize"
      ],
      "metadata": {
        "id": "GSjy3NbsZAIv"
      }
    },
    {
      "cell_type": "code",
      "source": [
        "data.rating.value_counts()"
      ],
      "metadata": {
        "colab": {
          "base_uri": "https://localhost:8080/"
        },
        "id": "uDok1m1AZuKP",
        "outputId": "17aab21d-79ad-4f8a-bf14-5f85266c5c7d"
      },
      "execution_count": null,
      "outputs": [
        {
          "output_type": "execute_result",
          "data": {
            "text/plain": [
              "bad        1742\n",
              "good        971\n",
              "average     711\n",
              "Name: rating, dtype: int64"
            ]
          },
          "metadata": {},
          "execution_count": 71
        }
      ]
    },
    {
      "cell_type": "code",
      "source": [
        "data.columns"
      ],
      "metadata": {
        "colab": {
          "base_uri": "https://localhost:8080/"
        },
        "id": "4f-49uzwY_Wp",
        "outputId": "7946d690-bb1b-45af-c23d-4a121e1de334"
      },
      "execution_count": null,
      "outputs": [
        {
          "output_type": "execute_result",
          "data": {
            "text/plain": [
              "Index(['status', 'aircraft', 'travel_type', 'travel_class', 'route', 'date',\n",
              "       'seating_comfort', 'staff_service', 'food_quality', 'entertainment',\n",
              "       'wifi', 'ground_service', 'value_for_money', 'recommended',\n",
              "       'overall_rating', 'review', 'rating', 'month', 'year'],\n",
              "      dtype='object')"
            ]
          },
          "metadata": {},
          "execution_count": 72
        }
      ]
    },
    {
      "cell_type": "code",
      "source": [
        "seating_comfort_list"
      ],
      "metadata": {
        "colab": {
          "base_uri": "https://localhost:8080/"
        },
        "id": "kRED-XQsY_d0",
        "outputId": "f3cbe038-779c-4157-8fca-328223113e4e"
      },
      "execution_count": null,
      "outputs": [
        {
          "output_type": "execute_result",
          "data": {
            "text/plain": [
              "[738, 556, 787, 767, 478]"
            ]
          },
          "metadata": {},
          "execution_count": 73
        }
      ]
    },
    {
      "cell_type": "code",
      "source": [
        "staff_service_list"
      ],
      "metadata": {
        "colab": {
          "base_uri": "https://localhost:8080/"
        },
        "id": "V9wr5he6Y_gP",
        "outputId": "53a344d7-eb05-497b-83e7-5bc74818a1aa"
      },
      "execution_count": null,
      "outputs": [
        {
          "output_type": "execute_result",
          "data": {
            "text/plain": [
              "[625, 467, 551, 682, 993]"
            ]
          },
          "metadata": {},
          "execution_count": 74
        }
      ]
    },
    {
      "cell_type": "code",
      "source": [
        "food_quality_list"
      ],
      "metadata": {
        "colab": {
          "base_uri": "https://localhost:8080/"
        },
        "id": "D_Ko_MwpY_iW",
        "outputId": "b80552ca-0d83-4b4f-9090-df651277e7b8"
      },
      "execution_count": null,
      "outputs": [
        {
          "output_type": "execute_result",
          "data": {
            "text/plain": [
              "[900, 533, 570, 627, 459]"
            ]
          },
          "metadata": {},
          "execution_count": 75
        }
      ]
    },
    {
      "cell_type": "code",
      "source": [
        "entertainment_list"
      ],
      "metadata": {
        "colab": {
          "base_uri": "https://localhost:8080/"
        },
        "id": "NBmo2lPWVN7o",
        "outputId": "6908b566-b588-4c82-dea6-b6c0bab70c9a"
      },
      "execution_count": null,
      "outputs": [
        {
          "output_type": "execute_result",
          "data": {
            "text/plain": [
              "[722, 421, 511, 441, 301]"
            ]
          },
          "metadata": {},
          "execution_count": 76
        }
      ]
    },
    {
      "cell_type": "code",
      "source": [
        "wifi_list"
      ],
      "metadata": {
        "colab": {
          "base_uri": "https://localhost:8080/"
        },
        "id": "LGuPVFK0VN9l",
        "outputId": "4491d4ce-8e0c-4804-e0ca-d62f40ede47c"
      },
      "execution_count": null,
      "outputs": [
        {
          "output_type": "execute_result",
          "data": {
            "text/plain": [
              "[309, 57, 60, 39, 46]"
            ]
          },
          "metadata": {},
          "execution_count": 77
        }
      ]
    },
    {
      "cell_type": "code",
      "source": [
        "ground_service_list"
      ],
      "metadata": {
        "colab": {
          "base_uri": "https://localhost:8080/"
        },
        "id": "pwniRCe7ZLmZ",
        "outputId": "dc31e248-3aa2-479d-a4ee-2cdede64c119"
      },
      "execution_count": null,
      "outputs": [
        {
          "output_type": "execute_result",
          "data": {
            "text/plain": [
              "[744, 337, 535, 597, 404]"
            ]
          },
          "metadata": {},
          "execution_count": 78
        }
      ]
    },
    {
      "cell_type": "code",
      "source": [
        "value_for_money_list"
      ],
      "metadata": {
        "colab": {
          "base_uri": "https://localhost:8080/"
        },
        "id": "Hk6AO4PqZLo5",
        "outputId": "739f8069-0918-49f1-f990-08ecfebe193b"
      },
      "execution_count": null,
      "outputs": [
        {
          "output_type": "execute_result",
          "data": {
            "text/plain": [
              "[1055, 531, 635, 641, 562]"
            ]
          },
          "metadata": {},
          "execution_count": 79
        }
      ]
    },
    {
      "cell_type": "code",
      "source": [
        "names = ['seating_comfort','staff_service','food_quality','entertainment','wifi','ground_service','value_for_money']\n",
        "\n",
        "raw_data = {'one_star': [738,625,900,722,309,744,1055], 'two_stars': [556,467,533,421,57,337,531], 'three_stars': [787,551,570,511,60,535,635], 'four_stars': [767,682,627,441,39,597,641], 'five_stars': [478,993,459,301,46,404,562]}\n",
        "df = pd.DataFrame(raw_data)\n",
        "\n",
        "# From raw value to percentage\n",
        "totals = [i+j+k+l+m for i,j,k,l,m in zip(df['one_star'], df['two_stars'], df['three_stars'], df['four_stars'], df['five_stars'])]\n",
        "\n",
        "one_star_norm = [i / j * 100 for i,j in zip(df['one_star'], totals)]\n",
        "two_stars_norm = [i / j * 100 for i,j in zip(df['two_stars'], totals)]\n",
        "three_stars_norm = [i / j * 100 for i,j in zip(df['three_stars'], totals)]\n",
        "four_stars_norm = [i / j * 100 for i,j in zip(df['four_stars'], totals)]\n",
        "five_stars_norm = [i / j * 100 for i,j in zip(df['five_stars'], totals)]\n"
      ],
      "metadata": {
        "id": "GgJQJy1-fKsG"
      },
      "execution_count": null,
      "outputs": []
    },
    {
      "cell_type": "code",
      "source": [
        "df_viz = pd.DataFrame()\n",
        "df_viz['features'] = names\n",
        "df_viz['one_star'] = one_star_norm\n",
        "df_viz['two_stars'] = two_stars_norm\n",
        "df_viz['three_stars'] = three_stars_norm\n",
        "df_viz['four_stars'] = four_stars_norm\n",
        "df_viz['five_stars'] = five_stars_norm"
      ],
      "metadata": {
        "id": "lM8suLr7kokz"
      },
      "execution_count": null,
      "outputs": []
    },
    {
      "cell_type": "code",
      "source": [
        "df_viz"
      ],
      "metadata": {
        "colab": {
          "base_uri": "https://localhost:8080/",
          "height": 269
        },
        "id": "2Lzrp1E8konR",
        "outputId": "53d22760-4621-463a-c9f0-b3cb6e975a4a"
      },
      "execution_count": null,
      "outputs": [
        {
          "output_type": "execute_result",
          "data": {
            "text/plain": [
              "          features   one_star  two_stars  three_stars  four_stars  five_stars\n",
              "0  seating_comfort  22.188815  16.716777    23.662057   23.060734   14.371618\n",
              "1    staff_service  18.836649  14.074744    16.606389   20.554551   29.927667\n",
              "2     food_quality  29.135643  17.254775    18.452574   20.297831   14.859178\n",
              "3    entertainment  30.133556  17.570952    21.327212   18.405676   12.562604\n",
              "4             wifi  60.469667  11.154599    11.741683    7.632094    9.001957\n",
              "5   ground_service  28.429499  12.877340    20.443256   22.812381   15.437524\n",
              "6  value_for_money  30.811916  15.508178    18.545561   18.720794   16.413551"
            ],
            "text/html": [
              "\n",
              "  <div id=\"df-1958c493-fd73-4ea8-9271-98047a3d5e3f\">\n",
              "    <div class=\"colab-df-container\">\n",
              "      <div>\n",
              "<style scoped>\n",
              "    .dataframe tbody tr th:only-of-type {\n",
              "        vertical-align: middle;\n",
              "    }\n",
              "\n",
              "    .dataframe tbody tr th {\n",
              "        vertical-align: top;\n",
              "    }\n",
              "\n",
              "    .dataframe thead th {\n",
              "        text-align: right;\n",
              "    }\n",
              "</style>\n",
              "<table border=\"1\" class=\"dataframe\">\n",
              "  <thead>\n",
              "    <tr style=\"text-align: right;\">\n",
              "      <th></th>\n",
              "      <th>features</th>\n",
              "      <th>one_star</th>\n",
              "      <th>two_stars</th>\n",
              "      <th>three_stars</th>\n",
              "      <th>four_stars</th>\n",
              "      <th>five_stars</th>\n",
              "    </tr>\n",
              "  </thead>\n",
              "  <tbody>\n",
              "    <tr>\n",
              "      <th>0</th>\n",
              "      <td>seating_comfort</td>\n",
              "      <td>22.188815</td>\n",
              "      <td>16.716777</td>\n",
              "      <td>23.662057</td>\n",
              "      <td>23.060734</td>\n",
              "      <td>14.371618</td>\n",
              "    </tr>\n",
              "    <tr>\n",
              "      <th>1</th>\n",
              "      <td>staff_service</td>\n",
              "      <td>18.836649</td>\n",
              "      <td>14.074744</td>\n",
              "      <td>16.606389</td>\n",
              "      <td>20.554551</td>\n",
              "      <td>29.927667</td>\n",
              "    </tr>\n",
              "    <tr>\n",
              "      <th>2</th>\n",
              "      <td>food_quality</td>\n",
              "      <td>29.135643</td>\n",
              "      <td>17.254775</td>\n",
              "      <td>18.452574</td>\n",
              "      <td>20.297831</td>\n",
              "      <td>14.859178</td>\n",
              "    </tr>\n",
              "    <tr>\n",
              "      <th>3</th>\n",
              "      <td>entertainment</td>\n",
              "      <td>30.133556</td>\n",
              "      <td>17.570952</td>\n",
              "      <td>21.327212</td>\n",
              "      <td>18.405676</td>\n",
              "      <td>12.562604</td>\n",
              "    </tr>\n",
              "    <tr>\n",
              "      <th>4</th>\n",
              "      <td>wifi</td>\n",
              "      <td>60.469667</td>\n",
              "      <td>11.154599</td>\n",
              "      <td>11.741683</td>\n",
              "      <td>7.632094</td>\n",
              "      <td>9.001957</td>\n",
              "    </tr>\n",
              "    <tr>\n",
              "      <th>5</th>\n",
              "      <td>ground_service</td>\n",
              "      <td>28.429499</td>\n",
              "      <td>12.877340</td>\n",
              "      <td>20.443256</td>\n",
              "      <td>22.812381</td>\n",
              "      <td>15.437524</td>\n",
              "    </tr>\n",
              "    <tr>\n",
              "      <th>6</th>\n",
              "      <td>value_for_money</td>\n",
              "      <td>30.811916</td>\n",
              "      <td>15.508178</td>\n",
              "      <td>18.545561</td>\n",
              "      <td>18.720794</td>\n",
              "      <td>16.413551</td>\n",
              "    </tr>\n",
              "  </tbody>\n",
              "</table>\n",
              "</div>\n",
              "      <button class=\"colab-df-convert\" onclick=\"convertToInteractive('df-1958c493-fd73-4ea8-9271-98047a3d5e3f')\"\n",
              "              title=\"Convert this dataframe to an interactive table.\"\n",
              "              style=\"display:none;\">\n",
              "        \n",
              "  <svg xmlns=\"http://www.w3.org/2000/svg\" height=\"24px\"viewBox=\"0 0 24 24\"\n",
              "       width=\"24px\">\n",
              "    <path d=\"M0 0h24v24H0V0z\" fill=\"none\"/>\n",
              "    <path d=\"M18.56 5.44l.94 2.06.94-2.06 2.06-.94-2.06-.94-.94-2.06-.94 2.06-2.06.94zm-11 1L8.5 8.5l.94-2.06 2.06-.94-2.06-.94L8.5 2.5l-.94 2.06-2.06.94zm10 10l.94 2.06.94-2.06 2.06-.94-2.06-.94-.94-2.06-.94 2.06-2.06.94z\"/><path d=\"M17.41 7.96l-1.37-1.37c-.4-.4-.92-.59-1.43-.59-.52 0-1.04.2-1.43.59L10.3 9.45l-7.72 7.72c-.78.78-.78 2.05 0 2.83L4 21.41c.39.39.9.59 1.41.59.51 0 1.02-.2 1.41-.59l7.78-7.78 2.81-2.81c.8-.78.8-2.07 0-2.86zM5.41 20L4 18.59l7.72-7.72 1.47 1.35L5.41 20z\"/>\n",
              "  </svg>\n",
              "      </button>\n",
              "      \n",
              "  <style>\n",
              "    .colab-df-container {\n",
              "      display:flex;\n",
              "      flex-wrap:wrap;\n",
              "      gap: 12px;\n",
              "    }\n",
              "\n",
              "    .colab-df-convert {\n",
              "      background-color: #E8F0FE;\n",
              "      border: none;\n",
              "      border-radius: 50%;\n",
              "      cursor: pointer;\n",
              "      display: none;\n",
              "      fill: #1967D2;\n",
              "      height: 32px;\n",
              "      padding: 0 0 0 0;\n",
              "      width: 32px;\n",
              "    }\n",
              "\n",
              "    .colab-df-convert:hover {\n",
              "      background-color: #E2EBFA;\n",
              "      box-shadow: 0px 1px 2px rgba(60, 64, 67, 0.3), 0px 1px 3px 1px rgba(60, 64, 67, 0.15);\n",
              "      fill: #174EA6;\n",
              "    }\n",
              "\n",
              "    [theme=dark] .colab-df-convert {\n",
              "      background-color: #3B4455;\n",
              "      fill: #D2E3FC;\n",
              "    }\n",
              "\n",
              "    [theme=dark] .colab-df-convert:hover {\n",
              "      background-color: #434B5C;\n",
              "      box-shadow: 0px 1px 3px 1px rgba(0, 0, 0, 0.15);\n",
              "      filter: drop-shadow(0px 1px 2px rgba(0, 0, 0, 0.3));\n",
              "      fill: #FFFFFF;\n",
              "    }\n",
              "  </style>\n",
              "\n",
              "      <script>\n",
              "        const buttonEl =\n",
              "          document.querySelector('#df-1958c493-fd73-4ea8-9271-98047a3d5e3f button.colab-df-convert');\n",
              "        buttonEl.style.display =\n",
              "          google.colab.kernel.accessAllowed ? 'block' : 'none';\n",
              "\n",
              "        async function convertToInteractive(key) {\n",
              "          const element = document.querySelector('#df-1958c493-fd73-4ea8-9271-98047a3d5e3f');\n",
              "          const dataTable =\n",
              "            await google.colab.kernel.invokeFunction('convertToInteractive',\n",
              "                                                     [key], {});\n",
              "          if (!dataTable) return;\n",
              "\n",
              "          const docLinkHtml = 'Like what you see? Visit the ' +\n",
              "            '<a target=\"_blank\" href=https://colab.research.google.com/notebooks/data_table.ipynb>data table notebook</a>'\n",
              "            + ' to learn more about interactive tables.';\n",
              "          element.innerHTML = '';\n",
              "          dataTable['output_type'] = 'display_data';\n",
              "          await google.colab.output.renderOutput(dataTable, element);\n",
              "          const docLink = document.createElement('div');\n",
              "          docLink.innerHTML = docLinkHtml;\n",
              "          element.appendChild(docLink);\n",
              "        }\n",
              "      </script>\n",
              "    </div>\n",
              "  </div>\n",
              "  "
            ]
          },
          "metadata": {},
          "execution_count": 82
        }
      ]
    },
    {
      "cell_type": "code",
      "source": [
        "# plot a Stacked Bar Chart using matplotlib\n",
        "\n",
        "ax = df_viz.plot(\n",
        "    x = 'features',\n",
        "    kind = 'barh',\n",
        "    stacked = True,\n",
        "    title = 'Stacked Bar Graph',\n",
        "    mark_right = True,\n",
        "    legend = 'reverse',\n",
        "    figsize = ( 12, 7))\n",
        "\n",
        "# Put a legend to the right of the current axis\n",
        "ax.legend(loc='center left', bbox_to_anchor=(1, 0.5))\n",
        "\n",
        "plt.show()\n"
      ],
      "metadata": {
        "colab": {
          "base_uri": "https://localhost:8080/",
          "height": 444
        },
        "id": "4dGae0O1kor1",
        "outputId": "cebf33bf-429d-46cd-d925-af8e8cbebeea"
      },
      "execution_count": null,
      "outputs": [
        {
          "output_type": "display_data",
          "data": {
            "text/plain": [
              "<Figure size 864x504 with 1 Axes>"
            ],
            "image/png": "[encoded data removed]"
          },
          "metadata": {
            "needs_background": "light"
          }
        }
      ]
    },
    {
      "cell_type": "markdown",
      "source": [
        "### fourth findings\n",
        "\n",
        "the  wifi serves has more than 50% 1 star rating => immidate upgrate\n",
        "\n",
        "BA doing well with the staff services"
      ],
      "metadata": {
        "id": "Ox4e_H5JFnB2"
      }
    },
    {
      "cell_type": "markdown",
      "source": [
        "## Analysing the aircraft feature"
      ],
      "metadata": {
        "id": "YfrFyCzF35lD"
      }
    },
    {
      "cell_type": "code",
      "source": [
        "data.head(2)"
      ],
      "metadata": {
        "id": "7psf99lKl_YX",
        "colab": {
          "base_uri": "https://localhost:8080/",
          "height": 402
        },
        "outputId": "ee742f85-903c-42bc-b738-8ac884a3df5d"
      },
      "execution_count": null,
      "outputs": [
        {
          "output_type": "execute_result",
          "data": {
            "text/plain": [
              "             status        aircraft     travel_type   travel_class  \\\n",
              "0  ✅ Trip Verified   Boeing 777-200  Family Leisure  Economy Class   \n",
              "1     Not Verified             A380  Family Leisure  Economy Class   \n",
              "\n",
              "               route       date  seating_comfort  staff_service  food_quality  \\\n",
              "0  Atlanta to London 2023-01-01                1              1             1   \n",
              "1  London to Chicago 2022-12-01                3              2             3   \n",
              "\n",
              "   entertainment  wifi  ground_service  value_for_money recommended  \\\n",
              "0              3  <NA>               1                2          no   \n",
              "1              4  <NA>               3                2          no   \n",
              "\n",
              "   overall_rating                                             review   rating  \\\n",
              "0               4    Flew ATL to LHR 8th Jan 2023. Was unlucky en...      bad   \n",
              "1               5    Great thing about British Airways A380 is th...  average   \n",
              "\n",
              "   month  year  \n",
              "0      1  2023  \n",
              "1     12  2022  "
            ],
            "text/html": [
              "\n",
              "  <div id=\"df-d1b55efb-9f13-4da8-b948-2248cdac6549\">\n",
              "    <div class=\"colab-df-container\">\n",
              "      <div>\n",
              "<style scoped>\n",
              "    .dataframe tbody tr th:only-of-type {\n",
              "        vertical-align: middle;\n",
              "    }\n",
              "\n",
              "    .dataframe tbody tr th {\n",
              "        vertical-align: top;\n",
              "    }\n",
              "\n",
              "    .dataframe thead th {\n",
              "        text-align: right;\n",
              "    }\n",
              "</style>\n",
              "<table border=\"1\" class=\"dataframe\">\n",
              "  <thead>\n",
              "    <tr style=\"text-align: right;\">\n",
              "      <th></th>\n",
              "      <th>status</th>\n",
              "      <th>aircraft</th>\n",
              "      <th>travel_type</th>\n",
              "      <th>travel_class</th>\n",
              "      <th>route</th>\n",
              "      <th>date</th>\n",
              "      <th>seating_comfort</th>\n",
              "      <th>staff_service</th>\n",
              "      <th>food_quality</th>\n",
              "      <th>entertainment</th>\n",
              "      <th>wifi</th>\n",
              "      <th>ground_service</th>\n",
              "      <th>value_for_money</th>\n",
              "      <th>recommended</th>\n",
              "      <th>overall_rating</th>\n",
              "      <th>review</th>\n",
              "      <th>rating</th>\n",
              "      <th>month</th>\n",
              "      <th>year</th>\n",
              "    </tr>\n",
              "  </thead>\n",
              "  <tbody>\n",
              "    <tr>\n",
              "      <th>0</th>\n",
              "      <td>✅ Trip Verified</td>\n",
              "      <td>Boeing 777-200</td>\n",
              "      <td>Family Leisure</td>\n",
              "      <td>Economy Class</td>\n",
              "      <td>Atlanta to London</td>\n",
              "      <td>2023-01-01</td>\n",
              "      <td>1</td>\n",
              "      <td>1</td>\n",
              "      <td>1</td>\n",
              "      <td>3</td>\n",
              "      <td>&lt;NA&gt;</td>\n",
              "      <td>1</td>\n",
              "      <td>2</td>\n",
              "      <td>no</td>\n",
              "      <td>4</td>\n",
              "      <td>Flew ATL to LHR 8th Jan 2023. Was unlucky en...</td>\n",
              "      <td>bad</td>\n",
              "      <td>1</td>\n",
              "      <td>2023</td>\n",
              "    </tr>\n",
              "    <tr>\n",
              "      <th>1</th>\n",
              "      <td>Not Verified</td>\n",
              "      <td>A380</td>\n",
              "      <td>Family Leisure</td>\n",
              "      <td>Economy Class</td>\n",
              "      <td>London to Chicago</td>\n",
              "      <td>2022-12-01</td>\n",
              "      <td>3</td>\n",
              "      <td>2</td>\n",
              "      <td>3</td>\n",
              "      <td>4</td>\n",
              "      <td>&lt;NA&gt;</td>\n",
              "      <td>3</td>\n",
              "      <td>2</td>\n",
              "      <td>no</td>\n",
              "      <td>5</td>\n",
              "      <td>Great thing about British Airways A380 is th...</td>\n",
              "      <td>average</td>\n",
              "      <td>12</td>\n",
              "      <td>2022</td>\n",
              "    </tr>\n",
              "  </tbody>\n",
              "</table>\n",
              "</div>\n",
              "      <button class=\"colab-df-convert\" onclick=\"convertToInteractive('df-d1b55efb-9f13-4da8-b948-2248cdac6549')\"\n",
              "              title=\"Convert this dataframe to an interactive table.\"\n",
              "              style=\"display:none;\">\n",
              "        \n",
              "  <svg xmlns=\"http://www.w3.org/2000/svg\" height=\"24px\"viewBox=\"0 0 24 24\"\n",
              "       width=\"24px\">\n",
              "    <path d=\"M0 0h24v24H0V0z\" fill=\"none\"/>\n",
              "    <path d=\"M18.56 5.44l.94 2.06.94-2.06 2.06-.94-2.06-.94-.94-2.06-.94 2.06-2.06.94zm-11 1L8.5 8.5l.94-2.06 2.06-.94-2.06-.94L8.5 2.5l-.94 2.06-2.06.94zm10 10l.94 2.06.94-2.06 2.06-.94-2.06-.94-.94-2.06-.94 2.06-2.06.94z\"/><path d=\"M17.41 7.96l-1.37-1.37c-.4-.4-.92-.59-1.43-.59-.52 0-1.04.2-1.43.59L10.3 9.45l-7.72 7.72c-.78.78-.78 2.05 0 2.83L4 21.41c.39.39.9.59 1.41.59.51 0 1.02-.2 1.41-.59l7.78-7.78 2.81-2.81c.8-.78.8-2.07 0-2.86zM5.41 20L4 18.59l7.72-7.72 1.47 1.35L5.41 20z\"/>\n",
              "  </svg>\n",
              "      </button>\n",
              "      \n",
              "  <style>\n",
              "    .colab-df-container {\n",
              "      display:flex;\n",
              "      flex-wrap:wrap;\n",
              "      gap: 12px;\n",
              "    }\n",
              "\n",
              "    .colab-df-convert {\n",
              "      background-color: #E8F0FE;\n",
              "      border: none;\n",
              "      border-radius: 50%;\n",
              "      cursor: pointer;\n",
              "      display: none;\n",
              "      fill: #1967D2;\n",
              "      height: 32px;\n",
              "      padding: 0 0 0 0;\n",
              "      width: 32px;\n",
              "    }\n",
              "\n",
              "    .colab-df-convert:hover {\n",
              "      background-color: #E2EBFA;\n",
              "      box-shadow: 0px 1px 2px rgba(60, 64, 67, 0.3), 0px 1px 3px 1px rgba(60, 64, 67, 0.15);\n",
              "      fill: #174EA6;\n",
              "    }\n",
              "\n",
              "    [theme=dark] .colab-df-convert {\n",
              "      background-color: #3B4455;\n",
              "      fill: #D2E3FC;\n",
              "    }\n",
              "\n",
              "    [theme=dark] .colab-df-convert:hover {\n",
              "      background-color: #434B5C;\n",
              "      box-shadow: 0px 1px 3px 1px rgba(0, 0, 0, 0.15);\n",
              "      filter: drop-shadow(0px 1px 2px rgba(0, 0, 0, 0.3));\n",
              "      fill: #FFFFFF;\n",
              "    }\n",
              "  </style>\n",
              "\n",
              "      <script>\n",
              "        const buttonEl =\n",
              "          document.querySelector('#df-d1b55efb-9f13-4da8-b948-2248cdac6549 button.colab-df-convert');\n",
              "        buttonEl.style.display =\n",
              "          google.colab.kernel.accessAllowed ? 'block' : 'none';\n",
              "\n",
              "        async function convertToInteractive(key) {\n",
              "          const element = document.querySelector('#df-d1b55efb-9f13-4da8-b948-2248cdac6549');\n",
              "          const dataTable =\n",
              "            await google.colab.kernel.invokeFunction('convertToInteractive',\n",
              "                                                     [key], {});\n",
              "          if (!dataTable) return;\n",
              "\n",
              "          const docLinkHtml = 'Like what you see? Visit the ' +\n",
              "            '<a target=\"_blank\" href=https://colab.research.google.com/notebooks/data_table.ipynb>data table notebook</a>'\n",
              "            + ' to learn more about interactive tables.';\n",
              "          element.innerHTML = '';\n",
              "          dataTable['output_type'] = 'display_data';\n",
              "          await google.colab.output.renderOutput(dataTable, element);\n",
              "          const docLink = document.createElement('div');\n",
              "          docLink.innerHTML = docLinkHtml;\n",
              "          element.appendChild(docLink);\n",
              "        }\n",
              "      </script>\n",
              "    </div>\n",
              "  </div>\n",
              "  "
            ]
          },
          "metadata": {},
          "execution_count": 84
        }
      ]
    },
    {
      "cell_type": "code",
      "source": [
        "data_aircraft = data[['aircraft','overall_rating']].copy()"
      ],
      "metadata": {
        "id": "7i0jBMkbl_c0"
      },
      "execution_count": null,
      "outputs": []
    },
    {
      "cell_type": "code",
      "source": [
        "data_aircraft.head(3)"
      ],
      "metadata": {
        "id": "qYuZPKWafkcb",
        "colab": {
          "base_uri": "https://localhost:8080/",
          "height": 143
        },
        "outputId": "f54befec-fc18-4484-9b55-a1e2e3d22b8a"
      },
      "execution_count": null,
      "outputs": [
        {
          "output_type": "execute_result",
          "data": {
            "text/plain": [
              "         aircraft  overall_rating\n",
              "0  Boeing 777-200               4\n",
              "1            A380               5\n",
              "2             NaN               1"
            ],
            "text/html": [
              "\n",
              "  <div id=\"df-23bce6fb-cbb3-4e99-b721-feb2be2f6e0f\">\n",
              "    <div class=\"colab-df-container\">\n",
              "      <div>\n",
              "<style scoped>\n",
              "    .dataframe tbody tr th:only-of-type {\n",
              "        vertical-align: middle;\n",
              "    }\n",
              "\n",
              "    .dataframe tbody tr th {\n",
              "        vertical-align: top;\n",
              "    }\n",
              "\n",
              "    .dataframe thead th {\n",
              "        text-align: right;\n",
              "    }\n",
              "</style>\n",
              "<table border=\"1\" class=\"dataframe\">\n",
              "  <thead>\n",
              "    <tr style=\"text-align: right;\">\n",
              "      <th></th>\n",
              "      <th>aircraft</th>\n",
              "      <th>overall_rating</th>\n",
              "    </tr>\n",
              "  </thead>\n",
              "  <tbody>\n",
              "    <tr>\n",
              "      <th>0</th>\n",
              "      <td>Boeing 777-200</td>\n",
              "      <td>4</td>\n",
              "    </tr>\n",
              "    <tr>\n",
              "      <th>1</th>\n",
              "      <td>A380</td>\n",
              "      <td>5</td>\n",
              "    </tr>\n",
              "    <tr>\n",
              "      <th>2</th>\n",
              "      <td>NaN</td>\n",
              "      <td>1</td>\n",
              "    </tr>\n",
              "  </tbody>\n",
              "</table>\n",
              "</div>\n",
              "      <button class=\"colab-df-convert\" onclick=\"convertToInteractive('df-23bce6fb-cbb3-4e99-b721-feb2be2f6e0f')\"\n",
              "              title=\"Convert this dataframe to an interactive table.\"\n",
              "              style=\"display:none;\">\n",
              "        \n",
              "  <svg xmlns=\"http://www.w3.org/2000/svg\" height=\"24px\"viewBox=\"0 0 24 24\"\n",
              "       width=\"24px\">\n",
              "    <path d=\"M0 0h24v24H0V0z\" fill=\"none\"/>\n",
              "    <path d=\"M18.56 5.44l.94 2.06.94-2.06 2.06-.94-2.06-.94-.94-2.06-.94 2.06-2.06.94zm-11 1L8.5 8.5l.94-2.06 2.06-.94-2.06-.94L8.5 2.5l-.94 2.06-2.06.94zm10 10l.94 2.06.94-2.06 2.06-.94-2.06-.94-.94-2.06-.94 2.06-2.06.94z\"/><path d=\"M17.41 7.96l-1.37-1.37c-.4-.4-.92-.59-1.43-.59-.52 0-1.04.2-1.43.59L10.3 9.45l-7.72 7.72c-.78.78-.78 2.05 0 2.83L4 21.41c.39.39.9.59 1.41.59.51 0 1.02-.2 1.41-.59l7.78-7.78 2.81-2.81c.8-.78.8-2.07 0-2.86zM5.41 20L4 18.59l7.72-7.72 1.47 1.35L5.41 20z\"/>\n",
              "  </svg>\n",
              "      </button>\n",
              "      \n",
              "  <style>\n",
              "    .colab-df-container {\n",
              "      display:flex;\n",
              "      flex-wrap:wrap;\n",
              "      gap: 12px;\n",
              "    }\n",
              "\n",
              "    .colab-df-convert {\n",
              "      background-color: #E8F0FE;\n",
              "      border: none;\n",
              "      border-radius: 50%;\n",
              "      cursor: pointer;\n",
              "      display: none;\n",
              "      fill: #1967D2;\n",
              "      height: 32px;\n",
              "      padding: 0 0 0 0;\n",
              "      width: 32px;\n",
              "    }\n",
              "\n",
              "    .colab-df-convert:hover {\n",
              "      background-color: #E2EBFA;\n",
              "      box-shadow: 0px 1px 2px rgba(60, 64, 67, 0.3), 0px 1px 3px 1px rgba(60, 64, 67, 0.15);\n",
              "      fill: #174EA6;\n",
              "    }\n",
              "\n",
              "    [theme=dark] .colab-df-convert {\n",
              "      background-color: #3B4455;\n",
              "      fill: #D2E3FC;\n",
              "    }\n",
              "\n",
              "    [theme=dark] .colab-df-convert:hover {\n",
              "      background-color: #434B5C;\n",
              "      box-shadow: 0px 1px 3px 1px rgba(0, 0, 0, 0.15);\n",
              "      filter: drop-shadow(0px 1px 2px rgba(0, 0, 0, 0.3));\n",
              "      fill: #FFFFFF;\n",
              "    }\n",
              "  </style>\n",
              "\n",
              "      <script>\n",
              "        const buttonEl =\n",
              "          document.querySelector('#df-23bce6fb-cbb3-4e99-b721-feb2be2f6e0f button.colab-df-convert');\n",
              "        buttonEl.style.display =\n",
              "          google.colab.kernel.accessAllowed ? 'block' : 'none';\n",
              "\n",
              "        async function convertToInteractive(key) {\n",
              "          const element = document.querySelector('#df-23bce6fb-cbb3-4e99-b721-feb2be2f6e0f');\n",
              "          const dataTable =\n",
              "            await google.colab.kernel.invokeFunction('convertToInteractive',\n",
              "                                                     [key], {});\n",
              "          if (!dataTable) return;\n",
              "\n",
              "          const docLinkHtml = 'Like what you see? Visit the ' +\n",
              "            '<a target=\"_blank\" href=https://colab.research.google.com/notebooks/data_table.ipynb>data table notebook</a>'\n",
              "            + ' to learn more about interactive tables.';\n",
              "          element.innerHTML = '';\n",
              "          dataTable['output_type'] = 'display_data';\n",
              "          await google.colab.output.renderOutput(dataTable, element);\n",
              "          const docLink = document.createElement('div');\n",
              "          docLink.innerHTML = docLinkHtml;\n",
              "          element.appendChild(docLink);\n",
              "        }\n",
              "      </script>\n",
              "    </div>\n",
              "  </div>\n",
              "  "
            ]
          },
          "metadata": {},
          "execution_count": 120
        }
      ]
    },
    {
      "cell_type": "code",
      "source": [
        "data_aircraft.info()"
      ],
      "metadata": {
        "id": "A_KoOuXEfke-",
        "colab": {
          "base_uri": "https://localhost:8080/"
        },
        "outputId": "f21bb719-a5a9-42b0-b023-65cf4f4ff6cc"
      },
      "execution_count": null,
      "outputs": [
        {
          "output_type": "stream",
          "name": "stdout",
          "text": [
            "<class 'pandas.core.frame.DataFrame'>\n",
            "Int64Index: 3424 entries, 0 to 3429\n",
            "Data columns (total 2 columns):\n",
            " #   Column          Non-Null Count  Dtype \n",
            "---  ------          --------------  ----- \n",
            " 0   aircraft        1807 non-null   object\n",
            " 1   overall_rating  3424 non-null   Int64 \n",
            "dtypes: Int64(1), object(1)\n",
            "memory usage: 212.6+ KB\n"
          ]
        }
      ]
    },
    {
      "cell_type": "code",
      "source": [
        "data_aircraft.dropna(inplace=True)"
      ],
      "metadata": {
        "id": "GfIWpflzfkhE"
      },
      "execution_count": null,
      "outputs": []
    },
    {
      "cell_type": "code",
      "source": [
        "data_aircraft.aircraft.value_counts()"
      ],
      "metadata": {
        "id": "g-RThz53fklj",
        "colab": {
          "base_uri": "https://localhost:8080/"
        },
        "outputId": "c38e032d-3827-4e8a-edf7-ef34e60be5ce"
      },
      "execution_count": null,
      "outputs": [
        {
          "output_type": "execute_result",
          "data": {
            "text/plain": [
              "A320                     330\n",
              "Boeing 777               261\n",
              "Boeing 747-400           182\n",
              "A380                     157\n",
              "Boeing 777-200           120\n",
              "                        ... \n",
              "Boeing 747-400 / A319      1\n",
              "A319 / Boeing 787-9        1\n",
              "Airbus A32                 1\n",
              "A320 / Boeing 787-9        1\n",
              "Airbus 319                 1\n",
              "Name: aircraft, Length: 191, dtype: int64"
            ]
          },
          "metadata": {},
          "execution_count": 154
        }
      ]
    },
    {
      "cell_type": "code",
      "source": [
        "data_aircraft_filter = data_aircraft.aircraft.value_counts().rename_axis('aircraft').reset_index(name='counts')"
      ],
      "metadata": {
        "id": "-q0dzypAZL1U"
      },
      "execution_count": null,
      "outputs": []
    },
    {
      "cell_type": "code",
      "source": [
        "data_aircraft_filter.head()"
      ],
      "metadata": {
        "colab": {
          "base_uri": "https://localhost:8080/",
          "height": 206
        },
        "id": "CIpcTGb88tlT",
        "outputId": "691aaac1-3d06-4ca2-e87b-11ce626c4780"
      },
      "execution_count": null,
      "outputs": [
        {
          "output_type": "execute_result",
          "data": {
            "text/plain": [
              "         aircraft  counts\n",
              "0            A320     330\n",
              "1      Boeing 777     261\n",
              "2  Boeing 747-400     182\n",
              "3            A380     157\n",
              "4  Boeing 777-200     120"
            ],
            "text/html": [
              "\n",
              "  <div id=\"df-26896b23-e33e-45d5-9557-177aa42ef2ef\">\n",
              "    <div class=\"colab-df-container\">\n",
              "      <div>\n",
              "<style scoped>\n",
              "    .dataframe tbody tr th:only-of-type {\n",
              "        vertical-align: middle;\n",
              "    }\n",
              "\n",
              "    .dataframe tbody tr th {\n",
              "        vertical-align: top;\n",
              "    }\n",
              "\n",
              "    .dataframe thead th {\n",
              "        text-align: right;\n",
              "    }\n",
              "</style>\n",
              "<table border=\"1\" class=\"dataframe\">\n",
              "  <thead>\n",
              "    <tr style=\"text-align: right;\">\n",
              "      <th></th>\n",
              "      <th>aircraft</th>\n",
              "      <th>counts</th>\n",
              "    </tr>\n",
              "  </thead>\n",
              "  <tbody>\n",
              "    <tr>\n",
              "      <th>0</th>\n",
              "      <td>A320</td>\n",
              "      <td>330</td>\n",
              "    </tr>\n",
              "    <tr>\n",
              "      <th>1</th>\n",
              "      <td>Boeing 777</td>\n",
              "      <td>261</td>\n",
              "    </tr>\n",
              "    <tr>\n",
              "      <th>2</th>\n",
              "      <td>Boeing 747-400</td>\n",
              "      <td>182</td>\n",
              "    </tr>\n",
              "    <tr>\n",
              "      <th>3</th>\n",
              "      <td>A380</td>\n",
              "      <td>157</td>\n",
              "    </tr>\n",
              "    <tr>\n",
              "      <th>4</th>\n",
              "      <td>Boeing 777-200</td>\n",
              "      <td>120</td>\n",
              "    </tr>\n",
              "  </tbody>\n",
              "</table>\n",
              "</div>\n",
              "      <button class=\"colab-df-convert\" onclick=\"convertToInteractive('df-26896b23-e33e-45d5-9557-177aa42ef2ef')\"\n",
              "              title=\"Convert this dataframe to an interactive table.\"\n",
              "              style=\"display:none;\">\n",
              "        \n",
              "  <svg xmlns=\"http://www.w3.org/2000/svg\" height=\"24px\"viewBox=\"0 0 24 24\"\n",
              "       width=\"24px\">\n",
              "    <path d=\"M0 0h24v24H0V0z\" fill=\"none\"/>\n",
              "    <path d=\"M18.56 5.44l.94 2.06.94-2.06 2.06-.94-2.06-.94-.94-2.06-.94 2.06-2.06.94zm-11 1L8.5 8.5l.94-2.06 2.06-.94-2.06-.94L8.5 2.5l-.94 2.06-2.06.94zm10 10l.94 2.06.94-2.06 2.06-.94-2.06-.94-.94-2.06-.94 2.06-2.06.94z\"/><path d=\"M17.41 7.96l-1.37-1.37c-.4-.4-.92-.59-1.43-.59-.52 0-1.04.2-1.43.59L10.3 9.45l-7.72 7.72c-.78.78-.78 2.05 0 2.83L4 21.41c.39.39.9.59 1.41.59.51 0 1.02-.2 1.41-.59l7.78-7.78 2.81-2.81c.8-.78.8-2.07 0-2.86zM5.41 20L4 18.59l7.72-7.72 1.47 1.35L5.41 20z\"/>\n",
              "  </svg>\n",
              "      </button>\n",
              "      \n",
              "  <style>\n",
              "    .colab-df-container {\n",
              "      display:flex;\n",
              "      flex-wrap:wrap;\n",
              "      gap: 12px;\n",
              "    }\n",
              "\n",
              "    .colab-df-convert {\n",
              "      background-color: #E8F0FE;\n",
              "      border: none;\n",
              "      border-radius: 50%;\n",
              "      cursor: pointer;\n",
              "      display: none;\n",
              "      fill: #1967D2;\n",
              "      height: 32px;\n",
              "      padding: 0 0 0 0;\n",
              "      width: 32px;\n",
              "    }\n",
              "\n",
              "    .colab-df-convert:hover {\n",
              "      background-color: #E2EBFA;\n",
              "      box-shadow: 0px 1px 2px rgba(60, 64, 67, 0.3), 0px 1px 3px 1px rgba(60, 64, 67, 0.15);\n",
              "      fill: #174EA6;\n",
              "    }\n",
              "\n",
              "    [theme=dark] .colab-df-convert {\n",
              "      background-color: #3B4455;\n",
              "      fill: #D2E3FC;\n",
              "    }\n",
              "\n",
              "    [theme=dark] .colab-df-convert:hover {\n",
              "      background-color: #434B5C;\n",
              "      box-shadow: 0px 1px 3px 1px rgba(0, 0, 0, 0.15);\n",
              "      filter: drop-shadow(0px 1px 2px rgba(0, 0, 0, 0.3));\n",
              "      fill: #FFFFFF;\n",
              "    }\n",
              "  </style>\n",
              "\n",
              "      <script>\n",
              "        const buttonEl =\n",
              "          document.querySelector('#df-26896b23-e33e-45d5-9557-177aa42ef2ef button.colab-df-convert');\n",
              "        buttonEl.style.display =\n",
              "          google.colab.kernel.accessAllowed ? 'block' : 'none';\n",
              "\n",
              "        async function convertToInteractive(key) {\n",
              "          const element = document.querySelector('#df-26896b23-e33e-45d5-9557-177aa42ef2ef');\n",
              "          const dataTable =\n",
              "            await google.colab.kernel.invokeFunction('convertToInteractive',\n",
              "                                                     [key], {});\n",
              "          if (!dataTable) return;\n",
              "\n",
              "          const docLinkHtml = 'Like what you see? Visit the ' +\n",
              "            '<a target=\"_blank\" href=https://colab.research.google.com/notebooks/data_table.ipynb>data table notebook</a>'\n",
              "            + ' to learn more about interactive tables.';\n",
              "          element.innerHTML = '';\n",
              "          dataTable['output_type'] = 'display_data';\n",
              "          await google.colab.output.renderOutput(dataTable, element);\n",
              "          const docLink = document.createElement('div');\n",
              "          docLink.innerHTML = docLinkHtml;\n",
              "          element.appendChild(docLink);\n",
              "        }\n",
              "      </script>\n",
              "    </div>\n",
              "  </div>\n",
              "  "
            ]
          },
          "metadata": {},
          "execution_count": 158
        }
      ]
    },
    {
      "cell_type": "code",
      "source": [
        "# we keep aircrafts with more than 50 reviews\n",
        "rslt_df = data_aircraft_filter[data_aircraft_filter['counts'] > 50] "
      ],
      "metadata": {
        "id": "aqaPHit27g1m"
      },
      "execution_count": null,
      "outputs": []
    },
    {
      "cell_type": "code",
      "source": [
        "aircraft_list = rslt_df.aircraft.tolist()"
      ],
      "metadata": {
        "id": "Ix_ENiv57g35"
      },
      "execution_count": null,
      "outputs": []
    },
    {
      "cell_type": "code",
      "source": [
        "aircraft_list"
      ],
      "metadata": {
        "colab": {
          "base_uri": "https://localhost:8080/"
        },
        "id": "jatrBm2b7g6N",
        "outputId": "e0c22de7-953b-4bd5-de53-6facf603d78f"
      },
      "execution_count": null,
      "outputs": [
        {
          "output_type": "execute_result",
          "data": {
            "text/plain": [
              "['A320',\n",
              " 'Boeing 777',\n",
              " 'Boeing 747-400',\n",
              " 'A380',\n",
              " 'Boeing 777-200',\n",
              " 'A319',\n",
              " 'Boeing 747',\n",
              " 'A321',\n",
              " 'Boeing 787']"
            ]
          },
          "metadata": {},
          "execution_count": 161
        }
      ]
    },
    {
      "cell_type": "code",
      "source": [
        "data_aircraft = data_aircraft[data_aircraft['aircraft'].isin(aircraft_list)]"
      ],
      "metadata": {
        "id": "jCDjgHUq7g8S"
      },
      "execution_count": null,
      "outputs": []
    },
    {
      "cell_type": "code",
      "source": [
        "data_aircraft.head()"
      ],
      "metadata": {
        "colab": {
          "base_uri": "https://localhost:8080/",
          "height": 206
        },
        "id": "PUEN0Z-M7g-Z",
        "outputId": "bbb2f098-b1d7-47c1-c6db-56da76f8cf17"
      },
      "execution_count": null,
      "outputs": [
        {
          "output_type": "execute_result",
          "data": {
            "text/plain": [
              "         aircraft  overall_rating\n",
              "0  Boeing 777-200               4\n",
              "1            A380               5\n",
              "5            A321               8\n",
              "6            A380               6\n",
              "7      Boeing 777               4"
            ],
            "text/html": [
              "\n",
              "  <div id=\"df-8c50a3ed-ff60-4b2e-8d0f-b8203c9347c4\">\n",
              "    <div class=\"colab-df-container\">\n",
              "      <div>\n",
              "<style scoped>\n",
              "    .dataframe tbody tr th:only-of-type {\n",
              "        vertical-align: middle;\n",
              "    }\n",
              "\n",
              "    .dataframe tbody tr th {\n",
              "        vertical-align: top;\n",
              "    }\n",
              "\n",
              "    .dataframe thead th {\n",
              "        text-align: right;\n",
              "    }\n",
              "</style>\n",
              "<table border=\"1\" class=\"dataframe\">\n",
              "  <thead>\n",
              "    <tr style=\"text-align: right;\">\n",
              "      <th></th>\n",
              "      <th>aircraft</th>\n",
              "      <th>overall_rating</th>\n",
              "    </tr>\n",
              "  </thead>\n",
              "  <tbody>\n",
              "    <tr>\n",
              "      <th>0</th>\n",
              "      <td>Boeing 777-200</td>\n",
              "      <td>4</td>\n",
              "    </tr>\n",
              "    <tr>\n",
              "      <th>1</th>\n",
              "      <td>A380</td>\n",
              "      <td>5</td>\n",
              "    </tr>\n",
              "    <tr>\n",
              "      <th>5</th>\n",
              "      <td>A321</td>\n",
              "      <td>8</td>\n",
              "    </tr>\n",
              "    <tr>\n",
              "      <th>6</th>\n",
              "      <td>A380</td>\n",
              "      <td>6</td>\n",
              "    </tr>\n",
              "    <tr>\n",
              "      <th>7</th>\n",
              "      <td>Boeing 777</td>\n",
              "      <td>4</td>\n",
              "    </tr>\n",
              "  </tbody>\n",
              "</table>\n",
              "</div>\n",
              "      <button class=\"colab-df-convert\" onclick=\"convertToInteractive('df-8c50a3ed-ff60-4b2e-8d0f-b8203c9347c4')\"\n",
              "              title=\"Convert this dataframe to an interactive table.\"\n",
              "              style=\"display:none;\">\n",
              "        \n",
              "  <svg xmlns=\"http://www.w3.org/2000/svg\" height=\"24px\"viewBox=\"0 0 24 24\"\n",
              "       width=\"24px\">\n",
              "    <path d=\"M0 0h24v24H0V0z\" fill=\"none\"/>\n",
              "    <path d=\"M18.56 5.44l.94 2.06.94-2.06 2.06-.94-2.06-.94-.94-2.06-.94 2.06-2.06.94zm-11 1L8.5 8.5l.94-2.06 2.06-.94-2.06-.94L8.5 2.5l-.94 2.06-2.06.94zm10 10l.94 2.06.94-2.06 2.06-.94-2.06-.94-.94-2.06-.94 2.06-2.06.94z\"/><path d=\"M17.41 7.96l-1.37-1.37c-.4-.4-.92-.59-1.43-.59-.52 0-1.04.2-1.43.59L10.3 9.45l-7.72 7.72c-.78.78-.78 2.05 0 2.83L4 21.41c.39.39.9.59 1.41.59.51 0 1.02-.2 1.41-.59l7.78-7.78 2.81-2.81c.8-.78.8-2.07 0-2.86zM5.41 20L4 18.59l7.72-7.72 1.47 1.35L5.41 20z\"/>\n",
              "  </svg>\n",
              "      </button>\n",
              "      \n",
              "  <style>\n",
              "    .colab-df-container {\n",
              "      display:flex;\n",
              "      flex-wrap:wrap;\n",
              "      gap: 12px;\n",
              "    }\n",
              "\n",
              "    .colab-df-convert {\n",
              "      background-color: #E8F0FE;\n",
              "      border: none;\n",
              "      border-radius: 50%;\n",
              "      cursor: pointer;\n",
              "      display: none;\n",
              "      fill: #1967D2;\n",
              "      height: 32px;\n",
              "      padding: 0 0 0 0;\n",
              "      width: 32px;\n",
              "    }\n",
              "\n",
              "    .colab-df-convert:hover {\n",
              "      background-color: #E2EBFA;\n",
              "      box-shadow: 0px 1px 2px rgba(60, 64, 67, 0.3), 0px 1px 3px 1px rgba(60, 64, 67, 0.15);\n",
              "      fill: #174EA6;\n",
              "    }\n",
              "\n",
              "    [theme=dark] .colab-df-convert {\n",
              "      background-color: #3B4455;\n",
              "      fill: #D2E3FC;\n",
              "    }\n",
              "\n",
              "    [theme=dark] .colab-df-convert:hover {\n",
              "      background-color: #434B5C;\n",
              "      box-shadow: 0px 1px 3px 1px rgba(0, 0, 0, 0.15);\n",
              "      filter: drop-shadow(0px 1px 2px rgba(0, 0, 0, 0.3));\n",
              "      fill: #FFFFFF;\n",
              "    }\n",
              "  </style>\n",
              "\n",
              "      <script>\n",
              "        const buttonEl =\n",
              "          document.querySelector('#df-8c50a3ed-ff60-4b2e-8d0f-b8203c9347c4 button.colab-df-convert');\n",
              "        buttonEl.style.display =\n",
              "          google.colab.kernel.accessAllowed ? 'block' : 'none';\n",
              "\n",
              "        async function convertToInteractive(key) {\n",
              "          const element = document.querySelector('#df-8c50a3ed-ff60-4b2e-8d0f-b8203c9347c4');\n",
              "          const dataTable =\n",
              "            await google.colab.kernel.invokeFunction('convertToInteractive',\n",
              "                                                     [key], {});\n",
              "          if (!dataTable) return;\n",
              "\n",
              "          const docLinkHtml = 'Like what you see? Visit the ' +\n",
              "            '<a target=\"_blank\" href=https://colab.research.google.com/notebooks/data_table.ipynb>data table notebook</a>'\n",
              "            + ' to learn more about interactive tables.';\n",
              "          element.innerHTML = '';\n",
              "          dataTable['output_type'] = 'display_data';\n",
              "          await google.colab.output.renderOutput(dataTable, element);\n",
              "          const docLink = document.createElement('div');\n",
              "          docLink.innerHTML = docLinkHtml;\n",
              "          element.appendChild(docLink);\n",
              "        }\n",
              "      </script>\n",
              "    </div>\n",
              "  </div>\n",
              "  "
            ]
          },
          "metadata": {},
          "execution_count": 163
        }
      ]
    },
    {
      "cell_type": "code",
      "source": [
        "data_aircraft.groupby('aircraft').mean()"
      ],
      "metadata": {
        "colab": {
          "base_uri": "https://localhost:8080/",
          "height": 363
        },
        "id": "IdbYg63OByjd",
        "outputId": "1c2bb5ff-3eb9-44e7-d859-a93b3a9a07dc"
      },
      "execution_count": null,
      "outputs": [
        {
          "output_type": "execute_result",
          "data": {
            "text/plain": [
              "                overall_rating\n",
              "aircraft                      \n",
              "A319                  5.261682\n",
              "A320                  4.966667\n",
              "A321                  5.068493\n",
              "A380                   5.66242\n",
              "Boeing 747            4.352941\n",
              "Boeing 747-400        5.087912\n",
              "Boeing 777            4.636015\n",
              "Boeing 777-200        5.341667\n",
              "Boeing 787            5.933333"
            ],
            "text/html": [
              "\n",
              "  <div id=\"df-db583447-a80f-4476-b8af-7222baa0015d\">\n",
              "    <div class=\"colab-df-container\">\n",
              "      <div>\n",
              "<style scoped>\n",
              "    .dataframe tbody tr th:only-of-type {\n",
              "        vertical-align: middle;\n",
              "    }\n",
              "\n",
              "    .dataframe tbody tr th {\n",
              "        vertical-align: top;\n",
              "    }\n",
              "\n",
              "    .dataframe thead th {\n",
              "        text-align: right;\n",
              "    }\n",
              "</style>\n",
              "<table border=\"1\" class=\"dataframe\">\n",
              "  <thead>\n",
              "    <tr style=\"text-align: right;\">\n",
              "      <th></th>\n",
              "      <th>overall_rating</th>\n",
              "    </tr>\n",
              "    <tr>\n",
              "      <th>aircraft</th>\n",
              "      <th></th>\n",
              "    </tr>\n",
              "  </thead>\n",
              "  <tbody>\n",
              "    <tr>\n",
              "      <th>A319</th>\n",
              "      <td>5.261682</td>\n",
              "    </tr>\n",
              "    <tr>\n",
              "      <th>A320</th>\n",
              "      <td>4.966667</td>\n",
              "    </tr>\n",
              "    <tr>\n",
              "      <th>A321</th>\n",
              "      <td>5.068493</td>\n",
              "    </tr>\n",
              "    <tr>\n",
              "      <th>A380</th>\n",
              "      <td>5.66242</td>\n",
              "    </tr>\n",
              "    <tr>\n",
              "      <th>Boeing 747</th>\n",
              "      <td>4.352941</td>\n",
              "    </tr>\n",
              "    <tr>\n",
              "      <th>Boeing 747-400</th>\n",
              "      <td>5.087912</td>\n",
              "    </tr>\n",
              "    <tr>\n",
              "      <th>Boeing 777</th>\n",
              "      <td>4.636015</td>\n",
              "    </tr>\n",
              "    <tr>\n",
              "      <th>Boeing 777-200</th>\n",
              "      <td>5.341667</td>\n",
              "    </tr>\n",
              "    <tr>\n",
              "      <th>Boeing 787</th>\n",
              "      <td>5.933333</td>\n",
              "    </tr>\n",
              "  </tbody>\n",
              "</table>\n",
              "</div>\n",
              "      <button class=\"colab-df-convert\" onclick=\"convertToInteractive('df-db583447-a80f-4476-b8af-7222baa0015d')\"\n",
              "              title=\"Convert this dataframe to an interactive table.\"\n",
              "              style=\"display:none;\">\n",
              "        \n",
              "  <svg xmlns=\"http://www.w3.org/2000/svg\" height=\"24px\"viewBox=\"0 0 24 24\"\n",
              "       width=\"24px\">\n",
              "    <path d=\"M0 0h24v24H0V0z\" fill=\"none\"/>\n",
              "    <path d=\"M18.56 5.44l.94 2.06.94-2.06 2.06-.94-2.06-.94-.94-2.06-.94 2.06-2.06.94zm-11 1L8.5 8.5l.94-2.06 2.06-.94-2.06-.94L8.5 2.5l-.94 2.06-2.06.94zm10 10l.94 2.06.94-2.06 2.06-.94-2.06-.94-.94-2.06-.94 2.06-2.06.94z\"/><path d=\"M17.41 7.96l-1.37-1.37c-.4-.4-.92-.59-1.43-.59-.52 0-1.04.2-1.43.59L10.3 9.45l-7.72 7.72c-.78.78-.78 2.05 0 2.83L4 21.41c.39.39.9.59 1.41.59.51 0 1.02-.2 1.41-.59l7.78-7.78 2.81-2.81c.8-.78.8-2.07 0-2.86zM5.41 20L4 18.59l7.72-7.72 1.47 1.35L5.41 20z\"/>\n",
              "  </svg>\n",
              "      </button>\n",
              "      \n",
              "  <style>\n",
              "    .colab-df-container {\n",
              "      display:flex;\n",
              "      flex-wrap:wrap;\n",
              "      gap: 12px;\n",
              "    }\n",
              "\n",
              "    .colab-df-convert {\n",
              "      background-color: #E8F0FE;\n",
              "      border: none;\n",
              "      border-radius: 50%;\n",
              "      cursor: pointer;\n",
              "      display: none;\n",
              "      fill: #1967D2;\n",
              "      height: 32px;\n",
              "      padding: 0 0 0 0;\n",
              "      width: 32px;\n",
              "    }\n",
              "\n",
              "    .colab-df-convert:hover {\n",
              "      background-color: #E2EBFA;\n",
              "      box-shadow: 0px 1px 2px rgba(60, 64, 67, 0.3), 0px 1px 3px 1px rgba(60, 64, 67, 0.15);\n",
              "      fill: #174EA6;\n",
              "    }\n",
              "\n",
              "    [theme=dark] .colab-df-convert {\n",
              "      background-color: #3B4455;\n",
              "      fill: #D2E3FC;\n",
              "    }\n",
              "\n",
              "    [theme=dark] .colab-df-convert:hover {\n",
              "      background-color: #434B5C;\n",
              "      box-shadow: 0px 1px 3px 1px rgba(0, 0, 0, 0.15);\n",
              "      filter: drop-shadow(0px 1px 2px rgba(0, 0, 0, 0.3));\n",
              "      fill: #FFFFFF;\n",
              "    }\n",
              "  </style>\n",
              "\n",
              "      <script>\n",
              "        const buttonEl =\n",
              "          document.querySelector('#df-db583447-a80f-4476-b8af-7222baa0015d button.colab-df-convert');\n",
              "        buttonEl.style.display =\n",
              "          google.colab.kernel.accessAllowed ? 'block' : 'none';\n",
              "\n",
              "        async function convertToInteractive(key) {\n",
              "          const element = document.querySelector('#df-db583447-a80f-4476-b8af-7222baa0015d');\n",
              "          const dataTable =\n",
              "            await google.colab.kernel.invokeFunction('convertToInteractive',\n",
              "                                                     [key], {});\n",
              "          if (!dataTable) return;\n",
              "\n",
              "          const docLinkHtml = 'Like what you see? Visit the ' +\n",
              "            '<a target=\"_blank\" href=https://colab.research.google.com/notebooks/data_table.ipynb>data table notebook</a>'\n",
              "            + ' to learn more about interactive tables.';\n",
              "          element.innerHTML = '';\n",
              "          dataTable['output_type'] = 'display_data';\n",
              "          await google.colab.output.renderOutput(dataTable, element);\n",
              "          const docLink = document.createElement('div');\n",
              "          docLink.innerHTML = docLinkHtml;\n",
              "          element.appendChild(docLink);\n",
              "        }\n",
              "      </script>\n",
              "    </div>\n",
              "  </div>\n",
              "  "
            ]
          },
          "metadata": {},
          "execution_count": 169
        }
      ]
    },
    {
      "cell_type": "markdown",
      "source": [
        "### fifth fingings\n",
        "\n",
        "the average of all the reviews is between 4 and 6\n",
        "\n",
        "Boeing 787: best reviewed aircraft\n",
        "\n",
        "Boeing 747: worst reviewed airpcraft\n",
        "\n"
      ],
      "metadata": {
        "id": "dQnZfuVWFeCB"
      }
    },
    {
      "cell_type": "markdown",
      "source": [
        "## Sentiment analysis"
      ],
      "metadata": {
        "id": "Ha1yv1MDHTB6"
      }
    },
    {
      "cell_type": "code",
      "source": [
        "nltk.download('vader_lexicon')"
      ],
      "metadata": {
        "colab": {
          "base_uri": "https://localhost:8080/"
        },
        "id": "F4HaYfI1Nl9D",
        "outputId": "78394238-1222-4620-dc4b-fdaa43b91222"
      },
      "execution_count": null,
      "outputs": [
        {
          "output_type": "stream",
          "name": "stderr",
          "text": [
            "[nltk_data] Downloading package vader_lexicon to /root/nltk_data...\n"
          ]
        },
        {
          "output_type": "execute_result",
          "data": {
            "text/plain": [
              "True"
            ]
          },
          "metadata": {},
          "execution_count": 230
        }
      ]
    },
    {
      "cell_type": "code",
      "source": [
        "# Creating a new column called 'sentiment' that contains the sentiment analysis scores of each review using nltk\n",
        "from nltk.sentiment import vader\n",
        "import nltk\n",
        "import requests\n",
        "from collections import Counter"
      ],
      "metadata": {
        "id": "56-UFLo7GdOb"
      },
      "execution_count": null,
      "outputs": []
    },
    {
      "cell_type": "code",
      "source": [
        "# an instance of SentimentIntensityAnalyzer\n",
        "sentiment_analyzer = vader.SentimentIntensityAnalyzer()\n",
        "\n",
        "# a new column named 'sentiment'\n",
        "data['sentiment'] = data['review'].apply(\n",
        "    lambda review: sentiment_analyzer.polarity_scores(review)['compound']\n",
        "    )"
      ],
      "metadata": {
        "id": "p7Di5bXgNE1m"
      },
      "execution_count": null,
      "outputs": []
    },
    {
      "cell_type": "code",
      "source": [
        "data.head(3)"
      ],
      "metadata": {
        "colab": {
          "base_uri": "https://localhost:8080/",
          "height": 572
        },
        "id": "MyvvA_E6NE30",
        "outputId": "79a252b7-5351-4ddc-e796-781107c01b60"
      },
      "execution_count": null,
      "outputs": [
        {
          "output_type": "execute_result",
          "data": {
            "text/plain": [
              "             status        aircraft     travel_type   travel_class  \\\n",
              "0  ✅ Trip Verified   Boeing 777-200  Family Leisure  Economy Class   \n",
              "1     Not Verified             A380  Family Leisure  Economy Class   \n",
              "2     Not Verified              NaN  Family Leisure  Economy Class   \n",
              "\n",
              "                                route       date  seating_comfort  \\\n",
              "0                   Atlanta to London 2023-01-01                1   \n",
              "1                   London to Chicago 2022-12-01                3   \n",
              "2  Istanbul to Vancouver via Heathrow 2023-01-01                1   \n",
              "\n",
              "   staff_service  food_quality  entertainment  wifi  ground_service  \\\n",
              "0              1             1              3  <NA>               1   \n",
              "1              2             3              4  <NA>               3   \n",
              "2              5             1              1  <NA>               1   \n",
              "\n",
              "   value_for_money recommended  overall_rating  \\\n",
              "0                2          no               4   \n",
              "1                2          no               5   \n",
              "2                1          no               1   \n",
              "\n",
              "                                              review   rating  month  year  \\\n",
              "0    Flew ATL to LHR 8th Jan 2023. Was unlucky en...      bad      1  2023   \n",
              "1    Great thing about British Airways A380 is th...  average     12  2022   \n",
              "2   The staff are friendly. The plane was cold, w...      bad      1  2023   \n",
              "\n",
              "   sentiment  \n",
              "0    -0.9845  \n",
              "1     0.9382  \n",
              "2     0.3118  "
            ],
            "text/html": [
              "\n",
              "  <div id=\"df-1ef702c3-7908-4960-988a-9ad80b0241c3\">\n",
              "    <div class=\"colab-df-container\">\n",
              "      <div>\n",
              "<style scoped>\n",
              "    .dataframe tbody tr th:only-of-type {\n",
              "        vertical-align: middle;\n",
              "    }\n",
              "\n",
              "    .dataframe tbody tr th {\n",
              "        vertical-align: top;\n",
              "    }\n",
              "\n",
              "    .dataframe thead th {\n",
              "        text-align: right;\n",
              "    }\n",
              "</style>\n",
              "<table border=\"1\" class=\"dataframe\">\n",
              "  <thead>\n",
              "    <tr style=\"text-align: right;\">\n",
              "      <th></th>\n",
              "      <th>status</th>\n",
              "      <th>aircraft</th>\n",
              "      <th>travel_type</th>\n",
              "      <th>travel_class</th>\n",
              "      <th>route</th>\n",
              "      <th>date</th>\n",
              "      <th>seating_comfort</th>\n",
              "      <th>staff_service</th>\n",
              "      <th>food_quality</th>\n",
              "      <th>entertainment</th>\n",
              "      <th>wifi</th>\n",
              "      <th>ground_service</th>\n",
              "      <th>value_for_money</th>\n",
              "      <th>recommended</th>\n",
              "      <th>overall_rating</th>\n",
              "      <th>review</th>\n",
              "      <th>rating</th>\n",
              "      <th>month</th>\n",
              "      <th>year</th>\n",
              "      <th>sentiment</th>\n",
              "    </tr>\n",
              "  </thead>\n",
              "  <tbody>\n",
              "    <tr>\n",
              "      <th>0</th>\n",
              "      <td>✅ Trip Verified</td>\n",
              "      <td>Boeing 777-200</td>\n",
              "      <td>Family Leisure</td>\n",
              "      <td>Economy Class</td>\n",
              "      <td>Atlanta to London</td>\n",
              "      <td>2023-01-01</td>\n",
              "      <td>1</td>\n",
              "      <td>1</td>\n",
              "      <td>1</td>\n",
              "      <td>3</td>\n",
              "      <td>&lt;NA&gt;</td>\n",
              "      <td>1</td>\n",
              "      <td>2</td>\n",
              "      <td>no</td>\n",
              "      <td>4</td>\n",
              "      <td>Flew ATL to LHR 8th Jan 2023. Was unlucky en...</td>\n",
              "      <td>bad</td>\n",
              "      <td>1</td>\n",
              "      <td>2023</td>\n",
              "      <td>-0.9845</td>\n",
              "    </tr>\n",
              "    <tr>\n",
              "      <th>1</th>\n",
              "      <td>Not Verified</td>\n",
              "      <td>A380</td>\n",
              "      <td>Family Leisure</td>\n",
              "      <td>Economy Class</td>\n",
              "      <td>London to Chicago</td>\n",
              "      <td>2022-12-01</td>\n",
              "      <td>3</td>\n",
              "      <td>2</td>\n",
              "      <td>3</td>\n",
              "      <td>4</td>\n",
              "      <td>&lt;NA&gt;</td>\n",
              "      <td>3</td>\n",
              "      <td>2</td>\n",
              "      <td>no</td>\n",
              "      <td>5</td>\n",
              "      <td>Great thing about British Airways A380 is th...</td>\n",
              "      <td>average</td>\n",
              "      <td>12</td>\n",
              "      <td>2022</td>\n",
              "      <td>0.9382</td>\n",
              "    </tr>\n",
              "    <tr>\n",
              "      <th>2</th>\n",
              "      <td>Not Verified</td>\n",
              "      <td>NaN</td>\n",
              "      <td>Family Leisure</td>\n",
              "      <td>Economy Class</td>\n",
              "      <td>Istanbul to Vancouver via Heathrow</td>\n",
              "      <td>2023-01-01</td>\n",
              "      <td>1</td>\n",
              "      <td>5</td>\n",
              "      <td>1</td>\n",
              "      <td>1</td>\n",
              "      <td>&lt;NA&gt;</td>\n",
              "      <td>1</td>\n",
              "      <td>1</td>\n",
              "      <td>no</td>\n",
              "      <td>1</td>\n",
              "      <td>The staff are friendly. The plane was cold, w...</td>\n",
              "      <td>bad</td>\n",
              "      <td>1</td>\n",
              "      <td>2023</td>\n",
              "      <td>0.3118</td>\n",
              "    </tr>\n",
              "  </tbody>\n",
              "</table>\n",
              "</div>\n",
              "      <button class=\"colab-df-convert\" onclick=\"convertToInteractive('df-1ef702c3-7908-4960-988a-9ad80b0241c3')\"\n",
              "              title=\"Convert this dataframe to an interactive table.\"\n",
              "              style=\"display:none;\">\n",
              "        \n",
              "  <svg xmlns=\"http://www.w3.org/2000/svg\" height=\"24px\"viewBox=\"0 0 24 24\"\n",
              "       width=\"24px\">\n",
              "    <path d=\"M0 0h24v24H0V0z\" fill=\"none\"/>\n",
              "    <path d=\"M18.56 5.44l.94 2.06.94-2.06 2.06-.94-2.06-.94-.94-2.06-.94 2.06-2.06.94zm-11 1L8.5 8.5l.94-2.06 2.06-.94-2.06-.94L8.5 2.5l-.94 2.06-2.06.94zm10 10l.94 2.06.94-2.06 2.06-.94-2.06-.94-.94-2.06-.94 2.06-2.06.94z\"/><path d=\"M17.41 7.96l-1.37-1.37c-.4-.4-.92-.59-1.43-.59-.52 0-1.04.2-1.43.59L10.3 9.45l-7.72 7.72c-.78.78-.78 2.05 0 2.83L4 21.41c.39.39.9.59 1.41.59.51 0 1.02-.2 1.41-.59l7.78-7.78 2.81-2.81c.8-.78.8-2.07 0-2.86zM5.41 20L4 18.59l7.72-7.72 1.47 1.35L5.41 20z\"/>\n",
              "  </svg>\n",
              "      </button>\n",
              "      \n",
              "  <style>\n",
              "    .colab-df-container {\n",
              "      display:flex;\n",
              "      flex-wrap:wrap;\n",
              "      gap: 12px;\n",
              "    }\n",
              "\n",
              "    .colab-df-convert {\n",
              "      background-color: #E8F0FE;\n",
              "      border: none;\n",
              "      border-radius: 50%;\n",
              "      cursor: pointer;\n",
              "      display: none;\n",
              "      fill: #1967D2;\n",
              "      height: 32px;\n",
              "      padding: 0 0 0 0;\n",
              "      width: 32px;\n",
              "    }\n",
              "\n",
              "    .colab-df-convert:hover {\n",
              "      background-color: #E2EBFA;\n",
              "      box-shadow: 0px 1px 2px rgba(60, 64, 67, 0.3), 0px 1px 3px 1px rgba(60, 64, 67, 0.15);\n",
              "      fill: #174EA6;\n",
              "    }\n",
              "\n",
              "    [theme=dark] .colab-df-convert {\n",
              "      background-color: #3B4455;\n",
              "      fill: #D2E3FC;\n",
              "    }\n",
              "\n",
              "    [theme=dark] .colab-df-convert:hover {\n",
              "      background-color: #434B5C;\n",
              "      box-shadow: 0px 1px 3px 1px rgba(0, 0, 0, 0.15);\n",
              "      filter: drop-shadow(0px 1px 2px rgba(0, 0, 0, 0.3));\n",
              "      fill: #FFFFFF;\n",
              "    }\n",
              "  </style>\n",
              "\n",
              "      <script>\n",
              "        const buttonEl =\n",
              "          document.querySelector('#df-1ef702c3-7908-4960-988a-9ad80b0241c3 button.colab-df-convert');\n",
              "        buttonEl.style.display =\n",
              "          google.colab.kernel.accessAllowed ? 'block' : 'none';\n",
              "\n",
              "        async function convertToInteractive(key) {\n",
              "          const element = document.querySelector('#df-1ef702c3-7908-4960-988a-9ad80b0241c3');\n",
              "          const dataTable =\n",
              "            await google.colab.kernel.invokeFunction('convertToInteractive',\n",
              "                                                     [key], {});\n",
              "          if (!dataTable) return;\n",
              "\n",
              "          const docLinkHtml = 'Like what you see? Visit the ' +\n",
              "            '<a target=\"_blank\" href=https://colab.research.google.com/notebooks/data_table.ipynb>data table notebook</a>'\n",
              "            + ' to learn more about interactive tables.';\n",
              "          element.innerHTML = '';\n",
              "          dataTable['output_type'] = 'display_data';\n",
              "          await google.colab.output.renderOutput(dataTable, element);\n",
              "          const docLink = document.createElement('div');\n",
              "          docLink.innerHTML = docLinkHtml;\n",
              "          element.appendChild(docLink);\n",
              "        }\n",
              "      </script>\n",
              "    </div>\n",
              "  </div>\n",
              "  "
            ]
          },
          "metadata": {},
          "execution_count": 234
        }
      ]
    },
    {
      "cell_type": "code",
      "source": [
        "# Creating another new column called 'sentiment_type' that contains the type of sentiment of each review using nltk\n",
        "\n",
        "data['sentiment_type'] = data['sentiment'].apply(\n",
        "    lambda score: 'positive' if score > 0 else ('negative' if score < 0 else 'neutral')\n",
        "    )"
      ],
      "metadata": {
        "id": "yvU2lip2NE6O"
      },
      "execution_count": null,
      "outputs": []
    },
    {
      "cell_type": "code",
      "source": [
        "data.head(3)"
      ],
      "metadata": {
        "colab": {
          "base_uri": "https://localhost:8080/",
          "height": 601
        },
        "id": "sBQRwkYxGdQx",
        "outputId": "9feb61eb-1562-4bee-acf9-e3742c5371b4"
      },
      "execution_count": null,
      "outputs": [
        {
          "output_type": "execute_result",
          "data": {
            "text/plain": [
              "             status        aircraft     travel_type   travel_class  \\\n",
              "0  ✅ Trip Verified   Boeing 777-200  Family Leisure  Economy Class   \n",
              "1     Not Verified             A380  Family Leisure  Economy Class   \n",
              "2     Not Verified              NaN  Family Leisure  Economy Class   \n",
              "\n",
              "                                route       date  seating_comfort  \\\n",
              "0                   Atlanta to London 2023-01-01                1   \n",
              "1                   London to Chicago 2022-12-01                3   \n",
              "2  Istanbul to Vancouver via Heathrow 2023-01-01                1   \n",
              "\n",
              "   staff_service  food_quality  entertainment  ...  ground_service  \\\n",
              "0              1             1              3  ...               1   \n",
              "1              2             3              4  ...               3   \n",
              "2              5             1              1  ...               1   \n",
              "\n",
              "   value_for_money  recommended overall_rating  \\\n",
              "0                2           no              4   \n",
              "1                2           no              5   \n",
              "2                1           no              1   \n",
              "\n",
              "                                              review   rating month  year  \\\n",
              "0    Flew ATL to LHR 8th Jan 2023. Was unlucky en...      bad     1  2023   \n",
              "1    Great thing about British Airways A380 is th...  average    12  2022   \n",
              "2   The staff are friendly. The plane was cold, w...      bad     1  2023   \n",
              "\n",
              "   sentiment  sentiment_type  \n",
              "0    -0.9845        negative  \n",
              "1     0.9382        positive  \n",
              "2     0.3118        positive  \n",
              "\n",
              "[3 rows x 21 columns]"
            ],
            "text/html": [
              "\n",
              "  <div id=\"df-86fa7915-7a6d-4b6f-a7bb-56644f42dda6\">\n",
              "    <div class=\"colab-df-container\">\n",
              "      <div>\n",
              "<style scoped>\n",
              "    .dataframe tbody tr th:only-of-type {\n",
              "        vertical-align: middle;\n",
              "    }\n",
              "\n",
              "    .dataframe tbody tr th {\n",
              "        vertical-align: top;\n",
              "    }\n",
              "\n",
              "    .dataframe thead th {\n",
              "        text-align: right;\n",
              "    }\n",
              "</style>\n",
              "<table border=\"1\" class=\"dataframe\">\n",
              "  <thead>\n",
              "    <tr style=\"text-align: right;\">\n",
              "      <th></th>\n",
              "      <th>status</th>\n",
              "      <th>aircraft</th>\n",
              "      <th>travel_type</th>\n",
              "      <th>travel_class</th>\n",
              "      <th>route</th>\n",
              "      <th>date</th>\n",
              "      <th>seating_comfort</th>\n",
              "      <th>staff_service</th>\n",
              "      <th>food_quality</th>\n",
              "      <th>entertainment</th>\n",
              "      <th>...</th>\n",
              "      <th>ground_service</th>\n",
              "      <th>value_for_money</th>\n",
              "      <th>recommended</th>\n",
              "      <th>overall_rating</th>\n",
              "      <th>review</th>\n",
              "      <th>rating</th>\n",
              "      <th>month</th>\n",
              "      <th>year</th>\n",
              "      <th>sentiment</th>\n",
              "      <th>sentiment_type</th>\n",
              "    </tr>\n",
              "  </thead>\n",
              "  <tbody>\n",
              "    <tr>\n",
              "      <th>0</th>\n",
              "      <td>✅ Trip Verified</td>\n",
              "      <td>Boeing 777-200</td>\n",
              "      <td>Family Leisure</td>\n",
              "      <td>Economy Class</td>\n",
              "      <td>Atlanta to London</td>\n",
              "      <td>2023-01-01</td>\n",
              "      <td>1</td>\n",
              "      <td>1</td>\n",
              "      <td>1</td>\n",
              "      <td>3</td>\n",
              "      <td>...</td>\n",
              "      <td>1</td>\n",
              "      <td>2</td>\n",
              "      <td>no</td>\n",
              "      <td>4</td>\n",
              "      <td>Flew ATL to LHR 8th Jan 2023. Was unlucky en...</td>\n",
              "      <td>bad</td>\n",
              "      <td>1</td>\n",
              "      <td>2023</td>\n",
              "      <td>-0.9845</td>\n",
              "      <td>negative</td>\n",
              "    </tr>\n",
              "    <tr>\n",
              "      <th>1</th>\n",
              "      <td>Not Verified</td>\n",
              "      <td>A380</td>\n",
              "      <td>Family Leisure</td>\n",
              "      <td>Economy Class</td>\n",
              "      <td>London to Chicago</td>\n",
              "      <td>2022-12-01</td>\n",
              "      <td>3</td>\n",
              "      <td>2</td>\n",
              "      <td>3</td>\n",
              "      <td>4</td>\n",
              "      <td>...</td>\n",
              "      <td>3</td>\n",
              "      <td>2</td>\n",
              "      <td>no</td>\n",
              "      <td>5</td>\n",
              "      <td>Great thing about British Airways A380 is th...</td>\n",
              "      <td>average</td>\n",
              "      <td>12</td>\n",
              "      <td>2022</td>\n",
              "      <td>0.9382</td>\n",
              "      <td>positive</td>\n",
              "    </tr>\n",
              "    <tr>\n",
              "      <th>2</th>\n",
              "      <td>Not Verified</td>\n",
              "      <td>NaN</td>\n",
              "      <td>Family Leisure</td>\n",
              "      <td>Economy Class</td>\n",
              "      <td>Istanbul to Vancouver via Heathrow</td>\n",
              "      <td>2023-01-01</td>\n",
              "      <td>1</td>\n",
              "      <td>5</td>\n",
              "      <td>1</td>\n",
              "      <td>1</td>\n",
              "      <td>...</td>\n",
              "      <td>1</td>\n",
              "      <td>1</td>\n",
              "      <td>no</td>\n",
              "      <td>1</td>\n",
              "      <td>The staff are friendly. The plane was cold, w...</td>\n",
              "      <td>bad</td>\n",
              "      <td>1</td>\n",
              "      <td>2023</td>\n",
              "      <td>0.3118</td>\n",
              "      <td>positive</td>\n",
              "    </tr>\n",
              "  </tbody>\n",
              "</table>\n",
              "<p>3 rows × 21 columns</p>\n",
              "</div>\n",
              "      <button class=\"colab-df-convert\" onclick=\"convertToInteractive('df-86fa7915-7a6d-4b6f-a7bb-56644f42dda6')\"\n",
              "              title=\"Convert this dataframe to an interactive table.\"\n",
              "              style=\"display:none;\">\n",
              "        \n",
              "  <svg xmlns=\"http://www.w3.org/2000/svg\" height=\"24px\"viewBox=\"0 0 24 24\"\n",
              "       width=\"24px\">\n",
              "    <path d=\"M0 0h24v24H0V0z\" fill=\"none\"/>\n",
              "    <path d=\"M18.56 5.44l.94 2.06.94-2.06 2.06-.94-2.06-.94-.94-2.06-.94 2.06-2.06.94zm-11 1L8.5 8.5l.94-2.06 2.06-.94-2.06-.94L8.5 2.5l-.94 2.06-2.06.94zm10 10l.94 2.06.94-2.06 2.06-.94-2.06-.94-.94-2.06-.94 2.06-2.06.94z\"/><path d=\"M17.41 7.96l-1.37-1.37c-.4-.4-.92-.59-1.43-.59-.52 0-1.04.2-1.43.59L10.3 9.45l-7.72 7.72c-.78.78-.78 2.05 0 2.83L4 21.41c.39.39.9.59 1.41.59.51 0 1.02-.2 1.41-.59l7.78-7.78 2.81-2.81c.8-.78.8-2.07 0-2.86zM5.41 20L4 18.59l7.72-7.72 1.47 1.35L5.41 20z\"/>\n",
              "  </svg>\n",
              "      </button>\n",
              "      \n",
              "  <style>\n",
              "    .colab-df-container {\n",
              "      display:flex;\n",
              "      flex-wrap:wrap;\n",
              "      gap: 12px;\n",
              "    }\n",
              "\n",
              "    .colab-df-convert {\n",
              "      background-color: #E8F0FE;\n",
              "      border: none;\n",
              "      border-radius: 50%;\n",
              "      cursor: pointer;\n",
              "      display: none;\n",
              "      fill: #1967D2;\n",
              "      height: 32px;\n",
              "      padding: 0 0 0 0;\n",
              "      width: 32px;\n",
              "    }\n",
              "\n",
              "    .colab-df-convert:hover {\n",
              "      background-color: #E2EBFA;\n",
              "      box-shadow: 0px 1px 2px rgba(60, 64, 67, 0.3), 0px 1px 3px 1px rgba(60, 64, 67, 0.15);\n",
              "      fill: #174EA6;\n",
              "    }\n",
              "\n",
              "    [theme=dark] .colab-df-convert {\n",
              "      background-color: #3B4455;\n",
              "      fill: #D2E3FC;\n",
              "    }\n",
              "\n",
              "    [theme=dark] .colab-df-convert:hover {\n",
              "      background-color: #434B5C;\n",
              "      box-shadow: 0px 1px 3px 1px rgba(0, 0, 0, 0.15);\n",
              "      filter: drop-shadow(0px 1px 2px rgba(0, 0, 0, 0.3));\n",
              "      fill: #FFFFFF;\n",
              "    }\n",
              "  </style>\n",
              "\n",
              "      <script>\n",
              "        const buttonEl =\n",
              "          document.querySelector('#df-86fa7915-7a6d-4b6f-a7bb-56644f42dda6 button.colab-df-convert');\n",
              "        buttonEl.style.display =\n",
              "          google.colab.kernel.accessAllowed ? 'block' : 'none';\n",
              "\n",
              "        async function convertToInteractive(key) {\n",
              "          const element = document.querySelector('#df-86fa7915-7a6d-4b6f-a7bb-56644f42dda6');\n",
              "          const dataTable =\n",
              "            await google.colab.kernel.invokeFunction('convertToInteractive',\n",
              "                                                     [key], {});\n",
              "          if (!dataTable) return;\n",
              "\n",
              "          const docLinkHtml = 'Like what you see? Visit the ' +\n",
              "            '<a target=\"_blank\" href=https://colab.research.google.com/notebooks/data_table.ipynb>data table notebook</a>'\n",
              "            + ' to learn more about interactive tables.';\n",
              "          element.innerHTML = '';\n",
              "          dataTable['output_type'] = 'display_data';\n",
              "          await google.colab.output.renderOutput(dataTable, element);\n",
              "          const docLink = document.createElement('div');\n",
              "          docLink.innerHTML = docLinkHtml;\n",
              "          element.appendChild(docLink);\n",
              "        }\n",
              "      </script>\n",
              "    </div>\n",
              "  </div>\n",
              "  "
            ]
          },
          "metadata": {},
          "execution_count": 236
        }
      ]
    },
    {
      "cell_type": "code",
      "source": [
        "# calculate the percentage of each type of sentiment score\n",
        "sentiment_type_percentages = data['sentiment_type'].value_counts(normalize=True)*100"
      ],
      "metadata": {
        "id": "l18feTT0GdTo"
      },
      "execution_count": null,
      "outputs": []
    },
    {
      "cell_type": "code",
      "source": [
        "sentiment_type_percentages_df = sentiment_type_percentages.rename_axis('sentiment_type').reset_index(name='counts')\n",
        "sentiment_type_percentages_df"
      ],
      "metadata": {
        "colab": {
          "base_uri": "https://localhost:8080/",
          "height": 143
        },
        "id": "OFNaRVWdBynk",
        "outputId": "3b056526-1d64-41ad-df82-a60e7890d0d7"
      },
      "execution_count": null,
      "outputs": [
        {
          "output_type": "execute_result",
          "data": {
            "text/plain": [
              "  sentiment_type     counts\n",
              "0       positive  59.929907\n",
              "1       negative  39.807243\n",
              "2        neutral   0.262850"
            ],
            "text/html": [
              "\n",
              "  <div id=\"df-c1377825-64f3-49b0-9eb4-46ef6beb56b1\">\n",
              "    <div class=\"colab-df-container\">\n",
              "      <div>\n",
              "<style scoped>\n",
              "    .dataframe tbody tr th:only-of-type {\n",
              "        vertical-align: middle;\n",
              "    }\n",
              "\n",
              "    .dataframe tbody tr th {\n",
              "        vertical-align: top;\n",
              "    }\n",
              "\n",
              "    .dataframe thead th {\n",
              "        text-align: right;\n",
              "    }\n",
              "</style>\n",
              "<table border=\"1\" class=\"dataframe\">\n",
              "  <thead>\n",
              "    <tr style=\"text-align: right;\">\n",
              "      <th></th>\n",
              "      <th>sentiment_type</th>\n",
              "      <th>counts</th>\n",
              "    </tr>\n",
              "  </thead>\n",
              "  <tbody>\n",
              "    <tr>\n",
              "      <th>0</th>\n",
              "      <td>positive</td>\n",
              "      <td>59.929907</td>\n",
              "    </tr>\n",
              "    <tr>\n",
              "      <th>1</th>\n",
              "      <td>negative</td>\n",
              "      <td>39.807243</td>\n",
              "    </tr>\n",
              "    <tr>\n",
              "      <th>2</th>\n",
              "      <td>neutral</td>\n",
              "      <td>0.262850</td>\n",
              "    </tr>\n",
              "  </tbody>\n",
              "</table>\n",
              "</div>\n",
              "      <button class=\"colab-df-convert\" onclick=\"convertToInteractive('df-c1377825-64f3-49b0-9eb4-46ef6beb56b1')\"\n",
              "              title=\"Convert this dataframe to an interactive table.\"\n",
              "              style=\"display:none;\">\n",
              "        \n",
              "  <svg xmlns=\"http://www.w3.org/2000/svg\" height=\"24px\"viewBox=\"0 0 24 24\"\n",
              "       width=\"24px\">\n",
              "    <path d=\"M0 0h24v24H0V0z\" fill=\"none\"/>\n",
              "    <path d=\"M18.56 5.44l.94 2.06.94-2.06 2.06-.94-2.06-.94-.94-2.06-.94 2.06-2.06.94zm-11 1L8.5 8.5l.94-2.06 2.06-.94-2.06-.94L8.5 2.5l-.94 2.06-2.06.94zm10 10l.94 2.06.94-2.06 2.06-.94-2.06-.94-.94-2.06-.94 2.06-2.06.94z\"/><path d=\"M17.41 7.96l-1.37-1.37c-.4-.4-.92-.59-1.43-.59-.52 0-1.04.2-1.43.59L10.3 9.45l-7.72 7.72c-.78.78-.78 2.05 0 2.83L4 21.41c.39.39.9.59 1.41.59.51 0 1.02-.2 1.41-.59l7.78-7.78 2.81-2.81c.8-.78.8-2.07 0-2.86zM5.41 20L4 18.59l7.72-7.72 1.47 1.35L5.41 20z\"/>\n",
              "  </svg>\n",
              "      </button>\n",
              "      \n",
              "  <style>\n",
              "    .colab-df-container {\n",
              "      display:flex;\n",
              "      flex-wrap:wrap;\n",
              "      gap: 12px;\n",
              "    }\n",
              "\n",
              "    .colab-df-convert {\n",
              "      background-color: #E8F0FE;\n",
              "      border: none;\n",
              "      border-radius: 50%;\n",
              "      cursor: pointer;\n",
              "      display: none;\n",
              "      fill: #1967D2;\n",
              "      height: 32px;\n",
              "      padding: 0 0 0 0;\n",
              "      width: 32px;\n",
              "    }\n",
              "\n",
              "    .colab-df-convert:hover {\n",
              "      background-color: #E2EBFA;\n",
              "      box-shadow: 0px 1px 2px rgba(60, 64, 67, 0.3), 0px 1px 3px 1px rgba(60, 64, 67, 0.15);\n",
              "      fill: #174EA6;\n",
              "    }\n",
              "\n",
              "    [theme=dark] .colab-df-convert {\n",
              "      background-color: #3B4455;\n",
              "      fill: #D2E3FC;\n",
              "    }\n",
              "\n",
              "    [theme=dark] .colab-df-convert:hover {\n",
              "      background-color: #434B5C;\n",
              "      box-shadow: 0px 1px 3px 1px rgba(0, 0, 0, 0.15);\n",
              "      filter: drop-shadow(0px 1px 2px rgba(0, 0, 0, 0.3));\n",
              "      fill: #FFFFFF;\n",
              "    }\n",
              "  </style>\n",
              "\n",
              "      <script>\n",
              "        const buttonEl =\n",
              "          document.querySelector('#df-c1377825-64f3-49b0-9eb4-46ef6beb56b1 button.colab-df-convert');\n",
              "        buttonEl.style.display =\n",
              "          google.colab.kernel.accessAllowed ? 'block' : 'none';\n",
              "\n",
              "        async function convertToInteractive(key) {\n",
              "          const element = document.querySelector('#df-c1377825-64f3-49b0-9eb4-46ef6beb56b1');\n",
              "          const dataTable =\n",
              "            await google.colab.kernel.invokeFunction('convertToInteractive',\n",
              "                                                     [key], {});\n",
              "          if (!dataTable) return;\n",
              "\n",
              "          const docLinkHtml = 'Like what you see? Visit the ' +\n",
              "            '<a target=\"_blank\" href=https://colab.research.google.com/notebooks/data_table.ipynb>data table notebook</a>'\n",
              "            + ' to learn more about interactive tables.';\n",
              "          element.innerHTML = '';\n",
              "          dataTable['output_type'] = 'display_data';\n",
              "          await google.colab.output.renderOutput(dataTable, element);\n",
              "          const docLink = document.createElement('div');\n",
              "          docLink.innerHTML = docLinkHtml;\n",
              "          element.appendChild(docLink);\n",
              "        }\n",
              "      </script>\n",
              "    </div>\n",
              "  </div>\n",
              "  "
            ]
          },
          "metadata": {},
          "execution_count": 255
        }
      ]
    },
    {
      "cell_type": "code",
      "source": [
        "import plotly.express as px\n",
        "\n",
        "fig = px.pie(sentiment_type_percentages_df, values='counts', names='sentiment_type')\n",
        "fig.show()"
      ],
      "metadata": {
        "colab": {
          "base_uri": "https://localhost:8080/",
          "height": 542
        },
        "id": "PzkuVdppBypm",
        "outputId": "c0b6e5f1-be1e-4b26-fec3-7d3b664916cc"
      },
      "execution_count": null,
      "outputs": [
        {
          "output_type": "display_data",
          "data": {
            "text/html": [
              "<html>\n",
              "<head><meta charset=\"utf-8\" /></head>\n",
              "<body>\n",
              "    <div>            <script src=\"https://cdnjs.cloudflare.com/ajax/libs/mathjax/2.7.5/MathJax.js?config=TeX-AMS-MML_SVG\"></script><script type=\"text/javascript\">if (window.MathJax) {MathJax.Hub.Config({SVG: {font: \"STIX-Web\"}});}</script>                <script type=\"text/javascript\">window.PlotlyConfig = {MathJaxConfig: 'local'};</script>\n",
              "        <script src=\"https://cdn.plot.ly/plotly-2.8.3.min.js\"></script>                <div id=\"5d7cd03d-205d-4f9c-a21f-f05ca7fa06a5\" class=\"plotly-graph-div\" style=\"height:525px; width:100%;\"></div>            <script type=\"text/javascript\">                                    window.PLOTLYENV=window.PLOTLYENV || {};                                    if (document.getElementById(\"5d7cd03d-205d-4f9c-a21f-f05ca7fa06a5\")) {                    Plotly.newPlot(                        \"5d7cd03d-205d-4f9c-a21f-f05ca7fa06a5\",                        [{\"domain\":{\"x\":[0.0,1.0],\"y\":[0.0,1.0]},\"hovertemplate\":\"sentiment_type=%{label}<br>counts=%{value}<extra></extra>\",\"labels\":[\"positive\",\"negative\",\"neutral\"],\"legendgroup\":\"\",\"name\":\"\",\"showlegend\":true,\"values\":[59.929906542056074,39.80724299065421,0.2628504672897196],\"type\":\"pie\"}],                        {\"template\":{\"data\":{\"bar\":[{\"error_x\":{\"color\":\"#2a3f5f\"},\"error_y\":{\"color\":\"#2a3f5f\"},\"marker\":{\"line\":{\"color\":\"#E5ECF6\",\"width\":0.5},\"pattern\":{\"fillmode\":\"overlay\",\"size\":10,\"solidity\":0.2}},\"type\":\"bar\"}],\"barpolar\":[{\"marker\":{\"line\":{\"color\":\"#E5ECF6\",\"width\":0.5},\"pattern\":{\"fillmode\":\"overlay\",\"size\":10,\"solidity\":0.2}},\"type\":\"barpolar\"}],\"carpet\":[{\"aaxis\":{\"endlinecolor\":\"#2a3f5f\",\"gridcolor\":\"white\",\"linecolor\":\"white\",\"minorgridcolor\":\"white\",\"startlinecolor\":\"#2a3f5f\"},\"baxis\":{\"endlinecolor\":\"#2a3f5f\",\"gridcolor\":\"white\",\"linecolor\":\"white\",\"minorgridcolor\":\"white\",\"startlinecolor\":\"#2a3f5f\"},\"type\":\"carpet\"}],\"choropleth\":[{\"colorbar\":{\"outlinewidth\":0,\"ticks\":\"\"},\"type\":\"choropleth\"}],\"contour\":[{\"colorbar\":{\"outlinewidth\":0,\"ticks\":\"\"},\"colorscale\":[[0.0,\"#0d0887\"],[0.1111111111111111,\"#46039f\"],[0.2222222222222222,\"#7201a8\"],[0.3333333333333333,\"#9c179e\"],[0.4444444444444444,\"#bd3786\"],[0.5555555555555556,\"#d8576b\"],[0.6666666666666666,\"#ed7953\"],[0.7777777777777778,\"#fb9f3a\"],[0.8888888888888888,\"#fdca26\"],[1.0,\"#f0f921\"]],\"type\":\"contour\"}],\"contourcarpet\":[{\"colorbar\":{\"outlinewidth\":0,\"ticks\":\"\"},\"type\":\"contourcarpet\"}],\"heatmap\":[{\"colorbar\":{\"outlinewidth\":0,\"ticks\":\"\"},\"colorscale\":[[0.0,\"#0d0887\"],[0.1111111111111111,\"#46039f\"],[0.2222222222222222,\"#7201a8\"],[0.3333333333333333,\"#9c179e\"],[0.4444444444444444,\"#bd3786\"],[0.5555555555555556,\"#d8576b\"],[0.6666666666666666,\"#ed7953\"],[0.7777777777777778,\"#fb9f3a\"],[0.8888888888888888,\"#fdca26\"],[1.0,\"#f0f921\"]],\"type\":\"heatmap\"}],\"heatmapgl\":[{\"colorbar\":{\"outlinewidth\":0,\"ticks\":\"\"},\"colorscale\":[[0.0,\"#0d0887\"],[0.1111111111111111,\"#46039f\"],[0.2222222222222222,\"#7201a8\"],[0.3333333333333333,\"#9c179e\"],[0.4444444444444444,\"#bd3786\"],[0.5555555555555556,\"#d8576b\"],[0.6666666666666666,\"#ed7953\"],[0.7777777777777778,\"#fb9f3a\"],[0.8888888888888888,\"#fdca26\"],[1.0,\"#f0f921\"]],\"type\":\"heatmapgl\"}],\"histogram\":[{\"marker\":{\"pattern\":{\"fillmode\":\"overlay\",\"size\":10,\"solidity\":0.2}},\"type\":\"histogram\"}],\"histogram2d\":[{\"colorbar\":{\"outlinewidth\":0,\"ticks\":\"\"},\"colorscale\":[[0.0,\"#0d0887\"],[0.1111111111111111,\"#46039f\"],[0.2222222222222222,\"#7201a8\"],[0.3333333333333333,\"#9c179e\"],[0.4444444444444444,\"#bd3786\"],[0.5555555555555556,\"#d8576b\"],[0.6666666666666666,\"#ed7953\"],[0.7777777777777778,\"#fb9f3a\"],[0.8888888888888888,\"#fdca26\"],[1.0,\"#f0f921\"]],\"type\":\"histogram2d\"}],\"histogram2dcontour\":[{\"colorbar\":{\"outlinewidth\":0,\"ticks\":\"\"},\"colorscale\":[[0.0,\"#0d0887\"],[0.1111111111111111,\"#46039f\"],[0.2222222222222222,\"#7201a8\"],[0.3333333333333333,\"#9c179e\"],[0.4444444444444444,\"#bd3786\"],[0.5555555555555556,\"#d8576b\"],[0.6666666666666666,\"#ed7953\"],[0.7777777777777778,\"#fb9f3a\"],[0.8888888888888888,\"#fdca26\"],[1.0,\"#f0f921\"]],\"type\":\"histogram2dcontour\"}],\"mesh3d\":[{\"colorbar\":{\"outlinewidth\":0,\"ticks\":\"\"},\"type\":\"mesh3d\"}],\"parcoords\":[{\"line\":{\"colorbar\":{\"outlinewidth\":0,\"ticks\":\"\"}},\"type\":\"parcoords\"}],\"pie\":[{\"automargin\":true,\"type\":\"pie\"}],\"scatter\":[{\"marker\":{\"colorbar\":{\"outlinewidth\":0,\"ticks\":\"\"}},\"type\":\"scatter\"}],\"scatter3d\":[{\"line\":{\"colorbar\":{\"outlinewidth\":0,\"ticks\":\"\"}},\"marker\":{\"colorbar\":{\"outlinewidth\":0,\"ticks\":\"\"}},\"type\":\"scatter3d\"}],\"scattercarpet\":[{\"marker\":{\"colorbar\":{\"outlinewidth\":0,\"ticks\":\"\"}},\"type\":\"scattercarpet\"}],\"scattergeo\":[{\"marker\":{\"colorbar\":{\"outlinewidth\":0,\"ticks\":\"\"}},\"type\":\"scattergeo\"}],\"scattergl\":[{\"marker\":{\"colorbar\":{\"outlinewidth\":0,\"ticks\":\"\"}},\"type\":\"scattergl\"}],\"scattermapbox\":[{\"marker\":{\"colorbar\":{\"outlinewidth\":0,\"ticks\":\"\"}},\"type\":\"scattermapbox\"}],\"scatterpolar\":[{\"marker\":{\"colorbar\":{\"outlinewidth\":0,\"ticks\":\"\"}},\"type\":\"scatterpolar\"}],\"scatterpolargl\":[{\"marker\":{\"colorbar\":{\"outlinewidth\":0,\"ticks\":\"\"}},\"type\":\"scatterpolargl\"}],\"scatterternary\":[{\"marker\":{\"colorbar\":{\"outlinewidth\":0,\"ticks\":\"\"}},\"type\":\"scatterternary\"}],\"surface\":[{\"colorbar\":{\"outlinewidth\":0,\"ticks\":\"\"},\"colorscale\":[[0.0,\"#0d0887\"],[0.1111111111111111,\"#46039f\"],[0.2222222222222222,\"#7201a8\"],[0.3333333333333333,\"#9c179e\"],[0.4444444444444444,\"#bd3786\"],[0.5555555555555556,\"#d8576b\"],[0.6666666666666666,\"#ed7953\"],[0.7777777777777778,\"#fb9f3a\"],[0.8888888888888888,\"#fdca26\"],[1.0,\"#f0f921\"]],\"type\":\"surface\"}],\"table\":[{\"cells\":{\"fill\":{\"color\":\"#EBF0F8\"},\"line\":{\"color\":\"white\"}},\"header\":{\"fill\":{\"color\":\"#C8D4E3\"},\"line\":{\"color\":\"white\"}},\"type\":\"table\"}]},\"layout\":{\"annotationdefaults\":{\"arrowcolor\":\"#2a3f5f\",\"arrowhead\":0,\"arrowwidth\":1},\"autotypenumbers\":\"strict\",\"coloraxis\":{\"colorbar\":{\"outlinewidth\":0,\"ticks\":\"\"}},\"colorscale\":{\"diverging\":[[0,\"#8e0152\"],[0.1,\"#c51b7d\"],[0.2,\"#de77ae\"],[0.3,\"#f1b6da\"],[0.4,\"#fde0ef\"],[0.5,\"#f7f7f7\"],[0.6,\"#e6f5d0\"],[0.7,\"#b8e186\"],[0.8,\"#7fbc41\"],[0.9,\"#4d9221\"],[1,\"#276419\"]],\"sequential\":[[0.0,\"#0d0887\"],[0.1111111111111111,\"#46039f\"],[0.2222222222222222,\"#7201a8\"],[0.3333333333333333,\"#9c179e\"],[0.4444444444444444,\"#bd3786\"],[0.5555555555555556,\"#d8576b\"],[0.6666666666666666,\"#ed7953\"],[0.7777777777777778,\"#fb9f3a\"],[0.8888888888888888,\"#fdca26\"],[1.0,\"#f0f921\"]],\"sequentialminus\":[[0.0,\"#0d0887\"],[0.1111111111111111,\"#46039f\"],[0.2222222222222222,\"#7201a8\"],[0.3333333333333333,\"#9c179e\"],[0.4444444444444444,\"#bd3786\"],[0.5555555555555556,\"#d8576b\"],[0.6666666666666666,\"#ed7953\"],[0.7777777777777778,\"#fb9f3a\"],[0.8888888888888888,\"#fdca26\"],[1.0,\"#f0f921\"]]},\"colorway\":[\"#636efa\",\"#EF553B\",\"#00cc96\",\"#ab63fa\",\"#FFA15A\",\"#19d3f3\",\"#FF6692\",\"#B6E880\",\"#FF97FF\",\"#FECB52\"],\"font\":{\"color\":\"#2a3f5f\"},\"geo\":{\"bgcolor\":\"white\",\"lakecolor\":\"white\",\"landcolor\":\"#E5ECF6\",\"showlakes\":true,\"showland\":true,\"subunitcolor\":\"white\"},\"hoverlabel\":{\"align\":\"left\"},\"hovermode\":\"closest\",\"mapbox\":{\"style\":\"light\"},\"paper_bgcolor\":\"white\",\"plot_bgcolor\":\"#E5ECF6\",\"polar\":{\"angularaxis\":{\"gridcolor\":\"white\",\"linecolor\":\"white\",\"ticks\":\"\"},\"bgcolor\":\"#E5ECF6\",\"radialaxis\":{\"gridcolor\":\"white\",\"linecolor\":\"white\",\"ticks\":\"\"}},\"scene\":{\"xaxis\":{\"backgroundcolor\":\"#E5ECF6\",\"gridcolor\":\"white\",\"gridwidth\":2,\"linecolor\":\"white\",\"showbackground\":true,\"ticks\":\"\",\"zerolinecolor\":\"white\"},\"yaxis\":{\"backgroundcolor\":\"#E5ECF6\",\"gridcolor\":\"white\",\"gridwidth\":2,\"linecolor\":\"white\",\"showbackground\":true,\"ticks\":\"\",\"zerolinecolor\":\"white\"},\"zaxis\":{\"backgroundcolor\":\"#E5ECF6\",\"gridcolor\":\"white\",\"gridwidth\":2,\"linecolor\":\"white\",\"showbackground\":true,\"ticks\":\"\",\"zerolinecolor\":\"white\"}},\"shapedefaults\":{\"line\":{\"color\":\"#2a3f5f\"}},\"ternary\":{\"aaxis\":{\"gridcolor\":\"white\",\"linecolor\":\"white\",\"ticks\":\"\"},\"baxis\":{\"gridcolor\":\"white\",\"linecolor\":\"white\",\"ticks\":\"\"},\"bgcolor\":\"#E5ECF6\",\"caxis\":{\"gridcolor\":\"white\",\"linecolor\":\"white\",\"ticks\":\"\"}},\"title\":{\"x\":0.05},\"xaxis\":{\"automargin\":true,\"gridcolor\":\"white\",\"linecolor\":\"white\",\"ticks\":\"\",\"title\":{\"standoff\":15},\"zerolinecolor\":\"white\",\"zerolinewidth\":2},\"yaxis\":{\"automargin\":true,\"gridcolor\":\"white\",\"linecolor\":\"white\",\"ticks\":\"\",\"title\":{\"standoff\":15},\"zerolinecolor\":\"white\",\"zerolinewidth\":2}}},\"legend\":{\"tracegroupgap\":0},\"margin\":{\"t\":60}},                        {\"responsive\": true}                    ).then(function(){\n",
              "                            \n",
              "var gd = document.getElementById('5d7cd03d-205d-4f9c-a21f-f05ca7fa06a5');\n",
              "var x = new MutationObserver(function (mutations, observer) {{\n",
              "        var display = window.getComputedStyle(gd).display;\n",
              "        if (!display || display === 'none') {{\n",
              "            console.log([gd, 'removed!']);\n",
              "            Plotly.purge(gd);\n",
              "            observer.disconnect();\n",
              "        }}\n",
              "}});\n",
              "\n",
              "// Listen for the removal of the full notebook cells\n",
              "var notebookContainer = gd.closest('#notebook-container');\n",
              "if (notebookContainer) {{\n",
              "    x.observe(notebookContainer, {childList: true});\n",
              "}}\n",
              "\n",
              "// Listen for the clearing of the current output cell\n",
              "var outputEl = gd.closest('.output');\n",
              "if (outputEl) {{\n",
              "    x.observe(outputEl, {childList: true});\n",
              "}}\n",
              "\n",
              "                        })                };                            </script>        </div>\n",
              "</body>\n",
              "</html>"
            ]
          },
          "metadata": {}
        }
      ]
    },
    {
      "cell_type": "code",
      "source": [
        "import plotly.graph_objects as go\n",
        "colors = ['gold', 'mediumturquoise', 'lightgreen']\n",
        "\n",
        "fig = go.Figure(data=[go.Pie(labels=['Positive','Negative','Neutral'],\n",
        "                             values=[59.95,39.80,0.26])])\n",
        "fig.update_traces(hoverinfo='label+percent', textinfo='value', textfont_size=20,\n",
        "                  marker=dict(colors=colors, line=dict(color='#000000', width=2)))\n",
        "fig.show()"
      ],
      "metadata": {
        "colab": {
          "base_uri": "https://localhost:8080/",
          "height": 542
        },
        "id": "abaGIs-EByrq",
        "outputId": "1c907097-7381-4812-adbd-04165b8d08b0"
      },
      "execution_count": null,
      "outputs": [
        {
          "output_type": "display_data",
          "data": {
            "text/html": [
              "<html>\n",
              "<head><meta charset=\"utf-8\" /></head>\n",
              "<body>\n",
              "    <div>            <script src=\"https://cdnjs.cloudflare.com/ajax/libs/mathjax/2.7.5/MathJax.js?config=TeX-AMS-MML_SVG\"></script><script type=\"text/javascript\">if (window.MathJax) {MathJax.Hub.Config({SVG: {font: \"STIX-Web\"}});}</script>                <script type=\"text/javascript\">window.PlotlyConfig = {MathJaxConfig: 'local'};</script>\n",
              "        <script src=\"https://cdn.plot.ly/plotly-2.8.3.min.js\"></script>                <div id=\"57ebbb4f-5f41-4ed8-954e-7bd2f26a5bcd\" class=\"plotly-graph-div\" style=\"height:525px; width:100%;\"></div>            <script type=\"text/javascript\">                                    window.PLOTLYENV=window.PLOTLYENV || {};                                    if (document.getElementById(\"57ebbb4f-5f41-4ed8-954e-7bd2f26a5bcd\")) {                    Plotly.newPlot(                        \"57ebbb4f-5f41-4ed8-954e-7bd2f26a5bcd\",                        [{\"labels\":[\"Positive\",\"Negative\",\"Neutral\"],\"values\":[59.95,39.8,0.26],\"type\":\"pie\",\"textfont\":{\"size\":20},\"marker\":{\"line\":{\"color\":\"#000000\",\"width\":2},\"colors\":[\"gold\",\"mediumturquoise\",\"lightgreen\"]},\"hoverinfo\":\"label+percent\",\"textinfo\":\"value\"}],                        {\"template\":{\"data\":{\"bar\":[{\"error_x\":{\"color\":\"#2a3f5f\"},\"error_y\":{\"color\":\"#2a3f5f\"},\"marker\":{\"line\":{\"color\":\"#E5ECF6\",\"width\":0.5},\"pattern\":{\"fillmode\":\"overlay\",\"size\":10,\"solidity\":0.2}},\"type\":\"bar\"}],\"barpolar\":[{\"marker\":{\"line\":{\"color\":\"#E5ECF6\",\"width\":0.5},\"pattern\":{\"fillmode\":\"overlay\",\"size\":10,\"solidity\":0.2}},\"type\":\"barpolar\"}],\"carpet\":[{\"aaxis\":{\"endlinecolor\":\"#2a3f5f\",\"gridcolor\":\"white\",\"linecolor\":\"white\",\"minorgridcolor\":\"white\",\"startlinecolor\":\"#2a3f5f\"},\"baxis\":{\"endlinecolor\":\"#2a3f5f\",\"gridcolor\":\"white\",\"linecolor\":\"white\",\"minorgridcolor\":\"white\",\"startlinecolor\":\"#2a3f5f\"},\"type\":\"carpet\"}],\"choropleth\":[{\"colorbar\":{\"outlinewidth\":0,\"ticks\":\"\"},\"type\":\"choropleth\"}],\"contour\":[{\"colorbar\":{\"outlinewidth\":0,\"ticks\":\"\"},\"colorscale\":[[0.0,\"#0d0887\"],[0.1111111111111111,\"#46039f\"],[0.2222222222222222,\"#7201a8\"],[0.3333333333333333,\"#9c179e\"],[0.4444444444444444,\"#bd3786\"],[0.5555555555555556,\"#d8576b\"],[0.6666666666666666,\"#ed7953\"],[0.7777777777777778,\"#fb9f3a\"],[0.8888888888888888,\"#fdca26\"],[1.0,\"#f0f921\"]],\"type\":\"contour\"}],\"contourcarpet\":[{\"colorbar\":{\"outlinewidth\":0,\"ticks\":\"\"},\"type\":\"contourcarpet\"}],\"heatmap\":[{\"colorbar\":{\"outlinewidth\":0,\"ticks\":\"\"},\"colorscale\":[[0.0,\"#0d0887\"],[0.1111111111111111,\"#46039f\"],[0.2222222222222222,\"#7201a8\"],[0.3333333333333333,\"#9c179e\"],[0.4444444444444444,\"#bd3786\"],[0.5555555555555556,\"#d8576b\"],[0.6666666666666666,\"#ed7953\"],[0.7777777777777778,\"#fb9f3a\"],[0.8888888888888888,\"#fdca26\"],[1.0,\"#f0f921\"]],\"type\":\"heatmap\"}],\"heatmapgl\":[{\"colorbar\":{\"outlinewidth\":0,\"ticks\":\"\"},\"colorscale\":[[0.0,\"#0d0887\"],[0.1111111111111111,\"#46039f\"],[0.2222222222222222,\"#7201a8\"],[0.3333333333333333,\"#9c179e\"],[0.4444444444444444,\"#bd3786\"],[0.5555555555555556,\"#d8576b\"],[0.6666666666666666,\"#ed7953\"],[0.7777777777777778,\"#fb9f3a\"],[0.8888888888888888,\"#fdca26\"],[1.0,\"#f0f921\"]],\"type\":\"heatmapgl\"}],\"histogram\":[{\"marker\":{\"pattern\":{\"fillmode\":\"overlay\",\"size\":10,\"solidity\":0.2}},\"type\":\"histogram\"}],\"histogram2d\":[{\"colorbar\":{\"outlinewidth\":0,\"ticks\":\"\"},\"colorscale\":[[0.0,\"#0d0887\"],[0.1111111111111111,\"#46039f\"],[0.2222222222222222,\"#7201a8\"],[0.3333333333333333,\"#9c179e\"],[0.4444444444444444,\"#bd3786\"],[0.5555555555555556,\"#d8576b\"],[0.6666666666666666,\"#ed7953\"],[0.7777777777777778,\"#fb9f3a\"],[0.8888888888888888,\"#fdca26\"],[1.0,\"#f0f921\"]],\"type\":\"histogram2d\"}],\"histogram2dcontour\":[{\"colorbar\":{\"outlinewidth\":0,\"ticks\":\"\"},\"colorscale\":[[0.0,\"#0d0887\"],[0.1111111111111111,\"#46039f\"],[0.2222222222222222,\"#7201a8\"],[0.3333333333333333,\"#9c179e\"],[0.4444444444444444,\"#bd3786\"],[0.5555555555555556,\"#d8576b\"],[0.6666666666666666,\"#ed7953\"],[0.7777777777777778,\"#fb9f3a\"],[0.8888888888888888,\"#fdca26\"],[1.0,\"#f0f921\"]],\"type\":\"histogram2dcontour\"}],\"mesh3d\":[{\"colorbar\":{\"outlinewidth\":0,\"ticks\":\"\"},\"type\":\"mesh3d\"}],\"parcoords\":[{\"line\":{\"colorbar\":{\"outlinewidth\":0,\"ticks\":\"\"}},\"type\":\"parcoords\"}],\"pie\":[{\"automargin\":true,\"type\":\"pie\"}],\"scatter\":[{\"marker\":{\"colorbar\":{\"outlinewidth\":0,\"ticks\":\"\"}},\"type\":\"scatter\"}],\"scatter3d\":[{\"line\":{\"colorbar\":{\"outlinewidth\":0,\"ticks\":\"\"}},\"marker\":{\"colorbar\":{\"outlinewidth\":0,\"ticks\":\"\"}},\"type\":\"scatter3d\"}],\"scattercarpet\":[{\"marker\":{\"colorbar\":{\"outlinewidth\":0,\"ticks\":\"\"}},\"type\":\"scattercarpet\"}],\"scattergeo\":[{\"marker\":{\"colorbar\":{\"outlinewidth\":0,\"ticks\":\"\"}},\"type\":\"scattergeo\"}],\"scattergl\":[{\"marker\":{\"colorbar\":{\"outlinewidth\":0,\"ticks\":\"\"}},\"type\":\"scattergl\"}],\"scattermapbox\":[{\"marker\":{\"colorbar\":{\"outlinewidth\":0,\"ticks\":\"\"}},\"type\":\"scattermapbox\"}],\"scatterpolar\":[{\"marker\":{\"colorbar\":{\"outlinewidth\":0,\"ticks\":\"\"}},\"type\":\"scatterpolar\"}],\"scatterpolargl\":[{\"marker\":{\"colorbar\":{\"outlinewidth\":0,\"ticks\":\"\"}},\"type\":\"scatterpolargl\"}],\"scatterternary\":[{\"marker\":{\"colorbar\":{\"outlinewidth\":0,\"ticks\":\"\"}},\"type\":\"scatterternary\"}],\"surface\":[{\"colorbar\":{\"outlinewidth\":0,\"ticks\":\"\"},\"colorscale\":[[0.0,\"#0d0887\"],[0.1111111111111111,\"#46039f\"],[0.2222222222222222,\"#7201a8\"],[0.3333333333333333,\"#9c179e\"],[0.4444444444444444,\"#bd3786\"],[0.5555555555555556,\"#d8576b\"],[0.6666666666666666,\"#ed7953\"],[0.7777777777777778,\"#fb9f3a\"],[0.8888888888888888,\"#fdca26\"],[1.0,\"#f0f921\"]],\"type\":\"surface\"}],\"table\":[{\"cells\":{\"fill\":{\"color\":\"#EBF0F8\"},\"line\":{\"color\":\"white\"}},\"header\":{\"fill\":{\"color\":\"#C8D4E3\"},\"line\":{\"color\":\"white\"}},\"type\":\"table\"}]},\"layout\":{\"annotationdefaults\":{\"arrowcolor\":\"#2a3f5f\",\"arrowhead\":0,\"arrowwidth\":1},\"autotypenumbers\":\"strict\",\"coloraxis\":{\"colorbar\":{\"outlinewidth\":0,\"ticks\":\"\"}},\"colorscale\":{\"diverging\":[[0,\"#8e0152\"],[0.1,\"#c51b7d\"],[0.2,\"#de77ae\"],[0.3,\"#f1b6da\"],[0.4,\"#fde0ef\"],[0.5,\"#f7f7f7\"],[0.6,\"#e6f5d0\"],[0.7,\"#b8e186\"],[0.8,\"#7fbc41\"],[0.9,\"#4d9221\"],[1,\"#276419\"]],\"sequential\":[[0.0,\"#0d0887\"],[0.1111111111111111,\"#46039f\"],[0.2222222222222222,\"#7201a8\"],[0.3333333333333333,\"#9c179e\"],[0.4444444444444444,\"#bd3786\"],[0.5555555555555556,\"#d8576b\"],[0.6666666666666666,\"#ed7953\"],[0.7777777777777778,\"#fb9f3a\"],[0.8888888888888888,\"#fdca26\"],[1.0,\"#f0f921\"]],\"sequentialminus\":[[0.0,\"#0d0887\"],[0.1111111111111111,\"#46039f\"],[0.2222222222222222,\"#7201a8\"],[0.3333333333333333,\"#9c179e\"],[0.4444444444444444,\"#bd3786\"],[0.5555555555555556,\"#d8576b\"],[0.6666666666666666,\"#ed7953\"],[0.7777777777777778,\"#fb9f3a\"],[0.8888888888888888,\"#fdca26\"],[1.0,\"#f0f921\"]]},\"colorway\":[\"#636efa\",\"#EF553B\",\"#00cc96\",\"#ab63fa\",\"#FFA15A\",\"#19d3f3\",\"#FF6692\",\"#B6E880\",\"#FF97FF\",\"#FECB52\"],\"font\":{\"color\":\"#2a3f5f\"},\"geo\":{\"bgcolor\":\"white\",\"lakecolor\":\"white\",\"landcolor\":\"#E5ECF6\",\"showlakes\":true,\"showland\":true,\"subunitcolor\":\"white\"},\"hoverlabel\":{\"align\":\"left\"},\"hovermode\":\"closest\",\"mapbox\":{\"style\":\"light\"},\"paper_bgcolor\":\"white\",\"plot_bgcolor\":\"#E5ECF6\",\"polar\":{\"angularaxis\":{\"gridcolor\":\"white\",\"linecolor\":\"white\",\"ticks\":\"\"},\"bgcolor\":\"#E5ECF6\",\"radialaxis\":{\"gridcolor\":\"white\",\"linecolor\":\"white\",\"ticks\":\"\"}},\"scene\":{\"xaxis\":{\"backgroundcolor\":\"#E5ECF6\",\"gridcolor\":\"white\",\"gridwidth\":2,\"linecolor\":\"white\",\"showbackground\":true,\"ticks\":\"\",\"zerolinecolor\":\"white\"},\"yaxis\":{\"backgroundcolor\":\"#E5ECF6\",\"gridcolor\":\"white\",\"gridwidth\":2,\"linecolor\":\"white\",\"showbackground\":true,\"ticks\":\"\",\"zerolinecolor\":\"white\"},\"zaxis\":{\"backgroundcolor\":\"#E5ECF6\",\"gridcolor\":\"white\",\"gridwidth\":2,\"linecolor\":\"white\",\"showbackground\":true,\"ticks\":\"\",\"zerolinecolor\":\"white\"}},\"shapedefaults\":{\"line\":{\"color\":\"#2a3f5f\"}},\"ternary\":{\"aaxis\":{\"gridcolor\":\"white\",\"linecolor\":\"white\",\"ticks\":\"\"},\"baxis\":{\"gridcolor\":\"white\",\"linecolor\":\"white\",\"ticks\":\"\"},\"bgcolor\":\"#E5ECF6\",\"caxis\":{\"gridcolor\":\"white\",\"linecolor\":\"white\",\"ticks\":\"\"}},\"title\":{\"x\":0.05},\"xaxis\":{\"automargin\":true,\"gridcolor\":\"white\",\"linecolor\":\"white\",\"ticks\":\"\",\"title\":{\"standoff\":15},\"zerolinecolor\":\"white\",\"zerolinewidth\":2},\"yaxis\":{\"automargin\":true,\"gridcolor\":\"white\",\"linecolor\":\"white\",\"ticks\":\"\",\"title\":{\"standoff\":15},\"zerolinecolor\":\"white\",\"zerolinewidth\":2}}}},                        {\"responsive\": true}                    ).then(function(){\n",
              "                            \n",
              "var gd = document.getElementById('57ebbb4f-5f41-4ed8-954e-7bd2f26a5bcd');\n",
              "var x = new MutationObserver(function (mutations, observer) {{\n",
              "        var display = window.getComputedStyle(gd).display;\n",
              "        if (!display || display === 'none') {{\n",
              "            console.log([gd, 'removed!']);\n",
              "            Plotly.purge(gd);\n",
              "            observer.disconnect();\n",
              "        }}\n",
              "}});\n",
              "\n",
              "// Listen for the removal of the full notebook cells\n",
              "var notebookContainer = gd.closest('#notebook-container');\n",
              "if (notebookContainer) {{\n",
              "    x.observe(notebookContainer, {childList: true});\n",
              "}}\n",
              "\n",
              "// Listen for the clearing of the current output cell\n",
              "var outputEl = gd.closest('.output');\n",
              "if (outputEl) {{\n",
              "    x.observe(outputEl, {childList: true});\n",
              "}}\n",
              "\n",
              "                        })                };                            </script>        </div>\n",
              "</body>\n",
              "</html>"
            ]
          },
          "metadata": {}
        }
      ]
    }
  ],
  "metadata": {
    "kernelspec": {
      "display_name": "Python 3.9.13 ('venv': venv)",
      "language": "python",
      "name": "python3"
    },
    "language_info": {
      "codemirror_mode": {
        "name": "ipython",
        "version": 3
      },
      "file_extension": ".py",
      "mimetype": "text/x-python",
      "name": "python",
      "nbconvert_exporter": "python",
      "pygments_lexer": "ipython3",
      "version": "3.9.13"
    },
    "orig_nbformat": 4,
    "vscode": {
      "interpreter": {
        "hash": "4f7924c4c56b083e0e50eadfe7ef592a7a8ef70df33a0047f82280e6be1afe15"
      }
    },
    "colab": {
      "provenance": [],
      "collapsed_sections": [
        "BUBR6WWAx3QO"
      ]
    }
  },
  "nbformat": 4,
  "nbformat_minor": 0
}