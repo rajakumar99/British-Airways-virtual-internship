{
  "cells": [
    {
      "cell_type": "markdown",
      "metadata": {
        "id": "3iVovj9RwehV"
      },
      "source": [
        "# Task 2\n",
        "\n",
        "---\n",
        "\n",
        "## Predictive modeling of customer bookings\n",
        "\n",
        "This Jupyter notebook includes some code to get you started with this predictive modeling task. We will use various packages for data manipulation, feature engineering and machine learning.\n",
        "\n",
        "### Exploratory data analysis\n",
        "\n",
        "First, we must explore the data in order to better understand what we have and the statistical properties of the dataset."
      ]
    },
    {
      "cell_type": "code",
      "execution_count": null,
      "metadata": {
        "id": "2hkufDBawehY"
      },
      "outputs": [],
      "source": [
        "import pandas as pd\n",
        "import numpy as np\n",
        "import seaborn as sns"
      ]
    },
    {
      "cell_type": "code",
      "execution_count": null,
      "metadata": {
        "colab": {
          "base_uri": "https://localhost:8080/",
          "height": 270
        },
        "id": "S7WMK5VxwehZ",
        "outputId": "645a56c2-5ddf-4ccc-fe28-1b67f0d7eeb0"
      },
      "outputs": [
        {
          "output_type": "execute_result",
          "data": {
            "text/plain": [
              "   num_passengers sales_channel  trip_type  purchase_lead  length_of_stay  \\\n",
              "0               2      Internet  RoundTrip            262              19   \n",
              "1               1      Internet  RoundTrip            112              20   \n",
              "2               2      Internet  RoundTrip            243              22   \n",
              "3               1      Internet  RoundTrip             96              31   \n",
              "4               2      Internet  RoundTrip             68              22   \n",
              "\n",
              "   flight_hour flight_day   route booking_origin  wants_extra_baggage  \\\n",
              "0            7        Sat  AKLDEL    New Zealand                    1   \n",
              "1            3        Sat  AKLDEL    New Zealand                    0   \n",
              "2           17        Wed  AKLDEL          India                    1   \n",
              "3            4        Sat  AKLDEL    New Zealand                    0   \n",
              "4           15        Wed  AKLDEL          India                    1   \n",
              "\n",
              "   wants_preferred_seat  wants_in_flight_meals  flight_duration  \\\n",
              "0                     0                      0             5.52   \n",
              "1                     0                      0             5.52   \n",
              "2                     1                      0             5.52   \n",
              "3                     0                      1             5.52   \n",
              "4                     0                      1             5.52   \n",
              "\n",
              "   booking_complete  \n",
              "0                 0  \n",
              "1                 0  \n",
              "2                 0  \n",
              "3                 0  \n",
              "4                 0  "
            ],
            "text/html": [
              "\n",
              "  <div id=\"df-3149a911-636c-46bf-af61-f1a4d5cf2f99\">\n",
              "    <div class=\"colab-df-container\">\n",
              "      <div>\n",
              "<style scoped>\n",
              "    .dataframe tbody tr th:only-of-type {\n",
              "        vertical-align: middle;\n",
              "    }\n",
              "\n",
              "    .dataframe tbody tr th {\n",
              "        vertical-align: top;\n",
              "    }\n",
              "\n",
              "    .dataframe thead th {\n",
              "        text-align: right;\n",
              "    }\n",
              "</style>\n",
              "<table border=\"1\" class=\"dataframe\">\n",
              "  <thead>\n",
              "    <tr style=\"text-align: right;\">\n",
              "      <th></th>\n",
              "      <th>num_passengers</th>\n",
              "      <th>sales_channel</th>\n",
              "      <th>trip_type</th>\n",
              "      <th>purchase_lead</th>\n",
              "      <th>length_of_stay</th>\n",
              "      <th>flight_hour</th>\n",
              "      <th>flight_day</th>\n",
              "      <th>route</th>\n",
              "      <th>booking_origin</th>\n",
              "      <th>wants_extra_baggage</th>\n",
              "      <th>wants_preferred_seat</th>\n",
              "      <th>wants_in_flight_meals</th>\n",
              "      <th>flight_duration</th>\n",
              "      <th>booking_complete</th>\n",
              "    </tr>\n",
              "  </thead>\n",
              "  <tbody>\n",
              "    <tr>\n",
              "      <th>0</th>\n",
              "      <td>2</td>\n",
              "      <td>Internet</td>\n",
              "      <td>RoundTrip</td>\n",
              "      <td>262</td>\n",
              "      <td>19</td>\n",
              "      <td>7</td>\n",
              "      <td>Sat</td>\n",
              "      <td>AKLDEL</td>\n",
              "      <td>New Zealand</td>\n",
              "      <td>1</td>\n",
              "      <td>0</td>\n",
              "      <td>0</td>\n",
              "      <td>5.52</td>\n",
              "      <td>0</td>\n",
              "    </tr>\n",
              "    <tr>\n",
              "      <th>1</th>\n",
              "      <td>1</td>\n",
              "      <td>Internet</td>\n",
              "      <td>RoundTrip</td>\n",
              "      <td>112</td>\n",
              "      <td>20</td>\n",
              "      <td>3</td>\n",
              "      <td>Sat</td>\n",
              "      <td>AKLDEL</td>\n",
              "      <td>New Zealand</td>\n",
              "      <td>0</td>\n",
              "      <td>0</td>\n",
              "      <td>0</td>\n",
              "      <td>5.52</td>\n",
              "      <td>0</td>\n",
              "    </tr>\n",
              "    <tr>\n",
              "      <th>2</th>\n",
              "      <td>2</td>\n",
              "      <td>Internet</td>\n",
              "      <td>RoundTrip</td>\n",
              "      <td>243</td>\n",
              "      <td>22</td>\n",
              "      <td>17</td>\n",
              "      <td>Wed</td>\n",
              "      <td>AKLDEL</td>\n",
              "      <td>India</td>\n",
              "      <td>1</td>\n",
              "      <td>1</td>\n",
              "      <td>0</td>\n",
              "      <td>5.52</td>\n",
              "      <td>0</td>\n",
              "    </tr>\n",
              "    <tr>\n",
              "      <th>3</th>\n",
              "      <td>1</td>\n",
              "      <td>Internet</td>\n",
              "      <td>RoundTrip</td>\n",
              "      <td>96</td>\n",
              "      <td>31</td>\n",
              "      <td>4</td>\n",
              "      <td>Sat</td>\n",
              "      <td>AKLDEL</td>\n",
              "      <td>New Zealand</td>\n",
              "      <td>0</td>\n",
              "      <td>0</td>\n",
              "      <td>1</td>\n",
              "      <td>5.52</td>\n",
              "      <td>0</td>\n",
              "    </tr>\n",
              "    <tr>\n",
              "      <th>4</th>\n",
              "      <td>2</td>\n",
              "      <td>Internet</td>\n",
              "      <td>RoundTrip</td>\n",
              "      <td>68</td>\n",
              "      <td>22</td>\n",
              "      <td>15</td>\n",
              "      <td>Wed</td>\n",
              "      <td>AKLDEL</td>\n",
              "      <td>India</td>\n",
              "      <td>1</td>\n",
              "      <td>0</td>\n",
              "      <td>1</td>\n",
              "      <td>5.52</td>\n",
              "      <td>0</td>\n",
              "    </tr>\n",
              "  </tbody>\n",
              "</table>\n",
              "</div>\n",
              "      <button class=\"colab-df-convert\" onclick=\"convertToInteractive('df-3149a911-636c-46bf-af61-f1a4d5cf2f99')\"\n",
              "              title=\"Convert this dataframe to an interactive table.\"\n",
              "              style=\"display:none;\">\n",
              "        \n",
              "  <svg xmlns=\"http://www.w3.org/2000/svg\" height=\"24px\"viewBox=\"0 0 24 24\"\n",
              "       width=\"24px\">\n",
              "    <path d=\"M0 0h24v24H0V0z\" fill=\"none\"/>\n",
              "    <path d=\"M18.56 5.44l.94 2.06.94-2.06 2.06-.94-2.06-.94-.94-2.06-.94 2.06-2.06.94zm-11 1L8.5 8.5l.94-2.06 2.06-.94-2.06-.94L8.5 2.5l-.94 2.06-2.06.94zm10 10l.94 2.06.94-2.06 2.06-.94-2.06-.94-.94-2.06-.94 2.06-2.06.94z\"/><path d=\"M17.41 7.96l-1.37-1.37c-.4-.4-.92-.59-1.43-.59-.52 0-1.04.2-1.43.59L10.3 9.45l-7.72 7.72c-.78.78-.78 2.05 0 2.83L4 21.41c.39.39.9.59 1.41.59.51 0 1.02-.2 1.41-.59l7.78-7.78 2.81-2.81c.8-.78.8-2.07 0-2.86zM5.41 20L4 18.59l7.72-7.72 1.47 1.35L5.41 20z\"/>\n",
              "  </svg>\n",
              "      </button>\n",
              "      \n",
              "  <style>\n",
              "    .colab-df-container {\n",
              "      display:flex;\n",
              "      flex-wrap:wrap;\n",
              "      gap: 12px;\n",
              "    }\n",
              "\n",
              "    .colab-df-convert {\n",
              "      background-color: #E8F0FE;\n",
              "      border: none;\n",
              "      border-radius: 50%;\n",
              "      cursor: pointer;\n",
              "      display: none;\n",
              "      fill: #1967D2;\n",
              "      height: 32px;\n",
              "      padding: 0 0 0 0;\n",
              "      width: 32px;\n",
              "    }\n",
              "\n",
              "    .colab-df-convert:hover {\n",
              "      background-color: #E2EBFA;\n",
              "      box-shadow: 0px 1px 2px rgba(60, 64, 67, 0.3), 0px 1px 3px 1px rgba(60, 64, 67, 0.15);\n",
              "      fill: #174EA6;\n",
              "    }\n",
              "\n",
              "    [theme=dark] .colab-df-convert {\n",
              "      background-color: #3B4455;\n",
              "      fill: #D2E3FC;\n",
              "    }\n",
              "\n",
              "    [theme=dark] .colab-df-convert:hover {\n",
              "      background-color: #434B5C;\n",
              "      box-shadow: 0px 1px 3px 1px rgba(0, 0, 0, 0.15);\n",
              "      filter: drop-shadow(0px 1px 2px rgba(0, 0, 0, 0.3));\n",
              "      fill: #FFFFFF;\n",
              "    }\n",
              "  </style>\n",
              "\n",
              "      <script>\n",
              "        const buttonEl =\n",
              "          document.querySelector('#df-3149a911-636c-46bf-af61-f1a4d5cf2f99 button.colab-df-convert');\n",
              "        buttonEl.style.display =\n",
              "          google.colab.kernel.accessAllowed ? 'block' : 'none';\n",
              "\n",
              "        async function convertToInteractive(key) {\n",
              "          const element = document.querySelector('#df-3149a911-636c-46bf-af61-f1a4d5cf2f99');\n",
              "          const dataTable =\n",
              "            await google.colab.kernel.invokeFunction('convertToInteractive',\n",
              "                                                     [key], {});\n",
              "          if (!dataTable) return;\n",
              "\n",
              "          const docLinkHtml = 'Like what you see? Visit the ' +\n",
              "            '<a target=\"_blank\" href=https://colab.research.google.com/notebooks/data_table.ipynb>data table notebook</a>'\n",
              "            + ' to learn more about interactive tables.';\n",
              "          element.innerHTML = '';\n",
              "          dataTable['output_type'] = 'display_data';\n",
              "          await google.colab.output.renderOutput(dataTable, element);\n",
              "          const docLink = document.createElement('div');\n",
              "          docLink.innerHTML = docLinkHtml;\n",
              "          element.appendChild(docLink);\n",
              "        }\n",
              "      </script>\n",
              "    </div>\n",
              "  </div>\n",
              "  "
            ]
          },
          "metadata": {},
          "execution_count": 40
        }
      ],
      "source": [
        "df = pd.read_csv(\"/content/customer_booking.csv\", encoding=\"ISO-8859-1\")\n",
        "df.head()"
      ]
    },
    {
      "cell_type": "markdown",
      "metadata": {
        "id": "2zMffBfkwehZ"
      },
      "source": [
        "The `.head()` method allows us to view the first 5 rows in the dataset, this is useful for visual inspection of our columns"
      ]
    },
    {
      "cell_type": "code",
      "execution_count": null,
      "metadata": {
        "colab": {
          "base_uri": "https://localhost:8080/"
        },
        "id": "wSir6LOBweha",
        "outputId": "f6fe7fee-8ea3-4394-de61-e16a8bb5fddd"
      },
      "outputs": [
        {
          "output_type": "stream",
          "name": "stdout",
          "text": [
            "<class 'pandas.core.frame.DataFrame'>\n",
            "RangeIndex: 50000 entries, 0 to 49999\n",
            "Data columns (total 14 columns):\n",
            " #   Column                 Non-Null Count  Dtype  \n",
            "---  ------                 --------------  -----  \n",
            " 0   num_passengers         50000 non-null  int64  \n",
            " 1   sales_channel          50000 non-null  object \n",
            " 2   trip_type              50000 non-null  object \n",
            " 3   purchase_lead          50000 non-null  int64  \n",
            " 4   length_of_stay         50000 non-null  int64  \n",
            " 5   flight_hour            50000 non-null  int64  \n",
            " 6   flight_day             50000 non-null  object \n",
            " 7   route                  50000 non-null  object \n",
            " 8   booking_origin         50000 non-null  object \n",
            " 9   wants_extra_baggage    50000 non-null  int64  \n",
            " 10  wants_preferred_seat   50000 non-null  int64  \n",
            " 11  wants_in_flight_meals  50000 non-null  int64  \n",
            " 12  flight_duration        50000 non-null  float64\n",
            " 13  booking_complete       50000 non-null  int64  \n",
            "dtypes: float64(1), int64(8), object(5)\n",
            "memory usage: 5.3+ MB\n"
          ]
        }
      ],
      "source": [
        "df.info()"
      ]
    },
    {
      "cell_type": "markdown",
      "metadata": {
        "id": "NTKpEsgFweha"
      },
      "source": [
        "The `.info()` method gives us a data description, telling us the names of the columns, their data types and how many null values we have. Fortunately, we have no null values. It looks like some of these columns should be converted into different data types, e.g. flight_day.\n",
        "\n",
        "To provide more context, below is a more detailed data description, explaining exactly what each column means:\n",
        "\n",
        "- `num_passengers` = number of passengers travelling\n",
        "- `sales_channel` = sales channel booking was made on\n",
        "- `trip_type` = trip Type (Round Trip, One Way, Circle Trip)\n",
        "- `purchase_lead` = number of days between travel date and booking date\n",
        "- `length_of_stay` = number of days spent at destination\n",
        "- `flight_hour` = hour of flight departure\n",
        "- `flight_day` = day of week of flight departure\n",
        "- `route` = origin -> destination flight route\n",
        "- `booking_origin` = country from where booking was made\n",
        "- `wants_extra_baggage` = if the customer wanted extra baggage in the booking\n",
        "- `wants_preferred_seat` = if the customer wanted a preferred seat in the booking\n",
        "- `wants_in_flight_meals` = if the customer wanted in-flight meals in the booking\n",
        "- `flight_duration` = total duration of flight (in hours)\n",
        "- `booking_complete` = flag indicating if the customer completed the booking\n",
        "\n",
        "Before we compute any statistics on the data, lets do any necessary data conversion"
      ]
    },
    {
      "cell_type": "code",
      "execution_count": null,
      "metadata": {
        "colab": {
          "base_uri": "https://localhost:8080/"
        },
        "id": "hMaKy0rWweha",
        "outputId": "97a75c88-4077-4e2e-b671-141677a7cb54"
      },
      "outputs": [
        {
          "output_type": "execute_result",
          "data": {
            "text/plain": [
              "array(['Sat', 'Wed', 'Thu', 'Mon', 'Sun', 'Tue', 'Fri'], dtype=object)"
            ]
          },
          "metadata": {},
          "execution_count": 42
        }
      ],
      "source": [
        "df[\"flight_day\"].unique()"
      ]
    },
    {
      "cell_type": "code",
      "execution_count": null,
      "metadata": {
        "id": "MHLgIDhdwehb"
      },
      "outputs": [],
      "source": [
        "mapping = {\n",
        "    \"Mon\": 1,\n",
        "    \"Tue\": 2,\n",
        "    \"Wed\": 3,\n",
        "    \"Thu\": 4,\n",
        "    \"Fri\": 5,\n",
        "    \"Sat\": 6,\n",
        "    \"Sun\": 7,\n",
        "}\n",
        "\n",
        "df[\"flight_day\"] = df[\"flight_day\"].map(mapping)"
      ]
    },
    {
      "cell_type": "code",
      "execution_count": null,
      "metadata": {
        "colab": {
          "base_uri": "https://localhost:8080/"
        },
        "id": "vfcnZlSmwehb",
        "outputId": "8508c7fe-4114-4b61-9278-bc724d5ee33c"
      },
      "outputs": [
        {
          "output_type": "execute_result",
          "data": {
            "text/plain": [
              "array([6, 3, 4, 1, 7, 2, 5])"
            ]
          },
          "metadata": {},
          "execution_count": 44
        }
      ],
      "source": [
        "df[\"flight_day\"].unique()"
      ]
    },
    {
      "cell_type": "code",
      "execution_count": null,
      "metadata": {
        "colab": {
          "base_uri": "https://localhost:8080/",
          "height": 300
        },
        "id": "giiOA0AHwehc",
        "outputId": "081bb1d0-7444-4057-caae-c8811afc97f6"
      },
      "outputs": [
        {
          "output_type": "execute_result",
          "data": {
            "text/plain": [
              "       num_passengers  purchase_lead  length_of_stay  flight_hour  \\\n",
              "count    50000.000000   50000.000000     50000.00000  50000.00000   \n",
              "mean         1.591240      84.940480        23.04456      9.06634   \n",
              "std          1.020165      90.451378        33.88767      5.41266   \n",
              "min          1.000000       0.000000         0.00000      0.00000   \n",
              "25%          1.000000      21.000000         5.00000      5.00000   \n",
              "50%          1.000000      51.000000        17.00000      9.00000   \n",
              "75%          2.000000     115.000000        28.00000     13.00000   \n",
              "max          9.000000     867.000000       778.00000     23.00000   \n",
              "\n",
              "         flight_day  wants_extra_baggage  wants_preferred_seat  \\\n",
              "count  50000.000000         50000.000000          50000.000000   \n",
              "mean       3.814420             0.668780              0.296960   \n",
              "std        1.992792             0.470657              0.456923   \n",
              "min        1.000000             0.000000              0.000000   \n",
              "25%        2.000000             0.000000              0.000000   \n",
              "50%        4.000000             1.000000              0.000000   \n",
              "75%        5.000000             1.000000              1.000000   \n",
              "max        7.000000             1.000000              1.000000   \n",
              "\n",
              "       wants_in_flight_meals  flight_duration  booking_complete  \n",
              "count           50000.000000     50000.000000      50000.000000  \n",
              "mean                0.427140         7.277561          0.149560  \n",
              "std                 0.494668         1.496863          0.356643  \n",
              "min                 0.000000         4.670000          0.000000  \n",
              "25%                 0.000000         5.620000          0.000000  \n",
              "50%                 0.000000         7.570000          0.000000  \n",
              "75%                 1.000000         8.830000          0.000000  \n",
              "max                 1.000000         9.500000          1.000000  "
            ],
            "text/html": [
              "\n",
              "  <div id=\"df-34308fac-b720-4814-82df-ead1092d501a\">\n",
              "    <div class=\"colab-df-container\">\n",
              "      <div>\n",
              "<style scoped>\n",
              "    .dataframe tbody tr th:only-of-type {\n",
              "        vertical-align: middle;\n",
              "    }\n",
              "\n",
              "    .dataframe tbody tr th {\n",
              "        vertical-align: top;\n",
              "    }\n",
              "\n",
              "    .dataframe thead th {\n",
              "        text-align: right;\n",
              "    }\n",
              "</style>\n",
              "<table border=\"1\" class=\"dataframe\">\n",
              "  <thead>\n",
              "    <tr style=\"text-align: right;\">\n",
              "      <th></th>\n",
              "      <th>num_passengers</th>\n",
              "      <th>purchase_lead</th>\n",
              "      <th>length_of_stay</th>\n",
              "      <th>flight_hour</th>\n",
              "      <th>flight_day</th>\n",
              "      <th>wants_extra_baggage</th>\n",
              "      <th>wants_preferred_seat</th>\n",
              "      <th>wants_in_flight_meals</th>\n",
              "      <th>flight_duration</th>\n",
              "      <th>booking_complete</th>\n",
              "    </tr>\n",
              "  </thead>\n",
              "  <tbody>\n",
              "    <tr>\n",
              "      <th>count</th>\n",
              "      <td>50000.000000</td>\n",
              "      <td>50000.000000</td>\n",
              "      <td>50000.00000</td>\n",
              "      <td>50000.00000</td>\n",
              "      <td>50000.000000</td>\n",
              "      <td>50000.000000</td>\n",
              "      <td>50000.000000</td>\n",
              "      <td>50000.000000</td>\n",
              "      <td>50000.000000</td>\n",
              "      <td>50000.000000</td>\n",
              "    </tr>\n",
              "    <tr>\n",
              "      <th>mean</th>\n",
              "      <td>1.591240</td>\n",
              "      <td>84.940480</td>\n",
              "      <td>23.04456</td>\n",
              "      <td>9.06634</td>\n",
              "      <td>3.814420</td>\n",
              "      <td>0.668780</td>\n",
              "      <td>0.296960</td>\n",
              "      <td>0.427140</td>\n",
              "      <td>7.277561</td>\n",
              "      <td>0.149560</td>\n",
              "    </tr>\n",
              "    <tr>\n",
              "      <th>std</th>\n",
              "      <td>1.020165</td>\n",
              "      <td>90.451378</td>\n",
              "      <td>33.88767</td>\n",
              "      <td>5.41266</td>\n",
              "      <td>1.992792</td>\n",
              "      <td>0.470657</td>\n",
              "      <td>0.456923</td>\n",
              "      <td>0.494668</td>\n",
              "      <td>1.496863</td>\n",
              "      <td>0.356643</td>\n",
              "    </tr>\n",
              "    <tr>\n",
              "      <th>min</th>\n",
              "      <td>1.000000</td>\n",
              "      <td>0.000000</td>\n",
              "      <td>0.00000</td>\n",
              "      <td>0.00000</td>\n",
              "      <td>1.000000</td>\n",
              "      <td>0.000000</td>\n",
              "      <td>0.000000</td>\n",
              "      <td>0.000000</td>\n",
              "      <td>4.670000</td>\n",
              "      <td>0.000000</td>\n",
              "    </tr>\n",
              "    <tr>\n",
              "      <th>25%</th>\n",
              "      <td>1.000000</td>\n",
              "      <td>21.000000</td>\n",
              "      <td>5.00000</td>\n",
              "      <td>5.00000</td>\n",
              "      <td>2.000000</td>\n",
              "      <td>0.000000</td>\n",
              "      <td>0.000000</td>\n",
              "      <td>0.000000</td>\n",
              "      <td>5.620000</td>\n",
              "      <td>0.000000</td>\n",
              "    </tr>\n",
              "    <tr>\n",
              "      <th>50%</th>\n",
              "      <td>1.000000</td>\n",
              "      <td>51.000000</td>\n",
              "      <td>17.00000</td>\n",
              "      <td>9.00000</td>\n",
              "      <td>4.000000</td>\n",
              "      <td>1.000000</td>\n",
              "      <td>0.000000</td>\n",
              "      <td>0.000000</td>\n",
              "      <td>7.570000</td>\n",
              "      <td>0.000000</td>\n",
              "    </tr>\n",
              "    <tr>\n",
              "      <th>75%</th>\n",
              "      <td>2.000000</td>\n",
              "      <td>115.000000</td>\n",
              "      <td>28.00000</td>\n",
              "      <td>13.00000</td>\n",
              "      <td>5.000000</td>\n",
              "      <td>1.000000</td>\n",
              "      <td>1.000000</td>\n",
              "      <td>1.000000</td>\n",
              "      <td>8.830000</td>\n",
              "      <td>0.000000</td>\n",
              "    </tr>\n",
              "    <tr>\n",
              "      <th>max</th>\n",
              "      <td>9.000000</td>\n",
              "      <td>867.000000</td>\n",
              "      <td>778.00000</td>\n",
              "      <td>23.00000</td>\n",
              "      <td>7.000000</td>\n",
              "      <td>1.000000</td>\n",
              "      <td>1.000000</td>\n",
              "      <td>1.000000</td>\n",
              "      <td>9.500000</td>\n",
              "      <td>1.000000</td>\n",
              "    </tr>\n",
              "  </tbody>\n",
              "</table>\n",
              "</div>\n",
              "      <button class=\"colab-df-convert\" onclick=\"convertToInteractive('df-34308fac-b720-4814-82df-ead1092d501a')\"\n",
              "              title=\"Convert this dataframe to an interactive table.\"\n",
              "              style=\"display:none;\">\n",
              "        \n",
              "  <svg xmlns=\"http://www.w3.org/2000/svg\" height=\"24px\"viewBox=\"0 0 24 24\"\n",
              "       width=\"24px\">\n",
              "    <path d=\"M0 0h24v24H0V0z\" fill=\"none\"/>\n",
              "    <path d=\"M18.56 5.44l.94 2.06.94-2.06 2.06-.94-2.06-.94-.94-2.06-.94 2.06-2.06.94zm-11 1L8.5 8.5l.94-2.06 2.06-.94-2.06-.94L8.5 2.5l-.94 2.06-2.06.94zm10 10l.94 2.06.94-2.06 2.06-.94-2.06-.94-.94-2.06-.94 2.06-2.06.94z\"/><path d=\"M17.41 7.96l-1.37-1.37c-.4-.4-.92-.59-1.43-.59-.52 0-1.04.2-1.43.59L10.3 9.45l-7.72 7.72c-.78.78-.78 2.05 0 2.83L4 21.41c.39.39.9.59 1.41.59.51 0 1.02-.2 1.41-.59l7.78-7.78 2.81-2.81c.8-.78.8-2.07 0-2.86zM5.41 20L4 18.59l7.72-7.72 1.47 1.35L5.41 20z\"/>\n",
              "  </svg>\n",
              "      </button>\n",
              "      \n",
              "  <style>\n",
              "    .colab-df-container {\n",
              "      display:flex;\n",
              "      flex-wrap:wrap;\n",
              "      gap: 12px;\n",
              "    }\n",
              "\n",
              "    .colab-df-convert {\n",
              "      background-color: #E8F0FE;\n",
              "      border: none;\n",
              "      border-radius: 50%;\n",
              "      cursor: pointer;\n",
              "      display: none;\n",
              "      fill: #1967D2;\n",
              "      height: 32px;\n",
              "      padding: 0 0 0 0;\n",
              "      width: 32px;\n",
              "    }\n",
              "\n",
              "    .colab-df-convert:hover {\n",
              "      background-color: #E2EBFA;\n",
              "      box-shadow: 0px 1px 2px rgba(60, 64, 67, 0.3), 0px 1px 3px 1px rgba(60, 64, 67, 0.15);\n",
              "      fill: #174EA6;\n",
              "    }\n",
              "\n",
              "    [theme=dark] .colab-df-convert {\n",
              "      background-color: #3B4455;\n",
              "      fill: #D2E3FC;\n",
              "    }\n",
              "\n",
              "    [theme=dark] .colab-df-convert:hover {\n",
              "      background-color: #434B5C;\n",
              "      box-shadow: 0px 1px 3px 1px rgba(0, 0, 0, 0.15);\n",
              "      filter: drop-shadow(0px 1px 2px rgba(0, 0, 0, 0.3));\n",
              "      fill: #FFFFFF;\n",
              "    }\n",
              "  </style>\n",
              "\n",
              "      <script>\n",
              "        const buttonEl =\n",
              "          document.querySelector('#df-34308fac-b720-4814-82df-ead1092d501a button.colab-df-convert');\n",
              "        buttonEl.style.display =\n",
              "          google.colab.kernel.accessAllowed ? 'block' : 'none';\n",
              "\n",
              "        async function convertToInteractive(key) {\n",
              "          const element = document.querySelector('#df-34308fac-b720-4814-82df-ead1092d501a');\n",
              "          const dataTable =\n",
              "            await google.colab.kernel.invokeFunction('convertToInteractive',\n",
              "                                                     [key], {});\n",
              "          if (!dataTable) return;\n",
              "\n",
              "          const docLinkHtml = 'Like what you see? Visit the ' +\n",
              "            '<a target=\"_blank\" href=https://colab.research.google.com/notebooks/data_table.ipynb>data table notebook</a>'\n",
              "            + ' to learn more about interactive tables.';\n",
              "          element.innerHTML = '';\n",
              "          dataTable['output_type'] = 'display_data';\n",
              "          await google.colab.output.renderOutput(dataTable, element);\n",
              "          const docLink = document.createElement('div');\n",
              "          docLink.innerHTML = docLinkHtml;\n",
              "          element.appendChild(docLink);\n",
              "        }\n",
              "      </script>\n",
              "    </div>\n",
              "  </div>\n",
              "  "
            ]
          },
          "metadata": {},
          "execution_count": 45
        }
      ],
      "source": [
        "df.describe()"
      ]
    },
    {
      "cell_type": "markdown",
      "metadata": {
        "id": "Lfu_2He6wehc"
      },
      "source": [
        "The `.describe()` method gives us a summary of descriptive statistics over the entire dataset (only works for numeric columns). This gives us a quick overview of a few things such as the mean, min, max and overall distribution of each column.\n",
        "\n",
        "From this point, you should continue exploring the dataset with some visualisations and other metrics that you think may be useful. Then, you should prepare your dataset for predictive modelling. Finally, you should train your machine learning model, evaluate it with performance metrics and output visualisations for the contributing variables. All of this analysis should be summarised in your single slide."
      ]
    },
    {
      "cell_type": "code",
      "source": [
        "df.head(10)"
      ],
      "metadata": {
        "colab": {
          "base_uri": "https://localhost:8080/",
          "height": 427
        },
        "id": "0p13DxhqyGr3",
        "outputId": "b3440390-d41d-47b1-8a32-82cc1e505850"
      },
      "execution_count": null,
      "outputs": [
        {
          "output_type": "execute_result",
          "data": {
            "text/plain": [
              "   num_passengers sales_channel  trip_type  purchase_lead  length_of_stay  \\\n",
              "0               2      Internet  RoundTrip            262              19   \n",
              "1               1      Internet  RoundTrip            112              20   \n",
              "2               2      Internet  RoundTrip            243              22   \n",
              "3               1      Internet  RoundTrip             96              31   \n",
              "4               2      Internet  RoundTrip             68              22   \n",
              "5               1      Internet  RoundTrip              3              48   \n",
              "6               3      Internet  RoundTrip            201              33   \n",
              "7               2      Internet  RoundTrip            238              19   \n",
              "8               1      Internet  RoundTrip             80              22   \n",
              "9               1        Mobile  RoundTrip            378              30   \n",
              "\n",
              "   flight_hour  flight_day   route booking_origin  wants_extra_baggage  \\\n",
              "0            7           6  AKLDEL    New Zealand                    1   \n",
              "1            3           6  AKLDEL    New Zealand                    0   \n",
              "2           17           3  AKLDEL          India                    1   \n",
              "3            4           6  AKLDEL    New Zealand                    0   \n",
              "4           15           3  AKLDEL          India                    1   \n",
              "5           20           4  AKLDEL    New Zealand                    1   \n",
              "6            6           4  AKLDEL    New Zealand                    1   \n",
              "7           14           1  AKLDEL          India                    1   \n",
              "8            4           1  AKLDEL    New Zealand                    0   \n",
              "9           12           7  AKLDEL          India                    0   \n",
              "\n",
              "   wants_preferred_seat  wants_in_flight_meals  flight_duration  \\\n",
              "0                     0                      0             5.52   \n",
              "1                     0                      0             5.52   \n",
              "2                     1                      0             5.52   \n",
              "3                     0                      1             5.52   \n",
              "4                     0                      1             5.52   \n",
              "5                     0                      1             5.52   \n",
              "6                     0                      1             5.52   \n",
              "7                     0                      1             5.52   \n",
              "8                     0                      1             5.52   \n",
              "9                     0                      0             5.52   \n",
              "\n",
              "   booking_complete  \n",
              "0                 0  \n",
              "1                 0  \n",
              "2                 0  \n",
              "3                 0  \n",
              "4                 0  \n",
              "5                 0  \n",
              "6                 0  \n",
              "7                 0  \n",
              "8                 0  \n",
              "9                 0  "
            ],
            "text/html": [
              "\n",
              "  <div id=\"df-9c82afc3-c73d-4247-9800-7a85fad5333d\">\n",
              "    <div class=\"colab-df-container\">\n",
              "      <div>\n",
              "<style scoped>\n",
              "    .dataframe tbody tr th:only-of-type {\n",
              "        vertical-align: middle;\n",
              "    }\n",
              "\n",
              "    .dataframe tbody tr th {\n",
              "        vertical-align: top;\n",
              "    }\n",
              "\n",
              "    .dataframe thead th {\n",
              "        text-align: right;\n",
              "    }\n",
              "</style>\n",
              "<table border=\"1\" class=\"dataframe\">\n",
              "  <thead>\n",
              "    <tr style=\"text-align: right;\">\n",
              "      <th></th>\n",
              "      <th>num_passengers</th>\n",
              "      <th>sales_channel</th>\n",
              "      <th>trip_type</th>\n",
              "      <th>purchase_lead</th>\n",
              "      <th>length_of_stay</th>\n",
              "      <th>flight_hour</th>\n",
              "      <th>flight_day</th>\n",
              "      <th>route</th>\n",
              "      <th>booking_origin</th>\n",
              "      <th>wants_extra_baggage</th>\n",
              "      <th>wants_preferred_seat</th>\n",
              "      <th>wants_in_flight_meals</th>\n",
              "      <th>flight_duration</th>\n",
              "      <th>booking_complete</th>\n",
              "    </tr>\n",
              "  </thead>\n",
              "  <tbody>\n",
              "    <tr>\n",
              "      <th>0</th>\n",
              "      <td>2</td>\n",
              "      <td>Internet</td>\n",
              "      <td>RoundTrip</td>\n",
              "      <td>262</td>\n",
              "      <td>19</td>\n",
              "      <td>7</td>\n",
              "      <td>6</td>\n",
              "      <td>AKLDEL</td>\n",
              "      <td>New Zealand</td>\n",
              "      <td>1</td>\n",
              "      <td>0</td>\n",
              "      <td>0</td>\n",
              "      <td>5.52</td>\n",
              "      <td>0</td>\n",
              "    </tr>\n",
              "    <tr>\n",
              "      <th>1</th>\n",
              "      <td>1</td>\n",
              "      <td>Internet</td>\n",
              "      <td>RoundTrip</td>\n",
              "      <td>112</td>\n",
              "      <td>20</td>\n",
              "      <td>3</td>\n",
              "      <td>6</td>\n",
              "      <td>AKLDEL</td>\n",
              "      <td>New Zealand</td>\n",
              "      <td>0</td>\n",
              "      <td>0</td>\n",
              "      <td>0</td>\n",
              "      <td>5.52</td>\n",
              "      <td>0</td>\n",
              "    </tr>\n",
              "    <tr>\n",
              "      <th>2</th>\n",
              "      <td>2</td>\n",
              "      <td>Internet</td>\n",
              "      <td>RoundTrip</td>\n",
              "      <td>243</td>\n",
              "      <td>22</td>\n",
              "      <td>17</td>\n",
              "      <td>3</td>\n",
              "      <td>AKLDEL</td>\n",
              "      <td>India</td>\n",
              "      <td>1</td>\n",
              "      <td>1</td>\n",
              "      <td>0</td>\n",
              "      <td>5.52</td>\n",
              "      <td>0</td>\n",
              "    </tr>\n",
              "    <tr>\n",
              "      <th>3</th>\n",
              "      <td>1</td>\n",
              "      <td>Internet</td>\n",
              "      <td>RoundTrip</td>\n",
              "      <td>96</td>\n",
              "      <td>31</td>\n",
              "      <td>4</td>\n",
              "      <td>6</td>\n",
              "      <td>AKLDEL</td>\n",
              "      <td>New Zealand</td>\n",
              "      <td>0</td>\n",
              "      <td>0</td>\n",
              "      <td>1</td>\n",
              "      <td>5.52</td>\n",
              "      <td>0</td>\n",
              "    </tr>\n",
              "    <tr>\n",
              "      <th>4</th>\n",
              "      <td>2</td>\n",
              "      <td>Internet</td>\n",
              "      <td>RoundTrip</td>\n",
              "      <td>68</td>\n",
              "      <td>22</td>\n",
              "      <td>15</td>\n",
              "      <td>3</td>\n",
              "      <td>AKLDEL</td>\n",
              "      <td>India</td>\n",
              "      <td>1</td>\n",
              "      <td>0</td>\n",
              "      <td>1</td>\n",
              "      <td>5.52</td>\n",
              "      <td>0</td>\n",
              "    </tr>\n",
              "    <tr>\n",
              "      <th>5</th>\n",
              "      <td>1</td>\n",
              "      <td>Internet</td>\n",
              "      <td>RoundTrip</td>\n",
              "      <td>3</td>\n",
              "      <td>48</td>\n",
              "      <td>20</td>\n",
              "      <td>4</td>\n",
              "      <td>AKLDEL</td>\n",
              "      <td>New Zealand</td>\n",
              "      <td>1</td>\n",
              "      <td>0</td>\n",
              "      <td>1</td>\n",
              "      <td>5.52</td>\n",
              "      <td>0</td>\n",
              "    </tr>\n",
              "    <tr>\n",
              "      <th>6</th>\n",
              "      <td>3</td>\n",
              "      <td>Internet</td>\n",
              "      <td>RoundTrip</td>\n",
              "      <td>201</td>\n",
              "      <td>33</td>\n",
              "      <td>6</td>\n",
              "      <td>4</td>\n",
              "      <td>AKLDEL</td>\n",
              "      <td>New Zealand</td>\n",
              "      <td>1</td>\n",
              "      <td>0</td>\n",
              "      <td>1</td>\n",
              "      <td>5.52</td>\n",
              "      <td>0</td>\n",
              "    </tr>\n",
              "    <tr>\n",
              "      <th>7</th>\n",
              "      <td>2</td>\n",
              "      <td>Internet</td>\n",
              "      <td>RoundTrip</td>\n",
              "      <td>238</td>\n",
              "      <td>19</td>\n",
              "      <td>14</td>\n",
              "      <td>1</td>\n",
              "      <td>AKLDEL</td>\n",
              "      <td>India</td>\n",
              "      <td>1</td>\n",
              "      <td>0</td>\n",
              "      <td>1</td>\n",
              "      <td>5.52</td>\n",
              "      <td>0</td>\n",
              "    </tr>\n",
              "    <tr>\n",
              "      <th>8</th>\n",
              "      <td>1</td>\n",
              "      <td>Internet</td>\n",
              "      <td>RoundTrip</td>\n",
              "      <td>80</td>\n",
              "      <td>22</td>\n",
              "      <td>4</td>\n",
              "      <td>1</td>\n",
              "      <td>AKLDEL</td>\n",
              "      <td>New Zealand</td>\n",
              "      <td>0</td>\n",
              "      <td>0</td>\n",
              "      <td>1</td>\n",
              "      <td>5.52</td>\n",
              "      <td>0</td>\n",
              "    </tr>\n",
              "    <tr>\n",
              "      <th>9</th>\n",
              "      <td>1</td>\n",
              "      <td>Mobile</td>\n",
              "      <td>RoundTrip</td>\n",
              "      <td>378</td>\n",
              "      <td>30</td>\n",
              "      <td>12</td>\n",
              "      <td>7</td>\n",
              "      <td>AKLDEL</td>\n",
              "      <td>India</td>\n",
              "      <td>0</td>\n",
              "      <td>0</td>\n",
              "      <td>0</td>\n",
              "      <td>5.52</td>\n",
              "      <td>0</td>\n",
              "    </tr>\n",
              "  </tbody>\n",
              "</table>\n",
              "</div>\n",
              "      <button class=\"colab-df-convert\" onclick=\"convertToInteractive('df-9c82afc3-c73d-4247-9800-7a85fad5333d')\"\n",
              "              title=\"Convert this dataframe to an interactive table.\"\n",
              "              style=\"display:none;\">\n",
              "        \n",
              "  <svg xmlns=\"http://www.w3.org/2000/svg\" height=\"24px\"viewBox=\"0 0 24 24\"\n",
              "       width=\"24px\">\n",
              "    <path d=\"M0 0h24v24H0V0z\" fill=\"none\"/>\n",
              "    <path d=\"M18.56 5.44l.94 2.06.94-2.06 2.06-.94-2.06-.94-.94-2.06-.94 2.06-2.06.94zm-11 1L8.5 8.5l.94-2.06 2.06-.94-2.06-.94L8.5 2.5l-.94 2.06-2.06.94zm10 10l.94 2.06.94-2.06 2.06-.94-2.06-.94-.94-2.06-.94 2.06-2.06.94z\"/><path d=\"M17.41 7.96l-1.37-1.37c-.4-.4-.92-.59-1.43-.59-.52 0-1.04.2-1.43.59L10.3 9.45l-7.72 7.72c-.78.78-.78 2.05 0 2.83L4 21.41c.39.39.9.59 1.41.59.51 0 1.02-.2 1.41-.59l7.78-7.78 2.81-2.81c.8-.78.8-2.07 0-2.86zM5.41 20L4 18.59l7.72-7.72 1.47 1.35L5.41 20z\"/>\n",
              "  </svg>\n",
              "      </button>\n",
              "      \n",
              "  <style>\n",
              "    .colab-df-container {\n",
              "      display:flex;\n",
              "      flex-wrap:wrap;\n",
              "      gap: 12px;\n",
              "    }\n",
              "\n",
              "    .colab-df-convert {\n",
              "      background-color: #E8F0FE;\n",
              "      border: none;\n",
              "      border-radius: 50%;\n",
              "      cursor: pointer;\n",
              "      display: none;\n",
              "      fill: #1967D2;\n",
              "      height: 32px;\n",
              "      padding: 0 0 0 0;\n",
              "      width: 32px;\n",
              "    }\n",
              "\n",
              "    .colab-df-convert:hover {\n",
              "      background-color: #E2EBFA;\n",
              "      box-shadow: 0px 1px 2px rgba(60, 64, 67, 0.3), 0px 1px 3px 1px rgba(60, 64, 67, 0.15);\n",
              "      fill: #174EA6;\n",
              "    }\n",
              "\n",
              "    [theme=dark] .colab-df-convert {\n",
              "      background-color: #3B4455;\n",
              "      fill: #D2E3FC;\n",
              "    }\n",
              "\n",
              "    [theme=dark] .colab-df-convert:hover {\n",
              "      background-color: #434B5C;\n",
              "      box-shadow: 0px 1px 3px 1px rgba(0, 0, 0, 0.15);\n",
              "      filter: drop-shadow(0px 1px 2px rgba(0, 0, 0, 0.3));\n",
              "      fill: #FFFFFF;\n",
              "    }\n",
              "  </style>\n",
              "\n",
              "      <script>\n",
              "        const buttonEl =\n",
              "          document.querySelector('#df-9c82afc3-c73d-4247-9800-7a85fad5333d button.colab-df-convert');\n",
              "        buttonEl.style.display =\n",
              "          google.colab.kernel.accessAllowed ? 'block' : 'none';\n",
              "\n",
              "        async function convertToInteractive(key) {\n",
              "          const element = document.querySelector('#df-9c82afc3-c73d-4247-9800-7a85fad5333d');\n",
              "          const dataTable =\n",
              "            await google.colab.kernel.invokeFunction('convertToInteractive',\n",
              "                                                     [key], {});\n",
              "          if (!dataTable) return;\n",
              "\n",
              "          const docLinkHtml = 'Like what you see? Visit the ' +\n",
              "            '<a target=\"_blank\" href=https://colab.research.google.com/notebooks/data_table.ipynb>data table notebook</a>'\n",
              "            + ' to learn more about interactive tables.';\n",
              "          element.innerHTML = '';\n",
              "          dataTable['output_type'] = 'display_data';\n",
              "          await google.colab.output.renderOutput(dataTable, element);\n",
              "          const docLink = document.createElement('div');\n",
              "          docLink.innerHTML = docLinkHtml;\n",
              "          element.appendChild(docLink);\n",
              "        }\n",
              "      </script>\n",
              "    </div>\n",
              "  </div>\n",
              "  "
            ]
          },
          "metadata": {},
          "execution_count": 46
        }
      ]
    },
    {
      "cell_type": "markdown",
      "source": [
        "**Steps**\n",
        "1. Checking if the data target is balanced.\n",
        "2. Taking care of categorical data.\n",
        "3. Drop columns that aren't useful. (using Corrolation)\n",
        "4. Divide the data set into training data and test data."
      ],
      "metadata": {
        "id": "XrxpuTa__-qD"
      }
    },
    {
      "cell_type": "markdown",
      "source": [
        "# 1. Checking if the data target is balanced."
      ],
      "metadata": {
        "id": "5fx0t19qAn0g"
      }
    },
    {
      "cell_type": "code",
      "source": [
        "df.booking_complete.value_counts()"
      ],
      "metadata": {
        "colab": {
          "base_uri": "https://localhost:8080/"
        },
        "id": "i1wZ6GlhyGu2",
        "outputId": "3c2e4a34-6cf4-4c83-cac9-5420f0c25eb3"
      },
      "execution_count": null,
      "outputs": [
        {
          "output_type": "execute_result",
          "data": {
            "text/plain": [
              "0    42522\n",
              "1     7478\n",
              "Name: booking_complete, dtype: int64"
            ]
          },
          "metadata": {},
          "execution_count": 47
        }
      ]
    },
    {
      "cell_type": "markdown",
      "source": [
        "**===> Unbalanced dataset: we will apply aversampling and undersampling methods later for the train set.**"
      ],
      "metadata": {
        "id": "4Q_85JIhBBd7"
      }
    },
    {
      "cell_type": "markdown",
      "source": [
        "# 2. Feature Engineering: Taking care of categorical data."
      ],
      "metadata": {
        "id": "XiXFVcS9Bsjs"
      }
    },
    {
      "cell_type": "markdown",
      "source": [
        "#### Converting the sales_channel feature:"
      ],
      "metadata": {
        "id": "mEDWfFwoCLSt"
      }
    },
    {
      "cell_type": "code",
      "source": [
        "df.sales_channel.value_counts()"
      ],
      "metadata": {
        "colab": {
          "base_uri": "https://localhost:8080/"
        },
        "id": "qz9GtFGOyGz-",
        "outputId": "81ea3520-dd2b-4374-879d-4a61b9310353"
      },
      "execution_count": null,
      "outputs": [
        {
          "output_type": "execute_result",
          "data": {
            "text/plain": [
              "Internet    44382\n",
              "Mobile       5618\n",
              "Name: sales_channel, dtype: int64"
            ]
          },
          "metadata": {},
          "execution_count": 48
        }
      ]
    },
    {
      "cell_type": "code",
      "source": [
        "mapping_sales_channel = {\n",
        "    \"Internet\": 1,\n",
        "    \"Mobile\": 2,\n",
        "}\n",
        "\n",
        "df[\"sales_channel\"] = df[\"sales_channel\"].map(mapping_sales_channel)"
      ],
      "metadata": {
        "id": "NmQMdthdyG2c"
      },
      "execution_count": null,
      "outputs": []
    },
    {
      "cell_type": "code",
      "source": [
        "df[\"sales_channel\"].value_counts()"
      ],
      "metadata": {
        "colab": {
          "base_uri": "https://localhost:8080/"
        },
        "id": "WRWoxcRyyG4w",
        "outputId": "c23637f1-718d-4fbf-f1df-6cc4c5ffade4"
      },
      "execution_count": null,
      "outputs": [
        {
          "output_type": "execute_result",
          "data": {
            "text/plain": [
              "1    44382\n",
              "2     5618\n",
              "Name: sales_channel, dtype: int64"
            ]
          },
          "metadata": {},
          "execution_count": 51
        }
      ]
    },
    {
      "cell_type": "code",
      "source": [
        "df.head(3)"
      ],
      "metadata": {
        "colab": {
          "base_uri": "https://localhost:8080/",
          "height": 207
        },
        "id": "DY5wvq1zCbPb",
        "outputId": "e20dcec9-3357-45d9-a069-5e0c531094c4"
      },
      "execution_count": null,
      "outputs": [
        {
          "output_type": "execute_result",
          "data": {
            "text/plain": [
              "   num_passengers  sales_channel  trip_type  purchase_lead  length_of_stay  \\\n",
              "0               2              1  RoundTrip            262              19   \n",
              "1               1              1  RoundTrip            112              20   \n",
              "2               2              1  RoundTrip            243              22   \n",
              "\n",
              "   flight_hour  flight_day   route booking_origin  wants_extra_baggage  \\\n",
              "0            7           6  AKLDEL    New Zealand                    1   \n",
              "1            3           6  AKLDEL    New Zealand                    0   \n",
              "2           17           3  AKLDEL          India                    1   \n",
              "\n",
              "   wants_preferred_seat  wants_in_flight_meals  flight_duration  \\\n",
              "0                     0                      0             5.52   \n",
              "1                     0                      0             5.52   \n",
              "2                     1                      0             5.52   \n",
              "\n",
              "   booking_complete  \n",
              "0                 0  \n",
              "1                 0  \n",
              "2                 0  "
            ],
            "text/html": [
              "\n",
              "  <div id=\"df-69ed07d8-94d1-4403-bf51-50f3cde5450c\">\n",
              "    <div class=\"colab-df-container\">\n",
              "      <div>\n",
              "<style scoped>\n",
              "    .dataframe tbody tr th:only-of-type {\n",
              "        vertical-align: middle;\n",
              "    }\n",
              "\n",
              "    .dataframe tbody tr th {\n",
              "        vertical-align: top;\n",
              "    }\n",
              "\n",
              "    .dataframe thead th {\n",
              "        text-align: right;\n",
              "    }\n",
              "</style>\n",
              "<table border=\"1\" class=\"dataframe\">\n",
              "  <thead>\n",
              "    <tr style=\"text-align: right;\">\n",
              "      <th></th>\n",
              "      <th>num_passengers</th>\n",
              "      <th>sales_channel</th>\n",
              "      <th>trip_type</th>\n",
              "      <th>purchase_lead</th>\n",
              "      <th>length_of_stay</th>\n",
              "      <th>flight_hour</th>\n",
              "      <th>flight_day</th>\n",
              "      <th>route</th>\n",
              "      <th>booking_origin</th>\n",
              "      <th>wants_extra_baggage</th>\n",
              "      <th>wants_preferred_seat</th>\n",
              "      <th>wants_in_flight_meals</th>\n",
              "      <th>flight_duration</th>\n",
              "      <th>booking_complete</th>\n",
              "    </tr>\n",
              "  </thead>\n",
              "  <tbody>\n",
              "    <tr>\n",
              "      <th>0</th>\n",
              "      <td>2</td>\n",
              "      <td>1</td>\n",
              "      <td>RoundTrip</td>\n",
              "      <td>262</td>\n",
              "      <td>19</td>\n",
              "      <td>7</td>\n",
              "      <td>6</td>\n",
              "      <td>AKLDEL</td>\n",
              "      <td>New Zealand</td>\n",
              "      <td>1</td>\n",
              "      <td>0</td>\n",
              "      <td>0</td>\n",
              "      <td>5.52</td>\n",
              "      <td>0</td>\n",
              "    </tr>\n",
              "    <tr>\n",
              "      <th>1</th>\n",
              "      <td>1</td>\n",
              "      <td>1</td>\n",
              "      <td>RoundTrip</td>\n",
              "      <td>112</td>\n",
              "      <td>20</td>\n",
              "      <td>3</td>\n",
              "      <td>6</td>\n",
              "      <td>AKLDEL</td>\n",
              "      <td>New Zealand</td>\n",
              "      <td>0</td>\n",
              "      <td>0</td>\n",
              "      <td>0</td>\n",
              "      <td>5.52</td>\n",
              "      <td>0</td>\n",
              "    </tr>\n",
              "    <tr>\n",
              "      <th>2</th>\n",
              "      <td>2</td>\n",
              "      <td>1</td>\n",
              "      <td>RoundTrip</td>\n",
              "      <td>243</td>\n",
              "      <td>22</td>\n",
              "      <td>17</td>\n",
              "      <td>3</td>\n",
              "      <td>AKLDEL</td>\n",
              "      <td>India</td>\n",
              "      <td>1</td>\n",
              "      <td>1</td>\n",
              "      <td>0</td>\n",
              "      <td>5.52</td>\n",
              "      <td>0</td>\n",
              "    </tr>\n",
              "  </tbody>\n",
              "</table>\n",
              "</div>\n",
              "      <button class=\"colab-df-convert\" onclick=\"convertToInteractive('df-69ed07d8-94d1-4403-bf51-50f3cde5450c')\"\n",
              "              title=\"Convert this dataframe to an interactive table.\"\n",
              "              style=\"display:none;\">\n",
              "        \n",
              "  <svg xmlns=\"http://www.w3.org/2000/svg\" height=\"24px\"viewBox=\"0 0 24 24\"\n",
              "       width=\"24px\">\n",
              "    <path d=\"M0 0h24v24H0V0z\" fill=\"none\"/>\n",
              "    <path d=\"M18.56 5.44l.94 2.06.94-2.06 2.06-.94-2.06-.94-.94-2.06-.94 2.06-2.06.94zm-11 1L8.5 8.5l.94-2.06 2.06-.94-2.06-.94L8.5 2.5l-.94 2.06-2.06.94zm10 10l.94 2.06.94-2.06 2.06-.94-2.06-.94-.94-2.06-.94 2.06-2.06.94z\"/><path d=\"M17.41 7.96l-1.37-1.37c-.4-.4-.92-.59-1.43-.59-.52 0-1.04.2-1.43.59L10.3 9.45l-7.72 7.72c-.78.78-.78 2.05 0 2.83L4 21.41c.39.39.9.59 1.41.59.51 0 1.02-.2 1.41-.59l7.78-7.78 2.81-2.81c.8-.78.8-2.07 0-2.86zM5.41 20L4 18.59l7.72-7.72 1.47 1.35L5.41 20z\"/>\n",
              "  </svg>\n",
              "      </button>\n",
              "      \n",
              "  <style>\n",
              "    .colab-df-container {\n",
              "      display:flex;\n",
              "      flex-wrap:wrap;\n",
              "      gap: 12px;\n",
              "    }\n",
              "\n",
              "    .colab-df-convert {\n",
              "      background-color: #E8F0FE;\n",
              "      border: none;\n",
              "      border-radius: 50%;\n",
              "      cursor: pointer;\n",
              "      display: none;\n",
              "      fill: #1967D2;\n",
              "      height: 32px;\n",
              "      padding: 0 0 0 0;\n",
              "      width: 32px;\n",
              "    }\n",
              "\n",
              "    .colab-df-convert:hover {\n",
              "      background-color: #E2EBFA;\n",
              "      box-shadow: 0px 1px 2px rgba(60, 64, 67, 0.3), 0px 1px 3px 1px rgba(60, 64, 67, 0.15);\n",
              "      fill: #174EA6;\n",
              "    }\n",
              "\n",
              "    [theme=dark] .colab-df-convert {\n",
              "      background-color: #3B4455;\n",
              "      fill: #D2E3FC;\n",
              "    }\n",
              "\n",
              "    [theme=dark] .colab-df-convert:hover {\n",
              "      background-color: #434B5C;\n",
              "      box-shadow: 0px 1px 3px 1px rgba(0, 0, 0, 0.15);\n",
              "      filter: drop-shadow(0px 1px 2px rgba(0, 0, 0, 0.3));\n",
              "      fill: #FFFFFF;\n",
              "    }\n",
              "  </style>\n",
              "\n",
              "      <script>\n",
              "        const buttonEl =\n",
              "          document.querySelector('#df-69ed07d8-94d1-4403-bf51-50f3cde5450c button.colab-df-convert');\n",
              "        buttonEl.style.display =\n",
              "          google.colab.kernel.accessAllowed ? 'block' : 'none';\n",
              "\n",
              "        async function convertToInteractive(key) {\n",
              "          const element = document.querySelector('#df-69ed07d8-94d1-4403-bf51-50f3cde5450c');\n",
              "          const dataTable =\n",
              "            await google.colab.kernel.invokeFunction('convertToInteractive',\n",
              "                                                     [key], {});\n",
              "          if (!dataTable) return;\n",
              "\n",
              "          const docLinkHtml = 'Like what you see? Visit the ' +\n",
              "            '<a target=\"_blank\" href=https://colab.research.google.com/notebooks/data_table.ipynb>data table notebook</a>'\n",
              "            + ' to learn more about interactive tables.';\n",
              "          element.innerHTML = '';\n",
              "          dataTable['output_type'] = 'display_data';\n",
              "          await google.colab.output.renderOutput(dataTable, element);\n",
              "          const docLink = document.createElement('div');\n",
              "          docLink.innerHTML = docLinkHtml;\n",
              "          element.appendChild(docLink);\n",
              "        }\n",
              "      </script>\n",
              "    </div>\n",
              "  </div>\n",
              "  "
            ]
          },
          "metadata": {},
          "execution_count": 52
        }
      ]
    },
    {
      "cell_type": "markdown",
      "source": [
        "#### converting the trip_type feature:"
      ],
      "metadata": {
        "id": "5yzCsMhxCatN"
      }
    },
    {
      "cell_type": "code",
      "source": [
        "df['trip_type'].value_counts()"
      ],
      "metadata": {
        "colab": {
          "base_uri": "https://localhost:8080/"
        },
        "id": "yNUES4moyHJB",
        "outputId": "d2eaa737-9d6d-4460-d14e-e9afa011a577"
      },
      "execution_count": null,
      "outputs": [
        {
          "output_type": "execute_result",
          "data": {
            "text/plain": [
              "RoundTrip     49497\n",
              "OneWay          387\n",
              "CircleTrip      116\n",
              "Name: trip_type, dtype: int64"
            ]
          },
          "metadata": {},
          "execution_count": 58
        }
      ]
    },
    {
      "cell_type": "code",
      "source": [
        "df['trip_type'].unique()"
      ],
      "metadata": {
        "colab": {
          "base_uri": "https://localhost:8080/"
        },
        "id": "u_c4IGNUEQbx",
        "outputId": "30c094a2-1f20-47f8-b005-d27bbedb5ab9"
      },
      "execution_count": null,
      "outputs": [
        {
          "output_type": "execute_result",
          "data": {
            "text/plain": [
              "array(['RoundTrip', 'CircleTrip', 'OneWay'], dtype=object)"
            ]
          },
          "metadata": {},
          "execution_count": 59
        }
      ]
    },
    {
      "cell_type": "code",
      "source": [
        "mapping_trip_type = {\n",
        "    \"RoundTrip\": 1,\n",
        "    \"CircleTrip\": 2,\n",
        "    \"OneWay\": 3,\n",
        "}\n",
        "\n",
        "df[\"trip_type\"] = df[\"trip_type\"].map(mapping_trip_type)"
      ],
      "metadata": {
        "id": "Y5wOEKV-yHL7"
      },
      "execution_count": null,
      "outputs": []
    },
    {
      "cell_type": "code",
      "source": [
        "df[\"trip_type\"].value_counts()"
      ],
      "metadata": {
        "colab": {
          "base_uri": "https://localhost:8080/"
        },
        "id": "r1InElw8yHOk",
        "outputId": "880378a4-1743-4660-e6a4-b0d902e293d2"
      },
      "execution_count": null,
      "outputs": [
        {
          "output_type": "execute_result",
          "data": {
            "text/plain": [
              "1    49497\n",
              "3      387\n",
              "2      116\n",
              "Name: trip_type, dtype: int64"
            ]
          },
          "metadata": {},
          "execution_count": 61
        }
      ]
    },
    {
      "cell_type": "code",
      "source": [
        "df.head(3)"
      ],
      "metadata": {
        "colab": {
          "base_uri": "https://localhost:8080/",
          "height": 207
        },
        "id": "Iks_lvCLyHRG",
        "outputId": "ba83bb6f-5859-4072-cf65-2d22f03433b6"
      },
      "execution_count": null,
      "outputs": [
        {
          "output_type": "execute_result",
          "data": {
            "text/plain": [
              "   num_passengers  sales_channel  trip_type  purchase_lead  length_of_stay  \\\n",
              "0               2              1          1            262              19   \n",
              "1               1              1          1            112              20   \n",
              "2               2              1          1            243              22   \n",
              "\n",
              "   flight_hour  flight_day   route booking_origin  wants_extra_baggage  \\\n",
              "0            7           6  AKLDEL    New Zealand                    1   \n",
              "1            3           6  AKLDEL    New Zealand                    0   \n",
              "2           17           3  AKLDEL          India                    1   \n",
              "\n",
              "   wants_preferred_seat  wants_in_flight_meals  flight_duration  \\\n",
              "0                     0                      0             5.52   \n",
              "1                     0                      0             5.52   \n",
              "2                     1                      0             5.52   \n",
              "\n",
              "   booking_complete  \n",
              "0                 0  \n",
              "1                 0  \n",
              "2                 0  "
            ],
            "text/html": [
              "\n",
              "  <div id=\"df-2682d0b8-d020-4ddb-b283-68f29517266e\">\n",
              "    <div class=\"colab-df-container\">\n",
              "      <div>\n",
              "<style scoped>\n",
              "    .dataframe tbody tr th:only-of-type {\n",
              "        vertical-align: middle;\n",
              "    }\n",
              "\n",
              "    .dataframe tbody tr th {\n",
              "        vertical-align: top;\n",
              "    }\n",
              "\n",
              "    .dataframe thead th {\n",
              "        text-align: right;\n",
              "    }\n",
              "</style>\n",
              "<table border=\"1\" class=\"dataframe\">\n",
              "  <thead>\n",
              "    <tr style=\"text-align: right;\">\n",
              "      <th></th>\n",
              "      <th>num_passengers</th>\n",
              "      <th>sales_channel</th>\n",
              "      <th>trip_type</th>\n",
              "      <th>purchase_lead</th>\n",
              "      <th>length_of_stay</th>\n",
              "      <th>flight_hour</th>\n",
              "      <th>flight_day</th>\n",
              "      <th>route</th>\n",
              "      <th>booking_origin</th>\n",
              "      <th>wants_extra_baggage</th>\n",
              "      <th>wants_preferred_seat</th>\n",
              "      <th>wants_in_flight_meals</th>\n",
              "      <th>flight_duration</th>\n",
              "      <th>booking_complete</th>\n",
              "    </tr>\n",
              "  </thead>\n",
              "  <tbody>\n",
              "    <tr>\n",
              "      <th>0</th>\n",
              "      <td>2</td>\n",
              "      <td>1</td>\n",
              "      <td>1</td>\n",
              "      <td>262</td>\n",
              "      <td>19</td>\n",
              "      <td>7</td>\n",
              "      <td>6</td>\n",
              "      <td>AKLDEL</td>\n",
              "      <td>New Zealand</td>\n",
              "      <td>1</td>\n",
              "      <td>0</td>\n",
              "      <td>0</td>\n",
              "      <td>5.52</td>\n",
              "      <td>0</td>\n",
              "    </tr>\n",
              "    <tr>\n",
              "      <th>1</th>\n",
              "      <td>1</td>\n",
              "      <td>1</td>\n",
              "      <td>1</td>\n",
              "      <td>112</td>\n",
              "      <td>20</td>\n",
              "      <td>3</td>\n",
              "      <td>6</td>\n",
              "      <td>AKLDEL</td>\n",
              "      <td>New Zealand</td>\n",
              "      <td>0</td>\n",
              "      <td>0</td>\n",
              "      <td>0</td>\n",
              "      <td>5.52</td>\n",
              "      <td>0</td>\n",
              "    </tr>\n",
              "    <tr>\n",
              "      <th>2</th>\n",
              "      <td>2</td>\n",
              "      <td>1</td>\n",
              "      <td>1</td>\n",
              "      <td>243</td>\n",
              "      <td>22</td>\n",
              "      <td>17</td>\n",
              "      <td>3</td>\n",
              "      <td>AKLDEL</td>\n",
              "      <td>India</td>\n",
              "      <td>1</td>\n",
              "      <td>1</td>\n",
              "      <td>0</td>\n",
              "      <td>5.52</td>\n",
              "      <td>0</td>\n",
              "    </tr>\n",
              "  </tbody>\n",
              "</table>\n",
              "</div>\n",
              "      <button class=\"colab-df-convert\" onclick=\"convertToInteractive('df-2682d0b8-d020-4ddb-b283-68f29517266e')\"\n",
              "              title=\"Convert this dataframe to an interactive table.\"\n",
              "              style=\"display:none;\">\n",
              "        \n",
              "  <svg xmlns=\"http://www.w3.org/2000/svg\" height=\"24px\"viewBox=\"0 0 24 24\"\n",
              "       width=\"24px\">\n",
              "    <path d=\"M0 0h24v24H0V0z\" fill=\"none\"/>\n",
              "    <path d=\"M18.56 5.44l.94 2.06.94-2.06 2.06-.94-2.06-.94-.94-2.06-.94 2.06-2.06.94zm-11 1L8.5 8.5l.94-2.06 2.06-.94-2.06-.94L8.5 2.5l-.94 2.06-2.06.94zm10 10l.94 2.06.94-2.06 2.06-.94-2.06-.94-.94-2.06-.94 2.06-2.06.94z\"/><path d=\"M17.41 7.96l-1.37-1.37c-.4-.4-.92-.59-1.43-.59-.52 0-1.04.2-1.43.59L10.3 9.45l-7.72 7.72c-.78.78-.78 2.05 0 2.83L4 21.41c.39.39.9.59 1.41.59.51 0 1.02-.2 1.41-.59l7.78-7.78 2.81-2.81c.8-.78.8-2.07 0-2.86zM5.41 20L4 18.59l7.72-7.72 1.47 1.35L5.41 20z\"/>\n",
              "  </svg>\n",
              "      </button>\n",
              "      \n",
              "  <style>\n",
              "    .colab-df-container {\n",
              "      display:flex;\n",
              "      flex-wrap:wrap;\n",
              "      gap: 12px;\n",
              "    }\n",
              "\n",
              "    .colab-df-convert {\n",
              "      background-color: #E8F0FE;\n",
              "      border: none;\n",
              "      border-radius: 50%;\n",
              "      cursor: pointer;\n",
              "      display: none;\n",
              "      fill: #1967D2;\n",
              "      height: 32px;\n",
              "      padding: 0 0 0 0;\n",
              "      width: 32px;\n",
              "    }\n",
              "\n",
              "    .colab-df-convert:hover {\n",
              "      background-color: #E2EBFA;\n",
              "      box-shadow: 0px 1px 2px rgba(60, 64, 67, 0.3), 0px 1px 3px 1px rgba(60, 64, 67, 0.15);\n",
              "      fill: #174EA6;\n",
              "    }\n",
              "\n",
              "    [theme=dark] .colab-df-convert {\n",
              "      background-color: #3B4455;\n",
              "      fill: #D2E3FC;\n",
              "    }\n",
              "\n",
              "    [theme=dark] .colab-df-convert:hover {\n",
              "      background-color: #434B5C;\n",
              "      box-shadow: 0px 1px 3px 1px rgba(0, 0, 0, 0.15);\n",
              "      filter: drop-shadow(0px 1px 2px rgba(0, 0, 0, 0.3));\n",
              "      fill: #FFFFFF;\n",
              "    }\n",
              "  </style>\n",
              "\n",
              "      <script>\n",
              "        const buttonEl =\n",
              "          document.querySelector('#df-2682d0b8-d020-4ddb-b283-68f29517266e button.colab-df-convert');\n",
              "        buttonEl.style.display =\n",
              "          google.colab.kernel.accessAllowed ? 'block' : 'none';\n",
              "\n",
              "        async function convertToInteractive(key) {\n",
              "          const element = document.querySelector('#df-2682d0b8-d020-4ddb-b283-68f29517266e');\n",
              "          const dataTable =\n",
              "            await google.colab.kernel.invokeFunction('convertToInteractive',\n",
              "                                                     [key], {});\n",
              "          if (!dataTable) return;\n",
              "\n",
              "          const docLinkHtml = 'Like what you see? Visit the ' +\n",
              "            '<a target=\"_blank\" href=https://colab.research.google.com/notebooks/data_table.ipynb>data table notebook</a>'\n",
              "            + ' to learn more about interactive tables.';\n",
              "          element.innerHTML = '';\n",
              "          dataTable['output_type'] = 'display_data';\n",
              "          await google.colab.output.renderOutput(dataTable, element);\n",
              "          const docLink = document.createElement('div');\n",
              "          docLink.innerHTML = docLinkHtml;\n",
              "          element.appendChild(docLink);\n",
              "        }\n",
              "      </script>\n",
              "    </div>\n",
              "  </div>\n",
              "  "
            ]
          },
          "metadata": {},
          "execution_count": 62
        }
      ]
    },
    {
      "cell_type": "markdown",
      "source": [
        "### converting the route feature"
      ],
      "metadata": {
        "id": "hTRrHjKeFSEw"
      }
    },
    {
      "cell_type": "code",
      "source": [
        "df.route.value_counts()"
      ],
      "metadata": {
        "colab": {
          "base_uri": "https://localhost:8080/"
        },
        "id": "SM4hEqKByHTp",
        "outputId": "f190fe2c-15de-400b-9062-78c7b1a1d870"
      },
      "execution_count": null,
      "outputs": [
        {
          "output_type": "execute_result",
          "data": {
            "text/plain": [
              "AKLKUL    2680\n",
              "PENTPE     924\n",
              "MELSGN     842\n",
              "ICNSIN     801\n",
              "DMKKIX     744\n",
              "          ... \n",
              "LBUTPE       1\n",
              "CXRMEL       1\n",
              "DELKBR       1\n",
              "KOSSYD       1\n",
              "MRUXIY       1\n",
              "Name: route, Length: 799, dtype: int64"
            ]
          },
          "metadata": {},
          "execution_count": 63
        }
      ]
    },
    {
      "cell_type": "markdown",
      "source": [
        "**Target Encoding**\n",
        "\n",
        "It consists of substituting each group in a categorical feature with the average response in the target variable."
      ],
      "metadata": {
        "id": "YHbbC6G7JHD2"
      }
    },
    {
      "cell_type": "code",
      "source": [
        "encodings = df.groupby('route')['booking_complete'].mean().reset_index()\n",
        "df = df.merge(encodings, how='left', on='route')\n",
        "df.drop('route', axis=1, inplace=True)"
      ],
      "metadata": {
        "id": "wfA1Gi3cyHWG"
      },
      "execution_count": null,
      "outputs": []
    },
    {
      "cell_type": "code",
      "source": [
        "df.sample(5)"
      ],
      "metadata": {
        "colab": {
          "base_uri": "https://localhost:8080/",
          "height": 270
        },
        "id": "6W9VUEbDyHYu",
        "outputId": "deed50d8-f892-4ec7-a172-79e6665dc249"
      },
      "execution_count": null,
      "outputs": [
        {
          "output_type": "execute_result",
          "data": {
            "text/plain": [
              "       num_passengers  sales_channel  trip_type  purchase_lead  \\\n",
              "34434               1              1          1              7   \n",
              "38559               1              1          1              6   \n",
              "9237                1              1          1              4   \n",
              "39627               6              2          1             85   \n",
              "27763               1              2          1              3   \n",
              "\n",
              "       length_of_stay  flight_hour  flight_day booking_origin  \\\n",
              "34434               4           15           3         Taiwan   \n",
              "38559               5           12           2      Australia   \n",
              "9237               53            6           4      Australia   \n",
              "39627               5            7           1      Indonesia   \n",
              "27763               3            1           4       Malaysia   \n",
              "\n",
              "       wants_extra_baggage  wants_preferred_seat  wants_in_flight_meals  \\\n",
              "34434                    0                     0                      0   \n",
              "38559                    1                     1                      1   \n",
              "9237                     1                     0                      1   \n",
              "39627                    0                     0                      0   \n",
              "27763                    0                     1                      0   \n",
              "\n",
              "       flight_duration  booking_complete_x  booking_complete_y  \n",
              "34434             4.67                   0            0.433983  \n",
              "38559             8.58                   0            0.034682  \n",
              "9237              8.83                   0            0.061069  \n",
              "39627             6.62                   0            0.127273  \n",
              "27763             7.57                   0            0.221719  "
            ],
            "text/html": [
              "\n",
              "  <div id=\"df-f2df74ac-28bc-4f39-948a-d31b75f70692\">\n",
              "    <div class=\"colab-df-container\">\n",
              "      <div>\n",
              "<style scoped>\n",
              "    .dataframe tbody tr th:only-of-type {\n",
              "        vertical-align: middle;\n",
              "    }\n",
              "\n",
              "    .dataframe tbody tr th {\n",
              "        vertical-align: top;\n",
              "    }\n",
              "\n",
              "    .dataframe thead th {\n",
              "        text-align: right;\n",
              "    }\n",
              "</style>\n",
              "<table border=\"1\" class=\"dataframe\">\n",
              "  <thead>\n",
              "    <tr style=\"text-align: right;\">\n",
              "      <th></th>\n",
              "      <th>num_passengers</th>\n",
              "      <th>sales_channel</th>\n",
              "      <th>trip_type</th>\n",
              "      <th>purchase_lead</th>\n",
              "      <th>length_of_stay</th>\n",
              "      <th>flight_hour</th>\n",
              "      <th>flight_day</th>\n",
              "      <th>booking_origin</th>\n",
              "      <th>wants_extra_baggage</th>\n",
              "      <th>wants_preferred_seat</th>\n",
              "      <th>wants_in_flight_meals</th>\n",
              "      <th>flight_duration</th>\n",
              "      <th>booking_complete_x</th>\n",
              "      <th>booking_complete_y</th>\n",
              "    </tr>\n",
              "  </thead>\n",
              "  <tbody>\n",
              "    <tr>\n",
              "      <th>34434</th>\n",
              "      <td>1</td>\n",
              "      <td>1</td>\n",
              "      <td>1</td>\n",
              "      <td>7</td>\n",
              "      <td>4</td>\n",
              "      <td>15</td>\n",
              "      <td>3</td>\n",
              "      <td>Taiwan</td>\n",
              "      <td>0</td>\n",
              "      <td>0</td>\n",
              "      <td>0</td>\n",
              "      <td>4.67</td>\n",
              "      <td>0</td>\n",
              "      <td>0.433983</td>\n",
              "    </tr>\n",
              "    <tr>\n",
              "      <th>38559</th>\n",
              "      <td>1</td>\n",
              "      <td>1</td>\n",
              "      <td>1</td>\n",
              "      <td>6</td>\n",
              "      <td>5</td>\n",
              "      <td>12</td>\n",
              "      <td>2</td>\n",
              "      <td>Australia</td>\n",
              "      <td>1</td>\n",
              "      <td>1</td>\n",
              "      <td>1</td>\n",
              "      <td>8.58</td>\n",
              "      <td>0</td>\n",
              "      <td>0.034682</td>\n",
              "    </tr>\n",
              "    <tr>\n",
              "      <th>9237</th>\n",
              "      <td>1</td>\n",
              "      <td>1</td>\n",
              "      <td>1</td>\n",
              "      <td>4</td>\n",
              "      <td>53</td>\n",
              "      <td>6</td>\n",
              "      <td>4</td>\n",
              "      <td>Australia</td>\n",
              "      <td>1</td>\n",
              "      <td>0</td>\n",
              "      <td>1</td>\n",
              "      <td>8.83</td>\n",
              "      <td>0</td>\n",
              "      <td>0.061069</td>\n",
              "    </tr>\n",
              "    <tr>\n",
              "      <th>39627</th>\n",
              "      <td>6</td>\n",
              "      <td>2</td>\n",
              "      <td>1</td>\n",
              "      <td>85</td>\n",
              "      <td>5</td>\n",
              "      <td>7</td>\n",
              "      <td>1</td>\n",
              "      <td>Indonesia</td>\n",
              "      <td>0</td>\n",
              "      <td>0</td>\n",
              "      <td>0</td>\n",
              "      <td>6.62</td>\n",
              "      <td>0</td>\n",
              "      <td>0.127273</td>\n",
              "    </tr>\n",
              "    <tr>\n",
              "      <th>27763</th>\n",
              "      <td>1</td>\n",
              "      <td>2</td>\n",
              "      <td>1</td>\n",
              "      <td>3</td>\n",
              "      <td>3</td>\n",
              "      <td>1</td>\n",
              "      <td>4</td>\n",
              "      <td>Malaysia</td>\n",
              "      <td>0</td>\n",
              "      <td>1</td>\n",
              "      <td>0</td>\n",
              "      <td>7.57</td>\n",
              "      <td>0</td>\n",
              "      <td>0.221719</td>\n",
              "    </tr>\n",
              "  </tbody>\n",
              "</table>\n",
              "</div>\n",
              "      <button class=\"colab-df-convert\" onclick=\"convertToInteractive('df-f2df74ac-28bc-4f39-948a-d31b75f70692')\"\n",
              "              title=\"Convert this dataframe to an interactive table.\"\n",
              "              style=\"display:none;\">\n",
              "        \n",
              "  <svg xmlns=\"http://www.w3.org/2000/svg\" height=\"24px\"viewBox=\"0 0 24 24\"\n",
              "       width=\"24px\">\n",
              "    <path d=\"M0 0h24v24H0V0z\" fill=\"none\"/>\n",
              "    <path d=\"M18.56 5.44l.94 2.06.94-2.06 2.06-.94-2.06-.94-.94-2.06-.94 2.06-2.06.94zm-11 1L8.5 8.5l.94-2.06 2.06-.94-2.06-.94L8.5 2.5l-.94 2.06-2.06.94zm10 10l.94 2.06.94-2.06 2.06-.94-2.06-.94-.94-2.06-.94 2.06-2.06.94z\"/><path d=\"M17.41 7.96l-1.37-1.37c-.4-.4-.92-.59-1.43-.59-.52 0-1.04.2-1.43.59L10.3 9.45l-7.72 7.72c-.78.78-.78 2.05 0 2.83L4 21.41c.39.39.9.59 1.41.59.51 0 1.02-.2 1.41-.59l7.78-7.78 2.81-2.81c.8-.78.8-2.07 0-2.86zM5.41 20L4 18.59l7.72-7.72 1.47 1.35L5.41 20z\"/>\n",
              "  </svg>\n",
              "      </button>\n",
              "      \n",
              "  <style>\n",
              "    .colab-df-container {\n",
              "      display:flex;\n",
              "      flex-wrap:wrap;\n",
              "      gap: 12px;\n",
              "    }\n",
              "\n",
              "    .colab-df-convert {\n",
              "      background-color: #E8F0FE;\n",
              "      border: none;\n",
              "      border-radius: 50%;\n",
              "      cursor: pointer;\n",
              "      display: none;\n",
              "      fill: #1967D2;\n",
              "      height: 32px;\n",
              "      padding: 0 0 0 0;\n",
              "      width: 32px;\n",
              "    }\n",
              "\n",
              "    .colab-df-convert:hover {\n",
              "      background-color: #E2EBFA;\n",
              "      box-shadow: 0px 1px 2px rgba(60, 64, 67, 0.3), 0px 1px 3px 1px rgba(60, 64, 67, 0.15);\n",
              "      fill: #174EA6;\n",
              "    }\n",
              "\n",
              "    [theme=dark] .colab-df-convert {\n",
              "      background-color: #3B4455;\n",
              "      fill: #D2E3FC;\n",
              "    }\n",
              "\n",
              "    [theme=dark] .colab-df-convert:hover {\n",
              "      background-color: #434B5C;\n",
              "      box-shadow: 0px 1px 3px 1px rgba(0, 0, 0, 0.15);\n",
              "      filter: drop-shadow(0px 1px 2px rgba(0, 0, 0, 0.3));\n",
              "      fill: #FFFFFF;\n",
              "    }\n",
              "  </style>\n",
              "\n",
              "      <script>\n",
              "        const buttonEl =\n",
              "          document.querySelector('#df-f2df74ac-28bc-4f39-948a-d31b75f70692 button.colab-df-convert');\n",
              "        buttonEl.style.display =\n",
              "          google.colab.kernel.accessAllowed ? 'block' : 'none';\n",
              "\n",
              "        async function convertToInteractive(key) {\n",
              "          const element = document.querySelector('#df-f2df74ac-28bc-4f39-948a-d31b75f70692');\n",
              "          const dataTable =\n",
              "            await google.colab.kernel.invokeFunction('convertToInteractive',\n",
              "                                                     [key], {});\n",
              "          if (!dataTable) return;\n",
              "\n",
              "          const docLinkHtml = 'Like what you see? Visit the ' +\n",
              "            '<a target=\"_blank\" href=https://colab.research.google.com/notebooks/data_table.ipynb>data table notebook</a>'\n",
              "            + ' to learn more about interactive tables.';\n",
              "          element.innerHTML = '';\n",
              "          dataTable['output_type'] = 'display_data';\n",
              "          await google.colab.output.renderOutput(dataTable, element);\n",
              "          const docLink = document.createElement('div');\n",
              "          docLink.innerHTML = docLinkHtml;\n",
              "          element.appendChild(docLink);\n",
              "        }\n",
              "      </script>\n",
              "    </div>\n",
              "  </div>\n",
              "  "
            ]
          },
          "metadata": {},
          "execution_count": 68
        }
      ]
    },
    {
      "cell_type": "code",
      "source": [
        "df = df.rename(columns={\"booking_complete_y\": \"route\", \"booking_complete_x\": \"booking_complete\"})"
      ],
      "metadata": {
        "id": "gwatnqLsKS79"
      },
      "execution_count": null,
      "outputs": []
    },
    {
      "cell_type": "code",
      "source": [
        "df.route.value_counts()"
      ],
      "metadata": {
        "colab": {
          "base_uri": "https://localhost:8080/"
        },
        "id": "j1LtE_TnyHa3",
        "outputId": "24c5619a-cd9b-42df-d899-ed2aa69c884d"
      },
      "execution_count": null,
      "outputs": [
        {
          "output_type": "execute_result",
          "data": {
            "text/plain": [
              "0.000000    2725\n",
              "0.211567    2680\n",
              "0.433983     924\n",
              "0.051069     842\n",
              "0.021739     828\n",
              "            ... \n",
              "0.444444       9\n",
              "0.750000       8\n",
              "0.833333       6\n",
              "0.800000       5\n",
              "0.600000       5\n",
              "Name: route, Length: 301, dtype: int64"
            ]
          },
          "metadata": {},
          "execution_count": 74
        }
      ]
    },
    {
      "cell_type": "code",
      "source": [],
      "metadata": {
        "id": "uUyqIznVK0ER"
      },
      "execution_count": null,
      "outputs": []
    },
    {
      "cell_type": "markdown",
      "source": [
        "### converting booking_origin feature"
      ],
      "metadata": {
        "id": "ZiIPtRCSKuOC"
      }
    },
    {
      "cell_type": "code",
      "source": [
        "df.booking_origin.value_counts()"
      ],
      "metadata": {
        "colab": {
          "base_uri": "https://localhost:8080/"
        },
        "id": "6OPoDIH7KuUD",
        "outputId": "f65d3848-3c98-44b8-cd4a-01466f66cb97"
      },
      "execution_count": null,
      "outputs": [
        {
          "output_type": "execute_result",
          "data": {
            "text/plain": [
              "Australia               17872\n",
              "Malaysia                 7174\n",
              "South Korea              4559\n",
              "Japan                    3885\n",
              "China                    3387\n",
              "                        ...  \n",
              "Panama                      1\n",
              "Tonga                       1\n",
              "Tanzania                    1\n",
              "Bulgaria                    1\n",
              "Svalbard & Jan Mayen        1\n",
              "Name: booking_origin, Length: 104, dtype: int64"
            ]
          },
          "metadata": {},
          "execution_count": 77
        }
      ]
    },
    {
      "cell_type": "code",
      "source": [
        "encodings = df.groupby('booking_origin')['booking_complete'].mean().reset_index()\n",
        "df = df.merge(encodings, how='left', on='booking_origin')\n",
        "df.drop('booking_origin', axis=1, inplace=True)"
      ],
      "metadata": {
        "id": "4W2HiVkZKuWl"
      },
      "execution_count": null,
      "outputs": []
    },
    {
      "cell_type": "code",
      "source": [
        "df.head()"
      ],
      "metadata": {
        "colab": {
          "base_uri": "https://localhost:8080/",
          "height": 270
        },
        "id": "0TaW7QlUKuY_",
        "outputId": "9787e1b7-5d55-48c3-cc1a-e3f2d10f6deb"
      },
      "execution_count": null,
      "outputs": [
        {
          "output_type": "execute_result",
          "data": {
            "text/plain": [
              "   num_passengers  sales_channel  trip_type  purchase_lead  length_of_stay  \\\n",
              "0               2              1          1            262              19   \n",
              "1               1              1          1            112              20   \n",
              "2               2              1          1            243              22   \n",
              "3               1              1          1             96              31   \n",
              "4               2              1          1             68              22   \n",
              "\n",
              "   flight_hour  flight_day  wants_extra_baggage  wants_preferred_seat  \\\n",
              "0            7           6                    1                     0   \n",
              "1            3           6                    0                     0   \n",
              "2           17           3                    1                     1   \n",
              "3            4           6                    0                     0   \n",
              "4           15           3                    1                     0   \n",
              "\n",
              "   wants_in_flight_meals  flight_duration  booking_complete  route  \\\n",
              "0                      0             5.52                 0    0.0   \n",
              "1                      0             5.52                 0    0.0   \n",
              "2                      0             5.52                 0    0.0   \n",
              "3                      1             5.52                 0    0.0   \n",
              "4                      1             5.52                 0    0.0   \n",
              "\n",
              "   booking_origin  \n",
              "0        0.050279  \n",
              "1        0.050279  \n",
              "2        0.103150  \n",
              "3        0.050279  \n",
              "4        0.103150  "
            ],
            "text/html": [
              "\n",
              "  <div id=\"df-bb869b0f-21e8-402e-bbfb-adfd9b43294e\">\n",
              "    <div class=\"colab-df-container\">\n",
              "      <div>\n",
              "<style scoped>\n",
              "    .dataframe tbody tr th:only-of-type {\n",
              "        vertical-align: middle;\n",
              "    }\n",
              "\n",
              "    .dataframe tbody tr th {\n",
              "        vertical-align: top;\n",
              "    }\n",
              "\n",
              "    .dataframe thead th {\n",
              "        text-align: right;\n",
              "    }\n",
              "</style>\n",
              "<table border=\"1\" class=\"dataframe\">\n",
              "  <thead>\n",
              "    <tr style=\"text-align: right;\">\n",
              "      <th></th>\n",
              "      <th>num_passengers</th>\n",
              "      <th>sales_channel</th>\n",
              "      <th>trip_type</th>\n",
              "      <th>purchase_lead</th>\n",
              "      <th>length_of_stay</th>\n",
              "      <th>flight_hour</th>\n",
              "      <th>flight_day</th>\n",
              "      <th>wants_extra_baggage</th>\n",
              "      <th>wants_preferred_seat</th>\n",
              "      <th>wants_in_flight_meals</th>\n",
              "      <th>flight_duration</th>\n",
              "      <th>booking_complete</th>\n",
              "      <th>route</th>\n",
              "      <th>booking_origin</th>\n",
              "    </tr>\n",
              "  </thead>\n",
              "  <tbody>\n",
              "    <tr>\n",
              "      <th>0</th>\n",
              "      <td>2</td>\n",
              "      <td>1</td>\n",
              "      <td>1</td>\n",
              "      <td>262</td>\n",
              "      <td>19</td>\n",
              "      <td>7</td>\n",
              "      <td>6</td>\n",
              "      <td>1</td>\n",
              "      <td>0</td>\n",
              "      <td>0</td>\n",
              "      <td>5.52</td>\n",
              "      <td>0</td>\n",
              "      <td>0.0</td>\n",
              "      <td>0.050279</td>\n",
              "    </tr>\n",
              "    <tr>\n",
              "      <th>1</th>\n",
              "      <td>1</td>\n",
              "      <td>1</td>\n",
              "      <td>1</td>\n",
              "      <td>112</td>\n",
              "      <td>20</td>\n",
              "      <td>3</td>\n",
              "      <td>6</td>\n",
              "      <td>0</td>\n",
              "      <td>0</td>\n",
              "      <td>0</td>\n",
              "      <td>5.52</td>\n",
              "      <td>0</td>\n",
              "      <td>0.0</td>\n",
              "      <td>0.050279</td>\n",
              "    </tr>\n",
              "    <tr>\n",
              "      <th>2</th>\n",
              "      <td>2</td>\n",
              "      <td>1</td>\n",
              "      <td>1</td>\n",
              "      <td>243</td>\n",
              "      <td>22</td>\n",
              "      <td>17</td>\n",
              "      <td>3</td>\n",
              "      <td>1</td>\n",
              "      <td>1</td>\n",
              "      <td>0</td>\n",
              "      <td>5.52</td>\n",
              "      <td>0</td>\n",
              "      <td>0.0</td>\n",
              "      <td>0.103150</td>\n",
              "    </tr>\n",
              "    <tr>\n",
              "      <th>3</th>\n",
              "      <td>1</td>\n",
              "      <td>1</td>\n",
              "      <td>1</td>\n",
              "      <td>96</td>\n",
              "      <td>31</td>\n",
              "      <td>4</td>\n",
              "      <td>6</td>\n",
              "      <td>0</td>\n",
              "      <td>0</td>\n",
              "      <td>1</td>\n",
              "      <td>5.52</td>\n",
              "      <td>0</td>\n",
              "      <td>0.0</td>\n",
              "      <td>0.050279</td>\n",
              "    </tr>\n",
              "    <tr>\n",
              "      <th>4</th>\n",
              "      <td>2</td>\n",
              "      <td>1</td>\n",
              "      <td>1</td>\n",
              "      <td>68</td>\n",
              "      <td>22</td>\n",
              "      <td>15</td>\n",
              "      <td>3</td>\n",
              "      <td>1</td>\n",
              "      <td>0</td>\n",
              "      <td>1</td>\n",
              "      <td>5.52</td>\n",
              "      <td>0</td>\n",
              "      <td>0.0</td>\n",
              "      <td>0.103150</td>\n",
              "    </tr>\n",
              "  </tbody>\n",
              "</table>\n",
              "</div>\n",
              "      <button class=\"colab-df-convert\" onclick=\"convertToInteractive('df-bb869b0f-21e8-402e-bbfb-adfd9b43294e')\"\n",
              "              title=\"Convert this dataframe to an interactive table.\"\n",
              "              style=\"display:none;\">\n",
              "        \n",
              "  <svg xmlns=\"http://www.w3.org/2000/svg\" height=\"24px\"viewBox=\"0 0 24 24\"\n",
              "       width=\"24px\">\n",
              "    <path d=\"M0 0h24v24H0V0z\" fill=\"none\"/>\n",
              "    <path d=\"M18.56 5.44l.94 2.06.94-2.06 2.06-.94-2.06-.94-.94-2.06-.94 2.06-2.06.94zm-11 1L8.5 8.5l.94-2.06 2.06-.94-2.06-.94L8.5 2.5l-.94 2.06-2.06.94zm10 10l.94 2.06.94-2.06 2.06-.94-2.06-.94-.94-2.06-.94 2.06-2.06.94z\"/><path d=\"M17.41 7.96l-1.37-1.37c-.4-.4-.92-.59-1.43-.59-.52 0-1.04.2-1.43.59L10.3 9.45l-7.72 7.72c-.78.78-.78 2.05 0 2.83L4 21.41c.39.39.9.59 1.41.59.51 0 1.02-.2 1.41-.59l7.78-7.78 2.81-2.81c.8-.78.8-2.07 0-2.86zM5.41 20L4 18.59l7.72-7.72 1.47 1.35L5.41 20z\"/>\n",
              "  </svg>\n",
              "      </button>\n",
              "      \n",
              "  <style>\n",
              "    .colab-df-container {\n",
              "      display:flex;\n",
              "      flex-wrap:wrap;\n",
              "      gap: 12px;\n",
              "    }\n",
              "\n",
              "    .colab-df-convert {\n",
              "      background-color: #E8F0FE;\n",
              "      border: none;\n",
              "      border-radius: 50%;\n",
              "      cursor: pointer;\n",
              "      display: none;\n",
              "      fill: #1967D2;\n",
              "      height: 32px;\n",
              "      padding: 0 0 0 0;\n",
              "      width: 32px;\n",
              "    }\n",
              "\n",
              "    .colab-df-convert:hover {\n",
              "      background-color: #E2EBFA;\n",
              "      box-shadow: 0px 1px 2px rgba(60, 64, 67, 0.3), 0px 1px 3px 1px rgba(60, 64, 67, 0.15);\n",
              "      fill: #174EA6;\n",
              "    }\n",
              "\n",
              "    [theme=dark] .colab-df-convert {\n",
              "      background-color: #3B4455;\n",
              "      fill: #D2E3FC;\n",
              "    }\n",
              "\n",
              "    [theme=dark] .colab-df-convert:hover {\n",
              "      background-color: #434B5C;\n",
              "      box-shadow: 0px 1px 3px 1px rgba(0, 0, 0, 0.15);\n",
              "      filter: drop-shadow(0px 1px 2px rgba(0, 0, 0, 0.3));\n",
              "      fill: #FFFFFF;\n",
              "    }\n",
              "  </style>\n",
              "\n",
              "      <script>\n",
              "        const buttonEl =\n",
              "          document.querySelector('#df-bb869b0f-21e8-402e-bbfb-adfd9b43294e button.colab-df-convert');\n",
              "        buttonEl.style.display =\n",
              "          google.colab.kernel.accessAllowed ? 'block' : 'none';\n",
              "\n",
              "        async function convertToInteractive(key) {\n",
              "          const element = document.querySelector('#df-bb869b0f-21e8-402e-bbfb-adfd9b43294e');\n",
              "          const dataTable =\n",
              "            await google.colab.kernel.invokeFunction('convertToInteractive',\n",
              "                                                     [key], {});\n",
              "          if (!dataTable) return;\n",
              "\n",
              "          const docLinkHtml = 'Like what you see? Visit the ' +\n",
              "            '<a target=\"_blank\" href=https://colab.research.google.com/notebooks/data_table.ipynb>data table notebook</a>'\n",
              "            + ' to learn more about interactive tables.';\n",
              "          element.innerHTML = '';\n",
              "          dataTable['output_type'] = 'display_data';\n",
              "          await google.colab.output.renderOutput(dataTable, element);\n",
              "          const docLink = document.createElement('div');\n",
              "          docLink.innerHTML = docLinkHtml;\n",
              "          element.appendChild(docLink);\n",
              "        }\n",
              "      </script>\n",
              "    </div>\n",
              "  </div>\n",
              "  "
            ]
          },
          "metadata": {},
          "execution_count": 84
        }
      ]
    },
    {
      "cell_type": "code",
      "source": [
        "df = df.rename(columns={\"booking_complete_y\": \"booking_origin\", \"booking_complete_x\": \"booking_complete\"})"
      ],
      "metadata": {
        "id": "OuYdUZHkKusd"
      },
      "execution_count": null,
      "outputs": []
    },
    {
      "cell_type": "code",
      "source": [
        "df.head()"
      ],
      "metadata": {
        "colab": {
          "base_uri": "https://localhost:8080/",
          "height": 270
        },
        "id": "T4pSYkv2KuxC",
        "outputId": "fd92915a-28cf-47ac-cc59-d6f64cdf0588"
      },
      "execution_count": null,
      "outputs": [
        {
          "output_type": "execute_result",
          "data": {
            "text/plain": [
              "   num_passengers  sales_channel  trip_type  purchase_lead  length_of_stay  \\\n",
              "0               2              1          1            262              19   \n",
              "1               1              1          1            112              20   \n",
              "2               2              1          1            243              22   \n",
              "3               1              1          1             96              31   \n",
              "4               2              1          1             68              22   \n",
              "\n",
              "   flight_hour  flight_day  wants_extra_baggage  wants_preferred_seat  \\\n",
              "0            7           6                    1                     0   \n",
              "1            3           6                    0                     0   \n",
              "2           17           3                    1                     1   \n",
              "3            4           6                    0                     0   \n",
              "4           15           3                    1                     0   \n",
              "\n",
              "   wants_in_flight_meals  flight_duration  booking_complete  route  \\\n",
              "0                      0             5.52                 0    0.0   \n",
              "1                      0             5.52                 0    0.0   \n",
              "2                      0             5.52                 0    0.0   \n",
              "3                      1             5.52                 0    0.0   \n",
              "4                      1             5.52                 0    0.0   \n",
              "\n",
              "   booking_origin  \n",
              "0        0.050279  \n",
              "1        0.050279  \n",
              "2        0.103150  \n",
              "3        0.050279  \n",
              "4        0.103150  "
            ],
            "text/html": [
              "\n",
              "  <div id=\"df-bb042d41-6bc5-43a4-93fc-3f9f46f96159\">\n",
              "    <div class=\"colab-df-container\">\n",
              "      <div>\n",
              "<style scoped>\n",
              "    .dataframe tbody tr th:only-of-type {\n",
              "        vertical-align: middle;\n",
              "    }\n",
              "\n",
              "    .dataframe tbody tr th {\n",
              "        vertical-align: top;\n",
              "    }\n",
              "\n",
              "    .dataframe thead th {\n",
              "        text-align: right;\n",
              "    }\n",
              "</style>\n",
              "<table border=\"1\" class=\"dataframe\">\n",
              "  <thead>\n",
              "    <tr style=\"text-align: right;\">\n",
              "      <th></th>\n",
              "      <th>num_passengers</th>\n",
              "      <th>sales_channel</th>\n",
              "      <th>trip_type</th>\n",
              "      <th>purchase_lead</th>\n",
              "      <th>length_of_stay</th>\n",
              "      <th>flight_hour</th>\n",
              "      <th>flight_day</th>\n",
              "      <th>wants_extra_baggage</th>\n",
              "      <th>wants_preferred_seat</th>\n",
              "      <th>wants_in_flight_meals</th>\n",
              "      <th>flight_duration</th>\n",
              "      <th>booking_complete</th>\n",
              "      <th>route</th>\n",
              "      <th>booking_origin</th>\n",
              "    </tr>\n",
              "  </thead>\n",
              "  <tbody>\n",
              "    <tr>\n",
              "      <th>0</th>\n",
              "      <td>2</td>\n",
              "      <td>1</td>\n",
              "      <td>1</td>\n",
              "      <td>262</td>\n",
              "      <td>19</td>\n",
              "      <td>7</td>\n",
              "      <td>6</td>\n",
              "      <td>1</td>\n",
              "      <td>0</td>\n",
              "      <td>0</td>\n",
              "      <td>5.52</td>\n",
              "      <td>0</td>\n",
              "      <td>0.0</td>\n",
              "      <td>0.050279</td>\n",
              "    </tr>\n",
              "    <tr>\n",
              "      <th>1</th>\n",
              "      <td>1</td>\n",
              "      <td>1</td>\n",
              "      <td>1</td>\n",
              "      <td>112</td>\n",
              "      <td>20</td>\n",
              "      <td>3</td>\n",
              "      <td>6</td>\n",
              "      <td>0</td>\n",
              "      <td>0</td>\n",
              "      <td>0</td>\n",
              "      <td>5.52</td>\n",
              "      <td>0</td>\n",
              "      <td>0.0</td>\n",
              "      <td>0.050279</td>\n",
              "    </tr>\n",
              "    <tr>\n",
              "      <th>2</th>\n",
              "      <td>2</td>\n",
              "      <td>1</td>\n",
              "      <td>1</td>\n",
              "      <td>243</td>\n",
              "      <td>22</td>\n",
              "      <td>17</td>\n",
              "      <td>3</td>\n",
              "      <td>1</td>\n",
              "      <td>1</td>\n",
              "      <td>0</td>\n",
              "      <td>5.52</td>\n",
              "      <td>0</td>\n",
              "      <td>0.0</td>\n",
              "      <td>0.103150</td>\n",
              "    </tr>\n",
              "    <tr>\n",
              "      <th>3</th>\n",
              "      <td>1</td>\n",
              "      <td>1</td>\n",
              "      <td>1</td>\n",
              "      <td>96</td>\n",
              "      <td>31</td>\n",
              "      <td>4</td>\n",
              "      <td>6</td>\n",
              "      <td>0</td>\n",
              "      <td>0</td>\n",
              "      <td>1</td>\n",
              "      <td>5.52</td>\n",
              "      <td>0</td>\n",
              "      <td>0.0</td>\n",
              "      <td>0.050279</td>\n",
              "    </tr>\n",
              "    <tr>\n",
              "      <th>4</th>\n",
              "      <td>2</td>\n",
              "      <td>1</td>\n",
              "      <td>1</td>\n",
              "      <td>68</td>\n",
              "      <td>22</td>\n",
              "      <td>15</td>\n",
              "      <td>3</td>\n",
              "      <td>1</td>\n",
              "      <td>0</td>\n",
              "      <td>1</td>\n",
              "      <td>5.52</td>\n",
              "      <td>0</td>\n",
              "      <td>0.0</td>\n",
              "      <td>0.103150</td>\n",
              "    </tr>\n",
              "  </tbody>\n",
              "</table>\n",
              "</div>\n",
              "      <button class=\"colab-df-convert\" onclick=\"convertToInteractive('df-bb042d41-6bc5-43a4-93fc-3f9f46f96159')\"\n",
              "              title=\"Convert this dataframe to an interactive table.\"\n",
              "              style=\"display:none;\">\n",
              "        \n",
              "  <svg xmlns=\"http://www.w3.org/2000/svg\" height=\"24px\"viewBox=\"0 0 24 24\"\n",
              "       width=\"24px\">\n",
              "    <path d=\"M0 0h24v24H0V0z\" fill=\"none\"/>\n",
              "    <path d=\"M18.56 5.44l.94 2.06.94-2.06 2.06-.94-2.06-.94-.94-2.06-.94 2.06-2.06.94zm-11 1L8.5 8.5l.94-2.06 2.06-.94-2.06-.94L8.5 2.5l-.94 2.06-2.06.94zm10 10l.94 2.06.94-2.06 2.06-.94-2.06-.94-.94-2.06-.94 2.06-2.06.94z\"/><path d=\"M17.41 7.96l-1.37-1.37c-.4-.4-.92-.59-1.43-.59-.52 0-1.04.2-1.43.59L10.3 9.45l-7.72 7.72c-.78.78-.78 2.05 0 2.83L4 21.41c.39.39.9.59 1.41.59.51 0 1.02-.2 1.41-.59l7.78-7.78 2.81-2.81c.8-.78.8-2.07 0-2.86zM5.41 20L4 18.59l7.72-7.72 1.47 1.35L5.41 20z\"/>\n",
              "  </svg>\n",
              "      </button>\n",
              "      \n",
              "  <style>\n",
              "    .colab-df-container {\n",
              "      display:flex;\n",
              "      flex-wrap:wrap;\n",
              "      gap: 12px;\n",
              "    }\n",
              "\n",
              "    .colab-df-convert {\n",
              "      background-color: #E8F0FE;\n",
              "      border: none;\n",
              "      border-radius: 50%;\n",
              "      cursor: pointer;\n",
              "      display: none;\n",
              "      fill: #1967D2;\n",
              "      height: 32px;\n",
              "      padding: 0 0 0 0;\n",
              "      width: 32px;\n",
              "    }\n",
              "\n",
              "    .colab-df-convert:hover {\n",
              "      background-color: #E2EBFA;\n",
              "      box-shadow: 0px 1px 2px rgba(60, 64, 67, 0.3), 0px 1px 3px 1px rgba(60, 64, 67, 0.15);\n",
              "      fill: #174EA6;\n",
              "    }\n",
              "\n",
              "    [theme=dark] .colab-df-convert {\n",
              "      background-color: #3B4455;\n",
              "      fill: #D2E3FC;\n",
              "    }\n",
              "\n",
              "    [theme=dark] .colab-df-convert:hover {\n",
              "      background-color: #434B5C;\n",
              "      box-shadow: 0px 1px 3px 1px rgba(0, 0, 0, 0.15);\n",
              "      filter: drop-shadow(0px 1px 2px rgba(0, 0, 0, 0.3));\n",
              "      fill: #FFFFFF;\n",
              "    }\n",
              "  </style>\n",
              "\n",
              "      <script>\n",
              "        const buttonEl =\n",
              "          document.querySelector('#df-bb042d41-6bc5-43a4-93fc-3f9f46f96159 button.colab-df-convert');\n",
              "        buttonEl.style.display =\n",
              "          google.colab.kernel.accessAllowed ? 'block' : 'none';\n",
              "\n",
              "        async function convertToInteractive(key) {\n",
              "          const element = document.querySelector('#df-bb042d41-6bc5-43a4-93fc-3f9f46f96159');\n",
              "          const dataTable =\n",
              "            await google.colab.kernel.invokeFunction('convertToInteractive',\n",
              "                                                     [key], {});\n",
              "          if (!dataTable) return;\n",
              "\n",
              "          const docLinkHtml = 'Like what you see? Visit the ' +\n",
              "            '<a target=\"_blank\" href=https://colab.research.google.com/notebooks/data_table.ipynb>data table notebook</a>'\n",
              "            + ' to learn more about interactive tables.';\n",
              "          element.innerHTML = '';\n",
              "          dataTable['output_type'] = 'display_data';\n",
              "          await google.colab.output.renderOutput(dataTable, element);\n",
              "          const docLink = document.createElement('div');\n",
              "          docLink.innerHTML = docLinkHtml;\n",
              "          element.appendChild(docLink);\n",
              "        }\n",
              "      </script>\n",
              "    </div>\n",
              "  </div>\n",
              "  "
            ]
          },
          "metadata": {},
          "execution_count": 83
        }
      ]
    },
    {
      "cell_type": "code",
      "source": [],
      "metadata": {
        "id": "pW37OV_6Kuzp"
      },
      "execution_count": null,
      "outputs": []
    },
    {
      "cell_type": "markdown",
      "source": [
        "# 3. Drop columns that aren't useful. (using Corrolation)"
      ],
      "metadata": {
        "id": "xewIArELMHh8"
      }
    },
    {
      "cell_type": "code",
      "source": [
        "df.columns"
      ],
      "metadata": {
        "colab": {
          "base_uri": "https://localhost:8080/"
        },
        "id": "qcAPZ5R2M7OA",
        "outputId": "46015db2-b094-46fd-bbe3-80348a98d9fe"
      },
      "execution_count": null,
      "outputs": [
        {
          "output_type": "execute_result",
          "data": {
            "text/plain": [
              "Index(['num_passengers', 'sales_channel', 'trip_type', 'purchase_lead',\n",
              "       'length_of_stay', 'flight_hour', 'flight_day', 'wants_extra_baggage',\n",
              "       'wants_preferred_seat', 'wants_in_flight_meals', 'flight_duration',\n",
              "       'booking_complete', 'route', 'booking_origin'],\n",
              "      dtype='object')"
            ]
          },
          "metadata": {},
          "execution_count": 89
        }
      ]
    },
    {
      "cell_type": "code",
      "source": [
        "df = df[['num_passengers', 'sales_channel', 'trip_type', 'purchase_lead',\n",
        "       'length_of_stay', 'flight_hour', 'flight_day', 'wants_extra_baggage',\n",
        "       'wants_preferred_seat', 'wants_in_flight_meals', 'flight_duration',\n",
        "        'route', 'booking_origin', 'booking_complete']]"
      ],
      "metadata": {
        "id": "X1tX28brM7Ue"
      },
      "execution_count": null,
      "outputs": []
    },
    {
      "cell_type": "code",
      "source": [
        "df.head()"
      ],
      "metadata": {
        "colab": {
          "base_uri": "https://localhost:8080/",
          "height": 270
        },
        "id": "2q3FSCQXNOns",
        "outputId": "4fdf14be-206f-46db-88bf-09e7b63dbd04"
      },
      "execution_count": null,
      "outputs": [
        {
          "output_type": "execute_result",
          "data": {
            "text/plain": [
              "   num_passengers  sales_channel  trip_type  purchase_lead  length_of_stay  \\\n",
              "0               2              1          1            262              19   \n",
              "1               1              1          1            112              20   \n",
              "2               2              1          1            243              22   \n",
              "3               1              1          1             96              31   \n",
              "4               2              1          1             68              22   \n",
              "\n",
              "   flight_hour  flight_day  wants_extra_baggage  wants_preferred_seat  \\\n",
              "0            7           6                    1                     0   \n",
              "1            3           6                    0                     0   \n",
              "2           17           3                    1                     1   \n",
              "3            4           6                    0                     0   \n",
              "4           15           3                    1                     0   \n",
              "\n",
              "   wants_in_flight_meals  flight_duration  route  booking_origin  \\\n",
              "0                      0             5.52    0.0        0.050279   \n",
              "1                      0             5.52    0.0        0.050279   \n",
              "2                      0             5.52    0.0        0.103150   \n",
              "3                      1             5.52    0.0        0.050279   \n",
              "4                      1             5.52    0.0        0.103150   \n",
              "\n",
              "   booking_complete  \n",
              "0                 0  \n",
              "1                 0  \n",
              "2                 0  \n",
              "3                 0  \n",
              "4                 0  "
            ],
            "text/html": [
              "\n",
              "  <div id=\"df-5cc61212-abf9-4e15-b69e-68b5db14064e\">\n",
              "    <div class=\"colab-df-container\">\n",
              "      <div>\n",
              "<style scoped>\n",
              "    .dataframe tbody tr th:only-of-type {\n",
              "        vertical-align: middle;\n",
              "    }\n",
              "\n",
              "    .dataframe tbody tr th {\n",
              "        vertical-align: top;\n",
              "    }\n",
              "\n",
              "    .dataframe thead th {\n",
              "        text-align: right;\n",
              "    }\n",
              "</style>\n",
              "<table border=\"1\" class=\"dataframe\">\n",
              "  <thead>\n",
              "    <tr style=\"text-align: right;\">\n",
              "      <th></th>\n",
              "      <th>num_passengers</th>\n",
              "      <th>sales_channel</th>\n",
              "      <th>trip_type</th>\n",
              "      <th>purchase_lead</th>\n",
              "      <th>length_of_stay</th>\n",
              "      <th>flight_hour</th>\n",
              "      <th>flight_day</th>\n",
              "      <th>wants_extra_baggage</th>\n",
              "      <th>wants_preferred_seat</th>\n",
              "      <th>wants_in_flight_meals</th>\n",
              "      <th>flight_duration</th>\n",
              "      <th>route</th>\n",
              "      <th>booking_origin</th>\n",
              "      <th>booking_complete</th>\n",
              "    </tr>\n",
              "  </thead>\n",
              "  <tbody>\n",
              "    <tr>\n",
              "      <th>0</th>\n",
              "      <td>2</td>\n",
              "      <td>1</td>\n",
              "      <td>1</td>\n",
              "      <td>262</td>\n",
              "      <td>19</td>\n",
              "      <td>7</td>\n",
              "      <td>6</td>\n",
              "      <td>1</td>\n",
              "      <td>0</td>\n",
              "      <td>0</td>\n",
              "      <td>5.52</td>\n",
              "      <td>0.0</td>\n",
              "      <td>0.050279</td>\n",
              "      <td>0</td>\n",
              "    </tr>\n",
              "    <tr>\n",
              "      <th>1</th>\n",
              "      <td>1</td>\n",
              "      <td>1</td>\n",
              "      <td>1</td>\n",
              "      <td>112</td>\n",
              "      <td>20</td>\n",
              "      <td>3</td>\n",
              "      <td>6</td>\n",
              "      <td>0</td>\n",
              "      <td>0</td>\n",
              "      <td>0</td>\n",
              "      <td>5.52</td>\n",
              "      <td>0.0</td>\n",
              "      <td>0.050279</td>\n",
              "      <td>0</td>\n",
              "    </tr>\n",
              "    <tr>\n",
              "      <th>2</th>\n",
              "      <td>2</td>\n",
              "      <td>1</td>\n",
              "      <td>1</td>\n",
              "      <td>243</td>\n",
              "      <td>22</td>\n",
              "      <td>17</td>\n",
              "      <td>3</td>\n",
              "      <td>1</td>\n",
              "      <td>1</td>\n",
              "      <td>0</td>\n",
              "      <td>5.52</td>\n",
              "      <td>0.0</td>\n",
              "      <td>0.103150</td>\n",
              "      <td>0</td>\n",
              "    </tr>\n",
              "    <tr>\n",
              "      <th>3</th>\n",
              "      <td>1</td>\n",
              "      <td>1</td>\n",
              "      <td>1</td>\n",
              "      <td>96</td>\n",
              "      <td>31</td>\n",
              "      <td>4</td>\n",
              "      <td>6</td>\n",
              "      <td>0</td>\n",
              "      <td>0</td>\n",
              "      <td>1</td>\n",
              "      <td>5.52</td>\n",
              "      <td>0.0</td>\n",
              "      <td>0.050279</td>\n",
              "      <td>0</td>\n",
              "    </tr>\n",
              "    <tr>\n",
              "      <th>4</th>\n",
              "      <td>2</td>\n",
              "      <td>1</td>\n",
              "      <td>1</td>\n",
              "      <td>68</td>\n",
              "      <td>22</td>\n",
              "      <td>15</td>\n",
              "      <td>3</td>\n",
              "      <td>1</td>\n",
              "      <td>0</td>\n",
              "      <td>1</td>\n",
              "      <td>5.52</td>\n",
              "      <td>0.0</td>\n",
              "      <td>0.103150</td>\n",
              "      <td>0</td>\n",
              "    </tr>\n",
              "  </tbody>\n",
              "</table>\n",
              "</div>\n",
              "      <button class=\"colab-df-convert\" onclick=\"convertToInteractive('df-5cc61212-abf9-4e15-b69e-68b5db14064e')\"\n",
              "              title=\"Convert this dataframe to an interactive table.\"\n",
              "              style=\"display:none;\">\n",
              "        \n",
              "  <svg xmlns=\"http://www.w3.org/2000/svg\" height=\"24px\"viewBox=\"0 0 24 24\"\n",
              "       width=\"24px\">\n",
              "    <path d=\"M0 0h24v24H0V0z\" fill=\"none\"/>\n",
              "    <path d=\"M18.56 5.44l.94 2.06.94-2.06 2.06-.94-2.06-.94-.94-2.06-.94 2.06-2.06.94zm-11 1L8.5 8.5l.94-2.06 2.06-.94-2.06-.94L8.5 2.5l-.94 2.06-2.06.94zm10 10l.94 2.06.94-2.06 2.06-.94-2.06-.94-.94-2.06-.94 2.06-2.06.94z\"/><path d=\"M17.41 7.96l-1.37-1.37c-.4-.4-.92-.59-1.43-.59-.52 0-1.04.2-1.43.59L10.3 9.45l-7.72 7.72c-.78.78-.78 2.05 0 2.83L4 21.41c.39.39.9.59 1.41.59.51 0 1.02-.2 1.41-.59l7.78-7.78 2.81-2.81c.8-.78.8-2.07 0-2.86zM5.41 20L4 18.59l7.72-7.72 1.47 1.35L5.41 20z\"/>\n",
              "  </svg>\n",
              "      </button>\n",
              "      \n",
              "  <style>\n",
              "    .colab-df-container {\n",
              "      display:flex;\n",
              "      flex-wrap:wrap;\n",
              "      gap: 12px;\n",
              "    }\n",
              "\n",
              "    .colab-df-convert {\n",
              "      background-color: #E8F0FE;\n",
              "      border: none;\n",
              "      border-radius: 50%;\n",
              "      cursor: pointer;\n",
              "      display: none;\n",
              "      fill: #1967D2;\n",
              "      height: 32px;\n",
              "      padding: 0 0 0 0;\n",
              "      width: 32px;\n",
              "    }\n",
              "\n",
              "    .colab-df-convert:hover {\n",
              "      background-color: #E2EBFA;\n",
              "      box-shadow: 0px 1px 2px rgba(60, 64, 67, 0.3), 0px 1px 3px 1px rgba(60, 64, 67, 0.15);\n",
              "      fill: #174EA6;\n",
              "    }\n",
              "\n",
              "    [theme=dark] .colab-df-convert {\n",
              "      background-color: #3B4455;\n",
              "      fill: #D2E3FC;\n",
              "    }\n",
              "\n",
              "    [theme=dark] .colab-df-convert:hover {\n",
              "      background-color: #434B5C;\n",
              "      box-shadow: 0px 1px 3px 1px rgba(0, 0, 0, 0.15);\n",
              "      filter: drop-shadow(0px 1px 2px rgba(0, 0, 0, 0.3));\n",
              "      fill: #FFFFFF;\n",
              "    }\n",
              "  </style>\n",
              "\n",
              "      <script>\n",
              "        const buttonEl =\n",
              "          document.querySelector('#df-5cc61212-abf9-4e15-b69e-68b5db14064e button.colab-df-convert');\n",
              "        buttonEl.style.display =\n",
              "          google.colab.kernel.accessAllowed ? 'block' : 'none';\n",
              "\n",
              "        async function convertToInteractive(key) {\n",
              "          const element = document.querySelector('#df-5cc61212-abf9-4e15-b69e-68b5db14064e');\n",
              "          const dataTable =\n",
              "            await google.colab.kernel.invokeFunction('convertToInteractive',\n",
              "                                                     [key], {});\n",
              "          if (!dataTable) return;\n",
              "\n",
              "          const docLinkHtml = 'Like what you see? Visit the ' +\n",
              "            '<a target=\"_blank\" href=https://colab.research.google.com/notebooks/data_table.ipynb>data table notebook</a>'\n",
              "            + ' to learn more about interactive tables.';\n",
              "          element.innerHTML = '';\n",
              "          dataTable['output_type'] = 'display_data';\n",
              "          await google.colab.output.renderOutput(dataTable, element);\n",
              "          const docLink = document.createElement('div');\n",
              "          docLink.innerHTML = docLinkHtml;\n",
              "          element.appendChild(docLink);\n",
              "        }\n",
              "      </script>\n",
              "    </div>\n",
              "  </div>\n",
              "  "
            ]
          },
          "metadata": {},
          "execution_count": 92
        }
      ]
    },
    {
      "cell_type": "code",
      "source": [
        "corr = df.corr()\n",
        "corr.style.background_gradient(cmap='coolwarm')\n",
        "# 'RdBu_r', 'BrBG_r', & PuOr_r are other good diverging colormaps\n"
      ],
      "metadata": {
        "colab": {
          "base_uri": "https://localhost:8080/",
          "height": 508
        },
        "id": "rt2isUPSKu2u",
        "outputId": "0ab98336-536d-4f0d-f20e-a16dac594dfc"
      },
      "execution_count": null,
      "outputs": [
        {
          "output_type": "execute_result",
          "data": {
            "text/plain": [
              "<pandas.io.formats.style.Styler at 0x7f1000d52ca0>"
            ],
            "text/html": [
              "<style type=\"text/css\">\n",
              "#T_4d89d_row0_col0, #T_4d89d_row1_col1, #T_4d89d_row2_col2, #T_4d89d_row3_col3, #T_4d89d_row4_col4, #T_4d89d_row5_col5, #T_4d89d_row6_col6, #T_4d89d_row7_col7, #T_4d89d_row8_col8, #T_4d89d_row9_col9, #T_4d89d_row10_col10, #T_4d89d_row11_col11, #T_4d89d_row12_col12, #T_4d89d_row13_col13 {\n",
              "  background-color: #b40426;\n",
              "  color: #f1f1f1;\n",
              "}\n",
              "#T_4d89d_row0_col1 {\n",
              "  background-color: #4a63d3;\n",
              "  color: #f1f1f1;\n",
              "}\n",
              "#T_4d89d_row0_col2, #T_4d89d_row1_col5, #T_4d89d_row3_col1, #T_4d89d_row3_col6, #T_4d89d_row6_col2, #T_4d89d_row11_col7, #T_4d89d_row12_col4 {\n",
              "  background-color: #485fd1;\n",
              "  color: #f1f1f1;\n",
              "}\n",
              "#T_4d89d_row0_col3, #T_4d89d_row2_col10 {\n",
              "  background-color: #93b5fe;\n",
              "  color: #000000;\n",
              "}\n",
              "#T_4d89d_row0_col4, #T_4d89d_row1_col7, #T_4d89d_row4_col0, #T_4d89d_row4_col1, #T_4d89d_row4_col3, #T_4d89d_row4_col5, #T_4d89d_row10_col11, #T_4d89d_row10_col12, #T_4d89d_row10_col13, #T_4d89d_row11_col2, #T_4d89d_row11_col10, #T_4d89d_row12_col8, #T_4d89d_row12_col9, #T_4d89d_row13_col6 {\n",
              "  background-color: #3b4cc0;\n",
              "  color: #f1f1f1;\n",
              "}\n",
              "#T_4d89d_row0_col5, #T_4d89d_row5_col7, #T_4d89d_row6_col8, #T_4d89d_row8_col2 {\n",
              "  background-color: #465ecf;\n",
              "  color: #f1f1f1;\n",
              "}\n",
              "#T_4d89d_row0_col6, #T_4d89d_row10_col1, #T_4d89d_row10_col5, #T_4d89d_row12_col2, #T_4d89d_row13_col2 {\n",
              "  background-color: #4055c8;\n",
              "  color: #f1f1f1;\n",
              "}\n",
              "#T_4d89d_row0_col7 {\n",
              "  background-color: #6f92f3;\n",
              "  color: #f1f1f1;\n",
              "}\n",
              "#T_4d89d_row0_col8, #T_4d89d_row2_col9, #T_4d89d_row4_col8, #T_4d89d_row13_col4 {\n",
              "  background-color: #4e68d8;\n",
              "  color: #f1f1f1;\n",
              "}\n",
              "#T_4d89d_row0_col9 {\n",
              "  background-color: #5977e3;\n",
              "  color: #f1f1f1;\n",
              "}\n",
              "#T_4d89d_row0_col10, #T_4d89d_row2_col12 {\n",
              "  background-color: #779af7;\n",
              "  color: #f1f1f1;\n",
              "}\n",
              "#T_4d89d_row0_col11 {\n",
              "  background-color: #98b9ff;\n",
              "  color: #000000;\n",
              "}\n",
              "#T_4d89d_row0_col12, #T_4d89d_row7_col9, #T_4d89d_row7_col10 {\n",
              "  background-color: #97b8ff;\n",
              "  color: #000000;\n",
              "}\n",
              "#T_4d89d_row0_col13, #T_4d89d_row5_col0, #T_4d89d_row6_col0, #T_4d89d_row9_col13 {\n",
              "  background-color: #5f7fe8;\n",
              "  color: #f1f1f1;\n",
              "}\n",
              "#T_4d89d_row1_col0, #T_4d89d_row2_col0, #T_4d89d_row5_col3, #T_4d89d_row5_col13, #T_4d89d_row6_col3, #T_4d89d_row6_col4, #T_4d89d_row12_col1, #T_4d89d_row12_col3, #T_4d89d_row13_col9 {\n",
              "  background-color: #5a78e4;\n",
              "  color: #f1f1f1;\n",
              "}\n",
              "#T_4d89d_row1_col2, #T_4d89d_row2_col5, #T_4d89d_row2_col8, #T_4d89d_row3_col7, #T_4d89d_row3_col8, #T_4d89d_row5_col6, #T_4d89d_row12_col10, #T_4d89d_row13_col5 {\n",
              "  background-color: #4358cb;\n",
              "  color: #f1f1f1;\n",
              "}\n",
              "#T_4d89d_row1_col3, #T_4d89d_row1_col13, #T_4d89d_row2_col7, #T_4d89d_row3_col5 {\n",
              "  background-color: #4c66d6;\n",
              "  color: #f1f1f1;\n",
              "}\n",
              "#T_4d89d_row1_col4, #T_4d89d_row1_col6, #T_4d89d_row5_col2, #T_4d89d_row5_col8, #T_4d89d_row6_col5, #T_4d89d_row6_col7, #T_4d89d_row7_col3, #T_4d89d_row9_col3, #T_4d89d_row10_col0, #T_4d89d_row13_col3 {\n",
              "  background-color: #4961d2;\n",
              "  color: #f1f1f1;\n",
              "}\n",
              "#T_4d89d_row1_col8, #T_4d89d_row8_col3 {\n",
              "  background-color: #4f69d9;\n",
              "  color: #f1f1f1;\n",
              "}\n",
              "#T_4d89d_row1_col9, #T_4d89d_row3_col2, #T_4d89d_row3_col9, #T_4d89d_row4_col13, #T_4d89d_row7_col2 {\n",
              "  background-color: #4b64d5;\n",
              "  color: #f1f1f1;\n",
              "}\n",
              "#T_4d89d_row1_col10 {\n",
              "  background-color: #7da0f9;\n",
              "  color: #f1f1f1;\n",
              "}\n",
              "#T_4d89d_row1_col11, #T_4d89d_row9_col7 {\n",
              "  background-color: #8fb1fe;\n",
              "  color: #000000;\n",
              "}\n",
              "#T_4d89d_row1_col12, #T_4d89d_row6_col10 {\n",
              "  background-color: #8db0fe;\n",
              "  color: #000000;\n",
              "}\n",
              "#T_4d89d_row2_col1, #T_4d89d_row3_col4, #T_4d89d_row4_col2, #T_4d89d_row8_col5, #T_4d89d_row9_col1, #T_4d89d_row9_col5 {\n",
              "  background-color: #455cce;\n",
              "  color: #f1f1f1;\n",
              "}\n",
              "#T_4d89d_row2_col3, #T_4d89d_row5_col4, #T_4d89d_row11_col1, #T_4d89d_row11_col3 {\n",
              "  background-color: #536edd;\n",
              "  color: #f1f1f1;\n",
              "}\n",
              "#T_4d89d_row2_col4, #T_4d89d_row5_col9 {\n",
              "  background-color: #5673e0;\n",
              "  color: #f1f1f1;\n",
              "}\n",
              "#T_4d89d_row2_col6, #T_4d89d_row4_col6, #T_4d89d_row7_col1, #T_4d89d_row7_col6, #T_4d89d_row11_col6, #T_4d89d_row11_col8, #T_4d89d_row12_col6 {\n",
              "  background-color: #3c4ec2;\n",
              "  color: #f1f1f1;\n",
              "}\n",
              "#T_4d89d_row2_col11 {\n",
              "  background-color: #7a9df8;\n",
              "  color: #f1f1f1;\n",
              "}\n",
              "#T_4d89d_row2_col13 {\n",
              "  background-color: #506bda;\n",
              "  color: #f1f1f1;\n",
              "}\n",
              "#T_4d89d_row3_col0 {\n",
              "  background-color: #9dbdff;\n",
              "  color: #000000;\n",
              "}\n",
              "#T_4d89d_row3_col10 {\n",
              "  background-color: #9abbff;\n",
              "  color: #000000;\n",
              "}\n",
              "#T_4d89d_row3_col11 {\n",
              "  background-color: #8badfd;\n",
              "  color: #000000;\n",
              "}\n",
              "#T_4d89d_row3_col12 {\n",
              "  background-color: #89acfd;\n",
              "  color: #000000;\n",
              "}\n",
              "#T_4d89d_row3_col13, #T_4d89d_row5_col1, #T_4d89d_row12_col7 {\n",
              "  background-color: #516ddb;\n",
              "  color: #f1f1f1;\n",
              "}\n",
              "#T_4d89d_row4_col7, #T_4d89d_row10_col9 {\n",
              "  background-color: #82a6fb;\n",
              "  color: #f1f1f1;\n",
              "}\n",
              "#T_4d89d_row4_col9, #T_4d89d_row4_col11 {\n",
              "  background-color: #7093f3;\n",
              "  color: #f1f1f1;\n",
              "}\n",
              "#T_4d89d_row4_col10 {\n",
              "  background-color: #aec9fc;\n",
              "  color: #000000;\n",
              "}\n",
              "#T_4d89d_row4_col12 {\n",
              "  background-color: #6e90f2;\n",
              "  color: #f1f1f1;\n",
              "}\n",
              "#T_4d89d_row5_col10, #T_4d89d_row6_col11, #T_4d89d_row7_col8 {\n",
              "  background-color: #88abfd;\n",
              "  color: #000000;\n",
              "}\n",
              "#T_4d89d_row5_col11, #T_4d89d_row7_col11, #T_4d89d_row7_col12 {\n",
              "  background-color: #86a9fc;\n",
              "  color: #f1f1f1;\n",
              "}\n",
              "#T_4d89d_row5_col12 {\n",
              "  background-color: #7ea1fa;\n",
              "  color: #f1f1f1;\n",
              "}\n",
              "#T_4d89d_row6_col1 {\n",
              "  background-color: #5875e1;\n",
              "  color: #f1f1f1;\n",
              "}\n",
              "#T_4d89d_row6_col9, #T_4d89d_row6_col13, #T_4d89d_row8_col1, #T_4d89d_row10_col2 {\n",
              "  background-color: #5572df;\n",
              "  color: #f1f1f1;\n",
              "}\n",
              "#T_4d89d_row6_col12, #T_4d89d_row7_col0, #T_4d89d_row8_col11 {\n",
              "  background-color: #80a3fa;\n",
              "  color: #f1f1f1;\n",
              "}\n",
              "#T_4d89d_row7_col4 {\n",
              "  background-color: #92b4fe;\n",
              "  color: #000000;\n",
              "}\n",
              "#T_4d89d_row7_col5, #T_4d89d_row8_col6 {\n",
              "  background-color: #3e51c5;\n",
              "  color: #f1f1f1;\n",
              "}\n",
              "#T_4d89d_row7_col13, #T_4d89d_row11_col0 {\n",
              "  background-color: #6c8ff1;\n",
              "  color: #f1f1f1;\n",
              "}\n",
              "#T_4d89d_row8_col0, #T_4d89d_row8_col4 {\n",
              "  background-color: #6384eb;\n",
              "  color: #f1f1f1;\n",
              "}\n",
              "#T_4d89d_row8_col7 {\n",
              "  background-color: #8caffe;\n",
              "  color: #000000;\n",
              "}\n",
              "#T_4d89d_row8_col9 {\n",
              "  background-color: #b6cefa;\n",
              "  color: #000000;\n",
              "}\n",
              "#T_4d89d_row8_col10 {\n",
              "  background-color: #a3c2fe;\n",
              "  color: #000000;\n",
              "}\n",
              "#T_4d89d_row8_col12 {\n",
              "  background-color: #7699f6;\n",
              "  color: #f1f1f1;\n",
              "}\n",
              "#T_4d89d_row8_col13 {\n",
              "  background-color: #6788ee;\n",
              "  color: #f1f1f1;\n",
              "}\n",
              "#T_4d89d_row9_col0 {\n",
              "  background-color: #6180e9;\n",
              "  color: #f1f1f1;\n",
              "}\n",
              "#T_4d89d_row9_col2 {\n",
              "  background-color: #445acc;\n",
              "  color: #f1f1f1;\n",
              "}\n",
              "#T_4d89d_row9_col4 {\n",
              "  background-color: #799cf8;\n",
              "  color: #f1f1f1;\n",
              "}\n",
              "#T_4d89d_row9_col6, #T_4d89d_row11_col5, #T_4d89d_row12_col5, #T_4d89d_row13_col1 {\n",
              "  background-color: #3f53c6;\n",
              "  color: #f1f1f1;\n",
              "}\n",
              "#T_4d89d_row9_col8 {\n",
              "  background-color: #abc8fd;\n",
              "  color: #000000;\n",
              "}\n",
              "#T_4d89d_row9_col10 {\n",
              "  background-color: #b1cbfc;\n",
              "  color: #000000;\n",
              "}\n",
              "#T_4d89d_row9_col11 {\n",
              "  background-color: #7597f6;\n",
              "  color: #f1f1f1;\n",
              "}\n",
              "#T_4d89d_row9_col12 {\n",
              "  background-color: #688aef;\n",
              "  color: #f1f1f1;\n",
              "}\n",
              "#T_4d89d_row10_col3, #T_4d89d_row10_col8 {\n",
              "  background-color: #6485ec;\n",
              "  color: #f1f1f1;\n",
              "}\n",
              "#T_4d89d_row10_col4 {\n",
              "  background-color: #85a8fc;\n",
              "  color: #f1f1f1;\n",
              "}\n",
              "#T_4d89d_row10_col6, #T_4d89d_row11_col4 {\n",
              "  background-color: #4257c9;\n",
              "  color: #f1f1f1;\n",
              "}\n",
              "#T_4d89d_row10_col7 {\n",
              "  background-color: #5b7ae5;\n",
              "  color: #f1f1f1;\n",
              "}\n",
              "#T_4d89d_row11_col9 {\n",
              "  background-color: #3d50c3;\n",
              "  color: #f1f1f1;\n",
              "}\n",
              "#T_4d89d_row11_col12 {\n",
              "  background-color: #f5c2aa;\n",
              "  color: #000000;\n",
              "}\n",
              "#T_4d89d_row11_col13 {\n",
              "  background-color: #c3d5f4;\n",
              "  color: #000000;\n",
              "}\n",
              "#T_4d89d_row12_col0 {\n",
              "  background-color: #7396f5;\n",
              "  color: #f1f1f1;\n",
              "}\n",
              "#T_4d89d_row12_col11 {\n",
              "  background-color: #f5c0a7;\n",
              "  color: #000000;\n",
              "}\n",
              "#T_4d89d_row12_col13 {\n",
              "  background-color: #b7cff9;\n",
              "  color: #000000;\n",
              "}\n",
              "#T_4d89d_row13_col0 {\n",
              "  background-color: #6282ea;\n",
              "  color: #f1f1f1;\n",
              "}\n",
              "#T_4d89d_row13_col7 {\n",
              "  background-color: #5e7de7;\n",
              "  color: #f1f1f1;\n",
              "}\n",
              "#T_4d89d_row13_col8 {\n",
              "  background-color: #5470de;\n",
              "  color: #f1f1f1;\n",
              "}\n",
              "#T_4d89d_row13_col10 {\n",
              "  background-color: #6b8df0;\n",
              "  color: #f1f1f1;\n",
              "}\n",
              "#T_4d89d_row13_col11 {\n",
              "  background-color: #dcdddd;\n",
              "  color: #000000;\n",
              "}\n",
              "#T_4d89d_row13_col12 {\n",
              "  background-color: #d1dae9;\n",
              "  color: #000000;\n",
              "}\n",
              "</style>\n",
              "<table id=\"T_4d89d_\" class=\"dataframe\">\n",
              "  <thead>\n",
              "    <tr>\n",
              "      <th class=\"blank level0\" >&nbsp;</th>\n",
              "      <th class=\"col_heading level0 col0\" >num_passengers</th>\n",
              "      <th class=\"col_heading level0 col1\" >sales_channel</th>\n",
              "      <th class=\"col_heading level0 col2\" >trip_type</th>\n",
              "      <th class=\"col_heading level0 col3\" >purchase_lead</th>\n",
              "      <th class=\"col_heading level0 col4\" >length_of_stay</th>\n",
              "      <th class=\"col_heading level0 col5\" >flight_hour</th>\n",
              "      <th class=\"col_heading level0 col6\" >flight_day</th>\n",
              "      <th class=\"col_heading level0 col7\" >wants_extra_baggage</th>\n",
              "      <th class=\"col_heading level0 col8\" >wants_preferred_seat</th>\n",
              "      <th class=\"col_heading level0 col9\" >wants_in_flight_meals</th>\n",
              "      <th class=\"col_heading level0 col10\" >flight_duration</th>\n",
              "      <th class=\"col_heading level0 col11\" >route</th>\n",
              "      <th class=\"col_heading level0 col12\" >booking_origin</th>\n",
              "      <th class=\"col_heading level0 col13\" >booking_complete</th>\n",
              "    </tr>\n",
              "  </thead>\n",
              "  <tbody>\n",
              "    <tr>\n",
              "      <th id=\"T_4d89d_level0_row0\" class=\"row_heading level0 row0\" >num_passengers</th>\n",
              "      <td id=\"T_4d89d_row0_col0\" class=\"data row0 col0\" >1.000000</td>\n",
              "      <td id=\"T_4d89d_row0_col1\" class=\"data row0 col1\" >-0.002457</td>\n",
              "      <td id=\"T_4d89d_row0_col2\" class=\"data row0 col2\" >-0.002398</td>\n",
              "      <td id=\"T_4d89d_row0_col3\" class=\"data row0 col3\" >0.212606</td>\n",
              "      <td id=\"T_4d89d_row0_col4\" class=\"data row0 col4\" >-0.115850</td>\n",
              "      <td id=\"T_4d89d_row0_col5\" class=\"data row0 col5\" >0.015607</td>\n",
              "      <td id=\"T_4d89d_row0_col6\" class=\"data row0 col6\" >0.015407</td>\n",
              "      <td id=\"T_4d89d_row0_col7\" class=\"data row0 col7\" >0.120404</td>\n",
              "      <td id=\"T_4d89d_row0_col8\" class=\"data row0 col8\" >0.028544</td>\n",
              "      <td id=\"T_4d89d_row0_col9\" class=\"data row0 col9\" >0.022943</td>\n",
              "      <td id=\"T_4d89d_row0_col10\" class=\"data row0 col10\" >-0.063169</td>\n",
              "      <td id=\"T_4d89d_row0_col11\" class=\"data row0 col11\" >0.061371</td>\n",
              "      <td id=\"T_4d89d_row0_col12\" class=\"data row0 col12\" >0.083193</td>\n",
              "      <td id=\"T_4d89d_row0_col13\" class=\"data row0 col13\" >0.024116</td>\n",
              "    </tr>\n",
              "    <tr>\n",
              "      <th id=\"T_4d89d_level0_row1\" class=\"row_heading level0 row1\" >sales_channel</th>\n",
              "      <td id=\"T_4d89d_row1_col0\" class=\"data row1 col0\" >-0.002457</td>\n",
              "      <td id=\"T_4d89d_row1_col1\" class=\"data row1 col1\" >1.000000</td>\n",
              "      <td id=\"T_4d89d_row1_col2\" class=\"data row1 col2\" >-0.020929</td>\n",
              "      <td id=\"T_4d89d_row1_col3\" class=\"data row1 col3\" >-0.013399</td>\n",
              "      <td id=\"T_4d89d_row1_col4\" class=\"data row1 col4\" >-0.060352</td>\n",
              "      <td id=\"T_4d89d_row1_col5\" class=\"data row1 col5\" >0.022375</td>\n",
              "      <td id=\"T_4d89d_row1_col6\" class=\"data row1 col6\" >0.042095</td>\n",
              "      <td id=\"T_4d89d_row1_col7\" class=\"data row1 col7\" >-0.054254</td>\n",
              "      <td id=\"T_4d89d_row1_col8\" class=\"data row1 col8\" >0.032943</td>\n",
              "      <td id=\"T_4d89d_row1_col9\" class=\"data row1 col9\" >-0.022235</td>\n",
              "      <td id=\"T_4d89d_row1_col10\" class=\"data row1 col10\" >-0.038629</td>\n",
              "      <td id=\"T_4d89d_row1_col11\" class=\"data row1 col11\" >0.026251</td>\n",
              "      <td id=\"T_4d89d_row1_col12\" class=\"data row1 col12\" >0.051278</td>\n",
              "      <td id=\"T_4d89d_row1_col13\" class=\"data row1 col13\" >-0.041060</td>\n",
              "    </tr>\n",
              "    <tr>\n",
              "      <th id=\"T_4d89d_level0_row2\" class=\"row_heading level0 row2\" >trip_type</th>\n",
              "      <td id=\"T_4d89d_row2_col0\" class=\"data row2 col0\" >-0.002398</td>\n",
              "      <td id=\"T_4d89d_row2_col1\" class=\"data row2 col1\" >-0.020929</td>\n",
              "      <td id=\"T_4d89d_row2_col2\" class=\"data row2 col2\" >1.000000</td>\n",
              "      <td id=\"T_4d89d_row2_col3\" class=\"data row2 col3\" >0.007691</td>\n",
              "      <td id=\"T_4d89d_row2_col4\" class=\"data row2 col4\" >-0.011779</td>\n",
              "      <td id=\"T_4d89d_row2_col5\" class=\"data row2 col5\" >0.003194</td>\n",
              "      <td id=\"T_4d89d_row2_col6\" class=\"data row2 col6\" >-0.001262</td>\n",
              "      <td id=\"T_4d89d_row2_col7\" class=\"data row2 col7\" >0.010716</td>\n",
              "      <td id=\"T_4d89d_row2_col8\" class=\"data row2 col8\" >-0.007786</td>\n",
              "      <td id=\"T_4d89d_row2_col9\" class=\"data row2 col9\" >-0.014732</td>\n",
              "      <td id=\"T_4d89d_row2_col10\" class=\"data row2 col10\" >0.043418</td>\n",
              "      <td id=\"T_4d89d_row2_col11\" class=\"data row2 col11\" >-0.050083</td>\n",
              "      <td id=\"T_4d89d_row2_col12\" class=\"data row2 col12\" >-0.028327</td>\n",
              "      <td id=\"T_4d89d_row2_col13\" class=\"data row2 col13\" >-0.027215</td>\n",
              "    </tr>\n",
              "    <tr>\n",
              "      <th id=\"T_4d89d_level0_row3\" class=\"row_heading level0 row3\" >purchase_lead</th>\n",
              "      <td id=\"T_4d89d_row3_col0\" class=\"data row3 col0\" >0.212606</td>\n",
              "      <td id=\"T_4d89d_row3_col1\" class=\"data row3 col1\" >-0.013399</td>\n",
              "      <td id=\"T_4d89d_row3_col2\" class=\"data row3 col2\" >0.007691</td>\n",
              "      <td id=\"T_4d89d_row3_col3\" class=\"data row3 col3\" >1.000000</td>\n",
              "      <td id=\"T_4d89d_row3_col4\" class=\"data row3 col4\" >-0.076560</td>\n",
              "      <td id=\"T_4d89d_row3_col5\" class=\"data row3 col5\" >0.035973</td>\n",
              "      <td id=\"T_4d89d_row3_col6\" class=\"data row3 col6\" >0.036531</td>\n",
              "      <td id=\"T_4d89d_row3_col7\" class=\"data row3 col7\" >-0.022207</td>\n",
              "      <td id=\"T_4d89d_row3_col8\" class=\"data row3 col8\" >-0.004499</td>\n",
              "      <td id=\"T_4d89d_row3_col9\" class=\"data row3 col9\" >-0.022653</td>\n",
              "      <td id=\"T_4d89d_row3_col10\" class=\"data row3 col10\" >0.067866</td>\n",
              "      <td id=\"T_4d89d_row3_col11\" class=\"data row3 col11\" >0.009727</td>\n",
              "      <td id=\"T_4d89d_row3_col12\" class=\"data row3 col12\" >0.036063</td>\n",
              "      <td id=\"T_4d89d_row3_col13\" class=\"data row3 col13\" >-0.022131</td>\n",
              "    </tr>\n",
              "    <tr>\n",
              "      <th id=\"T_4d89d_level0_row4\" class=\"row_heading level0 row4\" >length_of_stay</th>\n",
              "      <td id=\"T_4d89d_row4_col0\" class=\"data row4 col0\" >-0.115850</td>\n",
              "      <td id=\"T_4d89d_row4_col1\" class=\"data row4 col1\" >-0.060352</td>\n",
              "      <td id=\"T_4d89d_row4_col2\" class=\"data row4 col2\" >-0.011779</td>\n",
              "      <td id=\"T_4d89d_row4_col3\" class=\"data row4 col3\" >-0.076560</td>\n",
              "      <td id=\"T_4d89d_row4_col4\" class=\"data row4 col4\" >1.000000</td>\n",
              "      <td id=\"T_4d89d_row4_col5\" class=\"data row4 col5\" >-0.024872</td>\n",
              "      <td id=\"T_4d89d_row4_col6\" class=\"data row4 col6\" >-0.000310</td>\n",
              "      <td id=\"T_4d89d_row4_col7\" class=\"data row4 col7\" >0.176757</td>\n",
              "      <td id=\"T_4d89d_row4_col8\" class=\"data row4 col8\" >0.032264</td>\n",
              "      <td id=\"T_4d89d_row4_col9\" class=\"data row4 col9\" >0.098828</td>\n",
              "      <td id=\"T_4d89d_row4_col10\" class=\"data row4 col10\" >0.141181</td>\n",
              "      <td id=\"T_4d89d_row4_col11\" class=\"data row4 col11\" >-0.086217</td>\n",
              "      <td id=\"T_4d89d_row4_col12\" class=\"data row4 col12\" >-0.066385</td>\n",
              "      <td id=\"T_4d89d_row4_col13\" class=\"data row4 col13\" >-0.042408</td>\n",
              "    </tr>\n",
              "    <tr>\n",
              "      <th id=\"T_4d89d_level0_row5\" class=\"row_heading level0 row5\" >flight_hour</th>\n",
              "      <td id=\"T_4d89d_row5_col0\" class=\"data row5 col0\" >0.015607</td>\n",
              "      <td id=\"T_4d89d_row5_col1\" class=\"data row5 col1\" >0.022375</td>\n",
              "      <td id=\"T_4d89d_row5_col2\" class=\"data row5 col2\" >0.003194</td>\n",
              "      <td id=\"T_4d89d_row5_col3\" class=\"data row5 col3\" >0.035973</td>\n",
              "      <td id=\"T_4d89d_row5_col4\" class=\"data row5 col4\" >-0.024872</td>\n",
              "      <td id=\"T_4d89d_row5_col5\" class=\"data row5 col5\" >1.000000</td>\n",
              "      <td id=\"T_4d89d_row5_col6\" class=\"data row5 col6\" >0.024086</td>\n",
              "      <td id=\"T_4d89d_row5_col7\" class=\"data row5 col7\" >-0.011434</td>\n",
              "      <td id=\"T_4d89d_row5_col8\" class=\"data row5 col8\" >0.012171</td>\n",
              "      <td id=\"T_4d89d_row5_col9\" class=\"data row5 col9\" >0.013014</td>\n",
              "      <td id=\"T_4d89d_row5_col10\" class=\"data row5 col10\" >-0.002101</td>\n",
              "      <td id=\"T_4d89d_row5_col11\" class=\"data row5 col11\" >-0.006399</td>\n",
              "      <td id=\"T_4d89d_row5_col12\" class=\"data row5 col12\" >-0.006279</td>\n",
              "      <td id=\"T_4d89d_row5_col13\" class=\"data row5 col13\" >0.007127</td>\n",
              "    </tr>\n",
              "    <tr>\n",
              "      <th id=\"T_4d89d_level0_row6\" class=\"row_heading level0 row6\" >flight_day</th>\n",
              "      <td id=\"T_4d89d_row6_col0\" class=\"data row6 col0\" >0.015407</td>\n",
              "      <td id=\"T_4d89d_row6_col1\" class=\"data row6 col1\" >0.042095</td>\n",
              "      <td id=\"T_4d89d_row6_col2\" class=\"data row6 col2\" >-0.001262</td>\n",
              "      <td id=\"T_4d89d_row6_col3\" class=\"data row6 col3\" >0.036531</td>\n",
              "      <td id=\"T_4d89d_row6_col4\" class=\"data row6 col4\" >-0.000310</td>\n",
              "      <td id=\"T_4d89d_row6_col5\" class=\"data row6 col5\" >0.024086</td>\n",
              "      <td id=\"T_4d89d_row6_col6\" class=\"data row6 col6\" >1.000000</td>\n",
              "      <td id=\"T_4d89d_row6_col7\" class=\"data row6 col7\" >-0.002503</td>\n",
              "      <td id=\"T_4d89d_row6_col8\" class=\"data row6 col8\" >0.005392</td>\n",
              "      <td id=\"T_4d89d_row6_col9\" class=\"data row6 col9\" >0.009281</td>\n",
              "      <td id=\"T_4d89d_row6_col10\" class=\"data row6 col10\" >0.018434</td>\n",
              "      <td id=\"T_4d89d_row6_col11\" class=\"data row6 col11\" >-0.001810</td>\n",
              "      <td id=\"T_4d89d_row6_col12\" class=\"data row6 col12\" >-0.001829</td>\n",
              "      <td id=\"T_4d89d_row6_col13\" class=\"data row6 col13\" >-0.006986</td>\n",
              "    </tr>\n",
              "    <tr>\n",
              "      <th id=\"T_4d89d_level0_row7\" class=\"row_heading level0 row7\" >wants_extra_baggage</th>\n",
              "      <td id=\"T_4d89d_row7_col0\" class=\"data row7 col0\" >0.120404</td>\n",
              "      <td id=\"T_4d89d_row7_col1\" class=\"data row7 col1\" >-0.054254</td>\n",
              "      <td id=\"T_4d89d_row7_col2\" class=\"data row7 col2\" >0.010716</td>\n",
              "      <td id=\"T_4d89d_row7_col3\" class=\"data row7 col3\" >-0.022207</td>\n",
              "      <td id=\"T_4d89d_row7_col4\" class=\"data row7 col4\" >0.176757</td>\n",
              "      <td id=\"T_4d89d_row7_col5\" class=\"data row7 col5\" >-0.011434</td>\n",
              "      <td id=\"T_4d89d_row7_col6\" class=\"data row7 col6\" >-0.002503</td>\n",
              "      <td id=\"T_4d89d_row7_col7\" class=\"data row7 col7\" >1.000000</td>\n",
              "      <td id=\"T_4d89d_row7_col8\" class=\"data row7 col8\" >0.207669</td>\n",
              "      <td id=\"T_4d89d_row7_col9\" class=\"data row7 col9\" >0.216470</td>\n",
              "      <td id=\"T_4d89d_row7_col10\" class=\"data row7 col10\" >0.057054</td>\n",
              "      <td id=\"T_4d89d_row7_col11\" class=\"data row7 col11\" >-0.005026</td>\n",
              "      <td id=\"T_4d89d_row7_col12\" class=\"data row7 col12\" >0.024148</td>\n",
              "      <td id=\"T_4d89d_row7_col13\" class=\"data row7 col13\" >0.068139</td>\n",
              "    </tr>\n",
              "    <tr>\n",
              "      <th id=\"T_4d89d_level0_row8\" class=\"row_heading level0 row8\" >wants_preferred_seat</th>\n",
              "      <td id=\"T_4d89d_row8_col0\" class=\"data row8 col0\" >0.028544</td>\n",
              "      <td id=\"T_4d89d_row8_col1\" class=\"data row8 col1\" >0.032943</td>\n",
              "      <td id=\"T_4d89d_row8_col2\" class=\"data row8 col2\" >-0.007786</td>\n",
              "      <td id=\"T_4d89d_row8_col3\" class=\"data row8 col3\" >-0.004499</td>\n",
              "      <td id=\"T_4d89d_row8_col4\" class=\"data row8 col4\" >0.032264</td>\n",
              "      <td id=\"T_4d89d_row8_col5\" class=\"data row8 col5\" >0.012171</td>\n",
              "      <td id=\"T_4d89d_row8_col6\" class=\"data row8 col6\" >0.005392</td>\n",
              "      <td id=\"T_4d89d_row8_col7\" class=\"data row8 col7\" >0.207669</td>\n",
              "      <td id=\"T_4d89d_row8_col8\" class=\"data row8 col8\" >1.000000</td>\n",
              "      <td id=\"T_4d89d_row8_col9\" class=\"data row8 col9\" >0.315088</td>\n",
              "      <td id=\"T_4d89d_row8_col10\" class=\"data row8 col10\" >0.101289</td>\n",
              "      <td id=\"T_4d89d_row8_col11\" class=\"data row8 col11\" >-0.032025</td>\n",
              "      <td id=\"T_4d89d_row8_col12\" class=\"data row8 col12\" >-0.036429</td>\n",
              "      <td id=\"T_4d89d_row8_col13\" class=\"data row8 col13\" >0.050116</td>\n",
              "    </tr>\n",
              "    <tr>\n",
              "      <th id=\"T_4d89d_level0_row9\" class=\"row_heading level0 row9\" >wants_in_flight_meals</th>\n",
              "      <td id=\"T_4d89d_row9_col0\" class=\"data row9 col0\" >0.022943</td>\n",
              "      <td id=\"T_4d89d_row9_col1\" class=\"data row9 col1\" >-0.022235</td>\n",
              "      <td id=\"T_4d89d_row9_col2\" class=\"data row9 col2\" >-0.014732</td>\n",
              "      <td id=\"T_4d89d_row9_col3\" class=\"data row9 col3\" >-0.022653</td>\n",
              "      <td id=\"T_4d89d_row9_col4\" class=\"data row9 col4\" >0.098828</td>\n",
              "      <td id=\"T_4d89d_row9_col5\" class=\"data row9 col5\" >0.013014</td>\n",
              "      <td id=\"T_4d89d_row9_col6\" class=\"data row9 col6\" >0.009281</td>\n",
              "      <td id=\"T_4d89d_row9_col7\" class=\"data row9 col7\" >0.216470</td>\n",
              "      <td id=\"T_4d89d_row9_col8\" class=\"data row9 col8\" >0.315088</td>\n",
              "      <td id=\"T_4d89d_row9_col9\" class=\"data row9 col9\" >1.000000</td>\n",
              "      <td id=\"T_4d89d_row9_col10\" class=\"data row9 col10\" >0.154312</td>\n",
              "      <td id=\"T_4d89d_row9_col11\" class=\"data row9 col11\" >-0.073747</td>\n",
              "      <td id=\"T_4d89d_row9_col12\" class=\"data row9 col12\" >-0.084773</td>\n",
              "      <td id=\"T_4d89d_row9_col13\" class=\"data row9 col13\" >0.026511</td>\n",
              "    </tr>\n",
              "    <tr>\n",
              "      <th id=\"T_4d89d_level0_row10\" class=\"row_heading level0 row10\" >flight_duration</th>\n",
              "      <td id=\"T_4d89d_row10_col0\" class=\"data row10 col0\" >-0.063169</td>\n",
              "      <td id=\"T_4d89d_row10_col1\" class=\"data row10 col1\" >-0.038629</td>\n",
              "      <td id=\"T_4d89d_row10_col2\" class=\"data row10 col2\" >0.043418</td>\n",
              "      <td id=\"T_4d89d_row10_col3\" class=\"data row10 col3\" >0.067866</td>\n",
              "      <td id=\"T_4d89d_row10_col4\" class=\"data row10 col4\" >0.141181</td>\n",
              "      <td id=\"T_4d89d_row10_col5\" class=\"data row10 col5\" >-0.002101</td>\n",
              "      <td id=\"T_4d89d_row10_col6\" class=\"data row10 col6\" >0.018434</td>\n",
              "      <td id=\"T_4d89d_row10_col7\" class=\"data row10 col7\" >0.057054</td>\n",
              "      <td id=\"T_4d89d_row10_col8\" class=\"data row10 col8\" >0.101289</td>\n",
              "      <td id=\"T_4d89d_row10_col9\" class=\"data row10 col9\" >0.154312</td>\n",
              "      <td id=\"T_4d89d_row10_col10\" class=\"data row10 col10\" >1.000000</td>\n",
              "      <td id=\"T_4d89d_row10_col11\" class=\"data row10 col11\" >-0.309166</td>\n",
              "      <td id=\"T_4d89d_row10_col12\" class=\"data row10 col12\" >-0.271421</td>\n",
              "      <td id=\"T_4d89d_row10_col13\" class=\"data row10 col13\" >-0.106266</td>\n",
              "    </tr>\n",
              "    <tr>\n",
              "      <th id=\"T_4d89d_level0_row11\" class=\"row_heading level0 row11\" >route</th>\n",
              "      <td id=\"T_4d89d_row11_col0\" class=\"data row11 col0\" >0.061371</td>\n",
              "      <td id=\"T_4d89d_row11_col1\" class=\"data row11 col1\" >0.026251</td>\n",
              "      <td id=\"T_4d89d_row11_col2\" class=\"data row11 col2\" >-0.050083</td>\n",
              "      <td id=\"T_4d89d_row11_col3\" class=\"data row11 col3\" >0.009727</td>\n",
              "      <td id=\"T_4d89d_row11_col4\" class=\"data row11 col4\" >-0.086217</td>\n",
              "      <td id=\"T_4d89d_row11_col5\" class=\"data row11 col5\" >-0.006399</td>\n",
              "      <td id=\"T_4d89d_row11_col6\" class=\"data row11 col6\" >-0.001810</td>\n",
              "      <td id=\"T_4d89d_row11_col7\" class=\"data row11 col7\" >-0.005026</td>\n",
              "      <td id=\"T_4d89d_row11_col8\" class=\"data row11 col8\" >-0.032025</td>\n",
              "      <td id=\"T_4d89d_row11_col9\" class=\"data row11 col9\" >-0.073747</td>\n",
              "      <td id=\"T_4d89d_row11_col10\" class=\"data row11 col10\" >-0.309166</td>\n",
              "      <td id=\"T_4d89d_row11_col11\" class=\"data row11 col11\" >1.000000</td>\n",
              "      <td id=\"T_4d89d_row11_col12\" class=\"data row11 col12\" >0.528778</td>\n",
              "      <td id=\"T_4d89d_row11_col13\" class=\"data row11 col13\" >0.343719</td>\n",
              "    </tr>\n",
              "    <tr>\n",
              "      <th id=\"T_4d89d_level0_row12\" class=\"row_heading level0 row12\" >booking_origin</th>\n",
              "      <td id=\"T_4d89d_row12_col0\" class=\"data row12 col0\" >0.083193</td>\n",
              "      <td id=\"T_4d89d_row12_col1\" class=\"data row12 col1\" >0.051278</td>\n",
              "      <td id=\"T_4d89d_row12_col2\" class=\"data row12 col2\" >-0.028327</td>\n",
              "      <td id=\"T_4d89d_row12_col3\" class=\"data row12 col3\" >0.036063</td>\n",
              "      <td id=\"T_4d89d_row12_col4\" class=\"data row12 col4\" >-0.066385</td>\n",
              "      <td id=\"T_4d89d_row12_col5\" class=\"data row12 col5\" >-0.006279</td>\n",
              "      <td id=\"T_4d89d_row12_col6\" class=\"data row12 col6\" >-0.001829</td>\n",
              "      <td id=\"T_4d89d_row12_col7\" class=\"data row12 col7\" >0.024148</td>\n",
              "      <td id=\"T_4d89d_row12_col8\" class=\"data row12 col8\" >-0.036429</td>\n",
              "      <td id=\"T_4d89d_row12_col9\" class=\"data row12 col9\" >-0.084773</td>\n",
              "      <td id=\"T_4d89d_row12_col10\" class=\"data row12 col10\" >-0.271421</td>\n",
              "      <td id=\"T_4d89d_row12_col11\" class=\"data row12 col11\" >0.528778</td>\n",
              "      <td id=\"T_4d89d_row12_col12\" class=\"data row12 col12\" >1.000000</td>\n",
              "      <td id=\"T_4d89d_row12_col13\" class=\"data row12 col13\" >0.305863</td>\n",
              "    </tr>\n",
              "    <tr>\n",
              "      <th id=\"T_4d89d_level0_row13\" class=\"row_heading level0 row13\" >booking_complete</th>\n",
              "      <td id=\"T_4d89d_row13_col0\" class=\"data row13 col0\" >0.024116</td>\n",
              "      <td id=\"T_4d89d_row13_col1\" class=\"data row13 col1\" >-0.041060</td>\n",
              "      <td id=\"T_4d89d_row13_col2\" class=\"data row13 col2\" >-0.027215</td>\n",
              "      <td id=\"T_4d89d_row13_col3\" class=\"data row13 col3\" >-0.022131</td>\n",
              "      <td id=\"T_4d89d_row13_col4\" class=\"data row13 col4\" >-0.042408</td>\n",
              "      <td id=\"T_4d89d_row13_col5\" class=\"data row13 col5\" >0.007127</td>\n",
              "      <td id=\"T_4d89d_row13_col6\" class=\"data row13 col6\" >-0.006986</td>\n",
              "      <td id=\"T_4d89d_row13_col7\" class=\"data row13 col7\" >0.068139</td>\n",
              "      <td id=\"T_4d89d_row13_col8\" class=\"data row13 col8\" >0.050116</td>\n",
              "      <td id=\"T_4d89d_row13_col9\" class=\"data row13 col9\" >0.026511</td>\n",
              "      <td id=\"T_4d89d_row13_col10\" class=\"data row13 col10\" >-0.106266</td>\n",
              "      <td id=\"T_4d89d_row13_col11\" class=\"data row13 col11\" >0.343719</td>\n",
              "      <td id=\"T_4d89d_row13_col12\" class=\"data row13 col12\" >0.305863</td>\n",
              "      <td id=\"T_4d89d_row13_col13\" class=\"data row13 col13\" >1.000000</td>\n",
              "    </tr>\n",
              "  </tbody>\n",
              "</table>\n"
            ]
          },
          "metadata": {},
          "execution_count": 180
        }
      ]
    },
    {
      "cell_type": "code",
      "source": [
        "plt.figure(figsize=(20,10))\n",
        "sns.heatmap(corr)"
      ],
      "metadata": {
        "colab": {
          "base_uri": "https://localhost:8080/",
          "height": 712
        },
        "id": "R_GMXfr8mhOd",
        "outputId": "161b5682-8426-4a02-8cfa-3da883bd801d"
      },
      "execution_count": null,
      "outputs": [
        {
          "output_type": "execute_result",
          "data": {
            "text/plain": [
              "<matplotlib.axes._subplots.AxesSubplot at 0x7f0fe6e2be50>"
            ]
          },
          "metadata": {},
          "execution_count": 190
        },
        {
          "output_type": "display_data",
          "data": {
            "text/plain": [
              "<Figure size 1440x720 with 2 Axes>"
            ],
            "image/png": "[encoded data removed]"
          },
          "metadata": {
            "needs_background": "light"
          }
        }
      ]
    },
    {
      "cell_type": "markdown",
      "source": [
        "I decide to keep all the varaibles."
      ],
      "metadata": {
        "id": "Gplys7XUNmf6"
      }
    },
    {
      "cell_type": "markdown",
      "source": [
        "# 4. Divide the data set into training data and test data."
      ],
      "metadata": {
        "id": "nMSSHDnMN8l9"
      }
    },
    {
      "cell_type": "markdown",
      "source": [
        "The rule of thumb is: never mess up with your test set.\n",
        "\n",
        "Before attempting oversampling or undersampling approaches, ALWAYS separate your data into test and train sets!"
      ],
      "metadata": {
        "id": "aliIAk92OGVl"
      }
    },
    {
      "cell_type": "code",
      "source": [
        "X = df.drop('booking_complete', axis=1)\n",
        "y = df['booking_complete']"
      ],
      "metadata": {
        "id": "AudcsV9eOF4j"
      },
      "execution_count": null,
      "outputs": []
    },
    {
      "cell_type": "code",
      "source": [
        "y.value_counts()"
      ],
      "metadata": {
        "colab": {
          "base_uri": "https://localhost:8080/"
        },
        "id": "_pSK-KjWPK_N",
        "outputId": "49a00030-f9f3-4a83-8454-7a1bcb96fa28"
      },
      "execution_count": null,
      "outputs": [
        {
          "output_type": "execute_result",
          "data": {
            "text/plain": [
              "0    42522\n",
              "1     7478\n",
              "Name: booking_complete, dtype: int64"
            ]
          },
          "metadata": {},
          "execution_count": 99
        }
      ]
    },
    {
      "cell_type": "code",
      "source": [
        "from sklearn.model_selection import train_test_split\n",
        "X_train, X_test, y_train, y_test = train_test_split(X, y, stratify=y, test_size = 0.3, random_state = 42)"
      ],
      "metadata": {
        "id": "k9ZbJ-UzKu5b"
      },
      "execution_count": null,
      "outputs": []
    },
    {
      "cell_type": "markdown",
      "source": [
        "Time do apply some changes on our training dataset:\n",
        "1. Feautures scaling\n",
        "2. Oversmapling and undersampling using SMOTE-RUS Implementation "
      ],
      "metadata": {
        "id": "kDlZL7MvOVH8"
      }
    },
    {
      "cell_type": "code",
      "source": [
        "from sklearn.preprocessing import StandardScaler\n",
        "\n",
        "scaler=StandardScaler()\n",
        "X_train_scaled=scaler.fit_transform(X_train)\n",
        "X_test_scaled=scaler.transform(X_test)"
      ],
      "metadata": {
        "id": "sWEUNhF6Ku8Q"
      },
      "execution_count": null,
      "outputs": []
    },
    {
      "cell_type": "code",
      "source": [
        "from imblearn.over_sampling import SMOTE\n",
        "from imblearn.under_sampling import RandomUnderSampler\n",
        "from imblearn.pipeline import Pipeline\n",
        "\n",
        "over = SMOTE()\n",
        "under = RandomUnderSampler()\n",
        "steps = [('o', over), ('u', under)]\n",
        "pipeline = Pipeline(steps=steps)\n",
        "\n",
        "# transform the dataset using the SMOTE-RUS technique\n",
        "X_train_new, y_train_new = pipeline.fit_resample(X_train_scaled, y_train)"
      ],
      "metadata": {
        "id": "imseNqXpKu-V"
      },
      "execution_count": null,
      "outputs": []
    },
    {
      "cell_type": "code",
      "source": [
        "print('Data has been balanced from both the classes \\n', y_train_new.value_counts())"
      ],
      "metadata": {
        "colab": {
          "base_uri": "https://localhost:8080/"
        },
        "id": "k2-KoFqqKviL",
        "outputId": "184a7831-877e-4370-833a-cbe57a1a2302"
      },
      "execution_count": null,
      "outputs": [
        {
          "output_type": "stream",
          "name": "stdout",
          "text": [
            "Data has been balanced from both the classes \n",
            " 0    29765\n",
            "1    29765\n",
            "Name: booking_complete, dtype: int64\n"
          ]
        }
      ]
    },
    {
      "cell_type": "code",
      "source": [],
      "metadata": {
        "id": "K5I27zWrKvkf"
      },
      "execution_count": null,
      "outputs": []
    },
    {
      "cell_type": "markdown",
      "source": [
        "# 5. Model Training"
      ],
      "metadata": {
        "id": "7wP-wksnPs1g"
      }
    },
    {
      "cell_type": "markdown",
      "source": [
        "## 5.1 RandomForest Classifier"
      ],
      "metadata": {
        "id": "66XtxfKsPwiM"
      }
    },
    {
      "cell_type": "markdown",
      "source": [
        "### 5.1.1 fitting the model scaled and oversampled dataset"
      ],
      "metadata": {
        "id": "XoP24-0raPLd"
      }
    },
    {
      "cell_type": "code",
      "source": [
        "from sklearn.ensemble import RandomForestClassifier\n",
        "\n",
        "model1= RandomForestClassifier()\n",
        "model1=model1.fit(X_train_new,y_train_new)"
      ],
      "metadata": {
        "id": "DKcyuCucKvm-"
      },
      "execution_count": null,
      "outputs": []
    },
    {
      "cell_type": "code",
      "source": [
        "y_pred = model1.predict(X_test_scaled)"
      ],
      "metadata": {
        "id": "3DqNFFMaKvpZ"
      },
      "execution_count": null,
      "outputs": []
    },
    {
      "cell_type": "code",
      "source": [
        "y_test.value_counts()"
      ],
      "metadata": {
        "colab": {
          "base_uri": "https://localhost:8080/"
        },
        "id": "8pUdxnLMKvr8",
        "outputId": "798853fd-7bd3-4c03-8b58-6323ee30a117"
      },
      "execution_count": null,
      "outputs": [
        {
          "output_type": "execute_result",
          "data": {
            "text/plain": [
              "0    12757\n",
              "1     2243\n",
              "Name: booking_complete, dtype: int64"
            ]
          },
          "metadata": {},
          "execution_count": 136
        }
      ]
    },
    {
      "cell_type": "code",
      "source": [
        "from sklearn.metrics import classification_report"
      ],
      "metadata": {
        "id": "Vny-574sKvuM"
      },
      "execution_count": null,
      "outputs": []
    },
    {
      "cell_type": "code",
      "source": [
        "target_names=['Completed_Booking', 'Uncompleted_Booking']\n",
        "print(classification_report(y_test, y_pred, target_names=target_names))"
      ],
      "metadata": {
        "colab": {
          "base_uri": "https://localhost:8080/"
        },
        "id": "AXX4_yxhyHdS",
        "outputId": "bd6e4019-bea8-4caf-cca0-2f8d09ad8aa5"
      },
      "execution_count": null,
      "outputs": [
        {
          "output_type": "stream",
          "name": "stdout",
          "text": [
            "                     precision    recall  f1-score   support\n",
            "\n",
            "  Completed_Booking       0.89      0.93      0.91     12757\n",
            "Uncompleted_Booking       0.43      0.32      0.37      2243\n",
            "\n",
            "           accuracy                           0.84     15000\n",
            "          macro avg       0.66      0.62      0.64     15000\n",
            "       weighted avg       0.82      0.84      0.83     15000\n",
            "\n"
          ]
        }
      ]
    },
    {
      "cell_type": "code",
      "source": [],
      "metadata": {
        "id": "Auf_8dR5Xv7L"
      },
      "execution_count": null,
      "outputs": []
    },
    {
      "cell_type": "markdown",
      "source": [
        "### 5.1.2 fitting the model non-processed data"
      ],
      "metadata": {
        "id": "vAsW5JWFX5eg"
      }
    },
    {
      "cell_type": "code",
      "source": [
        "model1= RandomForestClassifier()\n",
        "model1=model1.fit(X_train,y_train)"
      ],
      "metadata": {
        "id": "py7YBAzcXv-B"
      },
      "execution_count": null,
      "outputs": []
    },
    {
      "cell_type": "code",
      "source": [
        "y_pred = model1.predict(X_test)"
      ],
      "metadata": {
        "id": "htCsrTkCXwAm"
      },
      "execution_count": null,
      "outputs": []
    },
    {
      "cell_type": "code",
      "source": [
        "target_names=['Completed_Booking', 'Uncompleted_Booking']\n",
        "print(classification_report(y_test, y_pred, target_names=target_names))"
      ],
      "metadata": {
        "colab": {
          "base_uri": "https://localhost:8080/"
        },
        "id": "0gj1zoBMXwDY",
        "outputId": "15001c05-fd5c-4a28-fc9e-66f5161f597c"
      },
      "execution_count": null,
      "outputs": [
        {
          "output_type": "stream",
          "name": "stdout",
          "text": [
            "                     precision    recall  f1-score   support\n",
            "\n",
            "  Completed_Booking       0.87      0.97      0.92     12757\n",
            "Uncompleted_Booking       0.53      0.17      0.25      2243\n",
            "\n",
            "           accuracy                           0.85     15000\n",
            "          macro avg       0.70      0.57      0.59     15000\n",
            "       weighted avg       0.82      0.85      0.82     15000\n",
            "\n"
          ]
        }
      ]
    },
    {
      "cell_type": "code",
      "source": [],
      "metadata": {
        "id": "eeUpGGf2XwaJ"
      },
      "execution_count": null,
      "outputs": []
    },
    {
      "cell_type": "code",
      "source": [
        "from matplotlib import pyplot as plt\n",
        "from sklearn.metrics import confusion_matrix, ConfusionMatrixDisplay\n",
        "cm = confusion_matrix(y_test, y_pred, labels=model1.classes_)\n",
        "disp = ConfusionMatrixDisplay(confusion_matrix=cm, display_labels=model1.classes_)\n",
        "disp.plot()\n",
        "\n",
        "plt.show()"
      ],
      "metadata": {
        "colab": {
          "base_uri": "https://localhost:8080/",
          "height": 279
        },
        "id": "G0twIWV-yHfh",
        "outputId": "15312265-43f2-4b46-d83a-fa4bd7162490"
      },
      "execution_count": null,
      "outputs": [
        {
          "output_type": "display_data",
          "data": {
            "text/plain": [
              "<Figure size 432x288 with 2 Axes>"
            ],
            "image/png": "[encoded data removed]"
          },
          "metadata": {
            "needs_background": "light"
          }
        }
      ]
    },
    {
      "cell_type": "code",
      "source": [],
      "metadata": {
        "id": "yKs3Gew8yHh3"
      },
      "execution_count": null,
      "outputs": []
    },
    {
      "cell_type": "markdown",
      "source": [
        "## 5.2 XgBoost Classifier"
      ],
      "metadata": {
        "id": "hTAZi0ZVQsMB"
      }
    },
    {
      "cell_type": "markdown",
      "source": [
        "### 5.2.1 fitting the model scaled and oversampled dataset"
      ],
      "metadata": {
        "id": "v0q9FW6caihQ"
      }
    },
    {
      "cell_type": "code",
      "source": [
        "from xgboost import XGBClassifier\n",
        "from sklearn.metrics import roc_auc_score, roc_curve\n",
        "\n",
        "model_xg = XGBClassifier().fit(X_train_new, y_train_new)\n",
        "y_pred_xgb= model_xg.predict(X_test_scaled)\n",
        "probs_xg = model_xg.predict_proba(X_test_scaled)[:, 1]"
      ],
      "metadata": {
        "id": "TEELL_mmthOP"
      },
      "execution_count": null,
      "outputs": []
    },
    {
      "cell_type": "code",
      "source": [
        "y_test_int = y_test.replace({'Completed_Booking' : 1, 'Uncompleted_Booking': 0})\n",
        "auc_xg = roc_auc_score(y_test_int, probs_xg)\n",
        "fpr_xg, tpr_xg, thresholds_xg = roc_curve(y_test_int, probs_xg)"
      ],
      "metadata": {
        "id": "L80RnfRHthQm"
      },
      "execution_count": null,
      "outputs": []
    },
    {
      "cell_type": "code",
      "source": [
        "print(classification_report(y_test, y_pred_xgb, target_names= target_names))"
      ],
      "metadata": {
        "colab": {
          "base_uri": "https://localhost:8080/"
        },
        "id": "-dnuFz_oyHvG",
        "outputId": "340963db-646f-4f76-80ce-05d90b5d5389"
      },
      "execution_count": null,
      "outputs": [
        {
          "output_type": "stream",
          "name": "stdout",
          "text": [
            "                     precision    recall  f1-score   support\n",
            "\n",
            "  Completed_Booking       0.91      0.83      0.87     12757\n",
            "Uncompleted_Booking       0.37      0.55      0.44      2243\n",
            "\n",
            "           accuracy                           0.79     15000\n",
            "          macro avg       0.64      0.69      0.66     15000\n",
            "       weighted avg       0.83      0.79      0.81     15000\n",
            "\n"
          ]
        }
      ]
    },
    {
      "cell_type": "code",
      "source": [
        "plt.figure(figsize=(12, 7))\n",
        "plt.plot(fpr_xg, tpr_xg, label=f'AUC (XGBoost) = {auc_xg:.2f}')\n",
        "\n",
        "plt.title('ROC Curve', size=20)\n",
        "plt.xlabel('False Positive Rate', size=14)\n",
        "plt.ylabel('True Positive Rate', size=14)\n",
        "plt.legend();"
      ],
      "metadata": {
        "colab": {
          "base_uri": "https://localhost:8080/",
          "height": 467
        },
        "id": "Mu6apm9_thS9",
        "outputId": "1e386315-7e2f-48b9-ba8c-f299ff6e2c18"
      },
      "execution_count": null,
      "outputs": [
        {
          "output_type": "display_data",
          "data": {
            "text/plain": [
              "<Figure size 864x504 with 1 Axes>"
            ],
            "image/png": "[encoded data removed]"
          },
          "metadata": {
            "needs_background": "light"
          }
        }
      ]
    },
    {
      "cell_type": "markdown",
      "source": [
        "### 5.2.2 fitting the model non-processed data"
      ],
      "metadata": {
        "id": "riw5UlbjYBUY"
      }
    },
    {
      "cell_type": "code",
      "source": [
        "model2=XGBClassifier()\n",
        "model2.fit(X_train,y_train)"
      ],
      "metadata": {
        "colab": {
          "base_uri": "https://localhost:8080/"
        },
        "id": "6OmhNGB3VKW5",
        "outputId": "09bd109b-8b2c-40ee-86a8-278d277e45f2"
      },
      "execution_count": null,
      "outputs": [
        {
          "output_type": "execute_result",
          "data": {
            "text/plain": [
              "XGBClassifier()"
            ]
          },
          "metadata": {},
          "execution_count": 146
        }
      ]
    },
    {
      "cell_type": "code",
      "source": [
        "y_pred_xgb = model2.predict(X_test)"
      ],
      "metadata": {
        "id": "EpAWq7I2YB9L"
      },
      "execution_count": null,
      "outputs": []
    },
    {
      "cell_type": "code",
      "source": [
        "print(classification_report(y_test, y_pred_xgb, target_names=target_names))"
      ],
      "metadata": {
        "colab": {
          "base_uri": "https://localhost:8080/"
        },
        "id": "2fDah3_yYCCN",
        "outputId": "f606c1f2-5698-4b02-8aa1-af720a54e659"
      },
      "execution_count": null,
      "outputs": [
        {
          "output_type": "stream",
          "name": "stdout",
          "text": [
            "                     precision    recall  f1-score   support\n",
            "\n",
            "  Completed_Booking       0.86      0.99      0.92     12757\n",
            "Uncompleted_Booking       0.55      0.07      0.12      2243\n",
            "\n",
            "           accuracy                           0.85     15000\n",
            "          macro avg       0.71      0.53      0.52     15000\n",
            "       weighted avg       0.81      0.85      0.80     15000\n",
            "\n"
          ]
        }
      ]
    },
    {
      "cell_type": "markdown",
      "source": [
        "## 5.3 CatBoost Binary classifier"
      ],
      "metadata": {
        "id": "U5HnEnFCVKgQ"
      }
    },
    {
      "cell_type": "markdown",
      "source": [
        "### 5.3.1 fitting the model non-processed data"
      ],
      "metadata": {
        "id": "31sm2MNnayFx"
      }
    },
    {
      "cell_type": "code",
      "source": [
        "pip install catboost"
      ],
      "metadata": {
        "id": "E93EVPP0ViNT"
      },
      "execution_count": null,
      "outputs": []
    },
    {
      "cell_type": "code",
      "source": [
        "import catboost as ctb\n",
        "from sklearn import metrics"
      ],
      "metadata": {
        "id": "xSauHaGeyHxe"
      },
      "execution_count": null,
      "outputs": []
    },
    {
      "cell_type": "code",
      "source": [
        "model_CBC = ctb.CatBoostClassifier()\n",
        "model_CBC.fit(X_train, y_train)\n",
        "print(model_CBC)"
      ],
      "metadata": {
        "id": "DBlswHdUVcYU"
      },
      "execution_count": null,
      "outputs": []
    },
    {
      "cell_type": "code",
      "source": [
        "expected_y  = y_test\n",
        "predicted_y = model_CBC.predict(X_test)"
      ],
      "metadata": {
        "id": "Fl77hjOuWsMn"
      },
      "execution_count": null,
      "outputs": []
    },
    {
      "cell_type": "code",
      "source": [
        "print(metrics.classification_report(expected_y, predicted_y))\n",
        "print(metrics.confusion_matrix(expected_y, predicted_y))"
      ],
      "metadata": {
        "colab": {
          "base_uri": "https://localhost:8080/"
        },
        "id": "rYrKTVplWsPJ",
        "outputId": "8264720c-bf49-4dd0-cbc9-af57bc9dcc67"
      },
      "execution_count": null,
      "outputs": [
        {
          "output_type": "stream",
          "name": "stdout",
          "text": [
            "              precision    recall  f1-score   support\n",
            "\n",
            "           0       0.87      0.98      0.92     12757\n",
            "           1       0.53      0.14      0.23      2243\n",
            "\n",
            "    accuracy                           0.85     15000\n",
            "   macro avg       0.70      0.56      0.57     15000\n",
            "weighted avg       0.82      0.85      0.82     15000\n",
            "\n",
            "[[12467   290]\n",
            " [ 1919   324]]\n"
          ]
        }
      ]
    },
    {
      "cell_type": "code",
      "source": [],
      "metadata": {
        "id": "fjQnrQPRVcdE"
      },
      "execution_count": null,
      "outputs": []
    },
    {
      "cell_type": "markdown",
      "source": [
        "### 5.3.2 fitting the model scaled and oversampled dataset"
      ],
      "metadata": {
        "id": "ntRJGgduXFUY"
      }
    },
    {
      "cell_type": "code",
      "source": [
        "model_CBC = ctb.CatBoostClassifier()\n",
        "model_CBC.fit(X_train_new, y_train_new)\n",
        "print(model_CBC)"
      ],
      "metadata": {
        "id": "CwQsS_z9Vcfi"
      },
      "execution_count": null,
      "outputs": []
    },
    {
      "cell_type": "code",
      "source": [
        "expected_y  = y_test\n",
        "predicted_y = model_CBC.predict(X_test)"
      ],
      "metadata": {
        "id": "w04_E82SVchq"
      },
      "execution_count": null,
      "outputs": []
    },
    {
      "cell_type": "code",
      "source": [
        "print(metrics.classification_report(expected_y, predicted_y))\n",
        "print(metrics.confusion_matrix(expected_y, predicted_y))"
      ],
      "metadata": {
        "colab": {
          "base_uri": "https://localhost:8080/"
        },
        "id": "XXPtAWb6Vcj2",
        "outputId": "4cbedc48-3bc5-4a3c-fdf0-f207f28251b2"
      },
      "execution_count": null,
      "outputs": [
        {
          "output_type": "stream",
          "name": "stdout",
          "text": [
            "              precision    recall  f1-score   support\n",
            "\n",
            "           0       0.84      0.86      0.85     12757\n",
            "           1       0.11      0.11      0.11      2243\n",
            "\n",
            "    accuracy                           0.74     15000\n",
            "   macro avg       0.48      0.48      0.48     15000\n",
            "weighted avg       0.74      0.74      0.74     15000\n",
            "\n",
            "[[10920  1837]\n",
            " [ 2006   237]]\n"
          ]
        }
      ]
    },
    {
      "cell_type": "markdown",
      "source": [
        "=> over sampling and undersampling decreased the accuracy of the model"
      ],
      "metadata": {
        "id": "dBJDYMyjXkVj"
      }
    },
    {
      "cell_type": "markdown",
      "source": [
        "## 6. Conclusion"
      ],
      "metadata": {
        "id": "V054t4aua7l8"
      }
    },
    {
      "cell_type": "markdown",
      "source": [
        "In this project we dealt with an unbalanced dataset, with large categorical data.\n",
        "\n",
        "1. We first handled the categorical data by mapping the small level categorical data, and we applyied the Target encoding technique for the large categorica\n",
        "feautures, also we used the StandardScaler to scale some features.\n",
        "\n",
        "2. To handle the unbalanced dataset we used oversampling and undersampling techniques to make our train data balanced and ready to be fitted in the model.\n",
        "\n",
        "Then we trained 3 models:\n",
        "\n",
        "* RandomForest Classifier\n",
        "* XgBoost Classifier\n",
        "* CatBoost Classifier\n",
        "\n",
        "We trained each model twice, first on the balanced data and second on the original unbalanced data to compare results."
      ],
      "metadata": {
        "id": "xs_Ym-LnbAay"
      }
    },
    {
      "cell_type": "markdown",
      "source": [
        "**Model Results**\n",
        "\n",
        "## 1. RandomForest Classifier\n",
        "\n",
        "* On balanced data: **Acc** : 0.84  \n",
        "\n",
        "  **F1-Score** - Completed_Booking: 0.91   | Uncompleted_Booking: 0.37\n",
        "* On unbalanced data: **Acc** : 0.85 \n",
        "\n",
        "  **F1-Score** -  Completed_Booking: 0.92  |Uncompleted_Booking: 0.25\n",
        "\n",
        "\n",
        "## 2. XgBoost Classifier\n",
        "\n",
        "* On balanced data: **Acc** : 0.79 \n",
        "\n",
        "  **F1-Score** -  Completed_Booking: 0.87  |Uncompleted_Booking: 0.44\n",
        "* On unbalanced data: **Acc** : 0.85 \n",
        "\n",
        "  **F1-Score** -  Completed_Booking: 0.92  |Uncompleted_Booking: 0.12\n",
        "\n",
        "\n",
        "## 3. CatBoost Classifier\n",
        "\n",
        "* On balanced data: **Acc** : 0.74 \n",
        "\n",
        "  **F1-Score** -  Completed_Booking: 0.85  |Uncompleted_Booking: 0.11\n",
        "* On unbalanced data: **Acc** : 0.85 \n",
        "\n",
        "  **F1-Score** -  Completed_Booking: 0.95  |Uncompleted_Booking: 0.23"
      ],
      "metadata": {
        "id": "pJxTN4_PdlUp"
      }
    },
    {
      "cell_type": "markdown",
      "source": [
        "**Final Results**\n",
        "\n",
        "since we are dealing with unbalanced dataset the Acc metric is not enough to evaluate our model, so we will chose the best model based on it's F1-Score:\n",
        "\n",
        "Best Model: XgBoost Classifier on Balanced data"
      ],
      "metadata": {
        "id": "WA7xx5ljjXF_"
      }
    }
  ],
  "metadata": {
    "kernelspec": {
      "display_name": "Python 3.9.13 ('venv': venv)",
      "language": "python",
      "name": "python3"
    },
    "language_info": {
      "codemirror_mode": {
        "name": "ipython",
        "version": 3
      },
      "file_extension": ".py",
      "mimetype": "text/x-python",
      "name": "python",
      "nbconvert_exporter": "python",
      "pygments_lexer": "ipython3",
      "version": "3.9.13"
    },
    "orig_nbformat": 4,
    "vscode": {
      "interpreter": {
        "hash": "4f7924c4c56b083e0e50eadfe7ef592a7a8ef70df33a0047f82280e6be1afe15"
      }
    },
    "colab": {
      "provenance": []
    }
  },
  "nbformat": 4,
  "nbformat_minor": 0
}